{
 "cells": [
  {
   "cell_type": "markdown",
   "id": "fd31bd19",
   "metadata": {},
   "source": [
    "## About This Dataset :\n",
    "\n",
    "\n",
    "##### This is Mall Customer Dataset. This dataset is collection of financial records and assosiated Information.It is Unsuperwised  dataset means there is no dependent variable \n",
    "##### This Dataset contains features like CustomerID , Gender , Age , Annual Income(k(dollers)) and spending Score(1-100)\n"
   ]
  },
  {
   "cell_type": "markdown",
   "id": "b9ca56f9",
   "metadata": {},
   "source": [
    "## Aim of the model :\n",
    "\n",
    "###### We want to make clusters and segregate customers into that clusters on basis of annual income and spending score . means we want to determine which perticular customer belongs to which cluster on basis and annual income and spending score"
   ]
  },
  {
   "cell_type": "markdown",
   "id": "3b7bcfe7",
   "metadata": {},
   "source": [
    "## Brief Overview About Dataset :\n",
    "\n",
    "##### 1.CustomerID : It just id of customer and it shold be unique to every customer\n",
    "##### 2.Gender : It gender of customer\n",
    "##### 3.Age : Age of customer\n",
    "##### 4.Annual Income : Its Annual Income of customer and it is in doller value and it is in thousand\n",
    "##### 5.Spending Score : Spending Score is the credit card score.its range is between 1 - 100 . means who use very frequent then it should be near about 100 and who use very rear of less frequent then its near about 1."
   ]
  },
  {
   "cell_type": "markdown",
   "id": "c8ccb26c",
   "metadata": {},
   "source": [
    "### Import Libraries"
   ]
  },
  {
   "cell_type": "code",
   "execution_count": 1,
   "id": "df4c7744",
   "metadata": {},
   "outputs": [],
   "source": [
    "import os\n",
    "import numpy as np\n",
    "import pandas as pd\n",
    "import matplotlib.pyplot as plt\n",
    "import seaborn as sns\n",
    "%matplotlib inline\n",
    "sns.set()\n",
    "import warnings\n",
    "warnings.filterwarnings('ignore')"
   ]
  },
  {
   "cell_type": "markdown",
   "id": "e24b910a",
   "metadata": {},
   "source": [
    "### Import the Dataset"
   ]
  },
  {
   "cell_type": "code",
   "execution_count": 2,
   "id": "a106553b",
   "metadata": {},
   "outputs": [],
   "source": [
    "df = pd.read_csv('C:\\\\Users\\\\Lenovo\\\\Downloads\\\\Mall_Customers.csv')"
   ]
  },
  {
   "cell_type": "code",
   "execution_count": 3,
   "id": "d9ecc519",
   "metadata": {},
   "outputs": [
    {
     "data": {
      "text/html": [
       "<div>\n",
       "<style scoped>\n",
       "    .dataframe tbody tr th:only-of-type {\n",
       "        vertical-align: middle;\n",
       "    }\n",
       "\n",
       "    .dataframe tbody tr th {\n",
       "        vertical-align: top;\n",
       "    }\n",
       "\n",
       "    .dataframe thead th {\n",
       "        text-align: right;\n",
       "    }\n",
       "</style>\n",
       "<table border=\"1\" class=\"dataframe\">\n",
       "  <thead>\n",
       "    <tr style=\"text-align: right;\">\n",
       "      <th></th>\n",
       "      <th>CustomerID</th>\n",
       "      <th>Gender</th>\n",
       "      <th>Age</th>\n",
       "      <th>Annual Income (k$)</th>\n",
       "      <th>Spending Score (1-100)</th>\n",
       "    </tr>\n",
       "  </thead>\n",
       "  <tbody>\n",
       "    <tr>\n",
       "      <th>0</th>\n",
       "      <td>1</td>\n",
       "      <td>Male</td>\n",
       "      <td>19</td>\n",
       "      <td>15</td>\n",
       "      <td>39</td>\n",
       "    </tr>\n",
       "    <tr>\n",
       "      <th>1</th>\n",
       "      <td>2</td>\n",
       "      <td>Male</td>\n",
       "      <td>21</td>\n",
       "      <td>15</td>\n",
       "      <td>81</td>\n",
       "    </tr>\n",
       "  </tbody>\n",
       "</table>\n",
       "</div>"
      ],
      "text/plain": [
       "   CustomerID Gender  Age  Annual Income (k$)  Spending Score (1-100)\n",
       "0           1   Male   19                  15                      39\n",
       "1           2   Male   21                  15                      81"
      ]
     },
     "execution_count": 3,
     "metadata": {},
     "output_type": "execute_result"
    }
   ],
   "source": [
    "df.head(2)"
   ]
  },
  {
   "cell_type": "markdown",
   "id": "dba5124c",
   "metadata": {},
   "source": [
    "##### shape"
   ]
  },
  {
   "cell_type": "code",
   "execution_count": 4,
   "id": "af6dd73e",
   "metadata": {},
   "outputs": [
    {
     "data": {
      "text/plain": [
       "(200, 5)"
      ]
     },
     "execution_count": 4,
     "metadata": {},
     "output_type": "execute_result"
    }
   ],
   "source": [
    "df.shape"
   ]
  },
  {
   "cell_type": "markdown",
   "id": "8b5782b4",
   "metadata": {},
   "source": [
    "#### size"
   ]
  },
  {
   "cell_type": "code",
   "execution_count": 5,
   "id": "b4347748",
   "metadata": {},
   "outputs": [
    {
     "data": {
      "text/plain": [
       "1000"
      ]
     },
     "execution_count": 5,
     "metadata": {},
     "output_type": "execute_result"
    }
   ],
   "source": [
    "df.size"
   ]
  },
  {
   "cell_type": "markdown",
   "id": "219edd0d",
   "metadata": {},
   "source": [
    "#### Info"
   ]
  },
  {
   "cell_type": "code",
   "execution_count": 6,
   "id": "148d0a08",
   "metadata": {},
   "outputs": [
    {
     "name": "stdout",
     "output_type": "stream",
     "text": [
      "<class 'pandas.core.frame.DataFrame'>\n",
      "RangeIndex: 200 entries, 0 to 199\n",
      "Data columns (total 5 columns):\n",
      " #   Column                  Non-Null Count  Dtype \n",
      "---  ------                  --------------  ----- \n",
      " 0   CustomerID              200 non-null    int64 \n",
      " 1   Gender                  200 non-null    object\n",
      " 2   Age                     200 non-null    int64 \n",
      " 3   Annual Income (k$)      200 non-null    int64 \n",
      " 4   Spending Score (1-100)  200 non-null    int64 \n",
      "dtypes: int64(4), object(1)\n",
      "memory usage: 7.9+ KB\n"
     ]
    }
   ],
   "source": [
    "df.info()"
   ]
  },
  {
   "cell_type": "markdown",
   "id": "3556e74a",
   "metadata": {},
   "source": [
    "## Feature Transformation"
   ]
  },
  {
   "cell_type": "markdown",
   "id": "79906dd0",
   "metadata": {},
   "source": [
    "##### 1.Handling Missing Values"
   ]
  },
  {
   "cell_type": "code",
   "execution_count": 7,
   "id": "e7483e9c",
   "metadata": {},
   "outputs": [
    {
     "data": {
      "text/plain": [
       "CustomerID                0\n",
       "Gender                    0\n",
       "Age                       0\n",
       "Annual Income (k$)        0\n",
       "Spending Score (1-100)    0\n",
       "dtype: int64"
      ]
     },
     "execution_count": 7,
     "metadata": {},
     "output_type": "execute_result"
    }
   ],
   "source": [
    "df.isnull().sum()"
   ]
  },
  {
   "cell_type": "markdown",
   "id": "495c916a",
   "metadata": {},
   "source": [
    "### Boxplot"
   ]
  },
  {
   "cell_type": "code",
   "execution_count": 8,
   "id": "5e8b979e",
   "metadata": {},
   "outputs": [
    {
     "data": {
      "image/png": "[encoded data removed]",
      "text/plain": [
       "<Figure size 1500x500 with 1 Axes>"
      ]
     },
     "metadata": {},
     "output_type": "display_data"
    }
   ],
   "source": [
    "plt.figure(figsize = (15 , 5))\n",
    "df.boxplot()\n",
    "plt.show()"
   ]
  },
  {
   "cell_type": "markdown",
   "id": "a194c5f9",
   "metadata": {},
   "source": [
    "###### Insights : It show income has outlier but income might be anything"
   ]
  },
  {
   "cell_type": "markdown",
   "id": "a5fb4933",
   "metadata": {},
   "source": [
    "##### Here we want to make clusters and dtermine which customer belongs to which cluster for that reason we need that two feature like annual income and spending score"
   ]
  },
  {
   "cell_type": "code",
   "execution_count": 9,
   "id": "2795e58b",
   "metadata": {},
   "outputs": [],
   "source": [
    "x = df.drop(['CustomerID' , 'Gender' ,'Age'] , axis = 1)"
   ]
  },
  {
   "cell_type": "code",
   "execution_count": 10,
   "id": "8f4709b4",
   "metadata": {},
   "outputs": [
    {
     "data": {
      "text/html": [
       "<div>\n",
       "<style scoped>\n",
       "    .dataframe tbody tr th:only-of-type {\n",
       "        vertical-align: middle;\n",
       "    }\n",
       "\n",
       "    .dataframe tbody tr th {\n",
       "        vertical-align: top;\n",
       "    }\n",
       "\n",
       "    .dataframe thead th {\n",
       "        text-align: right;\n",
       "    }\n",
       "</style>\n",
       "<table border=\"1\" class=\"dataframe\">\n",
       "  <thead>\n",
       "    <tr style=\"text-align: right;\">\n",
       "      <th></th>\n",
       "      <th>Annual Income (k$)</th>\n",
       "      <th>Spending Score (1-100)</th>\n",
       "    </tr>\n",
       "  </thead>\n",
       "  <tbody>\n",
       "    <tr>\n",
       "      <th>0</th>\n",
       "      <td>15</td>\n",
       "      <td>39</td>\n",
       "    </tr>\n",
       "    <tr>\n",
       "      <th>1</th>\n",
       "      <td>15</td>\n",
       "      <td>81</td>\n",
       "    </tr>\n",
       "  </tbody>\n",
       "</table>\n",
       "</div>"
      ],
      "text/plain": [
       "   Annual Income (k$)  Spending Score (1-100)\n",
       "0                  15                      39\n",
       "1                  15                      81"
      ]
     },
     "execution_count": 10,
     "metadata": {},
     "output_type": "execute_result"
    }
   ],
   "source": [
    "x.head(2)"
   ]
  },
  {
   "cell_type": "markdown",
   "id": "beca1f54",
   "metadata": {},
   "source": [
    "#### Here befor building model we need to feature scaling because when we build any distance based model then we need to create feature scaling "
   ]
  },
  {
   "cell_type": "code",
   "execution_count": 11,
   "id": "e0cba13d",
   "metadata": {},
   "outputs": [],
   "source": [
    "from sklearn.preprocessing import StandardScaler"
   ]
  },
  {
   "cell_type": "code",
   "execution_count": 12,
   "id": "18fe521c",
   "metadata": {},
   "outputs": [],
   "source": [
    "scaler = StandardScaler()"
   ]
  },
  {
   "cell_type": "code",
   "execution_count": 13,
   "id": "f83a535d",
   "metadata": {},
   "outputs": [],
   "source": [
    "scaled_x = scaler.fit_transform(x)"
   ]
  },
  {
   "cell_type": "code",
   "execution_count": 14,
   "id": "96e06992",
   "metadata": {
    "scrolled": false
   },
   "outputs": [],
   "source": [
    "scaled_x = pd.DataFrame(scaled_x , columns = df.columns[-2:])    # ['Annual Income (k$)' , 'Spending Score (1-100)'])"
   ]
  },
  {
   "cell_type": "code",
   "execution_count": 15,
   "id": "54392a57",
   "metadata": {},
   "outputs": [
    {
     "data": {
      "text/html": [
       "<div>\n",
       "<style scoped>\n",
       "    .dataframe tbody tr th:only-of-type {\n",
       "        vertical-align: middle;\n",
       "    }\n",
       "\n",
       "    .dataframe tbody tr th {\n",
       "        vertical-align: top;\n",
       "    }\n",
       "\n",
       "    .dataframe thead th {\n",
       "        text-align: right;\n",
       "    }\n",
       "</style>\n",
       "<table border=\"1\" class=\"dataframe\">\n",
       "  <thead>\n",
       "    <tr style=\"text-align: right;\">\n",
       "      <th></th>\n",
       "      <th>Annual Income (k$)</th>\n",
       "      <th>Spending Score (1-100)</th>\n",
       "    </tr>\n",
       "  </thead>\n",
       "  <tbody>\n",
       "    <tr>\n",
       "      <th>0</th>\n",
       "      <td>-1.738999</td>\n",
       "      <td>-0.434801</td>\n",
       "    </tr>\n",
       "    <tr>\n",
       "      <th>1</th>\n",
       "      <td>-1.738999</td>\n",
       "      <td>1.195704</td>\n",
       "    </tr>\n",
       "  </tbody>\n",
       "</table>\n",
       "</div>"
      ],
      "text/plain": [
       "   Annual Income (k$)  Spending Score (1-100)\n",
       "0           -1.738999               -0.434801\n",
       "1           -1.738999                1.195704"
      ]
     },
     "execution_count": 15,
     "metadata": {},
     "output_type": "execute_result"
    }
   ],
   "source": [
    "scaled_x.head(2)"
   ]
  },
  {
   "cell_type": "markdown",
   "id": "ea9079d1",
   "metadata": {},
   "source": [
    "### Building K means Cluster model"
   ]
  },
  {
   "cell_type": "markdown",
   "id": "68a9df7b",
   "metadata": {},
   "source": [
    "#### Here we don't know about how much k value is creating means how much customer will create ? so it is done by Elboe method"
   ]
  },
  {
   "cell_type": "code",
   "execution_count": 16,
   "id": "5331c2de",
   "metadata": {},
   "outputs": [],
   "source": [
    "from sklearn.cluster import KMeans"
   ]
  },
  {
   "cell_type": "code",
   "execution_count": 17,
   "id": "ada1f8e0",
   "metadata": {},
   "outputs": [],
   "source": [
    "wcss = []\n",
    "k = []\n",
    "\n",
    "for i in range(1 , 30):\n",
    "    \n",
    "    km = KMeans(n_clusters = i , random_state = 12)\n",
    "    km.fit(scaled_x)\n",
    "    wcss.append(km.inertia_)\n",
    "    k.append(i)"
   ]
  },
  {
   "cell_type": "markdown",
   "id": "82120981",
   "metadata": {},
   "source": [
    "###### WCSS calculate by inertia of kmeans"
   ]
  },
  {
   "cell_type": "markdown",
   "id": "d260897f",
   "metadata": {},
   "source": [
    "##### Inertia means centroid value of clusters"
   ]
  },
  {
   "cell_type": "markdown",
   "id": "c96a26f8",
   "metadata": {},
   "source": [
    "##### WCSS : within cluster sum of square"
   ]
  },
  {
   "cell_type": "code",
   "execution_count": 18,
   "id": "4c990f89",
   "metadata": {},
   "outputs": [
    {
     "name": "stdout",
     "output_type": "stream",
     "text": [
      "[400.00000000000006, 269.1425070447922, 157.7040081503594, 108.92131661364358, 65.56840815571681, 55.11422576528423, 45.33408543381371, 37.181757826821325, 32.39226763033117, 29.090568897369714, 26.45996192737234, 23.685349284338123, 21.05916255618098, 19.657194482164783, 17.66663978960354, 16.36242279477467, 14.865972458588883, 14.002621520831486, 12.858379388723414, 12.264645387747771, 11.757294135251067, 11.00903780495578, 10.10059173396314, 9.61692138272371, 8.98484803526862, 8.722786224141652, 8.22253883909108, 7.8445384281188915, 7.358133048732526]\n"
     ]
    }
   ],
   "source": [
    "print(wcss)"
   ]
  },
  {
   "cell_type": "code",
   "execution_count": 19,
   "id": "cb4adb34",
   "metadata": {},
   "outputs": [
    {
     "name": "stdout",
     "output_type": "stream",
     "text": [
      "[1, 2, 3, 4, 5, 6, 7, 8, 9, 10, 11, 12, 13, 14, 15, 16, 17, 18, 19, 20, 21, 22, 23, 24, 25, 26, 27, 28, 29]\n"
     ]
    }
   ],
   "source": [
    "print(k)"
   ]
  },
  {
   "cell_type": "markdown",
   "id": "c24a8984",
   "metadata": {},
   "source": [
    "##### Elbow method plot"
   ]
  },
  {
   "cell_type": "code",
   "execution_count": 20,
   "id": "95d0dd59",
   "metadata": {},
   "outputs": [
    {
     "data": {
      "image/png": "[encoded data removed]",
      "text/plain": [
       "<Figure size 1500x500 with 1 Axes>"
      ]
     },
     "metadata": {},
     "output_type": "display_data"
    }
   ],
   "source": [
    "plt.figure(figsize = (15 , 5))\n",
    "plt.plot(k, wcss, color='magenta', marker='o', linestyle='dashed',linewidth=2, markersize=7)\n",
    "plt.xlabel('K value')\n",
    "plt.ylabel('WCSS Distance')\n",
    "plt.title('Ebow Method Plot')\n",
    "plt.show()"
   ]
  },
  {
   "cell_type": "markdown",
   "id": "b4fec4f0",
   "metadata": {},
   "source": [
    "##### Insights : by visualization , we get k = 5 means we will create five clusters (k = 7 also we can take)"
   ]
  },
  {
   "cell_type": "markdown",
   "id": "0e421f96",
   "metadata": {},
   "source": [
    "##### Now we can build the Kmeans model means we can create 5 clusters now "
   ]
  },
  {
   "cell_type": "code",
   "execution_count": 21,
   "id": "d0f9790b",
   "metadata": {},
   "outputs": [],
   "source": [
    "kmeans = KMeans(n_clusters = 5 , random_state = 12)"
   ]
  },
  {
   "cell_type": "code",
   "execution_count": 22,
   "id": "9f259101",
   "metadata": {},
   "outputs": [
    {
     "data": {
      "text/html": [
       "<style>#sk-container-id-1 {color: black;}#sk-container-id-1 pre{padding: 0;}#sk-container-id-1 div.sk-toggleable {background-color: white;}#sk-container-id-1 label.sk-toggleable__label {cursor: pointer;display: block;width: 100%;margin-bottom: 0;padding: 0.3em;box-sizing: border-box;text-align: center;}#sk-container-id-1 label.sk-toggleable__label-arrow:before {content: \"▸\";float: left;margin-right: 0.25em;color: #696969;}#sk-container-id-1 label.sk-toggleable__label-arrow:hover:before {color: black;}#sk-container-id-1 div.sk-estimator:hover label.sk-toggleable__label-arrow:before {color: black;}#sk-container-id-1 div.sk-toggleable__content {max-height: 0;max-width: 0;overflow: hidden;text-align: left;background-color: #f0f8ff;}#sk-container-id-1 div.sk-toggleable__content pre {margin: 0.2em;color: black;border-radius: 0.25em;background-color: #f0f8ff;}#sk-container-id-1 input.sk-toggleable__control:checked~div.sk-toggleable__content {max-height: 200px;max-width: 100%;overflow: auto;}#sk-container-id-1 input.sk-toggleable__control:checked~label.sk-toggleable__label-arrow:before {content: \"▾\";}#sk-container-id-1 div.sk-estimator input.sk-toggleable__control:checked~label.sk-toggleable__label {background-color: #d4ebff;}#sk-container-id-1 div.sk-label input.sk-toggleable__control:checked~label.sk-toggleable__label {background-color: #d4ebff;}#sk-container-id-1 input.sk-hidden--visually {border: 0;clip: rect(1px 1px 1px 1px);clip: rect(1px, 1px, 1px, 1px);height: 1px;margin: -1px;overflow: hidden;padding: 0;position: absolute;width: 1px;}#sk-container-id-1 div.sk-estimator {font-family: monospace;background-color: #f0f8ff;border: 1px dotted black;border-radius: 0.25em;box-sizing: border-box;margin-bottom: 0.5em;}#sk-container-id-1 div.sk-estimator:hover {background-color: #d4ebff;}#sk-container-id-1 div.sk-parallel-item::after {content: \"\";width: 100%;border-bottom: 1px solid gray;flex-grow: 1;}#sk-container-id-1 div.sk-label:hover label.sk-toggleable__label {background-color: #d4ebff;}#sk-container-id-1 div.sk-serial::before {content: \"\";position: absolute;border-left: 1px solid gray;box-sizing: border-box;top: 0;bottom: 0;left: 50%;z-index: 0;}#sk-container-id-1 div.sk-serial {display: flex;flex-direction: column;align-items: center;background-color: white;padding-right: 0.2em;padding-left: 0.2em;position: relative;}#sk-container-id-1 div.sk-item {position: relative;z-index: 1;}#sk-container-id-1 div.sk-parallel {display: flex;align-items: stretch;justify-content: center;background-color: white;position: relative;}#sk-container-id-1 div.sk-item::before, #sk-container-id-1 div.sk-parallel-item::before {content: \"\";position: absolute;border-left: 1px solid gray;box-sizing: border-box;top: 0;bottom: 0;left: 50%;z-index: -1;}#sk-container-id-1 div.sk-parallel-item {display: flex;flex-direction: column;z-index: 1;position: relative;background-color: white;}#sk-container-id-1 div.sk-parallel-item:first-child::after {align-self: flex-end;width: 50%;}#sk-container-id-1 div.sk-parallel-item:last-child::after {align-self: flex-start;width: 50%;}#sk-container-id-1 div.sk-parallel-item:only-child::after {width: 0;}#sk-container-id-1 div.sk-dashed-wrapped {border: 1px dashed gray;margin: 0 0.4em 0.5em 0.4em;box-sizing: border-box;padding-bottom: 0.4em;background-color: white;}#sk-container-id-1 div.sk-label label {font-family: monospace;font-weight: bold;display: inline-block;line-height: 1.2em;}#sk-container-id-1 div.sk-label-container {text-align: center;}#sk-container-id-1 div.sk-container {/* jupyter's `normalize.less` sets `[hidden] { display: none; }` but bootstrap.min.css set `[hidden] { display: none !important; }` so we also need the `!important` here to be able to override the default hidden behavior on the sphinx rendered scikit-learn.org. See: https://github.com/scikit-learn/scikit-learn/issues/21755 */display: inline-block !important;position: relative;}#sk-container-id-1 div.sk-text-repr-fallback {display: none;}</style><div id=\"sk-container-id-1\" class=\"sk-top-container\"><div class=\"sk-text-repr-fallback\"><pre>KMeans(n_clusters=5, random_state=12)</pre><b>In a Jupyter environment, please rerun this cell to show the HTML representation or trust the notebook. <br />On GitHub, the HTML representation is unable to render, please try loading this page with nbviewer.org.</b></div><div class=\"sk-container\" hidden><div class=\"sk-item\"><div class=\"sk-estimator sk-toggleable\"><input class=\"sk-toggleable__control sk-hidden--visually\" id=\"sk-estimator-id-1\" type=\"checkbox\" checked><label for=\"sk-estimator-id-1\" class=\"sk-toggleable__label sk-toggleable__label-arrow\">KMeans</label><div class=\"sk-toggleable__content\"><pre>KMeans(n_clusters=5, random_state=12)</pre></div></div></div></div></div>"
      ],
      "text/plain": [
       "KMeans(n_clusters=5, random_state=12)"
      ]
     },
     "execution_count": 22,
     "metadata": {},
     "output_type": "execute_result"
    }
   ],
   "source": [
    "kmeans"
   ]
  },
  {
   "cell_type": "code",
   "execution_count": 23,
   "id": "ec44f986",
   "metadata": {},
   "outputs": [
    {
     "data": {
      "text/html": [
       "<style>#sk-container-id-2 {color: black;}#sk-container-id-2 pre{padding: 0;}#sk-container-id-2 div.sk-toggleable {background-color: white;}#sk-container-id-2 label.sk-toggleable__label {cursor: pointer;display: block;width: 100%;margin-bottom: 0;padding: 0.3em;box-sizing: border-box;text-align: center;}#sk-container-id-2 label.sk-toggleable__label-arrow:before {content: \"▸\";float: left;margin-right: 0.25em;color: #696969;}#sk-container-id-2 label.sk-toggleable__label-arrow:hover:before {color: black;}#sk-container-id-2 div.sk-estimator:hover label.sk-toggleable__label-arrow:before {color: black;}#sk-container-id-2 div.sk-toggleable__content {max-height: 0;max-width: 0;overflow: hidden;text-align: left;background-color: #f0f8ff;}#sk-container-id-2 div.sk-toggleable__content pre {margin: 0.2em;color: black;border-radius: 0.25em;background-color: #f0f8ff;}#sk-container-id-2 input.sk-toggleable__control:checked~div.sk-toggleable__content {max-height: 200px;max-width: 100%;overflow: auto;}#sk-container-id-2 input.sk-toggleable__control:checked~label.sk-toggleable__label-arrow:before {content: \"▾\";}#sk-container-id-2 div.sk-estimator input.sk-toggleable__control:checked~label.sk-toggleable__label {background-color: #d4ebff;}#sk-container-id-2 div.sk-label input.sk-toggleable__control:checked~label.sk-toggleable__label {background-color: #d4ebff;}#sk-container-id-2 input.sk-hidden--visually {border: 0;clip: rect(1px 1px 1px 1px);clip: rect(1px, 1px, 1px, 1px);height: 1px;margin: -1px;overflow: hidden;padding: 0;position: absolute;width: 1px;}#sk-container-id-2 div.sk-estimator {font-family: monospace;background-color: #f0f8ff;border: 1px dotted black;border-radius: 0.25em;box-sizing: border-box;margin-bottom: 0.5em;}#sk-container-id-2 div.sk-estimator:hover {background-color: #d4ebff;}#sk-container-id-2 div.sk-parallel-item::after {content: \"\";width: 100%;border-bottom: 1px solid gray;flex-grow: 1;}#sk-container-id-2 div.sk-label:hover label.sk-toggleable__label {background-color: #d4ebff;}#sk-container-id-2 div.sk-serial::before {content: \"\";position: absolute;border-left: 1px solid gray;box-sizing: border-box;top: 0;bottom: 0;left: 50%;z-index: 0;}#sk-container-id-2 div.sk-serial {display: flex;flex-direction: column;align-items: center;background-color: white;padding-right: 0.2em;padding-left: 0.2em;position: relative;}#sk-container-id-2 div.sk-item {position: relative;z-index: 1;}#sk-container-id-2 div.sk-parallel {display: flex;align-items: stretch;justify-content: center;background-color: white;position: relative;}#sk-container-id-2 div.sk-item::before, #sk-container-id-2 div.sk-parallel-item::before {content: \"\";position: absolute;border-left: 1px solid gray;box-sizing: border-box;top: 0;bottom: 0;left: 50%;z-index: -1;}#sk-container-id-2 div.sk-parallel-item {display: flex;flex-direction: column;z-index: 1;position: relative;background-color: white;}#sk-container-id-2 div.sk-parallel-item:first-child::after {align-self: flex-end;width: 50%;}#sk-container-id-2 div.sk-parallel-item:last-child::after {align-self: flex-start;width: 50%;}#sk-container-id-2 div.sk-parallel-item:only-child::after {width: 0;}#sk-container-id-2 div.sk-dashed-wrapped {border: 1px dashed gray;margin: 0 0.4em 0.5em 0.4em;box-sizing: border-box;padding-bottom: 0.4em;background-color: white;}#sk-container-id-2 div.sk-label label {font-family: monospace;font-weight: bold;display: inline-block;line-height: 1.2em;}#sk-container-id-2 div.sk-label-container {text-align: center;}#sk-container-id-2 div.sk-container {/* jupyter's `normalize.less` sets `[hidden] { display: none; }` but bootstrap.min.css set `[hidden] { display: none !important; }` so we also need the `!important` here to be able to override the default hidden behavior on the sphinx rendered scikit-learn.org. See: https://github.com/scikit-learn/scikit-learn/issues/21755 */display: inline-block !important;position: relative;}#sk-container-id-2 div.sk-text-repr-fallback {display: none;}</style><div id=\"sk-container-id-2\" class=\"sk-top-container\"><div class=\"sk-text-repr-fallback\"><pre>KMeans(n_clusters=5, random_state=12)</pre><b>In a Jupyter environment, please rerun this cell to show the HTML representation or trust the notebook. <br />On GitHub, the HTML representation is unable to render, please try loading this page with nbviewer.org.</b></div><div class=\"sk-container\" hidden><div class=\"sk-item\"><div class=\"sk-estimator sk-toggleable\"><input class=\"sk-toggleable__control sk-hidden--visually\" id=\"sk-estimator-id-2\" type=\"checkbox\" checked><label for=\"sk-estimator-id-2\" class=\"sk-toggleable__label sk-toggleable__label-arrow\">KMeans</label><div class=\"sk-toggleable__content\"><pre>KMeans(n_clusters=5, random_state=12)</pre></div></div></div></div></div>"
      ],
      "text/plain": [
       "KMeans(n_clusters=5, random_state=12)"
      ]
     },
     "execution_count": 23,
     "metadata": {},
     "output_type": "execute_result"
    }
   ],
   "source": [
    "kmeans.fit(scaled_x)"
   ]
  },
  {
   "cell_type": "markdown",
   "id": "fba0d92c",
   "metadata": {},
   "source": [
    "### Clusters value"
   ]
  },
  {
   "cell_type": "markdown",
   "id": "968fa966",
   "metadata": {},
   "source": [
    "##### labels_ is calculating clusters value means it tells which customer belongs which cluster"
   ]
  },
  {
   "cell_type": "code",
   "execution_count": 24,
   "id": "978d5eb0",
   "metadata": {},
   "outputs": [],
   "source": [
    "labels = kmeans.labels_"
   ]
  },
  {
   "cell_type": "code",
   "execution_count": 25,
   "id": "1dc7a5bb",
   "metadata": {},
   "outputs": [],
   "source": [
    "cluster = pd.DataFrame(labels , columns = ['Cluster'])"
   ]
  },
  {
   "cell_type": "code",
   "execution_count": 26,
   "id": "47b30c15",
   "metadata": {},
   "outputs": [
    {
     "data": {
      "text/html": [
       "<div>\n",
       "<style scoped>\n",
       "    .dataframe tbody tr th:only-of-type {\n",
       "        vertical-align: middle;\n",
       "    }\n",
       "\n",
       "    .dataframe tbody tr th {\n",
       "        vertical-align: top;\n",
       "    }\n",
       "\n",
       "    .dataframe thead th {\n",
       "        text-align: right;\n",
       "    }\n",
       "</style>\n",
       "<table border=\"1\" class=\"dataframe\">\n",
       "  <thead>\n",
       "    <tr style=\"text-align: right;\">\n",
       "      <th></th>\n",
       "      <th>Cluster</th>\n",
       "    </tr>\n",
       "  </thead>\n",
       "  <tbody>\n",
       "    <tr>\n",
       "      <th>0</th>\n",
       "      <td>0</td>\n",
       "    </tr>\n",
       "    <tr>\n",
       "      <th>1</th>\n",
       "      <td>4</td>\n",
       "    </tr>\n",
       "  </tbody>\n",
       "</table>\n",
       "</div>"
      ],
      "text/plain": [
       "   Cluster\n",
       "0        0\n",
       "1        4"
      ]
     },
     "execution_count": 26,
     "metadata": {},
     "output_type": "execute_result"
    }
   ],
   "source": [
    "cluster.head(2)"
   ]
  },
  {
   "cell_type": "markdown",
   "id": "56b23c67",
   "metadata": {},
   "source": [
    "##### Performance Metrics in cluster "
   ]
  },
  {
   "cell_type": "markdown",
   "id": "7c2f58cc",
   "metadata": {},
   "source": [
    "##### Silhouette Score"
   ]
  },
  {
   "cell_type": "code",
   "execution_count": 27,
   "id": "d9430a2e",
   "metadata": {},
   "outputs": [],
   "source": [
    "from sklearn.metrics import silhouette_samples , silhouette_score"
   ]
  },
  {
   "cell_type": "code",
   "execution_count": 28,
   "id": "55649061",
   "metadata": {},
   "outputs": [
    {
     "data": {
      "text/plain": [
       "0.5546571631111091"
      ]
     },
     "execution_count": 28,
     "metadata": {},
     "output_type": "execute_result"
    }
   ],
   "source": [
    "silhouette_score(scaled_x , cluster , random_state = 12)"
   ]
  },
  {
   "cell_type": "markdown",
   "id": "b38cf711",
   "metadata": {},
   "source": [
    "##### silhouette score more than 40 % means we build  clusters very accurately"
   ]
  },
  {
   "cell_type": "markdown",
   "id": "7475c93a",
   "metadata": {},
   "source": [
    "###### Final output and build file for it"
   ]
  },
  {
   "cell_type": "code",
   "execution_count": 29,
   "id": "bdc4ed70",
   "metadata": {},
   "outputs": [],
   "source": [
    "final_output_mall_cutsomer = pd.concat([df , cluster] , axis = 1)"
   ]
  },
  {
   "cell_type": "code",
   "execution_count": 30,
   "id": "354241c7",
   "metadata": {},
   "outputs": [
    {
     "data": {
      "text/html": [
       "<div>\n",
       "<style scoped>\n",
       "    .dataframe tbody tr th:only-of-type {\n",
       "        vertical-align: middle;\n",
       "    }\n",
       "\n",
       "    .dataframe tbody tr th {\n",
       "        vertical-align: top;\n",
       "    }\n",
       "\n",
       "    .dataframe thead th {\n",
       "        text-align: right;\n",
       "    }\n",
       "</style>\n",
       "<table border=\"1\" class=\"dataframe\">\n",
       "  <thead>\n",
       "    <tr style=\"text-align: right;\">\n",
       "      <th></th>\n",
       "      <th>CustomerID</th>\n",
       "      <th>Gender</th>\n",
       "      <th>Age</th>\n",
       "      <th>Annual Income (k$)</th>\n",
       "      <th>Spending Score (1-100)</th>\n",
       "      <th>Cluster</th>\n",
       "    </tr>\n",
       "  </thead>\n",
       "  <tbody>\n",
       "    <tr>\n",
       "      <th>0</th>\n",
       "      <td>1</td>\n",
       "      <td>Male</td>\n",
       "      <td>19</td>\n",
       "      <td>15</td>\n",
       "      <td>39</td>\n",
       "      <td>0</td>\n",
       "    </tr>\n",
       "    <tr>\n",
       "      <th>1</th>\n",
       "      <td>2</td>\n",
       "      <td>Male</td>\n",
       "      <td>21</td>\n",
       "      <td>15</td>\n",
       "      <td>81</td>\n",
       "      <td>4</td>\n",
       "    </tr>\n",
       "    <tr>\n",
       "      <th>2</th>\n",
       "      <td>3</td>\n",
       "      <td>Female</td>\n",
       "      <td>20</td>\n",
       "      <td>16</td>\n",
       "      <td>6</td>\n",
       "      <td>0</td>\n",
       "    </tr>\n",
       "    <tr>\n",
       "      <th>3</th>\n",
       "      <td>4</td>\n",
       "      <td>Female</td>\n",
       "      <td>23</td>\n",
       "      <td>16</td>\n",
       "      <td>77</td>\n",
       "      <td>4</td>\n",
       "    </tr>\n",
       "    <tr>\n",
       "      <th>4</th>\n",
       "      <td>5</td>\n",
       "      <td>Female</td>\n",
       "      <td>31</td>\n",
       "      <td>17</td>\n",
       "      <td>40</td>\n",
       "      <td>0</td>\n",
       "    </tr>\n",
       "    <tr>\n",
       "      <th>...</th>\n",
       "      <td>...</td>\n",
       "      <td>...</td>\n",
       "      <td>...</td>\n",
       "      <td>...</td>\n",
       "      <td>...</td>\n",
       "      <td>...</td>\n",
       "    </tr>\n",
       "    <tr>\n",
       "      <th>195</th>\n",
       "      <td>196</td>\n",
       "      <td>Female</td>\n",
       "      <td>35</td>\n",
       "      <td>120</td>\n",
       "      <td>79</td>\n",
       "      <td>3</td>\n",
       "    </tr>\n",
       "    <tr>\n",
       "      <th>196</th>\n",
       "      <td>197</td>\n",
       "      <td>Female</td>\n",
       "      <td>45</td>\n",
       "      <td>126</td>\n",
       "      <td>28</td>\n",
       "      <td>2</td>\n",
       "    </tr>\n",
       "    <tr>\n",
       "      <th>197</th>\n",
       "      <td>198</td>\n",
       "      <td>Male</td>\n",
       "      <td>32</td>\n",
       "      <td>126</td>\n",
       "      <td>74</td>\n",
       "      <td>3</td>\n",
       "    </tr>\n",
       "    <tr>\n",
       "      <th>198</th>\n",
       "      <td>199</td>\n",
       "      <td>Male</td>\n",
       "      <td>32</td>\n",
       "      <td>137</td>\n",
       "      <td>18</td>\n",
       "      <td>2</td>\n",
       "    </tr>\n",
       "    <tr>\n",
       "      <th>199</th>\n",
       "      <td>200</td>\n",
       "      <td>Male</td>\n",
       "      <td>30</td>\n",
       "      <td>137</td>\n",
       "      <td>83</td>\n",
       "      <td>3</td>\n",
       "    </tr>\n",
       "  </tbody>\n",
       "</table>\n",
       "<p>200 rows × 6 columns</p>\n",
       "</div>"
      ],
      "text/plain": [
       "     CustomerID  Gender  Age  Annual Income (k$)  Spending Score (1-100)  \\\n",
       "0             1    Male   19                  15                      39   \n",
       "1             2    Male   21                  15                      81   \n",
       "2             3  Female   20                  16                       6   \n",
       "3             4  Female   23                  16                      77   \n",
       "4             5  Female   31                  17                      40   \n",
       "..          ...     ...  ...                 ...                     ...   \n",
       "195         196  Female   35                 120                      79   \n",
       "196         197  Female   45                 126                      28   \n",
       "197         198    Male   32                 126                      74   \n",
       "198         199    Male   32                 137                      18   \n",
       "199         200    Male   30                 137                      83   \n",
       "\n",
       "     Cluster  \n",
       "0          0  \n",
       "1          4  \n",
       "2          0  \n",
       "3          4  \n",
       "4          0  \n",
       "..       ...  \n",
       "195        3  \n",
       "196        2  \n",
       "197        3  \n",
       "198        2  \n",
       "199        3  \n",
       "\n",
       "[200 rows x 6 columns]"
      ]
     },
     "execution_count": 30,
     "metadata": {},
     "output_type": "execute_result"
    }
   ],
   "source": [
    "final_output_mall_cutsomer"
   ]
  },
  {
   "cell_type": "code",
   "execution_count": 31,
   "id": "6f9ebb47",
   "metadata": {},
   "outputs": [],
   "source": [
    "#final_output_mall_scutsomer.to_csv('C:\\\\Users\\\\Lenovo\\\\Desktop\\\\final_output_mall_cutsomer.csv')"
   ]
  },
  {
   "cell_type": "code",
   "execution_count": 32,
   "id": "378c20a4",
   "metadata": {},
   "outputs": [],
   "source": [
    "from matplotlib.colors import ListedColormap"
   ]
  },
  {
   "cell_type": "code",
   "execution_count": 33,
   "id": "b8af4f83",
   "metadata": {},
   "outputs": [],
   "source": [
    "colors = ListedColormap(['magenta', 'red', 'black', 'orange', 'grey'])"
   ]
  },
  {
   "cell_type": "markdown",
   "id": "71111ffa",
   "metadata": {},
   "source": [
    "### Viusalization of clusters"
   ]
  },
  {
   "cell_type": "code",
   "execution_count": 34,
   "id": "5885ae5a",
   "metadata": {
    "scrolled": false
   },
   "outputs": [
    {
     "data": {
      "image/png": "[encoded data removed]",
      "text/plain": [
       "<Figure size 640x480 with 1 Axes>"
      ]
     },
     "metadata": {},
     "output_type": "display_data"
    }
   ],
   "source": [
    "plt.scatter(x.iloc[: , 0] , x.iloc[: , 1] , c = final_output_mall_cutsomer['Cluster'].astype('category') , cmap = colors)\n",
    "plt.xlabel('Annual Income(K$)')\n",
    "plt.ylabel('Spending Score')\n",
    "plt.title('visualization of clusters')\n",
    "plt.show()"
   ]
  },
  {
   "cell_type": "markdown",
   "id": "c8171e12",
   "metadata": {},
   "source": [
    "##### Insights : From visualization we get know ,\n",
    "\n",
    "##### 1.Orange cluster is the best cluster because that clusters customers annual income is high (greater than 60 and spending score is also greater than 60) . so we can provide many facilities to them \n",
    "##### 2.Black cluster is our target. beacsue black cluster customers have high annual income but it less spend scores so we can target them for to increase spend score\n",
    "##### 3.Grey cluster is  also we can target it means it has less annual income but they are frequeqnt use of credit card. so we can increase credit limit of them .\n",
    "##### 4.Red cluster have less annual income and medium annual income so we can target them for to reach as grey data points\n",
    "##### 5.magenta cluster has less annual income as well less spent score. so we can target them as to reach to red or grey cluster level "
   ]
  },
  {
   "cell_type": "markdown",
   "id": "a973f546",
   "metadata": {},
   "source": [
    "#### Calculate centriod"
   ]
  },
  {
   "cell_type": "code",
   "execution_count": 35,
   "id": "fe817628",
   "metadata": {},
   "outputs": [],
   "source": [
    "centroid = kmeans.cluster_centers_"
   ]
  },
  {
   "cell_type": "code",
   "execution_count": 36,
   "id": "46b1824e",
   "metadata": {},
   "outputs": [
    {
     "data": {
      "text/plain": [
       "array([[-1.30751869, -1.13696536],\n",
       "       [-0.20091257, -0.02645617],\n",
       "       [ 1.05500302, -1.28443907],\n",
       "       [ 0.99158305,  1.23950275],\n",
       "       [-1.32954532,  1.13217788]])"
      ]
     },
     "execution_count": 36,
     "metadata": {},
     "output_type": "execute_result"
    }
   ],
   "source": [
    "centroid"
   ]
  },
  {
   "cell_type": "code",
   "execution_count": 37,
   "id": "d54ed978",
   "metadata": {},
   "outputs": [],
   "source": [
    "#centroid = pd.DataFrame(centroid , columns = ['centroid'])"
   ]
  },
  {
   "cell_type": "code",
   "execution_count": 38,
   "id": "c3aade8e",
   "metadata": {},
   "outputs": [],
   "source": [
    "centroid_x_annual_income = centroid[: , 0]\n",
    "centroid_y_spending_score = centroid[: , 1]"
   ]
  },
  {
   "cell_type": "code",
   "execution_count": 39,
   "id": "8a21103c",
   "metadata": {},
   "outputs": [
    {
     "data": {
      "image/png": "[encoded data removed]",
      "text/plain": [
       "<Figure size 640x480 with 1 Axes>"
      ]
     },
     "metadata": {},
     "output_type": "display_data"
    }
   ],
   "source": [
    "plt.scatter(centroid_x_annual_income , centroid_y_spending_score , s = 80 , marker = 'D')\n",
    "plt.xlabel('centroid_x_annual_income')\n",
    "plt.ylabel('centroid_y_spending_score')\n",
    "plt.title('centroid of clusters')\n",
    "plt.show()"
   ]
  },
  {
   "cell_type": "code",
   "execution_count": null,
   "id": "bc4c0e70",
   "metadata": {},
   "outputs": [],
   "source": []
  },
  {
   "cell_type": "markdown",
   "id": "5c4d597e",
   "metadata": {},
   "source": [
    "## Hierachial Cluster"
   ]
  },
  {
   "cell_type": "code",
   "execution_count": 40,
   "id": "384bd0fd",
   "metadata": {},
   "outputs": [],
   "source": [
    "from scipy.cluster.hierarchy import dendrogram , linkage"
   ]
  },
  {
   "cell_type": "code",
   "execution_count": 41,
   "id": "c8a3157a",
   "metadata": {},
   "outputs": [],
   "source": [
    "link_method = linkage(scaled_x)"
   ]
  },
  {
   "cell_type": "code",
   "execution_count": 42,
   "id": "e76b2231",
   "metadata": {
    "scrolled": true
   },
   "outputs": [
    {
     "name": "stdout",
     "output_type": "stream",
     "text": [
      "[[4.80000000e+01 4.90000000e+01 0.00000000e+00 2.00000000e+00]\n",
      " [6.50000000e+01 6.80000000e+01 0.00000000e+00 2.00000000e+00]\n",
      " [1.56000000e+02 1.58000000e+02 0.00000000e+00 2.00000000e+00]\n",
      " [1.29000000e+02 1.31000000e+02 0.00000000e+00 2.00000000e+00]\n",
      " [1.70000000e+02 1.74000000e+02 3.81694292e-02 2.00000000e+00]\n",
      " [6.30000000e+01 2.01000000e+02 3.81694292e-02 3.00000000e+00]\n",
      " [5.10000000e+01 5.30000000e+01 3.81694292e-02 2.00000000e+00]\n",
      " [1.01000000e+02 1.09000000e+02 3.81694292e-02 2.00000000e+00]\n",
      " [9.20000000e+01 9.90000000e+01 3.81694292e-02 2.00000000e+00]\n",
      " [9.80000000e+01 1.05000000e+02 3.81694292e-02 2.00000000e+00]\n",
      " [9.40000000e+01 2.09000000e+02 3.81694292e-02 3.00000000e+00]\n",
      " [1.07000000e+02 1.13000000e+02 3.81694292e-02 2.00000000e+00]\n",
      " [2.10000000e+01 2.30000000e+01 3.81694292e-02 2.00000000e+00]\n",
      " [1.50000000e+02 1.54000000e+02 3.88215607e-02 2.00000000e+00]\n",
      " [1.51000000e+02 1.55000000e+02 3.88215607e-02 2.00000000e+00]\n",
      " [6.00000000e+01 6.10000000e+01 3.88215607e-02 2.00000000e+00]\n",
      " [1.03000000e+02 1.04000000e+02 3.88215607e-02 2.00000000e+00]\n",
      " [1.19000000e+02 1.20000000e+02 3.88215607e-02 2.00000000e+00]\n",
      " [6.70000000e+01 6.90000000e+01 3.88215607e-02 2.00000000e+00]\n",
      " [6.40000000e+01 6.60000000e+01 3.88215607e-02 2.00000000e+00]\n",
      " [7.40000000e+01 7.70000000e+01 3.88215607e-02 2.00000000e+00]\n",
      " [8.50000000e+01 2.20000000e+02 3.88215607e-02 3.00000000e+00]\n",
      " [7.80000000e+01 8.00000000e+01 3.88215607e-02 2.00000000e+00]\n",
      " [7.60000000e+01 2.22000000e+02 3.88215607e-02 3.00000000e+00]\n",
      " [7.50000000e+01 2.23000000e+02 3.88215607e-02 4.00000000e+00]\n",
      " [9.70000000e+01 2.08000000e+02 3.88215607e-02 3.00000000e+00]\n",
      " [7.90000000e+01 8.20000000e+01 3.88215607e-02 2.00000000e+00]\n",
      " [8.10000000e+01 2.24000000e+02 3.88215607e-02 5.00000000e+00]\n",
      " [1.00000000e+02 2.10000000e+02 3.88215607e-02 4.00000000e+00]\n",
      " [1.49000000e+02 2.14000000e+02 3.88215607e-02 3.00000000e+00]\n",
      " [1.00000000e+01 1.40000000e+01 5.44428039e-02 2.00000000e+00]\n",
      " [2.60000000e+01 2.80000000e+01 5.44428039e-02 2.00000000e+00]\n",
      " [6.20000000e+01 2.19000000e+02 5.44428039e-02 3.00000000e+00]\n",
      " [5.80000000e+01 2.32000000e+02 5.44428039e-02 4.00000000e+00]\n",
      " [2.07000000e+02 2.25000000e+02 5.44428039e-02 5.00000000e+00]\n",
      " [4.00000000e+01 4.20000000e+01 5.44428039e-02 2.00000000e+00]\n",
      " [5.40000000e+01 5.70000000e+01 5.44428039e-02 2.00000000e+00]\n",
      " [1.11000000e+02 2.16000000e+02 5.44428039e-02 3.00000000e+00]\n",
      " [1.08000000e+02 2.28000000e+02 5.44428039e-02 5.00000000e+00]\n",
      " [9.10000000e+01 2.38000000e+02 5.44428039e-02 6.00000000e+00]\n",
      " [9.30000000e+01 2.39000000e+02 5.44428039e-02 7.00000000e+00]\n",
      " [1.12000000e+02 1.16000000e+02 5.44428039e-02 2.00000000e+00]\n",
      " [1.26000000e+02 1.32000000e+02 5.44428039e-02 2.00000000e+00]\n",
      " [1.20000000e+01 2.30000000e+02 5.44428039e-02 3.00000000e+00]\n",
      " [1.47000000e+02 1.59000000e+02 5.44428039e-02 2.00000000e+00]\n",
      " [2.40000000e+02 2.41000000e+02 5.44428039e-02 9.00000000e+00]\n",
      " [7.00000000e+01 7.30000000e+01 5.44428039e-02 2.00000000e+00]\n",
      " [1.37000000e+02 1.39000000e+02 5.44428039e-02 2.00000000e+00]\n",
      " [3.00000000e+00 5.00000000e+00 5.44428039e-02 2.00000000e+00]\n",
      " [5.90000000e+01 2.36000000e+02 7.63388583e-02 3.00000000e+00]\n",
      " [8.70000000e+01 9.00000000e+01 7.63388583e-02 2.00000000e+00]\n",
      " [1.18000000e+02 2.45000000e+02 7.63388583e-02 1.00000000e+01]\n",
      " [2.00000000e+00 6.00000000e+00 7.63388583e-02 2.00000000e+00]\n",
      " [1.65000000e+02 1.71000000e+02 7.63388583e-02 2.00000000e+00]\n",
      " [1.06000000e+02 1.15000000e+02 7.63388583e-02 2.00000000e+00]\n",
      " [1.14000000e+02 2.34000000e+02 7.63388583e-02 6.00000000e+00]\n",
      " [1.34000000e+02 1.40000000e+02 7.63388583e-02 2.00000000e+00]\n",
      " [8.40000000e+01 2.27000000e+02 7.76431214e-02 6.00000000e+00]\n",
      " [2.18000000e+02 2.33000000e+02 7.76431214e-02 6.00000000e+00]\n",
      " [8.30000000e+01 2.21000000e+02 7.76431214e-02 4.00000000e+00]\n",
      " [2.26000000e+02 2.59000000e+02 7.76431214e-02 6.00000000e+00]\n",
      " [1.10000000e+02 2.37000000e+02 7.76431214e-02 4.00000000e+00]\n",
      " [2.54000000e+02 2.61000000e+02 7.76431214e-02 6.00000000e+00]\n",
      " [2.55000000e+02 2.62000000e+02 7.76431214e-02 1.20000000e+01]\n",
      " [9.50000000e+01 2.63000000e+02 7.76431214e-02 1.30000000e+01]\n",
      " [9.60000000e+01 2.64000000e+02 7.76431214e-02 1.40000000e+01]\n",
      " [2.11000000e+02 2.65000000e+02 7.76431214e-02 1.60000000e+01]\n",
      " [1.30000000e+01 1.50000000e+01 7.76431214e-02 2.00000000e+00]\n",
      " [1.48000000e+02 1.52000000e+02 7.76431214e-02 2.00000000e+00]\n",
      " [1.28000000e+02 1.30000000e+02 7.76431214e-02 2.00000000e+00]\n",
      " [1.36000000e+02 2.56000000e+02 7.76431214e-02 3.00000000e+00]\n",
      " [1.76000000e+02 2.04000000e+02 7.76431214e-02 3.00000000e+00]\n",
      " [1.53000000e+02 1.57000000e+02 7.76431214e-02 2.00000000e+00]\n",
      " [2.49000000e+02 2.58000000e+02 8.56430667e-02 9.00000000e+00]\n",
      " [0.00000000e+00 4.00000000e+00 8.56430667e-02 2.00000000e+00]\n",
      " [5.60000000e+01 2.73000000e+02 8.56430667e-02 1.00000000e+01]\n",
      " [1.46000000e+02 1.60000000e+02 8.56430667e-02 2.00000000e+00]\n",
      " [1.64000000e+02 1.68000000e+02 8.56430667e-02 2.00000000e+00]\n",
      " [1.33000000e+02 2.47000000e+02 8.56430667e-02 3.00000000e+00]\n",
      " [1.87000000e+02 1.91000000e+02 8.56430667e-02 2.00000000e+00]\n",
      " [8.90000000e+01 2.66000000e+02 8.56430667e-02 1.70000000e+01]\n",
      " [1.22000000e+02 2.17000000e+02 8.56430667e-02 3.00000000e+00]\n",
      " [7.20000000e+01 2.75000000e+02 8.56430667e-02 1.10000000e+01]\n",
      " [1.86000000e+02 1.90000000e+02 8.56430667e-02 2.00000000e+00]\n",
      " [1.43000000e+02 2.29000000e+02 8.56430667e-02 4.00000000e+00]\n",
      " [2.44000000e+02 2.72000000e+02 8.65179729e-02 4.00000000e+00]\n",
      " [5.00000000e+01 5.20000000e+01 8.65179729e-02 2.00000000e+00]\n",
      " [8.60000000e+01 8.80000000e+01 8.65179729e-02 2.00000000e+00]\n",
      " [1.25000000e+02 2.03000000e+02 8.65179729e-02 3.00000000e+00]\n",
      " [1.81000000e+02 1.83000000e+02 8.65179729e-02 2.00000000e+00]\n",
      " [2.82000000e+02 2.86000000e+02 1.08885608e-01 1.30000000e+01]\n",
      " [3.80000000e+01 4.40000000e+01 1.08885608e-01 2.00000000e+00]\n",
      " [1.17000000e+02 2.81000000e+02 1.08885608e-01 4.00000000e+00]\n",
      " [2.69000000e+02 2.70000000e+02 1.08885608e-01 5.00000000e+00]\n",
      " [2.78000000e+02 2.88000000e+02 1.08885608e-01 6.00000000e+00]\n",
      " [1.60000000e+01 2.00000000e+01 1.14508288e-01 2.00000000e+00]\n",
      " [3.00000000e+01 3.20000000e+01 1.14508288e-01 2.00000000e+00]\n",
      " [2.15000000e+02 2.46000000e+02 1.14508288e-01 4.00000000e+00]\n",
      " [2.50000000e+02 2.57000000e+02 1.14508288e-01 8.00000000e+00]\n",
      " [2.80000000e+02 2.98000000e+02 1.14508288e-01 2.50000000e+01]\n",
      " [1.02000000e+02 2.92000000e+02 1.14508288e-01 5.00000000e+00]\n",
      " [2.87000000e+02 2.99000000e+02 1.16464682e-01 2.70000000e+01]\n",
      " [2.51000000e+02 3.01000000e+02 1.16464682e-01 3.70000000e+01]\n",
      " [2.60000000e+02 3.02000000e+02 1.16464682e-01 4.30000000e+01]\n",
      " [3.00000000e+02 3.03000000e+02 1.16464682e-01 4.80000000e+01]\n",
      " [1.21000000e+02 3.04000000e+02 1.16464682e-01 4.90000000e+01]\n",
      " [2.13000000e+02 2.68000000e+02 1.16464682e-01 4.00000000e+00]\n",
      " [1.72000000e+02 2.71000000e+02 1.16464682e-01 4.00000000e+00]\n",
      " [2.48000000e+02 2.67000000e+02 1.20910138e-01 4.00000000e+00]\n",
      " [2.90000000e+02 2.97000000e+02 1.20910138e-01 1.70000000e+01]\n",
      " [1.38000000e+02 2.93000000e+02 1.20910138e-01 6.00000000e+00]\n",
      " [4.30000000e+01 2.06000000e+02 1.20910138e-01 3.00000000e+00]\n",
      " [1.35000000e+02 2.84000000e+02 1.20910138e-01 5.00000000e+00]\n",
      " [5.50000000e+01 2.00000000e+02 1.20910138e-01 3.00000000e+00]\n",
      " [4.60000000e+01 3.09000000e+02 1.20910138e-01 1.80000000e+01]\n",
      " [1.67000000e+02 1.73000000e+02 1.22559894e-01 2.00000000e+00]\n",
      " [3.40000000e+01 3.60000000e+01 1.22559894e-01 2.00000000e+00]\n",
      " [2.05000000e+02 3.14000000e+02 1.22559894e-01 2.10000000e+01]\n",
      " [8.00000000e+00 2.52000000e+02 1.22559894e-01 3.00000000e+00]\n",
      " [3.70000000e+01 3.90000000e+01 1.38349565e-01 2.00000000e+00]\n",
      " [1.44000000e+02 3.10000000e+02 1.38349565e-01 7.00000000e+00]\n",
      " [2.85000000e+02 2.94000000e+02 1.38349565e-01 1.00000000e+01]\n",
      " [4.70000000e+01 3.17000000e+02 1.38349565e-01 2.20000000e+01]\n",
      " [3.10000000e+01 3.19000000e+02 1.52677717e-01 3.00000000e+00]\n",
      " [3.13000000e+02 3.22000000e+02 1.55286243e-01 2.50000000e+01]\n",
      " [4.50000000e+01 3.11000000e+02 1.55286243e-01 4.00000000e+00]\n",
      " [3.24000000e+02 3.25000000e+02 1.57536024e-01 2.90000000e+01]\n",
      " [3.05000000e+02 3.26000000e+02 1.57536024e-01 7.80000000e+01]\n",
      " [1.10000000e+01 1.90000000e+01 1.57536024e-01 2.00000000e+00]\n",
      " [1.42000000e+02 2.76000000e+02 1.59908482e-01 3.00000000e+00]\n",
      " [1.00000000e+00 3.08000000e+02 1.59908482e-01 5.00000000e+00]\n",
      " [3.06000000e+02 3.20000000e+02 1.59908482e-01 1.10000000e+01]\n",
      " [1.41000000e+02 3.12000000e+02 1.63328412e-01 6.00000000e+00]\n",
      " [1.63000000e+02 3.32000000e+02 1.63328412e-01 7.00000000e+00]\n",
      " [1.27000000e+02 3.33000000e+02 1.71286133e-01 8.00000000e+00]\n",
      " [9.00000000e+00 3.30000000e+02 1.73035946e-01 6.00000000e+00]\n",
      " [1.23000000e+02 3.34000000e+02 1.73035946e-01 9.00000000e+00]\n",
      " [1.45000000e+02 3.36000000e+02 1.73035946e-01 1.00000000e+01]\n",
      " [2.40000000e+01 3.16000000e+02 1.90847146e-01 3.00000000e+00]\n",
      " [3.30000000e+01 4.10000000e+01 1.90847146e-01 2.00000000e+00]\n",
      " [7.10000000e+01 3.27000000e+02 1.90847146e-01 7.90000000e+01]\n",
      " [2.12000000e+02 3.23000000e+02 1.90847146e-01 5.00000000e+00]\n",
      " [2.31000000e+02 2.95000000e+02 1.92027361e-01 4.00000000e+00]\n",
      " [1.61000000e+02 3.37000000e+02 1.92940315e-01 1.10000000e+01]\n",
      " [2.02000000e+02 3.31000000e+02 1.92940315e-01 1.30000000e+01]\n",
      " [1.62000000e+02 3.44000000e+02 1.92940315e-01 1.40000000e+01]\n",
      " [2.50000000e+01 3.50000000e+01 1.94755608e-01 2.00000000e+00]\n",
      " [3.35000000e+02 3.41000000e+02 1.94755608e-01 1.10000000e+01]\n",
      " [2.20000000e+01 2.96000000e+02 1.94755608e-01 3.00000000e+00]\n",
      " [1.78000000e+02 3.07000000e+02 1.94755608e-01 5.00000000e+00]\n",
      " [1.82000000e+02 3.49000000e+02 1.94755608e-01 6.00000000e+00]\n",
      " [2.90000000e+01 3.46000000e+02 1.97825036e-01 3.00000000e+00]\n",
      " [7.00000000e+00 3.28000000e+02 1.97825036e-01 3.00000000e+00]\n",
      " [3.21000000e+02 3.43000000e+02 1.97825036e-01 2.10000000e+01]\n",
      " [1.88000000e+02 3.50000000e+02 2.06036617e-01 7.00000000e+00]\n",
      " [3.15000000e+02 3.53000000e+02 2.06036617e-01 2.30000000e+01]\n",
      " [2.42000000e+02 3.29000000e+02 2.06036617e-01 5.00000000e+00]\n",
      " [1.79000000e+02 2.89000000e+02 2.06036617e-01 3.00000000e+00]\n",
      " [1.66000000e+02 3.54000000e+02 2.08579627e-01 8.00000000e+00]\n",
      " [1.24000000e+02 3.56000000e+02 2.08579627e-01 6.00000000e+00]\n",
      " [1.89000000e+02 3.57000000e+02 2.23576956e-01 4.00000000e+00]\n",
      " [1.80000000e+01 3.42000000e+02 2.23576956e-01 5.00000000e+00]\n",
      " [2.83000000e+02 3.58000000e+02 2.32929364e-01 1.00000000e+01]\n",
      " [2.35000000e+02 3.40000000e+02 2.36036002e-01 8.10000000e+01]\n",
      " [2.77000000e+02 3.62000000e+02 2.36036002e-01 1.20000000e+01]\n",
      " [1.77000000e+02 2.53000000e+02 2.36036002e-01 3.00000000e+00]\n",
      " [1.69000000e+02 3.65000000e+02 2.36036002e-01 4.00000000e+00]\n",
      " [1.75000000e+02 3.55000000e+02 2.36036002e-01 2.40000000e+01]\n",
      " [3.18000000e+02 3.48000000e+02 2.41820276e-01 6.00000000e+00]\n",
      " [3.60000000e+02 3.67000000e+02 2.41820276e-01 2.80000000e+01]\n",
      " [1.70000000e+01 3.47000000e+02 2.45119787e-01 1.20000000e+01]\n",
      " [2.74000000e+02 3.61000000e+02 2.46958143e-01 7.00000000e+00]\n",
      " [3.59000000e+02 3.63000000e+02 2.46958143e-01 8.70000000e+01]\n",
      " [3.39000000e+02 3.51000000e+02 2.46958143e-01 5.00000000e+00]\n",
      " [3.66000000e+02 3.69000000e+02 2.69991619e-01 3.20000000e+01]\n",
      " [2.91000000e+02 3.72000000e+02 2.74418422e-01 8.90000000e+01]\n",
      " [3.70000000e+02 3.73000000e+02 2.78507763e-01 1.70000000e+01]\n",
      " [2.43000000e+02 3.68000000e+02 2.82269705e-01 9.00000000e+00]\n",
      " [1.80000000e+02 1.84000000e+02 2.82269705e-01 2.00000000e+00]\n",
      " [3.45000000e+02 3.64000000e+02 3.00210644e-01 2.60000000e+01]\n",
      " [1.95000000e+02 1.97000000e+02 3.00210644e-01 2.00000000e+00]\n",
      " [3.38000000e+02 3.77000000e+02 3.07813343e-01 1.20000000e+01]\n",
      " [2.70000000e+01 3.76000000e+02 3.30251723e-01 1.80000000e+01]\n",
      " [3.78000000e+02 3.79000000e+02 3.46071891e-01 2.80000000e+01]\n",
      " [1.85000000e+02 3.74000000e+02 3.51472766e-01 3.30000000e+01]\n",
      " [3.71000000e+02 3.75000000e+02 3.61828385e-01 9.60000000e+01]\n",
      " [3.82000000e+02 3.85000000e+02 3.64524213e-01 1.14000000e+02]\n",
      " [3.81000000e+02 3.86000000e+02 3.67679681e-01 1.26000000e+02]\n",
      " [3.83000000e+02 3.87000000e+02 4.08767056e-01 1.54000000e+02]\n",
      " [1.92000000e+02 1.94000000e+02 4.09687234e-01 2.00000000e+00]\n",
      " [3.52000000e+02 3.88000000e+02 4.47153912e-01 1.57000000e+02]\n",
      " [1.93000000e+02 3.84000000e+02 4.47153912e-01 3.40000000e+01]\n",
      " [2.79000000e+02 3.91000000e+02 4.97718910e-01 3.60000000e+01]\n",
      " [3.89000000e+02 3.90000000e+02 5.17461817e-01 1.59000000e+02]\n",
      " [3.92000000e+02 3.93000000e+02 5.17507819e-01 1.95000000e+02]\n",
      " [1.96000000e+02 3.94000000e+02 5.19107837e-01 1.96000000e+02]\n",
      " [3.80000000e+02 3.95000000e+02 5.37040702e-01 1.98000000e+02]\n",
      " [1.99000000e+02 3.96000000e+02 5.46224994e-01 1.99000000e+02]\n",
      " [1.98000000e+02 3.97000000e+02 5.71836429e-01 2.00000000e+02]]\n"
     ]
    }
   ],
   "source": [
    "print(link_method)"
   ]
  },
  {
   "cell_type": "markdown",
   "id": "e6eff923",
   "metadata": {},
   "source": [
    "### Draw the hierarchial cluster"
   ]
  },
  {
   "cell_type": "code",
   "execution_count": 43,
   "id": "835127f2",
   "metadata": {
    "scrolled": false
   },
   "outputs": [
    {
     "data": {
      "image/png": "[encoded data removed]",
      "text/plain": [
       "<Figure size 3000x1000 with 1 Axes>"
      ]
     },
     "metadata": {},
     "output_type": "display_data"
    }
   ],
   "source": [
    "plt.figure(figsize = (30,10))\n",
    "dend = dendrogram(link_method , p = 1)"
   ]
  },
  {
   "cell_type": "markdown",
   "id": "6df53032",
   "metadata": {},
   "source": [
    "### select best five clusters "
   ]
  },
  {
   "cell_type": "code",
   "execution_count": 44,
   "id": "6e5b47c4",
   "metadata": {},
   "outputs": [],
   "source": [
    "from scipy.cluster.hierarchy import fcluster"
   ]
  },
  {
   "cell_type": "code",
   "execution_count": 45,
   "id": "92ad6cb6",
   "metadata": {},
   "outputs": [],
   "source": [
    "cluster_hierarchy = fcluster(link_method , 5 ,criterion='maxclust')"
   ]
  },
  {
   "cell_type": "code",
   "execution_count": 46,
   "id": "d4a9e71c",
   "metadata": {},
   "outputs": [
    {
     "name": "stdout",
     "output_type": "stream",
     "text": [
      "[2 2 2 2 2 2 2 2 2 2 2 2 2 2 2 2 2 2 2 2 2 2 2 2 2 2 2 2 2 2 2 2 2 2 2 2 2\n",
      " 2 2 2 2 2 2 2 2 2 2 2 2 2 2 2 2 2 2 2 2 2 2 2 2 2 2 2 2 2 2 2 2 2 2 2 2 2\n",
      " 2 2 2 2 2 2 2 2 2 2 2 2 2 2 2 2 2 2 2 2 2 2 2 2 2 2 2 2 2 2 2 2 2 2 2 2 2\n",
      " 2 2 2 2 2 2 2 2 2 2 2 2 2 2 2 2 2 2 2 2 2 2 2 2 2 2 2 2 2 2 2 2 2 2 2 2 2\n",
      " 2 2 2 2 2 2 2 2 2 2 2 2 2 2 2 2 2 2 2 2 2 2 2 2 2 2 2 2 2 2 2 2 2 2 2 2 2\n",
      " 2 2 2 2 2 2 2 2 2 2 1 3 1 5 4]\n"
     ]
    }
   ],
   "source": [
    "print(cluster_hierarchy)"
   ]
  },
  {
   "cell_type": "markdown",
   "id": "26e2f292",
   "metadata": {},
   "source": [
    "##### Silhouette score of hierarchical cluster"
   ]
  },
  {
   "cell_type": "code",
   "execution_count": 47,
   "id": "fc92e34c",
   "metadata": {},
   "outputs": [
    {
     "data": {
      "text/plain": [
       "0.2758004412314313"
      ]
     },
     "execution_count": 47,
     "metadata": {},
     "output_type": "execute_result"
    }
   ],
   "source": [
    "silhouette_score(scaled_x , cluster_hierarchy)"
   ]
  },
  {
   "cell_type": "markdown",
   "id": "37f0ea26",
   "metadata": {},
   "source": [
    "#### It is very bad clusters"
   ]
  },
  {
   "cell_type": "markdown",
   "id": "1ddbe708",
   "metadata": {},
   "source": [
    "#### Insights : For this dataset we can use only kmeans because kmeans has silhouette score 0.5546571631111091 and silhouette score of hierarchy is 0.2758004412314313. so our silhouette score of kmeans is best "
   ]
  }
 ],
 "metadata": {
  "kernelspec": {
   "display_name": "Python 3 (ipykernel)",
   "language": "python",
   "name": "python3"
  },
  "language_info": {
   "codemirror_mode": {
    "name": "ipython",
    "version": 3
   },
   "file_extension": ".py",
   "mimetype": "text/x-python",
   "name": "python",
   "nbconvert_exporter": "python",
   "pygments_lexer": "ipython3",
   "version": "3.11.4"
  }
 },
 "nbformat": 4,
 "nbformat_minor": 5
}
