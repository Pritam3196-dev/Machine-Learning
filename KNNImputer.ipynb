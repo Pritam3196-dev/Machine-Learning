{
 "cells": [
  {
   "cell_type": "markdown",
   "id": "1fa5fccb",
   "metadata": {},
   "source": [
    "### Import Prequisite Library"
   ]
  },
  {
   "cell_type": "code",
   "execution_count": 1,
   "id": "28081935",
   "metadata": {},
   "outputs": [],
   "source": [
    "import numpy as np\n",
    "import pandas as pd\n",
    "import matplotlib.pyplot as plt\n",
    "from sklearn.model_selection import train_test_split\n",
    "from sklearn.impute import KNNImputer , SimpleImputer\n",
    "from sklearn.linear_model import LogisticRegression\n",
    "from sklearn.metrics import accuracy_score\n",
    "import warnings\n",
    "warnings.filterwarnings('ignore')"
   ]
  },
  {
   "cell_type": "markdown",
   "id": "9376c725",
   "metadata": {},
   "source": [
    "### Import  Dataset"
   ]
  },
  {
   "cell_type": "code",
   "execution_count": 2,
   "id": "82ff2af8",
   "metadata": {},
   "outputs": [],
   "source": [
    "df = pd.read_csv('https://raw.githubusercontent.com/datasciencedojo/datasets/master/titanic.csv')"
   ]
  },
  {
   "cell_type": "code",
   "execution_count": 3,
   "id": "ad363aa9",
   "metadata": {},
   "outputs": [
    {
     "data": {
      "text/html": [
       "<div>\n",
       "<style scoped>\n",
       "    .dataframe tbody tr th:only-of-type {\n",
       "        vertical-align: middle;\n",
       "    }\n",
       "\n",
       "    .dataframe tbody tr th {\n",
       "        vertical-align: top;\n",
       "    }\n",
       "\n",
       "    .dataframe thead th {\n",
       "        text-align: right;\n",
       "    }\n",
       "</style>\n",
       "<table border=\"1\" class=\"dataframe\">\n",
       "  <thead>\n",
       "    <tr style=\"text-align: right;\">\n",
       "      <th></th>\n",
       "      <th>PassengerId</th>\n",
       "      <th>Survived</th>\n",
       "      <th>Pclass</th>\n",
       "      <th>Name</th>\n",
       "      <th>Sex</th>\n",
       "      <th>Age</th>\n",
       "      <th>SibSp</th>\n",
       "      <th>Parch</th>\n",
       "      <th>Ticket</th>\n",
       "      <th>Fare</th>\n",
       "      <th>Cabin</th>\n",
       "      <th>Embarked</th>\n",
       "    </tr>\n",
       "  </thead>\n",
       "  <tbody>\n",
       "    <tr>\n",
       "      <th>0</th>\n",
       "      <td>1</td>\n",
       "      <td>0</td>\n",
       "      <td>3</td>\n",
       "      <td>Braund, Mr. Owen Harris</td>\n",
       "      <td>male</td>\n",
       "      <td>22.0</td>\n",
       "      <td>1</td>\n",
       "      <td>0</td>\n",
       "      <td>A/5 21171</td>\n",
       "      <td>7.2500</td>\n",
       "      <td>NaN</td>\n",
       "      <td>S</td>\n",
       "    </tr>\n",
       "    <tr>\n",
       "      <th>1</th>\n",
       "      <td>2</td>\n",
       "      <td>1</td>\n",
       "      <td>1</td>\n",
       "      <td>Cumings, Mrs. John Bradley (Florence Briggs Th...</td>\n",
       "      <td>female</td>\n",
       "      <td>38.0</td>\n",
       "      <td>1</td>\n",
       "      <td>0</td>\n",
       "      <td>PC 17599</td>\n",
       "      <td>71.2833</td>\n",
       "      <td>C85</td>\n",
       "      <td>C</td>\n",
       "    </tr>\n",
       "  </tbody>\n",
       "</table>\n",
       "</div>"
      ],
      "text/plain": [
       "   PassengerId  Survived  Pclass  \\\n",
       "0            1         0       3   \n",
       "1            2         1       1   \n",
       "\n",
       "                                                Name     Sex   Age  SibSp  \\\n",
       "0                            Braund, Mr. Owen Harris    male  22.0      1   \n",
       "1  Cumings, Mrs. John Bradley (Florence Briggs Th...  female  38.0      1   \n",
       "\n",
       "   Parch     Ticket     Fare Cabin Embarked  \n",
       "0      0  A/5 21171   7.2500   NaN        S  \n",
       "1      0   PC 17599  71.2833   C85        C  "
      ]
     },
     "execution_count": 3,
     "metadata": {},
     "output_type": "execute_result"
    }
   ],
   "source": [
    "df.head(2)"
   ]
  },
  {
   "cell_type": "code",
   "execution_count": 4,
   "id": "510a7b81",
   "metadata": {},
   "outputs": [],
   "source": [
    "df = df[['Age' ,'Pclass' , 'Fare' ,'Survived']]"
   ]
  },
  {
   "cell_type": "code",
   "execution_count": 5,
   "id": "11bb1b7c",
   "metadata": {},
   "outputs": [
    {
     "data": {
      "text/html": [
       "<div>\n",
       "<style scoped>\n",
       "    .dataframe tbody tr th:only-of-type {\n",
       "        vertical-align: middle;\n",
       "    }\n",
       "\n",
       "    .dataframe tbody tr th {\n",
       "        vertical-align: top;\n",
       "    }\n",
       "\n",
       "    .dataframe thead th {\n",
       "        text-align: right;\n",
       "    }\n",
       "</style>\n",
       "<table border=\"1\" class=\"dataframe\">\n",
       "  <thead>\n",
       "    <tr style=\"text-align: right;\">\n",
       "      <th></th>\n",
       "      <th>Age</th>\n",
       "      <th>Pclass</th>\n",
       "      <th>Fare</th>\n",
       "      <th>Survived</th>\n",
       "    </tr>\n",
       "  </thead>\n",
       "  <tbody>\n",
       "    <tr>\n",
       "      <th>0</th>\n",
       "      <td>22.0</td>\n",
       "      <td>3</td>\n",
       "      <td>7.2500</td>\n",
       "      <td>0</td>\n",
       "    </tr>\n",
       "    <tr>\n",
       "      <th>1</th>\n",
       "      <td>38.0</td>\n",
       "      <td>1</td>\n",
       "      <td>71.2833</td>\n",
       "      <td>1</td>\n",
       "    </tr>\n",
       "    <tr>\n",
       "      <th>2</th>\n",
       "      <td>26.0</td>\n",
       "      <td>3</td>\n",
       "      <td>7.9250</td>\n",
       "      <td>1</td>\n",
       "    </tr>\n",
       "    <tr>\n",
       "      <th>3</th>\n",
       "      <td>35.0</td>\n",
       "      <td>1</td>\n",
       "      <td>53.1000</td>\n",
       "      <td>1</td>\n",
       "    </tr>\n",
       "    <tr>\n",
       "      <th>4</th>\n",
       "      <td>35.0</td>\n",
       "      <td>3</td>\n",
       "      <td>8.0500</td>\n",
       "      <td>0</td>\n",
       "    </tr>\n",
       "  </tbody>\n",
       "</table>\n",
       "</div>"
      ],
      "text/plain": [
       "    Age  Pclass     Fare  Survived\n",
       "0  22.0       3   7.2500         0\n",
       "1  38.0       1  71.2833         1\n",
       "2  26.0       3   7.9250         1\n",
       "3  35.0       1  53.1000         1\n",
       "4  35.0       3   8.0500         0"
      ]
     },
     "execution_count": 5,
     "metadata": {},
     "output_type": "execute_result"
    }
   ],
   "source": [
    "df.head()"
   ]
  },
  {
   "cell_type": "code",
   "execution_count": 6,
   "id": "c865ed16",
   "metadata": {},
   "outputs": [
    {
     "data": {
      "text/plain": [
       "Age         177\n",
       "Pclass        0\n",
       "Fare          0\n",
       "Survived      0\n",
       "dtype: int64"
      ]
     },
     "execution_count": 6,
     "metadata": {},
     "output_type": "execute_result"
    }
   ],
   "source": [
    "df.isnull().sum()"
   ]
  },
  {
   "cell_type": "markdown",
   "id": "3d241198",
   "metadata": {},
   "source": [
    "### Independent and Dependent data split"
   ]
  },
  {
   "cell_type": "code",
   "execution_count": 7,
   "id": "0ce0ec45",
   "metadata": {},
   "outputs": [],
   "source": [
    "x = df.drop(columns = ['Survived'] , axis = 1)\n",
    "y = df[['Survived']]"
   ]
  },
  {
   "cell_type": "markdown",
   "id": "d28b5a3b",
   "metadata": {},
   "source": [
    "#### Train Test Split"
   ]
  },
  {
   "cell_type": "code",
   "execution_count": 8,
   "id": "a50eda7c",
   "metadata": {},
   "outputs": [],
   "source": [
    "x_train , x_val , y_train , y_val = train_test_split(x , y , test_size = 0.2 , random_state = 190)"
   ]
  },
  {
   "cell_type": "markdown",
   "id": "0884a7d9",
   "metadata": {},
   "source": [
    "### KNNImputer"
   ]
  },
  {
   "cell_type": "code",
   "execution_count": 9,
   "id": "dca19d50",
   "metadata": {},
   "outputs": [],
   "source": [
    "knn = KNNImputer(n_neighbors=3,\n",
    "    weights='distance')"
   ]
  },
  {
   "cell_type": "code",
   "execution_count": 10,
   "id": "c9ad69c0",
   "metadata": {},
   "outputs": [
    {
     "data": {
      "text/plain": [
       "Age       137\n",
       "Pclass      0\n",
       "Fare        0\n",
       "dtype: int64"
      ]
     },
     "execution_count": 10,
     "metadata": {},
     "output_type": "execute_result"
    }
   ],
   "source": [
    "x_train.isnull().sum()"
   ]
  },
  {
   "cell_type": "code",
   "execution_count": 11,
   "id": "2753f5c0",
   "metadata": {},
   "outputs": [
    {
     "data": {
      "text/plain": [
       "Age       40\n",
       "Pclass     0\n",
       "Fare       0\n",
       "dtype: int64"
      ]
     },
     "execution_count": 11,
     "metadata": {},
     "output_type": "execute_result"
    }
   ],
   "source": [
    "x_val.isnull().sum()"
   ]
  },
  {
   "cell_type": "markdown",
   "id": "3a8a17a8",
   "metadata": {},
   "source": [
    "##### Fill missing values"
   ]
  },
  {
   "cell_type": "code",
   "execution_count": 12,
   "id": "cbdf78ca",
   "metadata": {},
   "outputs": [],
   "source": [
    "x_train_trf1 = knn.fit_transform(x_train)\n",
    "x_val_trf1 = knn.transform(x_val)"
   ]
  },
  {
   "cell_type": "code",
   "execution_count": 13,
   "id": "0fc8b118",
   "metadata": {},
   "outputs": [
    {
     "data": {
      "text/plain": [
       "array([], dtype=float64)"
      ]
     },
     "execution_count": 13,
     "metadata": {},
     "output_type": "execute_result"
    }
   ],
   "source": [
    "x_train_trf1[x_train_trf1 == np.nan]"
   ]
  },
  {
   "cell_type": "code",
   "execution_count": 14,
   "id": "8fcb821a",
   "metadata": {},
   "outputs": [
    {
     "data": {
      "text/plain": [
       "array([], dtype=float64)"
      ]
     },
     "execution_count": 14,
     "metadata": {},
     "output_type": "execute_result"
    }
   ],
   "source": [
    "x_val_trf1[x_val_trf1 == np.nan]"
   ]
  },
  {
   "cell_type": "markdown",
   "id": "1eca7bac",
   "metadata": {},
   "source": [
    "#### Build ML Model"
   ]
  },
  {
   "cell_type": "code",
   "execution_count": 15,
   "id": "62c2ab1f",
   "metadata": {},
   "outputs": [],
   "source": [
    "lr = LogisticRegression()"
   ]
  },
  {
   "cell_type": "code",
   "execution_count": 16,
   "id": "73dd246b",
   "metadata": {},
   "outputs": [],
   "source": [
    "lr.fit(x_train_trf1 , y_train)\n",
    "y_train_pred1 = lr.predict(x_train_trf1)\n",
    "y_val_pred1 = lr.predict(x_val_trf1)"
   ]
  },
  {
   "cell_type": "markdown",
   "id": "d07400f5",
   "metadata": {},
   "source": [
    "### Training Accuracy"
   ]
  },
  {
   "cell_type": "code",
   "execution_count": 17,
   "id": "915991b5",
   "metadata": {},
   "outputs": [
    {
     "data": {
      "text/plain": [
       "0.7036516853932584"
      ]
     },
     "execution_count": 17,
     "metadata": {},
     "output_type": "execute_result"
    }
   ],
   "source": [
    "accuracy_score(y_train , y_train_pred1)"
   ]
  },
  {
   "cell_type": "markdown",
   "id": "04ec97a5",
   "metadata": {},
   "source": [
    "### Testing Accuracy"
   ]
  },
  {
   "cell_type": "code",
   "execution_count": 18,
   "id": "b93a76f3",
   "metadata": {},
   "outputs": [
    {
     "data": {
      "text/plain": [
       "0.7653631284916201"
      ]
     },
     "execution_count": 18,
     "metadata": {},
     "output_type": "execute_result"
    }
   ],
   "source": [
    "accuracy_score(y_val , y_val_pred1)"
   ]
  },
  {
   "cell_type": "markdown",
   "id": "d5ae578c",
   "metadata": {},
   "source": [
    "### SImpleImputer"
   ]
  },
  {
   "cell_type": "code",
   "execution_count": 19,
   "id": "87f5cf73",
   "metadata": {},
   "outputs": [
    {
     "data": {
      "text/plain": [
       "Age       137\n",
       "Pclass      0\n",
       "Fare        0\n",
       "dtype: int64"
      ]
     },
     "execution_count": 19,
     "metadata": {},
     "output_type": "execute_result"
    }
   ],
   "source": [
    "x_train.isnull().sum()"
   ]
  },
  {
   "cell_type": "code",
   "execution_count": 20,
   "id": "db080edc",
   "metadata": {},
   "outputs": [
    {
     "data": {
      "text/plain": [
       "Age       40\n",
       "Pclass     0\n",
       "Fare       0\n",
       "dtype: int64"
      ]
     },
     "execution_count": 20,
     "metadata": {},
     "output_type": "execute_result"
    }
   ],
   "source": [
    "x_val.isnull().sum()"
   ]
  },
  {
   "cell_type": "code",
   "execution_count": 21,
   "id": "76150381",
   "metadata": {},
   "outputs": [],
   "source": [
    "sm = SimpleImputer()"
   ]
  },
  {
   "cell_type": "code",
   "execution_count": 22,
   "id": "075667e5",
   "metadata": {},
   "outputs": [],
   "source": [
    "x_train_trf2 = sm.fit_transform(x_train)\n",
    "x_val_trf2 =  sm.transform(x_val)"
   ]
  },
  {
   "cell_type": "markdown",
   "id": "53bc3078",
   "metadata": {},
   "source": [
    "### model"
   ]
  },
  {
   "cell_type": "code",
   "execution_count": 23,
   "id": "21a5322f",
   "metadata": {},
   "outputs": [],
   "source": [
    "lr = LogisticRegression()\n",
    "\n",
    "lr.fit(x_train_trf2 , y_train)\n",
    "\n",
    "y_train_pred2 = lr.predict(x_train_trf2)\n",
    "\n",
    "y_val_pred2 = lr.predict(x_val_trf2)"
   ]
  },
  {
   "cell_type": "markdown",
   "id": "01b7f1dc",
   "metadata": {},
   "source": [
    "#### Training Accuracy"
   ]
  },
  {
   "cell_type": "code",
   "execution_count": 24,
   "id": "bdb8f606",
   "metadata": {},
   "outputs": [
    {
     "data": {
      "text/plain": [
       "0.699438202247191"
      ]
     },
     "execution_count": 24,
     "metadata": {},
     "output_type": "execute_result"
    }
   ],
   "source": [
    "accuracy_score(y_train , y_train_pred2)"
   ]
  },
  {
   "cell_type": "markdown",
   "id": "dcc96175",
   "metadata": {},
   "source": [
    "##### Testing Accuracy"
   ]
  },
  {
   "cell_type": "code",
   "execution_count": 25,
   "id": "b995caa1",
   "metadata": {},
   "outputs": [
    {
     "data": {
      "text/plain": [
       "0.7541899441340782"
      ]
     },
     "execution_count": 25,
     "metadata": {},
     "output_type": "execute_result"
    }
   ],
   "source": [
    "accuracy_score(y_val , y_val_pred2)"
   ]
  }
 ],
 "metadata": {
  "kernelspec": {
   "display_name": "Python 3 (ipykernel)",
   "language": "python",
   "name": "python3"
  },
  "language_info": {
   "codemirror_mode": {
    "name": "ipython",
    "version": 3
   },
   "file_extension": ".py",
   "mimetype": "text/x-python",
   "name": "python",
   "nbconvert_exporter": "python",
   "pygments_lexer": "ipython3",
   "version": "3.11.4"
  }
 },
 "nbformat": 4,
 "nbformat_minor": 5
}
