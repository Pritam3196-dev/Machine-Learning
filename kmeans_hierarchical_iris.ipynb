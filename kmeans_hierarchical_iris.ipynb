{
 "cells": [
  {
   "cell_type": "markdown",
   "id": "00e037fd",
   "metadata": {},
   "source": [
    "### Import Prerequisite Library"
   ]
  },
  {
   "cell_type": "code",
   "execution_count": 1,
   "id": "3d8b1924",
   "metadata": {},
   "outputs": [],
   "source": [
    "import os\n",
    "import numpy as np\n",
    "import pandas as pd\n",
    "import matplotlib.pyplot as plt\n",
    "import seaborn as sns\n",
    "%matplotlib inline\n",
    "sns.set()\n",
    "import warnings\n",
    "warnings.filterwarnings('ignore')"
   ]
  },
  {
   "cell_type": "markdown",
   "id": "ed056bd2",
   "metadata": {},
   "source": [
    "### Import Dataset"
   ]
  },
  {
   "cell_type": "code",
   "execution_count": 2,
   "id": "b9dc5c34",
   "metadata": {},
   "outputs": [],
   "source": [
    "df = pd.read_csv('https://gist.githubusercontent.com/curran/a08a1080b88344b0c8a7/raw/0e7a9b0a5d22642a06d3d5b9bcbad9890c8ee534/iris.csv')"
   ]
  },
  {
   "cell_type": "code",
   "execution_count": 3,
   "id": "f50b4b4c",
   "metadata": {},
   "outputs": [
    {
     "data": {
      "text/html": [
       "<div>\n",
       "<style scoped>\n",
       "    .dataframe tbody tr th:only-of-type {\n",
       "        vertical-align: middle;\n",
       "    }\n",
       "\n",
       "    .dataframe tbody tr th {\n",
       "        vertical-align: top;\n",
       "    }\n",
       "\n",
       "    .dataframe thead th {\n",
       "        text-align: right;\n",
       "    }\n",
       "</style>\n",
       "<table border=\"1\" class=\"dataframe\">\n",
       "  <thead>\n",
       "    <tr style=\"text-align: right;\">\n",
       "      <th></th>\n",
       "      <th>sepal_length</th>\n",
       "      <th>sepal_width</th>\n",
       "      <th>petal_length</th>\n",
       "      <th>petal_width</th>\n",
       "      <th>species</th>\n",
       "    </tr>\n",
       "  </thead>\n",
       "  <tbody>\n",
       "    <tr>\n",
       "      <th>0</th>\n",
       "      <td>5.1</td>\n",
       "      <td>3.5</td>\n",
       "      <td>1.4</td>\n",
       "      <td>0.2</td>\n",
       "      <td>setosa</td>\n",
       "    </tr>\n",
       "    <tr>\n",
       "      <th>1</th>\n",
       "      <td>4.9</td>\n",
       "      <td>3.0</td>\n",
       "      <td>1.4</td>\n",
       "      <td>0.2</td>\n",
       "      <td>setosa</td>\n",
       "    </tr>\n",
       "  </tbody>\n",
       "</table>\n",
       "</div>"
      ],
      "text/plain": [
       "   sepal_length  sepal_width  petal_length  petal_width species\n",
       "0           5.1          3.5           1.4          0.2  setosa\n",
       "1           4.9          3.0           1.4          0.2  setosa"
      ]
     },
     "execution_count": 3,
     "metadata": {},
     "output_type": "execute_result"
    }
   ],
   "source": [
    "df.head(2)"
   ]
  },
  {
   "cell_type": "code",
   "execution_count": 4,
   "id": "18f648e1",
   "metadata": {},
   "outputs": [
    {
     "data": {
      "text/html": [
       "<div>\n",
       "<style scoped>\n",
       "    .dataframe tbody tr th:only-of-type {\n",
       "        vertical-align: middle;\n",
       "    }\n",
       "\n",
       "    .dataframe tbody tr th {\n",
       "        vertical-align: top;\n",
       "    }\n",
       "\n",
       "    .dataframe thead th {\n",
       "        text-align: right;\n",
       "    }\n",
       "</style>\n",
       "<table border=\"1\" class=\"dataframe\">\n",
       "  <thead>\n",
       "    <tr style=\"text-align: right;\">\n",
       "      <th></th>\n",
       "      <th>sepal_length</th>\n",
       "      <th>sepal_width</th>\n",
       "      <th>petal_length</th>\n",
       "      <th>petal_width</th>\n",
       "      <th>species</th>\n",
       "    </tr>\n",
       "  </thead>\n",
       "  <tbody>\n",
       "    <tr>\n",
       "      <th>148</th>\n",
       "      <td>6.2</td>\n",
       "      <td>3.4</td>\n",
       "      <td>5.4</td>\n",
       "      <td>2.3</td>\n",
       "      <td>virginica</td>\n",
       "    </tr>\n",
       "    <tr>\n",
       "      <th>149</th>\n",
       "      <td>5.9</td>\n",
       "      <td>3.0</td>\n",
       "      <td>5.1</td>\n",
       "      <td>1.8</td>\n",
       "      <td>virginica</td>\n",
       "    </tr>\n",
       "  </tbody>\n",
       "</table>\n",
       "</div>"
      ],
      "text/plain": [
       "     sepal_length  sepal_width  petal_length  petal_width    species\n",
       "148           6.2          3.4           5.4          2.3  virginica\n",
       "149           5.9          3.0           5.1          1.8  virginica"
      ]
     },
     "execution_count": 4,
     "metadata": {},
     "output_type": "execute_result"
    }
   ],
   "source": [
    "df.tail(2)"
   ]
  },
  {
   "cell_type": "code",
   "execution_count": 5,
   "id": "3bb7a143",
   "metadata": {},
   "outputs": [
    {
     "data": {
      "text/plain": [
       "(150, 5)"
      ]
     },
     "execution_count": 5,
     "metadata": {},
     "output_type": "execute_result"
    }
   ],
   "source": [
    "df.shape"
   ]
  },
  {
   "cell_type": "code",
   "execution_count": 6,
   "id": "c5d48a03",
   "metadata": {},
   "outputs": [
    {
     "name": "stdout",
     "output_type": "stream",
     "text": [
      "<class 'pandas.core.frame.DataFrame'>\n",
      "RangeIndex: 150 entries, 0 to 149\n",
      "Data columns (total 5 columns):\n",
      " #   Column        Non-Null Count  Dtype  \n",
      "---  ------        --------------  -----  \n",
      " 0   sepal_length  150 non-null    float64\n",
      " 1   sepal_width   150 non-null    float64\n",
      " 2   petal_length  150 non-null    float64\n",
      " 3   petal_width   150 non-null    float64\n",
      " 4   species       150 non-null    object \n",
      "dtypes: float64(4), object(1)\n",
      "memory usage: 6.0+ KB\n"
     ]
    }
   ],
   "source": [
    "df.info()"
   ]
  },
  {
   "cell_type": "markdown",
   "id": "7748c177",
   "metadata": {},
   "source": [
    "##### Prepruning"
   ]
  },
  {
   "cell_type": "code",
   "execution_count": 7,
   "id": "fce2a711",
   "metadata": {},
   "outputs": [],
   "source": [
    "df.drop(['species'] , axis = 1 , inplace = True)"
   ]
  },
  {
   "cell_type": "code",
   "execution_count": 8,
   "id": "9b77eeba",
   "metadata": {},
   "outputs": [
    {
     "data": {
      "text/html": [
       "<div>\n",
       "<style scoped>\n",
       "    .dataframe tbody tr th:only-of-type {\n",
       "        vertical-align: middle;\n",
       "    }\n",
       "\n",
       "    .dataframe tbody tr th {\n",
       "        vertical-align: top;\n",
       "    }\n",
       "\n",
       "    .dataframe thead th {\n",
       "        text-align: right;\n",
       "    }\n",
       "</style>\n",
       "<table border=\"1\" class=\"dataframe\">\n",
       "  <thead>\n",
       "    <tr style=\"text-align: right;\">\n",
       "      <th></th>\n",
       "      <th>sepal_length</th>\n",
       "      <th>sepal_width</th>\n",
       "      <th>petal_length</th>\n",
       "      <th>petal_width</th>\n",
       "    </tr>\n",
       "  </thead>\n",
       "  <tbody>\n",
       "    <tr>\n",
       "      <th>0</th>\n",
       "      <td>5.1</td>\n",
       "      <td>3.5</td>\n",
       "      <td>1.4</td>\n",
       "      <td>0.2</td>\n",
       "    </tr>\n",
       "    <tr>\n",
       "      <th>1</th>\n",
       "      <td>4.9</td>\n",
       "      <td>3.0</td>\n",
       "      <td>1.4</td>\n",
       "      <td>0.2</td>\n",
       "    </tr>\n",
       "  </tbody>\n",
       "</table>\n",
       "</div>"
      ],
      "text/plain": [
       "   sepal_length  sepal_width  petal_length  petal_width\n",
       "0           5.1          3.5           1.4          0.2\n",
       "1           4.9          3.0           1.4          0.2"
      ]
     },
     "execution_count": 8,
     "metadata": {},
     "output_type": "execute_result"
    }
   ],
   "source": [
    "df.head(2)"
   ]
  },
  {
   "cell_type": "code",
   "execution_count": 9,
   "id": "3bf9984e",
   "metadata": {},
   "outputs": [
    {
     "data": {
      "text/plain": [
       "(150, 4)"
      ]
     },
     "execution_count": 9,
     "metadata": {},
     "output_type": "execute_result"
    }
   ],
   "source": [
    "df.shape"
   ]
  },
  {
   "cell_type": "markdown",
   "id": "a62ce678",
   "metadata": {},
   "source": [
    "##### Data Preprocessing"
   ]
  },
  {
   "cell_type": "markdown",
   "id": "fd725667",
   "metadata": {},
   "source": [
    "##### 1. Handling Missing Values"
   ]
  },
  {
   "cell_type": "code",
   "execution_count": 10,
   "id": "32ca4e1b",
   "metadata": {},
   "outputs": [
    {
     "data": {
      "text/plain": [
       "sepal_length    0\n",
       "sepal_width     0\n",
       "petal_length    0\n",
       "petal_width     0\n",
       "dtype: int64"
      ]
     },
     "execution_count": 10,
     "metadata": {},
     "output_type": "execute_result"
    }
   ],
   "source": [
    "df.isnull().sum()"
   ]
  },
  {
   "cell_type": "markdown",
   "id": "639b2936",
   "metadata": {},
   "source": [
    "##### 2. Handling The Outliers"
   ]
  },
  {
   "cell_type": "code",
   "execution_count": 11,
   "id": "d83e2753",
   "metadata": {},
   "outputs": [
    {
     "data": {
      "image/png": "[encoded data removed]",
      "text/plain": [
       "<Figure size 1500x500 with 1 Axes>"
      ]
     },
     "metadata": {},
     "output_type": "display_data"
    }
   ],
   "source": [
    "plt.figure(figsize = (15 , 5))\n",
    "df.boxplot()\n",
    "plt.show()"
   ]
  },
  {
   "cell_type": "markdown",
   "id": "8bf91426",
   "metadata": {},
   "source": [
    "##### 3.Feature Scaling"
   ]
  },
  {
   "cell_type": "code",
   "execution_count": 12,
   "id": "a18d3666",
   "metadata": {},
   "outputs": [],
   "source": [
    "x = df.copy()"
   ]
  },
  {
   "cell_type": "code",
   "execution_count": 13,
   "id": "339e96fb",
   "metadata": {},
   "outputs": [],
   "source": [
    "from sklearn.preprocessing import StandardScaler"
   ]
  },
  {
   "cell_type": "code",
   "execution_count": 14,
   "id": "3123fae4",
   "metadata": {},
   "outputs": [],
   "source": [
    "scaler = StandardScaler()"
   ]
  },
  {
   "cell_type": "code",
   "execution_count": 15,
   "id": "daa9811c",
   "metadata": {},
   "outputs": [],
   "source": [
    "df_scaled = scaler.fit_transform(df)"
   ]
  },
  {
   "cell_type": "code",
   "execution_count": 16,
   "id": "e8eb453d",
   "metadata": {},
   "outputs": [],
   "source": [
    "#df_scaled = pd.DataFrame(df , columns = x.columns)"
   ]
  },
  {
   "cell_type": "code",
   "execution_count": 17,
   "id": "c78d704f",
   "metadata": {},
   "outputs": [],
   "source": [
    "df_scaled  = pd.DataFrame(df_scaled , columns = x.columns )"
   ]
  },
  {
   "cell_type": "code",
   "execution_count": 18,
   "id": "5344d1c6",
   "metadata": {},
   "outputs": [
    {
     "data": {
      "text/html": [
       "<div>\n",
       "<style scoped>\n",
       "    .dataframe tbody tr th:only-of-type {\n",
       "        vertical-align: middle;\n",
       "    }\n",
       "\n",
       "    .dataframe tbody tr th {\n",
       "        vertical-align: top;\n",
       "    }\n",
       "\n",
       "    .dataframe thead th {\n",
       "        text-align: right;\n",
       "    }\n",
       "</style>\n",
       "<table border=\"1\" class=\"dataframe\">\n",
       "  <thead>\n",
       "    <tr style=\"text-align: right;\">\n",
       "      <th></th>\n",
       "      <th>sepal_length</th>\n",
       "      <th>sepal_width</th>\n",
       "      <th>petal_length</th>\n",
       "      <th>petal_width</th>\n",
       "    </tr>\n",
       "  </thead>\n",
       "  <tbody>\n",
       "    <tr>\n",
       "      <th>0</th>\n",
       "      <td>-0.900681</td>\n",
       "      <td>1.032057</td>\n",
       "      <td>-1.341272</td>\n",
       "      <td>-1.312977</td>\n",
       "    </tr>\n",
       "    <tr>\n",
       "      <th>1</th>\n",
       "      <td>-1.143017</td>\n",
       "      <td>-0.124958</td>\n",
       "      <td>-1.341272</td>\n",
       "      <td>-1.312977</td>\n",
       "    </tr>\n",
       "  </tbody>\n",
       "</table>\n",
       "</div>"
      ],
      "text/plain": [
       "   sepal_length  sepal_width  petal_length  petal_width\n",
       "0     -0.900681     1.032057     -1.341272    -1.312977\n",
       "1     -1.143017    -0.124958     -1.341272    -1.312977"
      ]
     },
     "execution_count": 18,
     "metadata": {},
     "output_type": "execute_result"
    }
   ],
   "source": [
    "df_scaled.head(2)"
   ]
  },
  {
   "cell_type": "markdown",
   "id": "c31819c2",
   "metadata": {},
   "source": [
    "## Building Clusters on basis of sepal_length  , sepal_width  , petal_length  , petal_width"
   ]
  },
  {
   "cell_type": "code",
   "execution_count": 19,
   "id": "2fe11784",
   "metadata": {},
   "outputs": [],
   "source": [
    "from sklearn.cluster import KMeans"
   ]
  },
  {
   "cell_type": "markdown",
   "id": "c8b66879",
   "metadata": {},
   "source": [
    "#### Select K value means How many clsuetrs we will build ."
   ]
  },
  {
   "cell_type": "code",
   "execution_count": 20,
   "id": "83e97e22",
   "metadata": {},
   "outputs": [],
   "source": [
    "wcss = []\n",
    "k = []\n",
    "for i in range(1 , 30):\n",
    "    \n",
    "    km = KMeans(n_clusters = i , random_state = 1)\n",
    "    km.fit(df_scaled)\n",
    "    wcss.append(km.inertia_)\n",
    "    k.append(i)"
   ]
  },
  {
   "cell_type": "code",
   "execution_count": 21,
   "id": "b8165d64",
   "metadata": {},
   "outputs": [
    {
     "name": "stdout",
     "output_type": "stream",
     "text": [
      "[600.0, 223.73200573676345, 140.96581663074699, 114.55117670798518, 91.06677122728534, 81.72163411743452, 71.94115919271067, 63.42202913783123, 54.57973369603168, 47.898582118840366, 43.61603237629287, 39.28934742726416, 37.008724976369564, 35.19634059498053, 33.21942369249138, 31.543879115883747, 29.38139398000206, 27.713856016050947, 26.199831836511756, 24.386853147972197, 23.290116523674218, 22.514728282807255, 21.163181021751882, 20.40837438594479, 19.55054426205418, 18.444807099380323, 17.673790719382318, 17.85654823847083, 16.5476844740922]\n"
     ]
    }
   ],
   "source": [
    "print(wcss)"
   ]
  },
  {
   "cell_type": "code",
   "execution_count": 22,
   "id": "a156f8e5",
   "metadata": {},
   "outputs": [
    {
     "name": "stdout",
     "output_type": "stream",
     "text": [
      "[1, 2, 3, 4, 5, 6, 7, 8, 9, 10, 11, 12, 13, 14, 15, 16, 17, 18, 19, 20, 21, 22, 23, 24, 25, 26, 27, 28, 29]\n"
     ]
    }
   ],
   "source": [
    "print(k)"
   ]
  },
  {
   "cell_type": "markdown",
   "id": "5c053955",
   "metadata": {},
   "source": [
    "#### Plot the wcss distance on y axis and calculate the k value of clusters on elbow point"
   ]
  },
  {
   "cell_type": "code",
   "execution_count": 23,
   "id": "6b96d5e5",
   "metadata": {},
   "outputs": [
    {
     "data": {
      "image/png": "[encoded data removed]",
      "text/plain": [
       "<Figure size 1500x500 with 1 Axes>"
      ]
     },
     "metadata": {},
     "output_type": "display_data"
    }
   ],
   "source": [
    "plt.figure(figsize = (15 , 5))\n",
    "plt.plot(k , wcss , color='magenta', marker='o', linestyle='dashed',linewidth=2, markersize=8)\n",
    "plt.show()"
   ]
  },
  {
   "cell_type": "markdown",
   "id": "60ee131d",
   "metadata": {},
   "source": [
    "##### K is 3 means we can create three clusters "
   ]
  },
  {
   "cell_type": "markdown",
   "id": "60ca5f38",
   "metadata": {},
   "source": [
    "#### Now we will build model"
   ]
  },
  {
   "cell_type": "code",
   "execution_count": 24,
   "id": "67d377da",
   "metadata": {},
   "outputs": [],
   "source": [
    "kmeans = KMeans(n_clusters = 3 , random_state = 1 )"
   ]
  },
  {
   "cell_type": "code",
   "execution_count": 25,
   "id": "2ba227ad",
   "metadata": {},
   "outputs": [
    {
     "data": {
      "text/html": [
       "<style>#sk-container-id-1 {color: black;}#sk-container-id-1 pre{padding: 0;}#sk-container-id-1 div.sk-toggleable {background-color: white;}#sk-container-id-1 label.sk-toggleable__label {cursor: pointer;display: block;width: 100%;margin-bottom: 0;padding: 0.3em;box-sizing: border-box;text-align: center;}#sk-container-id-1 label.sk-toggleable__label-arrow:before {content: \"▸\";float: left;margin-right: 0.25em;color: #696969;}#sk-container-id-1 label.sk-toggleable__label-arrow:hover:before {color: black;}#sk-container-id-1 div.sk-estimator:hover label.sk-toggleable__label-arrow:before {color: black;}#sk-container-id-1 div.sk-toggleable__content {max-height: 0;max-width: 0;overflow: hidden;text-align: left;background-color: #f0f8ff;}#sk-container-id-1 div.sk-toggleable__content pre {margin: 0.2em;color: black;border-radius: 0.25em;background-color: #f0f8ff;}#sk-container-id-1 input.sk-toggleable__control:checked~div.sk-toggleable__content {max-height: 200px;max-width: 100%;overflow: auto;}#sk-container-id-1 input.sk-toggleable__control:checked~label.sk-toggleable__label-arrow:before {content: \"▾\";}#sk-container-id-1 div.sk-estimator input.sk-toggleable__control:checked~label.sk-toggleable__label {background-color: #d4ebff;}#sk-container-id-1 div.sk-label input.sk-toggleable__control:checked~label.sk-toggleable__label {background-color: #d4ebff;}#sk-container-id-1 input.sk-hidden--visually {border: 0;clip: rect(1px 1px 1px 1px);clip: rect(1px, 1px, 1px, 1px);height: 1px;margin: -1px;overflow: hidden;padding: 0;position: absolute;width: 1px;}#sk-container-id-1 div.sk-estimator {font-family: monospace;background-color: #f0f8ff;border: 1px dotted black;border-radius: 0.25em;box-sizing: border-box;margin-bottom: 0.5em;}#sk-container-id-1 div.sk-estimator:hover {background-color: #d4ebff;}#sk-container-id-1 div.sk-parallel-item::after {content: \"\";width: 100%;border-bottom: 1px solid gray;flex-grow: 1;}#sk-container-id-1 div.sk-label:hover label.sk-toggleable__label {background-color: #d4ebff;}#sk-container-id-1 div.sk-serial::before {content: \"\";position: absolute;border-left: 1px solid gray;box-sizing: border-box;top: 0;bottom: 0;left: 50%;z-index: 0;}#sk-container-id-1 div.sk-serial {display: flex;flex-direction: column;align-items: center;background-color: white;padding-right: 0.2em;padding-left: 0.2em;position: relative;}#sk-container-id-1 div.sk-item {position: relative;z-index: 1;}#sk-container-id-1 div.sk-parallel {display: flex;align-items: stretch;justify-content: center;background-color: white;position: relative;}#sk-container-id-1 div.sk-item::before, #sk-container-id-1 div.sk-parallel-item::before {content: \"\";position: absolute;border-left: 1px solid gray;box-sizing: border-box;top: 0;bottom: 0;left: 50%;z-index: -1;}#sk-container-id-1 div.sk-parallel-item {display: flex;flex-direction: column;z-index: 1;position: relative;background-color: white;}#sk-container-id-1 div.sk-parallel-item:first-child::after {align-self: flex-end;width: 50%;}#sk-container-id-1 div.sk-parallel-item:last-child::after {align-self: flex-start;width: 50%;}#sk-container-id-1 div.sk-parallel-item:only-child::after {width: 0;}#sk-container-id-1 div.sk-dashed-wrapped {border: 1px dashed gray;margin: 0 0.4em 0.5em 0.4em;box-sizing: border-box;padding-bottom: 0.4em;background-color: white;}#sk-container-id-1 div.sk-label label {font-family: monospace;font-weight: bold;display: inline-block;line-height: 1.2em;}#sk-container-id-1 div.sk-label-container {text-align: center;}#sk-container-id-1 div.sk-container {/* jupyter's `normalize.less` sets `[hidden] { display: none; }` but bootstrap.min.css set `[hidden] { display: none !important; }` so we also need the `!important` here to be able to override the default hidden behavior on the sphinx rendered scikit-learn.org. See: https://github.com/scikit-learn/scikit-learn/issues/21755 */display: inline-block !important;position: relative;}#sk-container-id-1 div.sk-text-repr-fallback {display: none;}</style><div id=\"sk-container-id-1\" class=\"sk-top-container\"><div class=\"sk-text-repr-fallback\"><pre>KMeans(n_clusters=3, random_state=1)</pre><b>In a Jupyter environment, please rerun this cell to show the HTML representation or trust the notebook. <br />On GitHub, the HTML representation is unable to render, please try loading this page with nbviewer.org.</b></div><div class=\"sk-container\" hidden><div class=\"sk-item\"><div class=\"sk-estimator sk-toggleable\"><input class=\"sk-toggleable__control sk-hidden--visually\" id=\"sk-estimator-id-1\" type=\"checkbox\" checked><label for=\"sk-estimator-id-1\" class=\"sk-toggleable__label sk-toggleable__label-arrow\">KMeans</label><div class=\"sk-toggleable__content\"><pre>KMeans(n_clusters=3, random_state=1)</pre></div></div></div></div></div>"
      ],
      "text/plain": [
       "KMeans(n_clusters=3, random_state=1)"
      ]
     },
     "execution_count": 25,
     "metadata": {},
     "output_type": "execute_result"
    }
   ],
   "source": [
    "kmeans"
   ]
  },
  {
   "cell_type": "code",
   "execution_count": 26,
   "id": "cd1f2f8e",
   "metadata": {},
   "outputs": [
    {
     "data": {
      "text/html": [
       "<style>#sk-container-id-2 {color: black;}#sk-container-id-2 pre{padding: 0;}#sk-container-id-2 div.sk-toggleable {background-color: white;}#sk-container-id-2 label.sk-toggleable__label {cursor: pointer;display: block;width: 100%;margin-bottom: 0;padding: 0.3em;box-sizing: border-box;text-align: center;}#sk-container-id-2 label.sk-toggleable__label-arrow:before {content: \"▸\";float: left;margin-right: 0.25em;color: #696969;}#sk-container-id-2 label.sk-toggleable__label-arrow:hover:before {color: black;}#sk-container-id-2 div.sk-estimator:hover label.sk-toggleable__label-arrow:before {color: black;}#sk-container-id-2 div.sk-toggleable__content {max-height: 0;max-width: 0;overflow: hidden;text-align: left;background-color: #f0f8ff;}#sk-container-id-2 div.sk-toggleable__content pre {margin: 0.2em;color: black;border-radius: 0.25em;background-color: #f0f8ff;}#sk-container-id-2 input.sk-toggleable__control:checked~div.sk-toggleable__content {max-height: 200px;max-width: 100%;overflow: auto;}#sk-container-id-2 input.sk-toggleable__control:checked~label.sk-toggleable__label-arrow:before {content: \"▾\";}#sk-container-id-2 div.sk-estimator input.sk-toggleable__control:checked~label.sk-toggleable__label {background-color: #d4ebff;}#sk-container-id-2 div.sk-label input.sk-toggleable__control:checked~label.sk-toggleable__label {background-color: #d4ebff;}#sk-container-id-2 input.sk-hidden--visually {border: 0;clip: rect(1px 1px 1px 1px);clip: rect(1px, 1px, 1px, 1px);height: 1px;margin: -1px;overflow: hidden;padding: 0;position: absolute;width: 1px;}#sk-container-id-2 div.sk-estimator {font-family: monospace;background-color: #f0f8ff;border: 1px dotted black;border-radius: 0.25em;box-sizing: border-box;margin-bottom: 0.5em;}#sk-container-id-2 div.sk-estimator:hover {background-color: #d4ebff;}#sk-container-id-2 div.sk-parallel-item::after {content: \"\";width: 100%;border-bottom: 1px solid gray;flex-grow: 1;}#sk-container-id-2 div.sk-label:hover label.sk-toggleable__label {background-color: #d4ebff;}#sk-container-id-2 div.sk-serial::before {content: \"\";position: absolute;border-left: 1px solid gray;box-sizing: border-box;top: 0;bottom: 0;left: 50%;z-index: 0;}#sk-container-id-2 div.sk-serial {display: flex;flex-direction: column;align-items: center;background-color: white;padding-right: 0.2em;padding-left: 0.2em;position: relative;}#sk-container-id-2 div.sk-item {position: relative;z-index: 1;}#sk-container-id-2 div.sk-parallel {display: flex;align-items: stretch;justify-content: center;background-color: white;position: relative;}#sk-container-id-2 div.sk-item::before, #sk-container-id-2 div.sk-parallel-item::before {content: \"\";position: absolute;border-left: 1px solid gray;box-sizing: border-box;top: 0;bottom: 0;left: 50%;z-index: -1;}#sk-container-id-2 div.sk-parallel-item {display: flex;flex-direction: column;z-index: 1;position: relative;background-color: white;}#sk-container-id-2 div.sk-parallel-item:first-child::after {align-self: flex-end;width: 50%;}#sk-container-id-2 div.sk-parallel-item:last-child::after {align-self: flex-start;width: 50%;}#sk-container-id-2 div.sk-parallel-item:only-child::after {width: 0;}#sk-container-id-2 div.sk-dashed-wrapped {border: 1px dashed gray;margin: 0 0.4em 0.5em 0.4em;box-sizing: border-box;padding-bottom: 0.4em;background-color: white;}#sk-container-id-2 div.sk-label label {font-family: monospace;font-weight: bold;display: inline-block;line-height: 1.2em;}#sk-container-id-2 div.sk-label-container {text-align: center;}#sk-container-id-2 div.sk-container {/* jupyter's `normalize.less` sets `[hidden] { display: none; }` but bootstrap.min.css set `[hidden] { display: none !important; }` so we also need the `!important` here to be able to override the default hidden behavior on the sphinx rendered scikit-learn.org. See: https://github.com/scikit-learn/scikit-learn/issues/21755 */display: inline-block !important;position: relative;}#sk-container-id-2 div.sk-text-repr-fallback {display: none;}</style><div id=\"sk-container-id-2\" class=\"sk-top-container\"><div class=\"sk-text-repr-fallback\"><pre>KMeans(n_clusters=3, random_state=1)</pre><b>In a Jupyter environment, please rerun this cell to show the HTML representation or trust the notebook. <br />On GitHub, the HTML representation is unable to render, please try loading this page with nbviewer.org.</b></div><div class=\"sk-container\" hidden><div class=\"sk-item\"><div class=\"sk-estimator sk-toggleable\"><input class=\"sk-toggleable__control sk-hidden--visually\" id=\"sk-estimator-id-2\" type=\"checkbox\" checked><label for=\"sk-estimator-id-2\" class=\"sk-toggleable__label sk-toggleable__label-arrow\">KMeans</label><div class=\"sk-toggleable__content\"><pre>KMeans(n_clusters=3, random_state=1)</pre></div></div></div></div></div>"
      ],
      "text/plain": [
       "KMeans(n_clusters=3, random_state=1)"
      ]
     },
     "execution_count": 26,
     "metadata": {},
     "output_type": "execute_result"
    }
   ],
   "source": [
    "kmeans.fit(df_scaled)"
   ]
  },
  {
   "cell_type": "markdown",
   "id": "194f954d",
   "metadata": {},
   "source": [
    "##### generating Clusters"
   ]
  },
  {
   "cell_type": "code",
   "execution_count": 27,
   "id": "0a8b601f",
   "metadata": {},
   "outputs": [],
   "source": [
    "label = kmeans.labels_"
   ]
  },
  {
   "cell_type": "code",
   "execution_count": 28,
   "id": "0bf148ce",
   "metadata": {},
   "outputs": [
    {
     "name": "stdout",
     "output_type": "stream",
     "text": [
      "[0 0 0 0 0 0 0 0 0 0 0 0 0 0 0 0 0 0 0 0 0 0 0 0 0 0 0 0 0 0 0 0 0 0 0 0 0\n",
      " 0 0 0 0 0 0 0 0 0 0 0 0 0 2 2 2 1 1 1 2 1 1 1 1 1 1 1 1 2 1 1 1 1 2 1 1 1\n",
      " 1 2 2 2 1 1 1 1 1 1 1 2 2 1 1 1 1 1 1 1 1 1 1 1 1 1 2 1 2 2 2 2 1 2 2 2 2\n",
      " 2 2 1 1 2 2 2 2 1 2 1 2 1 2 2 1 2 2 2 2 2 2 1 1 2 2 2 1 2 2 2 1 2 2 2 1 2\n",
      " 2 1]\n"
     ]
    }
   ],
   "source": [
    "print(label)"
   ]
  },
  {
   "cell_type": "markdown",
   "id": "c060e8ba",
   "metadata": {},
   "source": [
    "##### Performance Metrics i.e. Silhouette score"
   ]
  },
  {
   "cell_type": "code",
   "execution_count": 29,
   "id": "076f1a19",
   "metadata": {},
   "outputs": [],
   "source": [
    "from sklearn.metrics import silhouette_score"
   ]
  },
  {
   "cell_type": "code",
   "execution_count": 30,
   "id": "da78e157",
   "metadata": {},
   "outputs": [],
   "source": [
    "score_kmeans =  silhouette_score(df_scaled , label)"
   ]
  },
  {
   "cell_type": "code",
   "execution_count": 31,
   "id": "7b9d2f04",
   "metadata": {},
   "outputs": [
    {
     "data": {
      "text/plain": [
       "0.4589717867018717"
      ]
     },
     "execution_count": 31,
     "metadata": {},
     "output_type": "execute_result"
    }
   ],
   "source": [
    "score_kmeans"
   ]
  },
  {
   "cell_type": "code",
   "execution_count": 32,
   "id": "fda023b3",
   "metadata": {},
   "outputs": [
    {
     "data": {
      "text/html": [
       "<div>\n",
       "<style scoped>\n",
       "    .dataframe tbody tr th:only-of-type {\n",
       "        vertical-align: middle;\n",
       "    }\n",
       "\n",
       "    .dataframe tbody tr th {\n",
       "        vertical-align: top;\n",
       "    }\n",
       "\n",
       "    .dataframe thead th {\n",
       "        text-align: right;\n",
       "    }\n",
       "</style>\n",
       "<table border=\"1\" class=\"dataframe\">\n",
       "  <thead>\n",
       "    <tr style=\"text-align: right;\">\n",
       "      <th></th>\n",
       "      <th>sepal_length</th>\n",
       "      <th>sepal_width</th>\n",
       "      <th>petal_length</th>\n",
       "      <th>petal_width</th>\n",
       "    </tr>\n",
       "  </thead>\n",
       "  <tbody>\n",
       "    <tr>\n",
       "      <th>0</th>\n",
       "      <td>5.1</td>\n",
       "      <td>3.5</td>\n",
       "      <td>1.4</td>\n",
       "      <td>0.2</td>\n",
       "    </tr>\n",
       "    <tr>\n",
       "      <th>1</th>\n",
       "      <td>4.9</td>\n",
       "      <td>3.0</td>\n",
       "      <td>1.4</td>\n",
       "      <td>0.2</td>\n",
       "    </tr>\n",
       "  </tbody>\n",
       "</table>\n",
       "</div>"
      ],
      "text/plain": [
       "   sepal_length  sepal_width  petal_length  petal_width\n",
       "0           5.1          3.5           1.4          0.2\n",
       "1           4.9          3.0           1.4          0.2"
      ]
     },
     "execution_count": 32,
     "metadata": {},
     "output_type": "execute_result"
    }
   ],
   "source": [
    "df.head(2)"
   ]
  },
  {
   "cell_type": "code",
   "execution_count": 33,
   "id": "270bdc39",
   "metadata": {},
   "outputs": [],
   "source": [
    "label = pd.DataFrame(label , columns = ['cluster'])"
   ]
  },
  {
   "cell_type": "code",
   "execution_count": 34,
   "id": "daf21643",
   "metadata": {},
   "outputs": [],
   "source": [
    "output_iris = pd.concat([df , label] , axis = 1)"
   ]
  },
  {
   "cell_type": "code",
   "execution_count": 35,
   "id": "185d091c",
   "metadata": {},
   "outputs": [
    {
     "data": {
      "text/html": [
       "<div>\n",
       "<style scoped>\n",
       "    .dataframe tbody tr th:only-of-type {\n",
       "        vertical-align: middle;\n",
       "    }\n",
       "\n",
       "    .dataframe tbody tr th {\n",
       "        vertical-align: top;\n",
       "    }\n",
       "\n",
       "    .dataframe thead th {\n",
       "        text-align: right;\n",
       "    }\n",
       "</style>\n",
       "<table border=\"1\" class=\"dataframe\">\n",
       "  <thead>\n",
       "    <tr style=\"text-align: right;\">\n",
       "      <th></th>\n",
       "      <th>sepal_length</th>\n",
       "      <th>sepal_width</th>\n",
       "      <th>petal_length</th>\n",
       "      <th>petal_width</th>\n",
       "      <th>cluster</th>\n",
       "    </tr>\n",
       "  </thead>\n",
       "  <tbody>\n",
       "    <tr>\n",
       "      <th>0</th>\n",
       "      <td>5.1</td>\n",
       "      <td>3.5</td>\n",
       "      <td>1.4</td>\n",
       "      <td>0.2</td>\n",
       "      <td>0</td>\n",
       "    </tr>\n",
       "    <tr>\n",
       "      <th>1</th>\n",
       "      <td>4.9</td>\n",
       "      <td>3.0</td>\n",
       "      <td>1.4</td>\n",
       "      <td>0.2</td>\n",
       "      <td>0</td>\n",
       "    </tr>\n",
       "  </tbody>\n",
       "</table>\n",
       "</div>"
      ],
      "text/plain": [
       "   sepal_length  sepal_width  petal_length  petal_width  cluster\n",
       "0           5.1          3.5           1.4          0.2        0\n",
       "1           4.9          3.0           1.4          0.2        0"
      ]
     },
     "execution_count": 35,
     "metadata": {},
     "output_type": "execute_result"
    }
   ],
   "source": [
    "output_iris.head(2)"
   ]
  },
  {
   "cell_type": "markdown",
   "id": "39d73e5b",
   "metadata": {},
   "source": [
    "##### Visualiise cluster"
   ]
  },
  {
   "cell_type": "code",
   "execution_count": 36,
   "id": "77412fc9",
   "metadata": {},
   "outputs": [],
   "source": [
    "from matplotlib.colors import ListedColormap"
   ]
  },
  {
   "cell_type": "code",
   "execution_count": 37,
   "id": "8af868ed",
   "metadata": {},
   "outputs": [],
   "source": [
    "colors = ListedColormap(['magenta' , 'orange' , 'black'])"
   ]
  },
  {
   "cell_type": "code",
   "execution_count": 38,
   "id": "1d94bca2",
   "metadata": {},
   "outputs": [
    {
     "data": {
      "text/html": [
       "<div>\n",
       "<style scoped>\n",
       "    .dataframe tbody tr th:only-of-type {\n",
       "        vertical-align: middle;\n",
       "    }\n",
       "\n",
       "    .dataframe tbody tr th {\n",
       "        vertical-align: top;\n",
       "    }\n",
       "\n",
       "    .dataframe thead th {\n",
       "        text-align: right;\n",
       "    }\n",
       "</style>\n",
       "<table border=\"1\" class=\"dataframe\">\n",
       "  <thead>\n",
       "    <tr style=\"text-align: right;\">\n",
       "      <th></th>\n",
       "      <th>sepal_length</th>\n",
       "      <th>sepal_width</th>\n",
       "      <th>petal_length</th>\n",
       "      <th>petal_width</th>\n",
       "    </tr>\n",
       "  </thead>\n",
       "  <tbody>\n",
       "    <tr>\n",
       "      <th>0</th>\n",
       "      <td>5.1</td>\n",
       "      <td>3.5</td>\n",
       "      <td>1.4</td>\n",
       "      <td>0.2</td>\n",
       "    </tr>\n",
       "    <tr>\n",
       "      <th>1</th>\n",
       "      <td>4.9</td>\n",
       "      <td>3.0</td>\n",
       "      <td>1.4</td>\n",
       "      <td>0.2</td>\n",
       "    </tr>\n",
       "  </tbody>\n",
       "</table>\n",
       "</div>"
      ],
      "text/plain": [
       "   sepal_length  sepal_width  petal_length  petal_width\n",
       "0           5.1          3.5           1.4          0.2\n",
       "1           4.9          3.0           1.4          0.2"
      ]
     },
     "execution_count": 38,
     "metadata": {},
     "output_type": "execute_result"
    }
   ],
   "source": [
    "df.head(2)"
   ]
  },
  {
   "cell_type": "code",
   "execution_count": 39,
   "id": "e114d32b",
   "metadata": {},
   "outputs": [
    {
     "data": {
      "image/png": "[encoded data removed]",
      "text/plain": [
       "<Figure size 640x480 with 1 Axes>"
      ]
     },
     "metadata": {},
     "output_type": "display_data"
    }
   ],
   "source": [
    "plt.scatter(x = df.iloc[: , 0] ,y =  x.iloc[: , 1] , c = output_iris['cluster'].astype('category')  , cmap = colors)\n",
    "plt.xlabel('sepal_length')\n",
    "plt.ylabel('sepal_width')\n",
    "plt.title('cluster visualisation sepal_length vs sepal_width')\n",
    "plt.show()"
   ]
  },
  {
   "cell_type": "code",
   "execution_count": 40,
   "id": "261993dc",
   "metadata": {},
   "outputs": [
    {
     "data": {
      "image/png": "[encoded data removed]",
      "text/plain": [
       "<Figure size 640x480 with 1 Axes>"
      ]
     },
     "metadata": {},
     "output_type": "display_data"
    }
   ],
   "source": [
    "plt.scatter(x.iloc[: , -2] , x.iloc[: , -1] , c = output_iris['cluster'].astype('category') , cmap = colors)\n",
    "plt.xlabel('petal_length')\n",
    "plt.ylabel('petal_width')\n",
    "plt.title('clsuter visualisation petal_length vs petal_width')\n",
    "plt.show()"
   ]
  },
  {
   "cell_type": "markdown",
   "id": "0bc96b8e",
   "metadata": {},
   "source": [
    "##### calculate centroid"
   ]
  },
  {
   "cell_type": "code",
   "execution_count": 41,
   "id": "32803d8b",
   "metadata": {},
   "outputs": [],
   "source": [
    "centriod = kmeans.cluster_centers_"
   ]
  },
  {
   "cell_type": "code",
   "execution_count": 42,
   "id": "e1f83da2",
   "metadata": {},
   "outputs": [
    {
     "data": {
      "text/plain": [
       "array([[-1.01457897,  0.84230679, -1.30487835, -1.25512862],\n",
       "       [-0.05021989, -0.88029181,  0.34753171,  0.28206327],\n",
       "       [ 1.13597027,  0.09659843,  0.996271  ,  1.01717187]])"
      ]
     },
     "execution_count": 42,
     "metadata": {},
     "output_type": "execute_result"
    }
   ],
   "source": [
    "centriod"
   ]
  },
  {
   "cell_type": "code",
   "execution_count": 43,
   "id": "b2059853",
   "metadata": {},
   "outputs": [],
   "source": [
    "centriod = pd.DataFrame(centriod)"
   ]
  },
  {
   "cell_type": "markdown",
   "id": "a34831e3",
   "metadata": {},
   "source": [
    "###### I just see how centriod looks like .... but actuall y if we have more than two columns then we are not visualize it . so thats why I split into 1 and 2 columns"
   ]
  },
  {
   "cell_type": "code",
   "execution_count": 44,
   "id": "a2023282",
   "metadata": {},
   "outputs": [
    {
     "data": {
      "image/png": "[encoded data removed]",
      "text/plain": [
       "<Figure size 640x480 with 1 Axes>"
      ]
     },
     "metadata": {},
     "output_type": "display_data"
    }
   ],
   "source": [
    "plt.scatter(centriod.iloc[: , 0] , centriod.iloc[: , 1] , s = 40 , marker = 'D')\n",
    "plt.xlabel('centriod_sepal_length')\n",
    "plt.ylabel('centriod_sepal_width')\n",
    "plt.title('Centriod of speal_length and sepal_width')\n",
    "plt.show()"
   ]
  },
  {
   "cell_type": "markdown",
   "id": "10d0f875",
   "metadata": {},
   "source": [
    "###### I just see how centriod looks like .... but actuall y if we have more than two columns then we are not visualize it . so thats why I split into 3 and 4 columns"
   ]
  },
  {
   "cell_type": "code",
   "execution_count": 45,
   "id": "8fa37cec",
   "metadata": {},
   "outputs": [
    {
     "data": {
      "image/png": "[encoded data removed]",
      "text/plain": [
       "<Figure size 640x480 with 1 Axes>"
      ]
     },
     "metadata": {},
     "output_type": "display_data"
    }
   ],
   "source": [
    "plt.scatter(centriod.iloc[ : , -2] , centriod.iloc[: , -1] , s = 40 , marker = 'D')\n",
    "plt.xlabel('centriod_petal_length')\n",
    "plt.ylabel('centriod_petal_width')\n",
    "plt.title('Centriod of petal_length and petal_width')\n",
    "plt.show()"
   ]
  },
  {
   "cell_type": "code",
   "execution_count": null,
   "id": "5cc9357f",
   "metadata": {},
   "outputs": [],
   "source": []
  },
  {
   "cell_type": "markdown",
   "id": "c7dadf16",
   "metadata": {},
   "source": [
    "## Hierarchical Cluster"
   ]
  },
  {
   "cell_type": "code",
   "execution_count": 46,
   "id": "a98f4b3d",
   "metadata": {},
   "outputs": [],
   "source": [
    "from scipy.cluster.hierarchy import dendrogram , linkage"
   ]
  },
  {
   "cell_type": "markdown",
   "id": "cb4a9b26",
   "metadata": {},
   "source": [
    "##### fit scaled data in linkgae and pass that linkage data to dendrogram"
   ]
  },
  {
   "cell_type": "code",
   "execution_count": 47,
   "id": "6fcb17ba",
   "metadata": {},
   "outputs": [],
   "source": [
    "link_method = linkage(df_scaled)"
   ]
  },
  {
   "cell_type": "code",
   "execution_count": 48,
   "id": "42786d7d",
   "metadata": {},
   "outputs": [
    {
     "name": "stdout",
     "output_type": "stream",
     "text": [
      "[[9.00000000e+00 3.40000000e+01 0.00000000e+00 2.00000000e+00]\n",
      " [3.70000000e+01 1.50000000e+02 0.00000000e+00 3.00000000e+00]\n",
      " [1.01000000e+02 1.42000000e+02 0.00000000e+00 2.00000000e+00]\n",
      " [7.00000000e+00 3.90000000e+01 1.21167870e-01 2.00000000e+00]\n",
      " [1.00000000e+01 4.80000000e+01 1.21167870e-01 2.00000000e+00]\n",
      " [0.00000000e+00 1.70000000e+01 1.31472970e-01 2.00000000e+00]\n",
      " [1.28000000e+02 1.32000000e+02 1.31472970e-01 2.00000000e+00]\n",
      " [4.00000000e+01 1.55000000e+02 1.33848276e-01 3.00000000e+00]\n",
      " [1.27000000e+02 1.38000000e+02 1.33848276e-01 2.00000000e+00]\n",
      " [2.00000000e+00 4.70000000e+01 1.33848276e-01 2.00000000e+00]\n",
      " [2.70000000e+01 1.57000000e+02 1.33848276e-01 4.00000000e+00]\n",
      " [2.80000000e+01 1.53000000e+02 1.33848276e-01 3.00000000e+00]\n",
      " [8.00000000e+01 8.10000000e+01 1.43244023e-01 2.00000000e+00]\n",
      " [1.90000000e+01 4.60000000e+01 1.43244023e-01 2.00000000e+00]\n",
      " [1.00000000e+00 2.50000000e+01 1.66182087e-01 2.00000000e+00]\n",
      " [2.90000000e+01 1.59000000e+02 1.66182087e-01 3.00000000e+00]\n",
      " [1.20000000e+02 1.43000000e+02 1.66182087e-01 2.00000000e+00]\n",
      " [1.10000000e+01 2.40000000e+01 1.70597112e-01 2.00000000e+00]\n",
      " [1.20000000e+01 1.64000000e+02 1.78792602e-01 3.00000000e+00]\n",
      " [4.50000000e+01 1.68000000e+02 1.78792602e-01 4.00000000e+00]\n",
      " [3.00000000e+01 1.51000000e+02 1.87617971e-01 4.00000000e+00]\n",
      " [8.80000000e+01 9.50000000e+01 1.87617971e-01 2.00000000e+00]\n",
      " [1.49000000e+02 1.58000000e+02 2.09248721e-01 3.00000000e+00]\n",
      " [1.36000000e+02 1.48000000e+02 2.11900042e-01 2.00000000e+00]\n",
      " [6.30000000e+01 7.80000000e+01 2.11900042e-01 2.00000000e+00]\n",
      " [1.30000000e+01 3.80000000e+01 2.11900042e-01 2.00000000e+00]\n",
      " [6.50000000e+01 8.60000000e+01 2.15379935e-01 2.00000000e+00]\n",
      " [5.00000000e+00 1.60000000e+01 2.27462816e-01 2.00000000e+00]\n",
      " [5.50000000e+01 9.90000000e+01 2.27462816e-01 2.00000000e+00]\n",
      " [3.00000000e+00 1.65000000e+02 2.38287726e-01 4.00000000e+00]\n",
      " [8.00000000e+00 1.75000000e+02 2.38287726e-01 3.00000000e+00]\n",
      " [1.60000000e+02 1.61000000e+02 2.38287726e-01 7.00000000e+00]\n",
      " [4.90000000e+01 1.81000000e+02 2.38287726e-01 8.00000000e+00]\n",
      " [9.60000000e+01 1.78000000e+02 2.38287726e-01 3.00000000e+00]\n",
      " [8.20000000e+01 9.20000000e+01 2.38287726e-01 2.00000000e+00]\n",
      " [9.10000000e+01 1.74000000e+02 2.38287726e-01 3.00000000e+00]\n",
      " [6.60000000e+01 8.40000000e+01 2.42335741e-01 2.00000000e+00]\n",
      " [7.40000000e+01 9.70000000e+01 2.42335741e-01 2.00000000e+00]\n",
      " [4.20000000e+01 1.79000000e+02 2.48918299e-01 5.00000000e+00]\n",
      " [1.67000000e+02 1.82000000e+02 2.48918299e-01 1.00000000e+01]\n",
      " [1.70000000e+02 1.88000000e+02 2.48918299e-01 9.00000000e+00]\n",
      " [3.50000000e+01 1.89000000e+02 2.57841357e-01 1.10000000e+01]\n",
      " [4.00000000e+00 1.91000000e+02 2.61206786e-01 1.20000000e+01]\n",
      " [5.70000000e+01 9.30000000e+01 2.61206786e-01 2.00000000e+00]\n",
      " [1.16000000e+02 1.37000000e+02 2.61206786e-01 2.00000000e+00]\n",
      " [7.50000000e+01 1.76000000e+02 2.61206786e-01 3.00000000e+00]\n",
      " [4.40000000e+01 1.63000000e+02 2.62725093e-01 3.00000000e+00]\n",
      " [2.10000000e+01 1.96000000e+02 2.66143710e-01 4.00000000e+00]\n",
      " [1.71000000e+02 1.83000000e+02 2.66143710e-01 5.00000000e+00]\n",
      " [1.23000000e+02 1.26000000e+02 2.67325071e-01 2.00000000e+00]\n",
      " [9.40000000e+01 1.98000000e+02 2.67325071e-01 6.00000000e+00]\n",
      " [6.90000000e+01 1.62000000e+02 2.67325071e-01 3.00000000e+00]\n",
      " [1.12000000e+02 1.39000000e+02 2.67325071e-01 2.00000000e+00]\n",
      " [1.69000000e+02 1.90000000e+02 2.67325071e-01 1.30000000e+01]\n",
      " [5.20000000e+01 1.95000000e+02 2.67696553e-01 4.00000000e+00]\n",
      " [2.60000000e+01 1.92000000e+02 2.69024675e-01 1.30000000e+01]\n",
      " [6.70000000e+01 1.84000000e+02 2.86488046e-01 3.00000000e+00]\n",
      " [2.00000000e+01 3.10000000e+01 2.86488046e-01 2.00000000e+00]\n",
      " [1.11000000e+02 1.99000000e+02 2.89320112e-01 3.00000000e+00]\n",
      " [1.85000000e+02 1.87000000e+02 2.89320112e-01 5.00000000e+00]\n",
      " [5.80000000e+01 2.04000000e+02 2.89425823e-01 5.00000000e+00]\n",
      " [8.90000000e+01 2.01000000e+02 2.95052417e-01 4.00000000e+00]\n",
      " [2.09000000e+02 2.10000000e+02 2.96361242e-01 1.00000000e+01]\n",
      " [2.05000000e+02 2.07000000e+02 2.96361242e-01 1.50000000e+01]\n",
      " [2.30000000e+01 2.13000000e+02 2.97905749e-01 1.60000000e+01]\n",
      " [6.00000000e+00 2.14000000e+02 2.98239143e-01 1.70000000e+01]\n",
      " [6.10000000e+01 2.12000000e+02 3.11981345e-01 1.10000000e+01]\n",
      " [7.10000000e+01 2.16000000e+02 3.11981345e-01 1.20000000e+01]\n",
      " [1.47000000e+02 1.94000000e+02 3.13438897e-01 3.00000000e+00]\n",
      " [1.41000000e+02 2.02000000e+02 3.13438897e-01 3.00000000e+00]\n",
      " [2.00000000e+02 2.06000000e+02 3.13765773e-01 9.00000000e+00]\n",
      " [5.10000000e+01 5.60000000e+01 3.13765773e-01 2.00000000e+00]\n",
      " [9.00000000e+01 2.20000000e+02 3.13765773e-01 1.00000000e+01]\n",
      " [5.00000000e+01 2.17000000e+02 3.13765773e-01 1.30000000e+01]\n",
      " [1.07000000e+02 1.30000000e+02 3.13765773e-01 2.00000000e+00]\n",
      " [1.45000000e+02 2.19000000e+02 3.36044037e-01 4.00000000e+00]\n",
      " [2.03000000e+02 2.15000000e+02 3.38552066e-01 3.00000000e+01]\n",
      " [1.40000000e+02 1.66000000e+02 3.38552066e-01 3.00000000e+00]\n",
      " [1.54000000e+02 1.97000000e+02 3.39864167e-01 6.00000000e+00]\n",
      " [1.03000000e+02 2.18000000e+02 3.39864167e-01 4.00000000e+00]\n",
      " [3.60000000e+01 2.26000000e+02 3.46364429e-01 3.10000000e+01]\n",
      " [1.86000000e+02 2.22000000e+02 3.47677868e-01 1.20000000e+01]\n",
      " [2.25000000e+02 2.27000000e+02 3.50102566e-01 7.00000000e+00]\n",
      " [2.11000000e+02 2.31000000e+02 3.50102566e-01 1.60000000e+01]\n",
      " [1.00000000e+02 1.73000000e+02 3.50102566e-01 3.00000000e+00]\n",
      " [4.30000000e+01 2.30000000e+02 3.50268325e-01 3.20000000e+01]\n",
      " [7.30000000e+01 2.23000000e+02 3.50268325e-01 1.40000000e+01]\n",
      " [1.80000000e+02 2.35000000e+02 3.53848522e-01 3.50000000e+01]\n",
      " [6.40000000e+01 2.33000000e+02 3.62070644e-01 1.70000000e+01]\n",
      " [5.30000000e+01 2.38000000e+02 3.68269918e-01 1.80000000e+01]\n",
      " [7.90000000e+01 2.39000000e+02 3.70477340e-01 1.90000000e+01]\n",
      " [5.40000000e+01 2.36000000e+02 3.70633987e-01 1.50000000e+01]\n",
      " [1.33000000e+02 2.41000000e+02 3.73589773e-01 1.60000000e+01]\n",
      " [6.80000000e+01 1.19000000e+02 3.73589773e-01 2.00000000e+00]\n",
      " [8.70000000e+01 2.43000000e+02 3.74971013e-01 3.00000000e+00]\n",
      " [2.28000000e+02 2.37000000e+02 3.74971013e-01 4.10000000e+01]\n",
      " [1.21000000e+02 1.52000000e+02 3.77483667e-01 3.00000000e+00]\n",
      " [7.60000000e+01 2.42000000e+02 3.77483667e-01 1.70000000e+01]\n",
      " [1.24000000e+02 2.32000000e+02 3.87691096e-01 8.00000000e+00]\n",
      " [1.44000000e+02 2.48000000e+02 3.87691096e-01 9.00000000e+00]\n",
      " [1.56000000e+02 2.08000000e+02 3.89603997e-01 5.00000000e+00]\n",
      " [7.70000000e+01 2.47000000e+02 3.89603997e-01 1.80000000e+01]\n",
      " [2.29000000e+02 2.51000000e+02 3.96048558e-01 2.20000000e+01]\n",
      " [1.17000000e+02 1.31000000e+02 3.96195095e-01 2.00000000e+00]\n",
      " [9.80000000e+01 1.93000000e+02 3.98324566e-01 3.00000000e+00]\n",
      " [2.40000000e+02 2.52000000e+02 4.01544829e-01 4.10000000e+01]\n",
      " [1.05000000e+02 1.35000000e+02 4.05789265e-01 2.00000000e+00]\n",
      " [1.04000000e+02 2.49000000e+02 4.22520286e-01 1.00000000e+01]\n",
      " [2.55000000e+02 2.57000000e+02 4.22520286e-01 5.10000000e+01]\n",
      " [1.10000000e+02 1.15000000e+02 4.27998554e-01 2.00000000e+00]\n",
      " [1.02000000e+02 2.58000000e+02 4.28805560e-01 5.20000000e+01]\n",
      " [2.59000000e+02 2.60000000e+02 4.34866514e-01 5.40000000e+01]\n",
      " [8.50000000e+01 2.21000000e+02 4.45664718e-01 3.00000000e+00]\n",
      " [2.61000000e+02 2.62000000e+02 4.45664718e-01 5.70000000e+01]\n",
      " [1.77000000e+02 2.45000000e+02 4.45664718e-01 4.30000000e+01]\n",
      " [2.50000000e+02 2.63000000e+02 4.46487742e-01 6.20000000e+01]\n",
      " [8.30000000e+01 2.65000000e+02 4.50518978e-01 6.30000000e+01]\n",
      " [1.80000000e+01 2.64000000e+02 4.50518978e-01 4.40000000e+01]\n",
      " [3.20000000e+01 3.30000000e+01 4.54093666e-01 2.00000000e+00]\n",
      " [2.46000000e+02 2.66000000e+02 4.62917798e-01 6.60000000e+01]\n",
      " [1.29000000e+02 2.24000000e+02 4.67131951e-01 3.00000000e+00]\n",
      " [1.34000000e+02 2.69000000e+02 4.67131951e-01 6.70000000e+01]\n",
      " [7.00000000e+01 1.72000000e+02 4.78404622e-01 4.00000000e+00]\n",
      " [2.71000000e+02 2.72000000e+02 4.81772446e-01 7.10000000e+01]\n",
      " [1.46000000e+02 2.73000000e+02 4.84466902e-01 7.20000000e+01]\n",
      " [1.13000000e+02 2.74000000e+02 4.99389459e-01 7.30000000e+01]\n",
      " [1.22000000e+02 2.56000000e+02 4.99389459e-01 3.00000000e+00]\n",
      " [2.34000000e+02 2.75000000e+02 5.13818859e-01 7.60000000e+01]\n",
      " [2.70000000e+02 2.76000000e+02 5.15590454e-01 6.00000000e+00]\n",
      " [7.20000000e+01 2.77000000e+02 5.28957444e-01 7.70000000e+01]\n",
      " [5.90000000e+01 2.79000000e+02 5.30372474e-01 7.80000000e+01]\n",
      " [2.20000000e+01 2.67000000e+02 5.32178357e-01 4.50000000e+01]\n",
      " [1.25000000e+02 2.78000000e+02 5.44302057e-01 7.00000000e+00]\n",
      " [2.80000000e+02 2.82000000e+02 5.65313676e-01 8.50000000e+01]\n",
      " [1.40000000e+01 2.81000000e+02 5.71838116e-01 4.60000000e+01]\n",
      " [1.50000000e+01 2.68000000e+02 5.87614003e-01 3.00000000e+00]\n",
      " [1.14000000e+02 2.83000000e+02 5.90104833e-01 8.60000000e+01]\n",
      " [2.84000000e+02 2.85000000e+02 5.99382213e-01 4.90000000e+01]\n",
      " [2.44000000e+02 2.86000000e+02 6.03467152e-01 8.90000000e+01]\n",
      " [1.18000000e+02 2.88000000e+02 6.18619785e-01 9.00000000e+01]\n",
      " [6.20000000e+01 2.89000000e+02 6.26887404e-01 9.10000000e+01]\n",
      " [1.08000000e+02 2.90000000e+02 6.66672374e-01 9.20000000e+01]\n",
      " [2.54000000e+02 2.91000000e+02 6.81315364e-01 9.50000000e+01]\n",
      " [6.00000000e+01 2.92000000e+02 7.03463449e-01 9.60000000e+01]\n",
      " [1.06000000e+02 2.93000000e+02 7.86323076e-01 9.70000000e+01]\n",
      " [1.09000000e+02 2.53000000e+02 9.23693902e-01 3.00000000e+00]\n",
      " [2.94000000e+02 2.95000000e+02 9.49055659e-01 1.00000000e+02]\n",
      " [4.10000000e+01 2.87000000e+02 1.40103692e+00 5.00000000e+01]\n",
      " [2.96000000e+02 2.97000000e+02 1.55849576e+00 1.50000000e+02]]\n"
     ]
    }
   ],
   "source": [
    "print(link_method)"
   ]
  },
  {
   "cell_type": "markdown",
   "id": "f5158b08",
   "metadata": {},
   "source": [
    "##### Draw Dendrogram"
   ]
  },
  {
   "cell_type": "code",
   "execution_count": 49,
   "id": "af234759",
   "metadata": {},
   "outputs": [
    {
     "data": {
      "image/png": "[encoded data removed]",
      "text/plain": [
       "<Figure size 1600x500 with 1 Axes>"
      ]
     },
     "metadata": {},
     "output_type": "display_data"
    }
   ],
   "source": [
    "plt.figure(figsize = (16 , 5))\n",
    "dend = dendrogram(link_method  , p = 10)"
   ]
  },
  {
   "cell_type": "markdown",
   "id": "e3501e6b",
   "metadata": {},
   "source": [
    "##### build hierarchy_cluster"
   ]
  },
  {
   "cell_type": "code",
   "execution_count": 50,
   "id": "8830cb27",
   "metadata": {},
   "outputs": [],
   "source": [
    "from scipy.cluster.hierarchy import  fcluster"
   ]
  },
  {
   "cell_type": "code",
   "execution_count": 51,
   "id": "5e37327d",
   "metadata": {},
   "outputs": [],
   "source": [
    "hierarchy_cluster = fcluster(Z = link_method , t = 3 , criterion = 'maxclust')"
   ]
  },
  {
   "cell_type": "code",
   "execution_count": 52,
   "id": "e06355c0",
   "metadata": {},
   "outputs": [
    {
     "data": {
      "text/plain": [
       "array([2, 2, 2, 2, 2, 2, 2, 2, 2, 2, 2, 2, 2, 2, 2, 2, 2, 2, 2, 2, 2, 2,\n",
       "       2, 2, 2, 2, 2, 2, 2, 2, 2, 2, 2, 2, 2, 2, 2, 2, 2, 2, 2, 3, 2, 2,\n",
       "       2, 2, 2, 2, 2, 2, 1, 1, 1, 1, 1, 1, 1, 1, 1, 1, 1, 1, 1, 1, 1, 1,\n",
       "       1, 1, 1, 1, 1, 1, 1, 1, 1, 1, 1, 1, 1, 1, 1, 1, 1, 1, 1, 1, 1, 1,\n",
       "       1, 1, 1, 1, 1, 1, 1, 1, 1, 1, 1, 1, 1, 1, 1, 1, 1, 1, 1, 1, 1, 1,\n",
       "       1, 1, 1, 1, 1, 1, 1, 1, 1, 1, 1, 1, 1, 1, 1, 1, 1, 1, 1, 1, 1, 1,\n",
       "       1, 1, 1, 1, 1, 1, 1, 1, 1, 1, 1, 1, 1, 1, 1, 1, 1, 1], dtype=int32)"
      ]
     },
     "execution_count": 52,
     "metadata": {},
     "output_type": "execute_result"
    }
   ],
   "source": [
    "hierarchy_cluster"
   ]
  },
  {
   "cell_type": "code",
   "execution_count": 53,
   "id": "4c45cd9d",
   "metadata": {},
   "outputs": [],
   "source": [
    "hierarchy_cluster = pd.DataFrame(hierarchy_cluster , columns = ['hierarchy_cluster'])"
   ]
  },
  {
   "cell_type": "code",
   "execution_count": 54,
   "id": "1bc61a79",
   "metadata": {},
   "outputs": [
    {
     "data": {
      "text/html": [
       "<div>\n",
       "<style scoped>\n",
       "    .dataframe tbody tr th:only-of-type {\n",
       "        vertical-align: middle;\n",
       "    }\n",
       "\n",
       "    .dataframe tbody tr th {\n",
       "        vertical-align: top;\n",
       "    }\n",
       "\n",
       "    .dataframe thead th {\n",
       "        text-align: right;\n",
       "    }\n",
       "</style>\n",
       "<table border=\"1\" class=\"dataframe\">\n",
       "  <thead>\n",
       "    <tr style=\"text-align: right;\">\n",
       "      <th></th>\n",
       "      <th>hierarchy_cluster</th>\n",
       "    </tr>\n",
       "  </thead>\n",
       "  <tbody>\n",
       "    <tr>\n",
       "      <th>0</th>\n",
       "      <td>2</td>\n",
       "    </tr>\n",
       "    <tr>\n",
       "      <th>1</th>\n",
       "      <td>2</td>\n",
       "    </tr>\n",
       "  </tbody>\n",
       "</table>\n",
       "</div>"
      ],
      "text/plain": [
       "   hierarchy_cluster\n",
       "0                  2\n",
       "1                  2"
      ]
     },
     "execution_count": 54,
     "metadata": {},
     "output_type": "execute_result"
    }
   ],
   "source": [
    "hierarchy_cluster.head(2)"
   ]
  },
  {
   "cell_type": "code",
   "execution_count": 55,
   "id": "708ae60a",
   "metadata": {},
   "outputs": [],
   "source": [
    "output_iris_hierarchy = pd.concat([df , hierarchy_cluster]  , axis = 1)"
   ]
  },
  {
   "cell_type": "code",
   "execution_count": 56,
   "id": "02bb2330",
   "metadata": {},
   "outputs": [
    {
     "data": {
      "text/html": [
       "<div>\n",
       "<style scoped>\n",
       "    .dataframe tbody tr th:only-of-type {\n",
       "        vertical-align: middle;\n",
       "    }\n",
       "\n",
       "    .dataframe tbody tr th {\n",
       "        vertical-align: top;\n",
       "    }\n",
       "\n",
       "    .dataframe thead th {\n",
       "        text-align: right;\n",
       "    }\n",
       "</style>\n",
       "<table border=\"1\" class=\"dataframe\">\n",
       "  <thead>\n",
       "    <tr style=\"text-align: right;\">\n",
       "      <th></th>\n",
       "      <th>sepal_length</th>\n",
       "      <th>sepal_width</th>\n",
       "      <th>petal_length</th>\n",
       "      <th>petal_width</th>\n",
       "      <th>hierarchy_cluster</th>\n",
       "    </tr>\n",
       "  </thead>\n",
       "  <tbody>\n",
       "    <tr>\n",
       "      <th>0</th>\n",
       "      <td>5.1</td>\n",
       "      <td>3.5</td>\n",
       "      <td>1.4</td>\n",
       "      <td>0.2</td>\n",
       "      <td>2</td>\n",
       "    </tr>\n",
       "    <tr>\n",
       "      <th>1</th>\n",
       "      <td>4.9</td>\n",
       "      <td>3.0</td>\n",
       "      <td>1.4</td>\n",
       "      <td>0.2</td>\n",
       "      <td>2</td>\n",
       "    </tr>\n",
       "  </tbody>\n",
       "</table>\n",
       "</div>"
      ],
      "text/plain": [
       "   sepal_length  sepal_width  petal_length  petal_width  hierarchy_cluster\n",
       "0           5.1          3.5           1.4          0.2                  2\n",
       "1           4.9          3.0           1.4          0.2                  2"
      ]
     },
     "execution_count": 56,
     "metadata": {},
     "output_type": "execute_result"
    }
   ],
   "source": [
    "output_iris_hierarchy.head(2)"
   ]
  },
  {
   "cell_type": "markdown",
   "id": "fcbf7391",
   "metadata": {},
   "source": [
    "##### Sihouette score by hierarchy "
   ]
  },
  {
   "cell_type": "code",
   "execution_count": 57,
   "id": "4792fa68",
   "metadata": {},
   "outputs": [],
   "source": [
    "score_hierarchy = silhouette_score(df_scaled , hierarchy_cluster)"
   ]
  },
  {
   "cell_type": "code",
   "execution_count": 58,
   "id": "5e2fa3c7",
   "metadata": {},
   "outputs": [
    {
     "data": {
      "text/plain": [
       "0.5028765952374756"
      ]
     },
     "execution_count": 58,
     "metadata": {},
     "output_type": "execute_result"
    }
   ],
   "source": [
    "score_hierarchy"
   ]
  },
  {
   "cell_type": "code",
   "execution_count": 59,
   "id": "3f35a227",
   "metadata": {},
   "outputs": [
    {
     "name": "stdout",
     "output_type": "stream",
     "text": [
      "silhouette score by kmeans is : 0.4589717867018717\n",
      "silhouette score by hierarchy is : 0.5028765952374756\n"
     ]
    }
   ],
   "source": [
    "print('silhouette score by kmeans is :' , score_kmeans)\n",
    "print('silhouette score by hierarchy is :' , score_hierarchy)"
   ]
  }
 ],
 "metadata": {
  "kernelspec": {
   "display_name": "Python 3 (ipykernel)",
   "language": "python",
   "name": "python3"
  },
  "language_info": {
   "codemirror_mode": {
    "name": "ipython",
    "version": 3
   },
   "file_extension": ".py",
   "mimetype": "text/x-python",
   "name": "python",
   "nbconvert_exporter": "python",
   "pygments_lexer": "ipython3",
   "version": "3.11.4"
  }
 },
 "nbformat": 4,
 "nbformat_minor": 5
}
