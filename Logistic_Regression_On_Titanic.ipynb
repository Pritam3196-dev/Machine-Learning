{
 "cells": [
  {
   "cell_type": "markdown",
   "id": "488e329c",
   "metadata": {
    "papermill": {
     "duration": 0.052241,
     "end_time": "2024-08-28T05:16:38.744229",
     "exception": false,
     "start_time": "2024-08-28T05:16:38.691988",
     "status": "completed"
    },
    "tags": []
   },
   "source": [
    "## Import Prequisite Library"
   ]
  },
  {
   "cell_type": "code",
   "execution_count": 1,
   "id": "359404fc",
   "metadata": {
    "execution": {
     "iopub.execute_input": "2024-08-28T05:16:38.845774Z",
     "iopub.status.busy": "2024-08-28T05:16:38.845293Z",
     "iopub.status.idle": "2024-08-28T05:16:41.228951Z",
     "shell.execute_reply": "2024-08-28T05:16:41.227729Z"
    },
    "papermill": {
     "duration": 2.438171,
     "end_time": "2024-08-28T05:16:41.232992",
     "exception": false,
     "start_time": "2024-08-28T05:16:38.794821",
     "status": "completed"
    },
    "tags": []
   },
   "outputs": [],
   "source": [
    "import os\n",
    "import numpy as np\n",
    "import pandas as pd\n",
    "import matplotlib.pyplot as plt\n",
    "import seaborn as sns\n",
    "%matplotlib inline\n",
    "sns.set()\n",
    "import warnings\n",
    "warnings.filterwarnings('ignore')"
   ]
  },
  {
   "cell_type": "markdown",
   "id": "420413af",
   "metadata": {
    "papermill": {
     "duration": 0.053309,
     "end_time": "2024-08-28T05:16:41.346303",
     "exception": false,
     "start_time": "2024-08-28T05:16:41.292994",
     "status": "completed"
    },
    "tags": []
   },
   "source": [
    "## Import Dataset"
   ]
  },
  {
   "cell_type": "code",
   "execution_count": 2,
   "id": "e8579388",
   "metadata": {
    "execution": {
     "iopub.execute_input": "2024-08-28T05:16:41.449815Z",
     "iopub.status.busy": "2024-08-28T05:16:41.448392Z",
     "iopub.status.idle": "2024-08-28T05:16:41.475995Z",
     "shell.execute_reply": "2024-08-28T05:16:41.474199Z"
    },
    "papermill": {
     "duration": 0.083079,
     "end_time": "2024-08-28T05:16:41.479468",
     "exception": false,
     "start_time": "2024-08-28T05:16:41.396389",
     "status": "completed"
    },
    "tags": []
   },
   "outputs": [],
   "source": [
    "df = pd.read_csv('/kaggle/input/titanic-data/Titanic.csv')"
   ]
  },
  {
   "cell_type": "code",
   "execution_count": 3,
   "id": "d95f8042",
   "metadata": {
    "execution": {
     "iopub.execute_input": "2024-08-28T05:16:41.582719Z",
     "iopub.status.busy": "2024-08-28T05:16:41.581541Z",
     "iopub.status.idle": "2024-08-28T05:16:41.615825Z",
     "shell.execute_reply": "2024-08-28T05:16:41.614254Z"
    },
    "papermill": {
     "duration": 0.088863,
     "end_time": "2024-08-28T05:16:41.618898",
     "exception": false,
     "start_time": "2024-08-28T05:16:41.530035",
     "status": "completed"
    },
    "tags": []
   },
   "outputs": [
    {
     "data": {
      "text/html": [
       "<div>\n",
       "<style scoped>\n",
       "    .dataframe tbody tr th:only-of-type {\n",
       "        vertical-align: middle;\n",
       "    }\n",
       "\n",
       "    .dataframe tbody tr th {\n",
       "        vertical-align: top;\n",
       "    }\n",
       "\n",
       "    .dataframe thead th {\n",
       "        text-align: right;\n",
       "    }\n",
       "</style>\n",
       "<table border=\"1\" class=\"dataframe\">\n",
       "  <thead>\n",
       "    <tr style=\"text-align: right;\">\n",
       "      <th></th>\n",
       "      <th>PassengerId</th>\n",
       "      <th>Survived</th>\n",
       "      <th>Pclass</th>\n",
       "      <th>Name</th>\n",
       "      <th>Sex</th>\n",
       "      <th>Age</th>\n",
       "      <th>SibSp</th>\n",
       "      <th>Parch</th>\n",
       "      <th>Ticket</th>\n",
       "      <th>Fare</th>\n",
       "      <th>Cabin</th>\n",
       "      <th>Embarked</th>\n",
       "    </tr>\n",
       "  </thead>\n",
       "  <tbody>\n",
       "    <tr>\n",
       "      <th>0</th>\n",
       "      <td>1</td>\n",
       "      <td>0</td>\n",
       "      <td>3</td>\n",
       "      <td>Braund, Mr. Owen Harris</td>\n",
       "      <td>male</td>\n",
       "      <td>22.0</td>\n",
       "      <td>1</td>\n",
       "      <td>0</td>\n",
       "      <td>A/5 21171</td>\n",
       "      <td>7.2500</td>\n",
       "      <td>NaN</td>\n",
       "      <td>S</td>\n",
       "    </tr>\n",
       "    <tr>\n",
       "      <th>1</th>\n",
       "      <td>2</td>\n",
       "      <td>1</td>\n",
       "      <td>1</td>\n",
       "      <td>Cumings, Mrs. John Bradley (Florence Briggs Th...</td>\n",
       "      <td>female</td>\n",
       "      <td>38.0</td>\n",
       "      <td>1</td>\n",
       "      <td>0</td>\n",
       "      <td>PC 17599</td>\n",
       "      <td>71.2833</td>\n",
       "      <td>C85</td>\n",
       "      <td>C</td>\n",
       "    </tr>\n",
       "  </tbody>\n",
       "</table>\n",
       "</div>"
      ],
      "text/plain": [
       "   PassengerId  Survived  Pclass  \\\n",
       "0            1         0       3   \n",
       "1            2         1       1   \n",
       "\n",
       "                                                Name     Sex   Age  SibSp  \\\n",
       "0                            Braund, Mr. Owen Harris    male  22.0      1   \n",
       "1  Cumings, Mrs. John Bradley (Florence Briggs Th...  female  38.0      1   \n",
       "\n",
       "   Parch     Ticket     Fare Cabin Embarked  \n",
       "0      0  A/5 21171   7.2500   NaN        S  \n",
       "1      0   PC 17599  71.2833   C85        C  "
      ]
     },
     "execution_count": 3,
     "metadata": {},
     "output_type": "execute_result"
    }
   ],
   "source": [
    "df.head(2)"
   ]
  },
  {
   "cell_type": "code",
   "execution_count": 4,
   "id": "e93ee0be",
   "metadata": {
    "execution": {
     "iopub.execute_input": "2024-08-28T05:16:41.721382Z",
     "iopub.status.busy": "2024-08-28T05:16:41.720871Z",
     "iopub.status.idle": "2024-08-28T05:16:41.726993Z",
     "shell.execute_reply": "2024-08-28T05:16:41.725815Z"
    },
    "papermill": {
     "duration": 0.061092,
     "end_time": "2024-08-28T05:16:41.729847",
     "exception": false,
     "start_time": "2024-08-28T05:16:41.668755",
     "status": "completed"
    },
    "tags": []
   },
   "outputs": [],
   "source": [
    "original_data = df.copy()"
   ]
  },
  {
   "cell_type": "markdown",
   "id": "ccb470d2",
   "metadata": {
    "papermill": {
     "duration": 0.04845,
     "end_time": "2024-08-28T05:16:41.832133",
     "exception": false,
     "start_time": "2024-08-28T05:16:41.783683",
     "status": "completed"
    },
    "tags": []
   },
   "source": [
    "## Exploratory Data Analysis"
   ]
  },
  {
   "cell_type": "markdown",
   "id": "9d72c620",
   "metadata": {
    "papermill": {
     "duration": 0.051823,
     "end_time": "2024-08-28T05:16:41.934017",
     "exception": false,
     "start_time": "2024-08-28T05:16:41.882194",
     "status": "completed"
    },
    "tags": []
   },
   "source": [
    "##### Shape"
   ]
  },
  {
   "cell_type": "code",
   "execution_count": 5,
   "id": "cc6d0b0d",
   "metadata": {
    "execution": {
     "iopub.execute_input": "2024-08-28T05:16:42.127676Z",
     "iopub.status.busy": "2024-08-28T05:16:42.127162Z",
     "iopub.status.idle": "2024-08-28T05:16:42.135716Z",
     "shell.execute_reply": "2024-08-28T05:16:42.134258Z"
    },
    "papermill": {
     "duration": 0.154371,
     "end_time": "2024-08-28T05:16:42.138630",
     "exception": false,
     "start_time": "2024-08-28T05:16:41.984259",
     "status": "completed"
    },
    "tags": []
   },
   "outputs": [
    {
     "data": {
      "text/plain": [
       "(891, 12)"
      ]
     },
     "execution_count": 5,
     "metadata": {},
     "output_type": "execute_result"
    }
   ],
   "source": [
    "df.shape"
   ]
  },
  {
   "cell_type": "markdown",
   "id": "c5d7c690",
   "metadata": {
    "papermill": {
     "duration": 0.048513,
     "end_time": "2024-08-28T05:16:42.235878",
     "exception": false,
     "start_time": "2024-08-28T05:16:42.187365",
     "status": "completed"
    },
    "tags": []
   },
   "source": [
    "#### Info"
   ]
  },
  {
   "cell_type": "code",
   "execution_count": 6,
   "id": "925d809f",
   "metadata": {
    "execution": {
     "iopub.execute_input": "2024-08-28T05:16:42.336658Z",
     "iopub.status.busy": "2024-08-28T05:16:42.336085Z",
     "iopub.status.idle": "2024-08-28T05:16:42.364259Z",
     "shell.execute_reply": "2024-08-28T05:16:42.362791Z"
    },
    "papermill": {
     "duration": 0.082435,
     "end_time": "2024-08-28T05:16:42.367544",
     "exception": false,
     "start_time": "2024-08-28T05:16:42.285109",
     "status": "completed"
    },
    "tags": []
   },
   "outputs": [
    {
     "name": "stdout",
     "output_type": "stream",
     "text": [
      "<class 'pandas.core.frame.DataFrame'>\n",
      "RangeIndex: 891 entries, 0 to 890\n",
      "Data columns (total 12 columns):\n",
      " #   Column       Non-Null Count  Dtype  \n",
      "---  ------       --------------  -----  \n",
      " 0   PassengerId  891 non-null    int64  \n",
      " 1   Survived     891 non-null    int64  \n",
      " 2   Pclass       891 non-null    int64  \n",
      " 3   Name         891 non-null    object \n",
      " 4   Sex          891 non-null    object \n",
      " 5   Age          714 non-null    float64\n",
      " 6   SibSp        891 non-null    int64  \n",
      " 7   Parch        891 non-null    int64  \n",
      " 8   Ticket       891 non-null    object \n",
      " 9   Fare         891 non-null    float64\n",
      " 10  Cabin        204 non-null    object \n",
      " 11  Embarked     889 non-null    object \n",
      "dtypes: float64(2), int64(5), object(5)\n",
      "memory usage: 83.7+ KB\n"
     ]
    }
   ],
   "source": [
    "df.info()"
   ]
  },
  {
   "cell_type": "markdown",
   "id": "f4bed7e0",
   "metadata": {
    "papermill": {
     "duration": 0.048106,
     "end_time": "2024-08-28T05:16:42.464178",
     "exception": false,
     "start_time": "2024-08-28T05:16:42.416072",
     "status": "completed"
    },
    "tags": []
   },
   "source": [
    "### Numerical columns : PassengerId , Age , Fare , "
   ]
  },
  {
   "cell_type": "markdown",
   "id": "435b9ae9",
   "metadata": {
    "papermill": {
     "duration": 0.047938,
     "end_time": "2024-08-28T05:16:42.560661",
     "exception": false,
     "start_time": "2024-08-28T05:16:42.512723",
     "status": "completed"
    },
    "tags": []
   },
   "source": [
    "### Categorical columns : Survived , Pclass , Sex , SibSp , Parch , Embarked"
   ]
  },
  {
   "cell_type": "markdown",
   "id": "6ff53732",
   "metadata": {
    "papermill": {
     "duration": 0.048843,
     "end_time": "2024-08-28T05:16:42.657979",
     "exception": false,
     "start_time": "2024-08-28T05:16:42.609136",
     "status": "completed"
    },
    "tags": []
   },
   "source": [
    "### Describe"
   ]
  },
  {
   "cell_type": "code",
   "execution_count": 7,
   "id": "a1aa2dbd",
   "metadata": {
    "execution": {
     "iopub.execute_input": "2024-08-28T05:16:42.758259Z",
     "iopub.status.busy": "2024-08-28T05:16:42.757771Z",
     "iopub.status.idle": "2024-08-28T05:16:42.797394Z",
     "shell.execute_reply": "2024-08-28T05:16:42.795951Z"
    },
    "papermill": {
     "duration": 0.09349,
     "end_time": "2024-08-28T05:16:42.800431",
     "exception": false,
     "start_time": "2024-08-28T05:16:42.706941",
     "status": "completed"
    },
    "tags": []
   },
   "outputs": [
    {
     "data": {
      "text/html": [
       "<div>\n",
       "<style scoped>\n",
       "    .dataframe tbody tr th:only-of-type {\n",
       "        vertical-align: middle;\n",
       "    }\n",
       "\n",
       "    .dataframe tbody tr th {\n",
       "        vertical-align: top;\n",
       "    }\n",
       "\n",
       "    .dataframe thead th {\n",
       "        text-align: right;\n",
       "    }\n",
       "</style>\n",
       "<table border=\"1\" class=\"dataframe\">\n",
       "  <thead>\n",
       "    <tr style=\"text-align: right;\">\n",
       "      <th></th>\n",
       "      <th>PassengerId</th>\n",
       "      <th>Survived</th>\n",
       "      <th>Pclass</th>\n",
       "      <th>Age</th>\n",
       "      <th>SibSp</th>\n",
       "      <th>Parch</th>\n",
       "      <th>Fare</th>\n",
       "    </tr>\n",
       "  </thead>\n",
       "  <tbody>\n",
       "    <tr>\n",
       "      <th>count</th>\n",
       "      <td>891.000000</td>\n",
       "      <td>891.000000</td>\n",
       "      <td>891.000000</td>\n",
       "      <td>714.000000</td>\n",
       "      <td>891.000000</td>\n",
       "      <td>891.000000</td>\n",
       "      <td>891.000000</td>\n",
       "    </tr>\n",
       "    <tr>\n",
       "      <th>mean</th>\n",
       "      <td>446.000000</td>\n",
       "      <td>0.383838</td>\n",
       "      <td>2.308642</td>\n",
       "      <td>29.699118</td>\n",
       "      <td>0.523008</td>\n",
       "      <td>0.381594</td>\n",
       "      <td>32.204208</td>\n",
       "    </tr>\n",
       "    <tr>\n",
       "      <th>std</th>\n",
       "      <td>257.353842</td>\n",
       "      <td>0.486592</td>\n",
       "      <td>0.836071</td>\n",
       "      <td>14.526497</td>\n",
       "      <td>1.102743</td>\n",
       "      <td>0.806057</td>\n",
       "      <td>49.693429</td>\n",
       "    </tr>\n",
       "    <tr>\n",
       "      <th>min</th>\n",
       "      <td>1.000000</td>\n",
       "      <td>0.000000</td>\n",
       "      <td>1.000000</td>\n",
       "      <td>0.420000</td>\n",
       "      <td>0.000000</td>\n",
       "      <td>0.000000</td>\n",
       "      <td>0.000000</td>\n",
       "    </tr>\n",
       "    <tr>\n",
       "      <th>25%</th>\n",
       "      <td>223.500000</td>\n",
       "      <td>0.000000</td>\n",
       "      <td>2.000000</td>\n",
       "      <td>20.125000</td>\n",
       "      <td>0.000000</td>\n",
       "      <td>0.000000</td>\n",
       "      <td>7.910400</td>\n",
       "    </tr>\n",
       "    <tr>\n",
       "      <th>50%</th>\n",
       "      <td>446.000000</td>\n",
       "      <td>0.000000</td>\n",
       "      <td>3.000000</td>\n",
       "      <td>28.000000</td>\n",
       "      <td>0.000000</td>\n",
       "      <td>0.000000</td>\n",
       "      <td>14.454200</td>\n",
       "    </tr>\n",
       "    <tr>\n",
       "      <th>75%</th>\n",
       "      <td>668.500000</td>\n",
       "      <td>1.000000</td>\n",
       "      <td>3.000000</td>\n",
       "      <td>38.000000</td>\n",
       "      <td>1.000000</td>\n",
       "      <td>0.000000</td>\n",
       "      <td>31.000000</td>\n",
       "    </tr>\n",
       "    <tr>\n",
       "      <th>max</th>\n",
       "      <td>891.000000</td>\n",
       "      <td>1.000000</td>\n",
       "      <td>3.000000</td>\n",
       "      <td>80.000000</td>\n",
       "      <td>8.000000</td>\n",
       "      <td>6.000000</td>\n",
       "      <td>512.329200</td>\n",
       "    </tr>\n",
       "  </tbody>\n",
       "</table>\n",
       "</div>"
      ],
      "text/plain": [
       "       PassengerId    Survived      Pclass         Age       SibSp  \\\n",
       "count   891.000000  891.000000  891.000000  714.000000  891.000000   \n",
       "mean    446.000000    0.383838    2.308642   29.699118    0.523008   \n",
       "std     257.353842    0.486592    0.836071   14.526497    1.102743   \n",
       "min       1.000000    0.000000    1.000000    0.420000    0.000000   \n",
       "25%     223.500000    0.000000    2.000000   20.125000    0.000000   \n",
       "50%     446.000000    0.000000    3.000000   28.000000    0.000000   \n",
       "75%     668.500000    1.000000    3.000000   38.000000    1.000000   \n",
       "max     891.000000    1.000000    3.000000   80.000000    8.000000   \n",
       "\n",
       "            Parch        Fare  \n",
       "count  891.000000  891.000000  \n",
       "mean     0.381594   32.204208  \n",
       "std      0.806057   49.693429  \n",
       "min      0.000000    0.000000  \n",
       "25%      0.000000    7.910400  \n",
       "50%      0.000000   14.454200  \n",
       "75%      0.000000   31.000000  \n",
       "max      6.000000  512.329200  "
      ]
     },
     "execution_count": 7,
     "metadata": {},
     "output_type": "execute_result"
    }
   ],
   "source": [
    "df.describe()"
   ]
  },
  {
   "cell_type": "markdown",
   "id": "583f126e",
   "metadata": {
    "papermill": {
     "duration": 0.049965,
     "end_time": "2024-08-28T05:16:42.900856",
     "exception": false,
     "start_time": "2024-08-28T05:16:42.850891",
     "status": "completed"
    },
    "tags": []
   },
   "source": [
    "### Data Preprocessing"
   ]
  },
  {
   "cell_type": "code",
   "execution_count": 8,
   "id": "eb304218",
   "metadata": {
    "execution": {
     "iopub.execute_input": "2024-08-28T05:16:43.005047Z",
     "iopub.status.busy": "2024-08-28T05:16:43.004628Z",
     "iopub.status.idle": "2024-08-28T05:16:43.015984Z",
     "shell.execute_reply": "2024-08-28T05:16:43.014389Z"
    },
    "papermill": {
     "duration": 0.066246,
     "end_time": "2024-08-28T05:16:43.019255",
     "exception": false,
     "start_time": "2024-08-28T05:16:42.953009",
     "status": "completed"
    },
    "tags": []
   },
   "outputs": [
    {
     "data": {
      "text/plain": [
       "PassengerId      0\n",
       "Survived         0\n",
       "Pclass           0\n",
       "Name             0\n",
       "Sex              0\n",
       "Age            177\n",
       "SibSp            0\n",
       "Parch            0\n",
       "Ticket           0\n",
       "Fare             0\n",
       "Cabin          687\n",
       "Embarked         2\n",
       "dtype: int64"
      ]
     },
     "execution_count": 8,
     "metadata": {},
     "output_type": "execute_result"
    }
   ],
   "source": [
    "df.isnull().sum()"
   ]
  },
  {
   "cell_type": "code",
   "execution_count": 9,
   "id": "5921a631",
   "metadata": {
    "execution": {
     "iopub.execute_input": "2024-08-28T05:16:43.124286Z",
     "iopub.status.busy": "2024-08-28T05:16:43.123837Z",
     "iopub.status.idle": "2024-08-28T05:16:43.136022Z",
     "shell.execute_reply": "2024-08-28T05:16:43.134786Z"
    },
    "papermill": {
     "duration": 0.068437,
     "end_time": "2024-08-28T05:16:43.138633",
     "exception": false,
     "start_time": "2024-08-28T05:16:43.070196",
     "status": "completed"
    },
    "tags": []
   },
   "outputs": [
    {
     "data": {
      "text/plain": [
       "PassengerId     0.000000\n",
       "Survived        0.000000\n",
       "Pclass          0.000000\n",
       "Name            0.000000\n",
       "Sex             0.000000\n",
       "Age            19.865320\n",
       "SibSp           0.000000\n",
       "Parch           0.000000\n",
       "Ticket          0.000000\n",
       "Fare            0.000000\n",
       "Cabin          77.104377\n",
       "Embarked        0.224467\n",
       "dtype: float64"
      ]
     },
     "execution_count": 9,
     "metadata": {},
     "output_type": "execute_result"
    }
   ],
   "source": [
    "df.isnull().sum() / len(df) * 100"
   ]
  },
  {
   "cell_type": "markdown",
   "id": "5c5f5a37",
   "metadata": {
    "papermill": {
     "duration": 0.050351,
     "end_time": "2024-08-28T05:16:43.239992",
     "exception": false,
     "start_time": "2024-08-28T05:16:43.189641",
     "status": "completed"
    },
    "tags": []
   },
   "source": [
    "#### Insights : we should be drop cabin because it contains larage number pf null values are there. which is more than 25% . In real time model building that threshold value has been determined by client only but for practice purpose . we take threshold as 25 %"
   ]
  },
  {
   "cell_type": "code",
   "execution_count": 10,
   "id": "2ab689f7",
   "metadata": {
    "execution": {
     "iopub.execute_input": "2024-08-28T05:16:43.345285Z",
     "iopub.status.busy": "2024-08-28T05:16:43.344801Z",
     "iopub.status.idle": "2024-08-28T05:16:43.354816Z",
     "shell.execute_reply": "2024-08-28T05:16:43.353602Z"
    },
    "papermill": {
     "duration": 0.064626,
     "end_time": "2024-08-28T05:16:43.357490",
     "exception": false,
     "start_time": "2024-08-28T05:16:43.292864",
     "status": "completed"
    },
    "tags": []
   },
   "outputs": [],
   "source": [
    "df.drop(columns = 'Cabin' , axis = 1 , inplace = True)"
   ]
  },
  {
   "cell_type": "markdown",
   "id": "4c09d558",
   "metadata": {
    "papermill": {
     "duration": 0.049868,
     "end_time": "2024-08-28T05:16:43.457475",
     "exception": false,
     "start_time": "2024-08-28T05:16:43.407607",
     "status": "completed"
    },
    "tags": []
   },
   "source": [
    "#### We will check age  imputed by mean or median  and embarked imputed by mode only. because embarked is categorical column."
   ]
  },
  {
   "cell_type": "code",
   "execution_count": 11,
   "id": "05ab129c",
   "metadata": {
    "execution": {
     "iopub.execute_input": "2024-08-28T05:16:43.560799Z",
     "iopub.status.busy": "2024-08-28T05:16:43.560321Z",
     "iopub.status.idle": "2024-08-28T05:16:43.593805Z",
     "shell.execute_reply": "2024-08-28T05:16:43.592258Z"
    },
    "papermill": {
     "duration": 0.088612,
     "end_time": "2024-08-28T05:16:43.596828",
     "exception": false,
     "start_time": "2024-08-28T05:16:43.508216",
     "status": "completed"
    },
    "tags": []
   },
   "outputs": [
    {
     "data": {
      "text/html": [
       "<div>\n",
       "<style scoped>\n",
       "    .dataframe tbody tr th:only-of-type {\n",
       "        vertical-align: middle;\n",
       "    }\n",
       "\n",
       "    .dataframe tbody tr th {\n",
       "        vertical-align: top;\n",
       "    }\n",
       "\n",
       "    .dataframe thead th {\n",
       "        text-align: right;\n",
       "    }\n",
       "</style>\n",
       "<table border=\"1\" class=\"dataframe\">\n",
       "  <thead>\n",
       "    <tr style=\"text-align: right;\">\n",
       "      <th></th>\n",
       "      <th>PassengerId</th>\n",
       "      <th>Survived</th>\n",
       "      <th>Pclass</th>\n",
       "      <th>Age</th>\n",
       "      <th>SibSp</th>\n",
       "      <th>Parch</th>\n",
       "      <th>Fare</th>\n",
       "    </tr>\n",
       "  </thead>\n",
       "  <tbody>\n",
       "    <tr>\n",
       "      <th>count</th>\n",
       "      <td>891.000000</td>\n",
       "      <td>891.000000</td>\n",
       "      <td>891.000000</td>\n",
       "      <td>714.000000</td>\n",
       "      <td>891.000000</td>\n",
       "      <td>891.000000</td>\n",
       "      <td>891.000000</td>\n",
       "    </tr>\n",
       "    <tr>\n",
       "      <th>mean</th>\n",
       "      <td>446.000000</td>\n",
       "      <td>0.383838</td>\n",
       "      <td>2.308642</td>\n",
       "      <td>29.699118</td>\n",
       "      <td>0.523008</td>\n",
       "      <td>0.381594</td>\n",
       "      <td>32.204208</td>\n",
       "    </tr>\n",
       "    <tr>\n",
       "      <th>std</th>\n",
       "      <td>257.353842</td>\n",
       "      <td>0.486592</td>\n",
       "      <td>0.836071</td>\n",
       "      <td>14.526497</td>\n",
       "      <td>1.102743</td>\n",
       "      <td>0.806057</td>\n",
       "      <td>49.693429</td>\n",
       "    </tr>\n",
       "    <tr>\n",
       "      <th>min</th>\n",
       "      <td>1.000000</td>\n",
       "      <td>0.000000</td>\n",
       "      <td>1.000000</td>\n",
       "      <td>0.420000</td>\n",
       "      <td>0.000000</td>\n",
       "      <td>0.000000</td>\n",
       "      <td>0.000000</td>\n",
       "    </tr>\n",
       "    <tr>\n",
       "      <th>25%</th>\n",
       "      <td>223.500000</td>\n",
       "      <td>0.000000</td>\n",
       "      <td>2.000000</td>\n",
       "      <td>20.125000</td>\n",
       "      <td>0.000000</td>\n",
       "      <td>0.000000</td>\n",
       "      <td>7.910400</td>\n",
       "    </tr>\n",
       "    <tr>\n",
       "      <th>50%</th>\n",
       "      <td>446.000000</td>\n",
       "      <td>0.000000</td>\n",
       "      <td>3.000000</td>\n",
       "      <td>28.000000</td>\n",
       "      <td>0.000000</td>\n",
       "      <td>0.000000</td>\n",
       "      <td>14.454200</td>\n",
       "    </tr>\n",
       "    <tr>\n",
       "      <th>75%</th>\n",
       "      <td>668.500000</td>\n",
       "      <td>1.000000</td>\n",
       "      <td>3.000000</td>\n",
       "      <td>38.000000</td>\n",
       "      <td>1.000000</td>\n",
       "      <td>0.000000</td>\n",
       "      <td>31.000000</td>\n",
       "    </tr>\n",
       "    <tr>\n",
       "      <th>max</th>\n",
       "      <td>891.000000</td>\n",
       "      <td>1.000000</td>\n",
       "      <td>3.000000</td>\n",
       "      <td>80.000000</td>\n",
       "      <td>8.000000</td>\n",
       "      <td>6.000000</td>\n",
       "      <td>512.329200</td>\n",
       "    </tr>\n",
       "  </tbody>\n",
       "</table>\n",
       "</div>"
      ],
      "text/plain": [
       "       PassengerId    Survived      Pclass         Age       SibSp  \\\n",
       "count   891.000000  891.000000  891.000000  714.000000  891.000000   \n",
       "mean    446.000000    0.383838    2.308642   29.699118    0.523008   \n",
       "std     257.353842    0.486592    0.836071   14.526497    1.102743   \n",
       "min       1.000000    0.000000    1.000000    0.420000    0.000000   \n",
       "25%     223.500000    0.000000    2.000000   20.125000    0.000000   \n",
       "50%     446.000000    0.000000    3.000000   28.000000    0.000000   \n",
       "75%     668.500000    1.000000    3.000000   38.000000    1.000000   \n",
       "max     891.000000    1.000000    3.000000   80.000000    8.000000   \n",
       "\n",
       "            Parch        Fare  \n",
       "count  891.000000  891.000000  \n",
       "mean     0.381594   32.204208  \n",
       "std      0.806057   49.693429  \n",
       "min      0.000000    0.000000  \n",
       "25%      0.000000    7.910400  \n",
       "50%      0.000000   14.454200  \n",
       "75%      0.000000   31.000000  \n",
       "max      6.000000  512.329200  "
      ]
     },
     "execution_count": 11,
     "metadata": {},
     "output_type": "execute_result"
    }
   ],
   "source": [
    "df.describe()"
   ]
  },
  {
   "cell_type": "markdown",
   "id": "7f659065",
   "metadata": {
    "papermill": {
     "duration": 0.051204,
     "end_time": "2024-08-28T05:16:43.703881",
     "exception": false,
     "start_time": "2024-08-28T05:16:43.652677",
     "status": "completed"
    },
    "tags": []
   },
   "source": [
    "#### Insights : From analyasing describe , we get know age feature is more or close to normal distribution because there is such major diffrence between mean and median as well. so we can impute here mean or median aslo. so we impute here by median only "
   ]
  },
  {
   "cell_type": "markdown",
   "id": "7e144878",
   "metadata": {
    "papermill": {
     "duration": 0.052309,
     "end_time": "2024-08-28T05:16:43.810671",
     "exception": false,
     "start_time": "2024-08-28T05:16:43.758362",
     "status": "completed"
    },
    "tags": []
   },
   "source": [
    "#### distplot"
   ]
  },
  {
   "cell_type": "code",
   "execution_count": 12,
   "id": "a9f4eee6",
   "metadata": {
    "execution": {
     "iopub.execute_input": "2024-08-28T05:16:43.925908Z",
     "iopub.status.busy": "2024-08-28T05:16:43.925371Z",
     "iopub.status.idle": "2024-08-28T05:16:44.460011Z",
     "shell.execute_reply": "2024-08-28T05:16:44.458452Z"
    },
    "papermill": {
     "duration": 0.602088,
     "end_time": "2024-08-28T05:16:44.463333",
     "exception": false,
     "start_time": "2024-08-28T05:16:43.861245",
     "status": "completed"
    },
    "tags": []
   },
   "outputs": [
    {
     "data": {
      "image/png": "[encoded data removed]",
      "text/plain": [
       "<Figure size 640x480 with 1 Axes>"
      ]
     },
     "metadata": {},
     "output_type": "display_data"
    }
   ],
   "source": [
    "sns.distplot(df['Age'], hist = True)\n",
    "plt.show()"
   ]
  },
  {
   "cell_type": "code",
   "execution_count": 13,
   "id": "40bc3c8d",
   "metadata": {
    "execution": {
     "iopub.execute_input": "2024-08-28T05:16:44.567006Z",
     "iopub.status.busy": "2024-08-28T05:16:44.566549Z",
     "iopub.status.idle": "2024-08-28T05:16:44.576359Z",
     "shell.execute_reply": "2024-08-28T05:16:44.574941Z"
    },
    "papermill": {
     "duration": 0.065535,
     "end_time": "2024-08-28T05:16:44.579393",
     "exception": false,
     "start_time": "2024-08-28T05:16:44.513858",
     "status": "completed"
    },
    "tags": []
   },
   "outputs": [
    {
     "data": {
      "text/plain": [
       "0.38910778230082704"
      ]
     },
     "execution_count": 13,
     "metadata": {},
     "output_type": "execute_result"
    }
   ],
   "source": [
    "df['Age'].skew()"
   ]
  },
  {
   "cell_type": "markdown",
   "id": "902d04be",
   "metadata": {
    "papermill": {
     "duration": 0.051295,
     "end_time": "2024-08-28T05:16:44.682944",
     "exception": false,
     "start_time": "2024-08-28T05:16:44.631649",
     "status": "completed"
    },
    "tags": []
   },
   "source": [
    "#### Insights : From Distribution plot , we get to know data is more or close to normal distribution but also it is skewed to right also............. so  we impute missing values of age by median"
   ]
  },
  {
   "cell_type": "code",
   "execution_count": 14,
   "id": "aa5f2634",
   "metadata": {
    "execution": {
     "iopub.execute_input": "2024-08-28T05:16:44.789258Z",
     "iopub.status.busy": "2024-08-28T05:16:44.788765Z",
     "iopub.status.idle": "2024-08-28T05:16:44.814595Z",
     "shell.execute_reply": "2024-08-28T05:16:44.813127Z"
    },
    "papermill": {
     "duration": 0.083474,
     "end_time": "2024-08-28T05:16:44.817674",
     "exception": false,
     "start_time": "2024-08-28T05:16:44.734200",
     "status": "completed"
    },
    "tags": []
   },
   "outputs": [
    {
     "data": {
      "text/html": [
       "<div>\n",
       "<style scoped>\n",
       "    .dataframe tbody tr th:only-of-type {\n",
       "        vertical-align: middle;\n",
       "    }\n",
       "\n",
       "    .dataframe tbody tr th {\n",
       "        vertical-align: top;\n",
       "    }\n",
       "\n",
       "    .dataframe thead th {\n",
       "        text-align: right;\n",
       "    }\n",
       "</style>\n",
       "<table border=\"1\" class=\"dataframe\">\n",
       "  <thead>\n",
       "    <tr style=\"text-align: right;\">\n",
       "      <th></th>\n",
       "      <th>PassengerId</th>\n",
       "      <th>Survived</th>\n",
       "      <th>Pclass</th>\n",
       "      <th>Name</th>\n",
       "      <th>Sex</th>\n",
       "      <th>Age</th>\n",
       "      <th>SibSp</th>\n",
       "      <th>Parch</th>\n",
       "      <th>Ticket</th>\n",
       "      <th>Fare</th>\n",
       "      <th>Embarked</th>\n",
       "    </tr>\n",
       "  </thead>\n",
       "  <tbody>\n",
       "    <tr>\n",
       "      <th>5</th>\n",
       "      <td>6</td>\n",
       "      <td>0</td>\n",
       "      <td>3</td>\n",
       "      <td>Moran, Mr. James</td>\n",
       "      <td>male</td>\n",
       "      <td>NaN</td>\n",
       "      <td>0</td>\n",
       "      <td>0</td>\n",
       "      <td>330877</td>\n",
       "      <td>8.4583</td>\n",
       "      <td>Q</td>\n",
       "    </tr>\n",
       "    <tr>\n",
       "      <th>17</th>\n",
       "      <td>18</td>\n",
       "      <td>1</td>\n",
       "      <td>2</td>\n",
       "      <td>Williams, Mr. Charles Eugene</td>\n",
       "      <td>male</td>\n",
       "      <td>NaN</td>\n",
       "      <td>0</td>\n",
       "      <td>0</td>\n",
       "      <td>244373</td>\n",
       "      <td>13.0000</td>\n",
       "      <td>S</td>\n",
       "    </tr>\n",
       "    <tr>\n",
       "      <th>19</th>\n",
       "      <td>20</td>\n",
       "      <td>1</td>\n",
       "      <td>3</td>\n",
       "      <td>Masselmani, Mrs. Fatima</td>\n",
       "      <td>female</td>\n",
       "      <td>NaN</td>\n",
       "      <td>0</td>\n",
       "      <td>0</td>\n",
       "      <td>2649</td>\n",
       "      <td>7.2250</td>\n",
       "      <td>C</td>\n",
       "    </tr>\n",
       "    <tr>\n",
       "      <th>26</th>\n",
       "      <td>27</td>\n",
       "      <td>0</td>\n",
       "      <td>3</td>\n",
       "      <td>Emir, Mr. Farred Chehab</td>\n",
       "      <td>male</td>\n",
       "      <td>NaN</td>\n",
       "      <td>0</td>\n",
       "      <td>0</td>\n",
       "      <td>2631</td>\n",
       "      <td>7.2250</td>\n",
       "      <td>C</td>\n",
       "    </tr>\n",
       "    <tr>\n",
       "      <th>28</th>\n",
       "      <td>29</td>\n",
       "      <td>1</td>\n",
       "      <td>3</td>\n",
       "      <td>O'Dwyer, Miss. Ellen \"Nellie\"</td>\n",
       "      <td>female</td>\n",
       "      <td>NaN</td>\n",
       "      <td>0</td>\n",
       "      <td>0</td>\n",
       "      <td>330959</td>\n",
       "      <td>7.8792</td>\n",
       "      <td>Q</td>\n",
       "    </tr>\n",
       "    <tr>\n",
       "      <th>...</th>\n",
       "      <td>...</td>\n",
       "      <td>...</td>\n",
       "      <td>...</td>\n",
       "      <td>...</td>\n",
       "      <td>...</td>\n",
       "      <td>...</td>\n",
       "      <td>...</td>\n",
       "      <td>...</td>\n",
       "      <td>...</td>\n",
       "      <td>...</td>\n",
       "      <td>...</td>\n",
       "    </tr>\n",
       "    <tr>\n",
       "      <th>859</th>\n",
       "      <td>860</td>\n",
       "      <td>0</td>\n",
       "      <td>3</td>\n",
       "      <td>Razi, Mr. Raihed</td>\n",
       "      <td>male</td>\n",
       "      <td>NaN</td>\n",
       "      <td>0</td>\n",
       "      <td>0</td>\n",
       "      <td>2629</td>\n",
       "      <td>7.2292</td>\n",
       "      <td>C</td>\n",
       "    </tr>\n",
       "    <tr>\n",
       "      <th>863</th>\n",
       "      <td>864</td>\n",
       "      <td>0</td>\n",
       "      <td>3</td>\n",
       "      <td>Sage, Miss. Dorothy Edith \"Dolly\"</td>\n",
       "      <td>female</td>\n",
       "      <td>NaN</td>\n",
       "      <td>8</td>\n",
       "      <td>2</td>\n",
       "      <td>CA. 2343</td>\n",
       "      <td>69.5500</td>\n",
       "      <td>S</td>\n",
       "    </tr>\n",
       "    <tr>\n",
       "      <th>868</th>\n",
       "      <td>869</td>\n",
       "      <td>0</td>\n",
       "      <td>3</td>\n",
       "      <td>van Melkebeke, Mr. Philemon</td>\n",
       "      <td>male</td>\n",
       "      <td>NaN</td>\n",
       "      <td>0</td>\n",
       "      <td>0</td>\n",
       "      <td>345777</td>\n",
       "      <td>9.5000</td>\n",
       "      <td>S</td>\n",
       "    </tr>\n",
       "    <tr>\n",
       "      <th>878</th>\n",
       "      <td>879</td>\n",
       "      <td>0</td>\n",
       "      <td>3</td>\n",
       "      <td>Laleff, Mr. Kristo</td>\n",
       "      <td>male</td>\n",
       "      <td>NaN</td>\n",
       "      <td>0</td>\n",
       "      <td>0</td>\n",
       "      <td>349217</td>\n",
       "      <td>7.8958</td>\n",
       "      <td>S</td>\n",
       "    </tr>\n",
       "    <tr>\n",
       "      <th>888</th>\n",
       "      <td>889</td>\n",
       "      <td>0</td>\n",
       "      <td>3</td>\n",
       "      <td>Johnston, Miss. Catherine Helen \"Carrie\"</td>\n",
       "      <td>female</td>\n",
       "      <td>NaN</td>\n",
       "      <td>1</td>\n",
       "      <td>2</td>\n",
       "      <td>W./C. 6607</td>\n",
       "      <td>23.4500</td>\n",
       "      <td>S</td>\n",
       "    </tr>\n",
       "  </tbody>\n",
       "</table>\n",
       "<p>177 rows × 11 columns</p>\n",
       "</div>"
      ],
      "text/plain": [
       "     PassengerId  Survived  Pclass                                      Name  \\\n",
       "5              6         0       3                          Moran, Mr. James   \n",
       "17            18         1       2              Williams, Mr. Charles Eugene   \n",
       "19            20         1       3                   Masselmani, Mrs. Fatima   \n",
       "26            27         0       3                   Emir, Mr. Farred Chehab   \n",
       "28            29         1       3             O'Dwyer, Miss. Ellen \"Nellie\"   \n",
       "..           ...       ...     ...                                       ...   \n",
       "859          860         0       3                          Razi, Mr. Raihed   \n",
       "863          864         0       3         Sage, Miss. Dorothy Edith \"Dolly\"   \n",
       "868          869         0       3               van Melkebeke, Mr. Philemon   \n",
       "878          879         0       3                        Laleff, Mr. Kristo   \n",
       "888          889         0       3  Johnston, Miss. Catherine Helen \"Carrie\"   \n",
       "\n",
       "        Sex  Age  SibSp  Parch      Ticket     Fare Embarked  \n",
       "5      male  NaN      0      0      330877   8.4583        Q  \n",
       "17     male  NaN      0      0      244373  13.0000        S  \n",
       "19   female  NaN      0      0        2649   7.2250        C  \n",
       "26     male  NaN      0      0        2631   7.2250        C  \n",
       "28   female  NaN      0      0      330959   7.8792        Q  \n",
       "..      ...  ...    ...    ...         ...      ...      ...  \n",
       "859    male  NaN      0      0        2629   7.2292        C  \n",
       "863  female  NaN      8      2    CA. 2343  69.5500        S  \n",
       "868    male  NaN      0      0      345777   9.5000        S  \n",
       "878    male  NaN      0      0      349217   7.8958        S  \n",
       "888  female  NaN      1      2  W./C. 6607  23.4500        S  \n",
       "\n",
       "[177 rows x 11 columns]"
      ]
     },
     "execution_count": 14,
     "metadata": {},
     "output_type": "execute_result"
    }
   ],
   "source": [
    "df[df['Age'].isnull()]"
   ]
  },
  {
   "cell_type": "code",
   "execution_count": 15,
   "id": "03fac6b6",
   "metadata": {
    "execution": {
     "iopub.execute_input": "2024-08-28T05:16:44.927944Z",
     "iopub.status.busy": "2024-08-28T05:16:44.926395Z",
     "iopub.status.idle": "2024-08-28T05:16:44.936176Z",
     "shell.execute_reply": "2024-08-28T05:16:44.934648Z"
    },
    "papermill": {
     "duration": 0.067505,
     "end_time": "2024-08-28T05:16:44.939380",
     "exception": false,
     "start_time": "2024-08-28T05:16:44.871875",
     "status": "completed"
    },
    "tags": []
   },
   "outputs": [],
   "source": [
    "df['Age'].fillna(df['Age'].median() , inplace = True)"
   ]
  },
  {
   "cell_type": "code",
   "execution_count": 16,
   "id": "caf14398",
   "metadata": {
    "execution": {
     "iopub.execute_input": "2024-08-28T05:16:45.049330Z",
     "iopub.status.busy": "2024-08-28T05:16:45.048849Z",
     "iopub.status.idle": "2024-08-28T05:16:45.063578Z",
     "shell.execute_reply": "2024-08-28T05:16:45.062231Z"
    },
    "papermill": {
     "duration": 0.071174,
     "end_time": "2024-08-28T05:16:45.066233",
     "exception": false,
     "start_time": "2024-08-28T05:16:44.995059",
     "status": "completed"
    },
    "tags": []
   },
   "outputs": [
    {
     "data": {
      "text/html": [
       "<div>\n",
       "<style scoped>\n",
       "    .dataframe tbody tr th:only-of-type {\n",
       "        vertical-align: middle;\n",
       "    }\n",
       "\n",
       "    .dataframe tbody tr th {\n",
       "        vertical-align: top;\n",
       "    }\n",
       "\n",
       "    .dataframe thead th {\n",
       "        text-align: right;\n",
       "    }\n",
       "</style>\n",
       "<table border=\"1\" class=\"dataframe\">\n",
       "  <thead>\n",
       "    <tr style=\"text-align: right;\">\n",
       "      <th></th>\n",
       "      <th>PassengerId</th>\n",
       "      <th>Survived</th>\n",
       "      <th>Pclass</th>\n",
       "      <th>Name</th>\n",
       "      <th>Sex</th>\n",
       "      <th>Age</th>\n",
       "      <th>SibSp</th>\n",
       "      <th>Parch</th>\n",
       "      <th>Ticket</th>\n",
       "      <th>Fare</th>\n",
       "      <th>Embarked</th>\n",
       "    </tr>\n",
       "  </thead>\n",
       "  <tbody>\n",
       "  </tbody>\n",
       "</table>\n",
       "</div>"
      ],
      "text/plain": [
       "Empty DataFrame\n",
       "Columns: [PassengerId, Survived, Pclass, Name, Sex, Age, SibSp, Parch, Ticket, Fare, Embarked]\n",
       "Index: []"
      ]
     },
     "execution_count": 16,
     "metadata": {},
     "output_type": "execute_result"
    }
   ],
   "source": [
    "df[df['Age'].isnull()]"
   ]
  },
  {
   "cell_type": "markdown",
   "id": "9da82c9d",
   "metadata": {
    "papermill": {
     "duration": 0.053114,
     "end_time": "2024-08-28T05:16:45.171367",
     "exception": false,
     "start_time": "2024-08-28T05:16:45.118253",
     "status": "completed"
    },
    "tags": []
   },
   "source": [
    "#### Missing value imputation done with Age feature"
   ]
  },
  {
   "cell_type": "markdown",
   "id": "a1e48157",
   "metadata": {
    "papermill": {
     "duration": 0.05412,
     "end_time": "2024-08-28T05:16:45.279279",
     "exception": false,
     "start_time": "2024-08-28T05:16:45.225159",
     "status": "completed"
    },
    "tags": []
   },
   "source": [
    "#### Embarked"
   ]
  },
  {
   "cell_type": "code",
   "execution_count": 17,
   "id": "29cd49f2",
   "metadata": {
    "execution": {
     "iopub.execute_input": "2024-08-28T05:16:45.385939Z",
     "iopub.status.busy": "2024-08-28T05:16:45.385486Z",
     "iopub.status.idle": "2024-08-28T05:16:45.405263Z",
     "shell.execute_reply": "2024-08-28T05:16:45.403907Z"
    },
    "papermill": {
     "duration": 0.077164,
     "end_time": "2024-08-28T05:16:45.408373",
     "exception": false,
     "start_time": "2024-08-28T05:16:45.331209",
     "status": "completed"
    },
    "tags": []
   },
   "outputs": [
    {
     "data": {
      "text/html": [
       "<div>\n",
       "<style scoped>\n",
       "    .dataframe tbody tr th:only-of-type {\n",
       "        vertical-align: middle;\n",
       "    }\n",
       "\n",
       "    .dataframe tbody tr th {\n",
       "        vertical-align: top;\n",
       "    }\n",
       "\n",
       "    .dataframe thead th {\n",
       "        text-align: right;\n",
       "    }\n",
       "</style>\n",
       "<table border=\"1\" class=\"dataframe\">\n",
       "  <thead>\n",
       "    <tr style=\"text-align: right;\">\n",
       "      <th></th>\n",
       "      <th>PassengerId</th>\n",
       "      <th>Survived</th>\n",
       "      <th>Pclass</th>\n",
       "      <th>Name</th>\n",
       "      <th>Sex</th>\n",
       "      <th>Age</th>\n",
       "      <th>SibSp</th>\n",
       "      <th>Parch</th>\n",
       "      <th>Ticket</th>\n",
       "      <th>Fare</th>\n",
       "      <th>Embarked</th>\n",
       "    </tr>\n",
       "  </thead>\n",
       "  <tbody>\n",
       "    <tr>\n",
       "      <th>61</th>\n",
       "      <td>62</td>\n",
       "      <td>1</td>\n",
       "      <td>1</td>\n",
       "      <td>Icard, Miss. Amelie</td>\n",
       "      <td>female</td>\n",
       "      <td>38.0</td>\n",
       "      <td>0</td>\n",
       "      <td>0</td>\n",
       "      <td>113572</td>\n",
       "      <td>80.0</td>\n",
       "      <td>NaN</td>\n",
       "    </tr>\n",
       "    <tr>\n",
       "      <th>829</th>\n",
       "      <td>830</td>\n",
       "      <td>1</td>\n",
       "      <td>1</td>\n",
       "      <td>Stone, Mrs. George Nelson (Martha Evelyn)</td>\n",
       "      <td>female</td>\n",
       "      <td>62.0</td>\n",
       "      <td>0</td>\n",
       "      <td>0</td>\n",
       "      <td>113572</td>\n",
       "      <td>80.0</td>\n",
       "      <td>NaN</td>\n",
       "    </tr>\n",
       "  </tbody>\n",
       "</table>\n",
       "</div>"
      ],
      "text/plain": [
       "     PassengerId  Survived  Pclass                                       Name  \\\n",
       "61            62         1       1                        Icard, Miss. Amelie   \n",
       "829          830         1       1  Stone, Mrs. George Nelson (Martha Evelyn)   \n",
       "\n",
       "        Sex   Age  SibSp  Parch  Ticket  Fare Embarked  \n",
       "61   female  38.0      0      0  113572  80.0      NaN  \n",
       "829  female  62.0      0      0  113572  80.0      NaN  "
      ]
     },
     "execution_count": 17,
     "metadata": {},
     "output_type": "execute_result"
    }
   ],
   "source": [
    "df[df['Embarked'].isnull()]"
   ]
  },
  {
   "cell_type": "code",
   "execution_count": 18,
   "id": "45f86470",
   "metadata": {
    "execution": {
     "iopub.execute_input": "2024-08-28T05:16:45.517860Z",
     "iopub.status.busy": "2024-08-28T05:16:45.517425Z",
     "iopub.status.idle": "2024-08-28T05:16:45.526818Z",
     "shell.execute_reply": "2024-08-28T05:16:45.525427Z"
    },
    "papermill": {
     "duration": 0.067606,
     "end_time": "2024-08-28T05:16:45.529477",
     "exception": false,
     "start_time": "2024-08-28T05:16:45.461871",
     "status": "completed"
    },
    "tags": []
   },
   "outputs": [
    {
     "data": {
      "text/plain": [
       "2"
      ]
     },
     "execution_count": 18,
     "metadata": {},
     "output_type": "execute_result"
    }
   ],
   "source": [
    "df['Embarked'].isnull().sum()"
   ]
  },
  {
   "cell_type": "code",
   "execution_count": 19,
   "id": "c2fa2fa1",
   "metadata": {
    "execution": {
     "iopub.execute_input": "2024-08-28T05:16:45.635958Z",
     "iopub.status.busy": "2024-08-28T05:16:45.634693Z",
     "iopub.status.idle": "2024-08-28T05:16:45.644747Z",
     "shell.execute_reply": "2024-08-28T05:16:45.643391Z"
    },
    "papermill": {
     "duration": 0.065754,
     "end_time": "2024-08-28T05:16:45.647196",
     "exception": false,
     "start_time": "2024-08-28T05:16:45.581442",
     "status": "completed"
    },
    "tags": []
   },
   "outputs": [
    {
     "data": {
      "text/plain": [
       "0    S\n",
       "Name: Embarked, dtype: object"
      ]
     },
     "execution_count": 19,
     "metadata": {},
     "output_type": "execute_result"
    }
   ],
   "source": [
    "df['Embarked'].mode()"
   ]
  },
  {
   "cell_type": "code",
   "execution_count": 20,
   "id": "b2f7473e",
   "metadata": {
    "execution": {
     "iopub.execute_input": "2024-08-28T05:16:45.753073Z",
     "iopub.status.busy": "2024-08-28T05:16:45.752580Z",
     "iopub.status.idle": "2024-08-28T05:16:45.762147Z",
     "shell.execute_reply": "2024-08-28T05:16:45.760773Z"
    },
    "papermill": {
     "duration": 0.066239,
     "end_time": "2024-08-28T05:16:45.764901",
     "exception": false,
     "start_time": "2024-08-28T05:16:45.698662",
     "status": "completed"
    },
    "tags": []
   },
   "outputs": [
    {
     "data": {
      "text/plain": [
       "'S'"
      ]
     },
     "execution_count": 20,
     "metadata": {},
     "output_type": "execute_result"
    }
   ],
   "source": [
    "df['Embarked'].mode()[0]"
   ]
  },
  {
   "cell_type": "code",
   "execution_count": 21,
   "id": "8015f708",
   "metadata": {
    "execution": {
     "iopub.execute_input": "2024-08-28T05:16:45.871720Z",
     "iopub.status.busy": "2024-08-28T05:16:45.871250Z",
     "iopub.status.idle": "2024-08-28T05:16:45.879150Z",
     "shell.execute_reply": "2024-08-28T05:16:45.877875Z"
    },
    "papermill": {
     "duration": 0.064667,
     "end_time": "2024-08-28T05:16:45.881907",
     "exception": false,
     "start_time": "2024-08-28T05:16:45.817240",
     "status": "completed"
    },
    "tags": []
   },
   "outputs": [],
   "source": [
    "df['Embarked'].fillna(df['Embarked'].mode()[0] , inplace = True)"
   ]
  },
  {
   "cell_type": "code",
   "execution_count": 22,
   "id": "18431892",
   "metadata": {
    "execution": {
     "iopub.execute_input": "2024-08-28T05:16:45.992317Z",
     "iopub.status.busy": "2024-08-28T05:16:45.991843Z",
     "iopub.status.idle": "2024-08-28T05:16:46.000403Z",
     "shell.execute_reply": "2024-08-28T05:16:45.999114Z"
    },
    "papermill": {
     "duration": 0.069016,
     "end_time": "2024-08-28T05:16:46.003560",
     "exception": false,
     "start_time": "2024-08-28T05:16:45.934544",
     "status": "completed"
    },
    "tags": []
   },
   "outputs": [
    {
     "data": {
      "text/plain": [
       "0"
      ]
     },
     "execution_count": 22,
     "metadata": {},
     "output_type": "execute_result"
    }
   ],
   "source": [
    "df['Embarked'].isnull().sum()"
   ]
  },
  {
   "cell_type": "code",
   "execution_count": 23,
   "id": "7a7e367c",
   "metadata": {
    "execution": {
     "iopub.execute_input": "2024-08-28T05:16:46.113258Z",
     "iopub.status.busy": "2024-08-28T05:16:46.112777Z",
     "iopub.status.idle": "2024-08-28T05:16:46.126101Z",
     "shell.execute_reply": "2024-08-28T05:16:46.124643Z"
    },
    "papermill": {
     "duration": 0.071175,
     "end_time": "2024-08-28T05:16:46.129193",
     "exception": false,
     "start_time": "2024-08-28T05:16:46.058018",
     "status": "completed"
    },
    "tags": []
   },
   "outputs": [
    {
     "data": {
      "text/html": [
       "<div>\n",
       "<style scoped>\n",
       "    .dataframe tbody tr th:only-of-type {\n",
       "        vertical-align: middle;\n",
       "    }\n",
       "\n",
       "    .dataframe tbody tr th {\n",
       "        vertical-align: top;\n",
       "    }\n",
       "\n",
       "    .dataframe thead th {\n",
       "        text-align: right;\n",
       "    }\n",
       "</style>\n",
       "<table border=\"1\" class=\"dataframe\">\n",
       "  <thead>\n",
       "    <tr style=\"text-align: right;\">\n",
       "      <th></th>\n",
       "      <th>PassengerId</th>\n",
       "      <th>Survived</th>\n",
       "      <th>Pclass</th>\n",
       "      <th>Name</th>\n",
       "      <th>Sex</th>\n",
       "      <th>Age</th>\n",
       "      <th>SibSp</th>\n",
       "      <th>Parch</th>\n",
       "      <th>Ticket</th>\n",
       "      <th>Fare</th>\n",
       "      <th>Embarked</th>\n",
       "    </tr>\n",
       "  </thead>\n",
       "  <tbody>\n",
       "  </tbody>\n",
       "</table>\n",
       "</div>"
      ],
      "text/plain": [
       "Empty DataFrame\n",
       "Columns: [PassengerId, Survived, Pclass, Name, Sex, Age, SibSp, Parch, Ticket, Fare, Embarked]\n",
       "Index: []"
      ]
     },
     "execution_count": 23,
     "metadata": {},
     "output_type": "execute_result"
    }
   ],
   "source": [
    "df[df['Embarked'].isnull()]"
   ]
  },
  {
   "cell_type": "markdown",
   "id": "e7f8aa7d",
   "metadata": {
    "papermill": {
     "duration": 0.052086,
     "end_time": "2024-08-28T05:16:46.234641",
     "exception": false,
     "start_time": "2024-08-28T05:16:46.182555",
     "status": "completed"
    },
    "tags": []
   },
   "source": [
    "### Cross check missing values"
   ]
  },
  {
   "cell_type": "code",
   "execution_count": 24,
   "id": "85d42338",
   "metadata": {
    "execution": {
     "iopub.execute_input": "2024-08-28T05:16:46.342145Z",
     "iopub.status.busy": "2024-08-28T05:16:46.341657Z",
     "iopub.status.idle": "2024-08-28T05:16:46.353602Z",
     "shell.execute_reply": "2024-08-28T05:16:46.352144Z"
    },
    "papermill": {
     "duration": 0.069535,
     "end_time": "2024-08-28T05:16:46.356665",
     "exception": false,
     "start_time": "2024-08-28T05:16:46.287130",
     "status": "completed"
    },
    "tags": []
   },
   "outputs": [
    {
     "data": {
      "text/plain": [
       "PassengerId    0\n",
       "Survived       0\n",
       "Pclass         0\n",
       "Name           0\n",
       "Sex            0\n",
       "Age            0\n",
       "SibSp          0\n",
       "Parch          0\n",
       "Ticket         0\n",
       "Fare           0\n",
       "Embarked       0\n",
       "dtype: int64"
      ]
     },
     "execution_count": 24,
     "metadata": {},
     "output_type": "execute_result"
    }
   ],
   "source": [
    "df.isnull().sum()"
   ]
  },
  {
   "cell_type": "markdown",
   "id": "3348247f",
   "metadata": {
    "papermill": {
     "duration": 0.053621,
     "end_time": "2024-08-28T05:16:46.464911",
     "exception": false,
     "start_time": "2024-08-28T05:16:46.411290",
     "status": "completed"
    },
    "tags": []
   },
   "source": [
    "### 2. Handling Characters"
   ]
  },
  {
   "cell_type": "code",
   "execution_count": 25,
   "id": "d31cfb2f",
   "metadata": {
    "execution": {
     "iopub.execute_input": "2024-08-28T05:16:46.574561Z",
     "iopub.status.busy": "2024-08-28T05:16:46.574068Z",
     "iopub.status.idle": "2024-08-28T05:16:46.591146Z",
     "shell.execute_reply": "2024-08-28T05:16:46.589983Z"
    },
    "papermill": {
     "duration": 0.075631,
     "end_time": "2024-08-28T05:16:46.593859",
     "exception": false,
     "start_time": "2024-08-28T05:16:46.518228",
     "status": "completed"
    },
    "tags": []
   },
   "outputs": [
    {
     "data": {
      "text/html": [
       "<div>\n",
       "<style scoped>\n",
       "    .dataframe tbody tr th:only-of-type {\n",
       "        vertical-align: middle;\n",
       "    }\n",
       "\n",
       "    .dataframe tbody tr th {\n",
       "        vertical-align: top;\n",
       "    }\n",
       "\n",
       "    .dataframe thead th {\n",
       "        text-align: right;\n",
       "    }\n",
       "</style>\n",
       "<table border=\"1\" class=\"dataframe\">\n",
       "  <thead>\n",
       "    <tr style=\"text-align: right;\">\n",
       "      <th></th>\n",
       "      <th>PassengerId</th>\n",
       "      <th>Survived</th>\n",
       "      <th>Pclass</th>\n",
       "      <th>Name</th>\n",
       "      <th>Sex</th>\n",
       "      <th>Age</th>\n",
       "      <th>SibSp</th>\n",
       "      <th>Parch</th>\n",
       "      <th>Ticket</th>\n",
       "      <th>Fare</th>\n",
       "      <th>Embarked</th>\n",
       "    </tr>\n",
       "  </thead>\n",
       "  <tbody>\n",
       "    <tr>\n",
       "      <th>0</th>\n",
       "      <td>1</td>\n",
       "      <td>0</td>\n",
       "      <td>3</td>\n",
       "      <td>Braund, Mr. Owen Harris</td>\n",
       "      <td>male</td>\n",
       "      <td>22.0</td>\n",
       "      <td>1</td>\n",
       "      <td>0</td>\n",
       "      <td>A/5 21171</td>\n",
       "      <td>7.2500</td>\n",
       "      <td>S</td>\n",
       "    </tr>\n",
       "    <tr>\n",
       "      <th>1</th>\n",
       "      <td>2</td>\n",
       "      <td>1</td>\n",
       "      <td>1</td>\n",
       "      <td>Cumings, Mrs. John Bradley (Florence Briggs Th...</td>\n",
       "      <td>female</td>\n",
       "      <td>38.0</td>\n",
       "      <td>1</td>\n",
       "      <td>0</td>\n",
       "      <td>PC 17599</td>\n",
       "      <td>71.2833</td>\n",
       "      <td>C</td>\n",
       "    </tr>\n",
       "  </tbody>\n",
       "</table>\n",
       "</div>"
      ],
      "text/plain": [
       "   PassengerId  Survived  Pclass  \\\n",
       "0            1         0       3   \n",
       "1            2         1       1   \n",
       "\n",
       "                                                Name     Sex   Age  SibSp  \\\n",
       "0                            Braund, Mr. Owen Harris    male  22.0      1   \n",
       "1  Cumings, Mrs. John Bradley (Florence Briggs Th...  female  38.0      1   \n",
       "\n",
       "   Parch     Ticket     Fare Embarked  \n",
       "0      0  A/5 21171   7.2500        S  \n",
       "1      0   PC 17599  71.2833        C  "
      ]
     },
     "execution_count": 25,
     "metadata": {},
     "output_type": "execute_result"
    }
   ],
   "source": [
    "df.head(2)"
   ]
  },
  {
   "cell_type": "markdown",
   "id": "a72faf64",
   "metadata": {
    "papermill": {
     "duration": 0.054502,
     "end_time": "2024-08-28T05:16:46.702290",
     "exception": false,
     "start_time": "2024-08-28T05:16:46.647788",
     "status": "completed"
    },
    "tags": []
   },
   "source": [
    "#### Sex and Embarked"
   ]
  },
  {
   "cell_type": "markdown",
   "id": "23d5bb5d",
   "metadata": {
    "papermill": {
     "duration": 0.054311,
     "end_time": "2024-08-28T05:16:46.812761",
     "exception": false,
     "start_time": "2024-08-28T05:16:46.758450",
     "status": "completed"
    },
    "tags": []
   },
   "source": [
    "###### Sex"
   ]
  },
  {
   "cell_type": "code",
   "execution_count": 26,
   "id": "1d77ed5f",
   "metadata": {
    "execution": {
     "iopub.execute_input": "2024-08-28T05:16:46.924689Z",
     "iopub.status.busy": "2024-08-28T05:16:46.924237Z",
     "iopub.status.idle": "2024-08-28T05:16:46.934771Z",
     "shell.execute_reply": "2024-08-28T05:16:46.933383Z"
    },
    "papermill": {
     "duration": 0.06939,
     "end_time": "2024-08-28T05:16:46.937240",
     "exception": false,
     "start_time": "2024-08-28T05:16:46.867850",
     "status": "completed"
    },
    "tags": []
   },
   "outputs": [
    {
     "data": {
      "text/plain": [
       "Sex\n",
       "male      577\n",
       "female    314\n",
       "Name: count, dtype: int64"
      ]
     },
     "execution_count": 26,
     "metadata": {},
     "output_type": "execute_result"
    }
   ],
   "source": [
    "df['Sex'].value_counts()"
   ]
  },
  {
   "cell_type": "markdown",
   "id": "25a43921",
   "metadata": {
    "papermill": {
     "duration": 0.053931,
     "end_time": "2024-08-28T05:16:47.049074",
     "exception": false,
     "start_time": "2024-08-28T05:16:46.995143",
     "status": "completed"
    },
    "tags": []
   },
   "source": [
    "#### We can apply OneHotEncoding"
   ]
  },
  {
   "cell_type": "code",
   "execution_count": 27,
   "id": "651f626b",
   "metadata": {
    "execution": {
     "iopub.execute_input": "2024-08-28T05:16:47.160245Z",
     "iopub.status.busy": "2024-08-28T05:16:47.159837Z",
     "iopub.status.idle": "2024-08-28T05:16:47.169485Z",
     "shell.execute_reply": "2024-08-28T05:16:47.168163Z"
    },
    "papermill": {
     "duration": 0.068369,
     "end_time": "2024-08-28T05:16:47.172049",
     "exception": false,
     "start_time": "2024-08-28T05:16:47.103680",
     "status": "completed"
    },
    "tags": []
   },
   "outputs": [],
   "source": [
    "df = pd.get_dummies(data = df , columns = ['Sex'])"
   ]
  },
  {
   "cell_type": "code",
   "execution_count": 28,
   "id": "09249030",
   "metadata": {
    "execution": {
     "iopub.execute_input": "2024-08-28T05:16:47.281318Z",
     "iopub.status.busy": "2024-08-28T05:16:47.280901Z",
     "iopub.status.idle": "2024-08-28T05:16:47.298328Z",
     "shell.execute_reply": "2024-08-28T05:16:47.297023Z"
    },
    "papermill": {
     "duration": 0.075544,
     "end_time": "2024-08-28T05:16:47.301096",
     "exception": false,
     "start_time": "2024-08-28T05:16:47.225552",
     "status": "completed"
    },
    "tags": []
   },
   "outputs": [
    {
     "data": {
      "text/html": [
       "<div>\n",
       "<style scoped>\n",
       "    .dataframe tbody tr th:only-of-type {\n",
       "        vertical-align: middle;\n",
       "    }\n",
       "\n",
       "    .dataframe tbody tr th {\n",
       "        vertical-align: top;\n",
       "    }\n",
       "\n",
       "    .dataframe thead th {\n",
       "        text-align: right;\n",
       "    }\n",
       "</style>\n",
       "<table border=\"1\" class=\"dataframe\">\n",
       "  <thead>\n",
       "    <tr style=\"text-align: right;\">\n",
       "      <th></th>\n",
       "      <th>PassengerId</th>\n",
       "      <th>Survived</th>\n",
       "      <th>Pclass</th>\n",
       "      <th>Name</th>\n",
       "      <th>Age</th>\n",
       "      <th>SibSp</th>\n",
       "      <th>Parch</th>\n",
       "      <th>Ticket</th>\n",
       "      <th>Fare</th>\n",
       "      <th>Embarked</th>\n",
       "      <th>Sex_female</th>\n",
       "      <th>Sex_male</th>\n",
       "    </tr>\n",
       "  </thead>\n",
       "  <tbody>\n",
       "    <tr>\n",
       "      <th>0</th>\n",
       "      <td>1</td>\n",
       "      <td>0</td>\n",
       "      <td>3</td>\n",
       "      <td>Braund, Mr. Owen Harris</td>\n",
       "      <td>22.0</td>\n",
       "      <td>1</td>\n",
       "      <td>0</td>\n",
       "      <td>A/5 21171</td>\n",
       "      <td>7.2500</td>\n",
       "      <td>S</td>\n",
       "      <td>False</td>\n",
       "      <td>True</td>\n",
       "    </tr>\n",
       "    <tr>\n",
       "      <th>1</th>\n",
       "      <td>2</td>\n",
       "      <td>1</td>\n",
       "      <td>1</td>\n",
       "      <td>Cumings, Mrs. John Bradley (Florence Briggs Th...</td>\n",
       "      <td>38.0</td>\n",
       "      <td>1</td>\n",
       "      <td>0</td>\n",
       "      <td>PC 17599</td>\n",
       "      <td>71.2833</td>\n",
       "      <td>C</td>\n",
       "      <td>True</td>\n",
       "      <td>False</td>\n",
       "    </tr>\n",
       "  </tbody>\n",
       "</table>\n",
       "</div>"
      ],
      "text/plain": [
       "   PassengerId  Survived  Pclass  \\\n",
       "0            1         0       3   \n",
       "1            2         1       1   \n",
       "\n",
       "                                                Name   Age  SibSp  Parch  \\\n",
       "0                            Braund, Mr. Owen Harris  22.0      1      0   \n",
       "1  Cumings, Mrs. John Bradley (Florence Briggs Th...  38.0      1      0   \n",
       "\n",
       "      Ticket     Fare Embarked  Sex_female  Sex_male  \n",
       "0  A/5 21171   7.2500        S       False      True  \n",
       "1   PC 17599  71.2833        C        True     False  "
      ]
     },
     "execution_count": 28,
     "metadata": {},
     "output_type": "execute_result"
    }
   ],
   "source": [
    "df.head(2)"
   ]
  },
  {
   "cell_type": "markdown",
   "id": "d99c96f7",
   "metadata": {
    "papermill": {
     "duration": 0.054156,
     "end_time": "2024-08-28T05:16:47.409643",
     "exception": false,
     "start_time": "2024-08-28T05:16:47.355487",
     "status": "completed"
    },
    "tags": []
   },
   "source": [
    "#### when we doing it OneHotEncoding always keep in mind it create dummy trap variable issue i.e. multicollinearity . so need to drop one column"
   ]
  },
  {
   "cell_type": "markdown",
   "id": "1518276d",
   "metadata": {
    "papermill": {
     "duration": 0.054267,
     "end_time": "2024-08-28T05:16:47.518635",
     "exception": false,
     "start_time": "2024-08-28T05:16:47.464368",
     "status": "completed"
    },
    "tags": []
   },
   "source": [
    "##### n-1"
   ]
  },
  {
   "cell_type": "code",
   "execution_count": 29,
   "id": "1b0faf9f",
   "metadata": {
    "execution": {
     "iopub.execute_input": "2024-08-28T05:16:47.632474Z",
     "iopub.status.busy": "2024-08-28T05:16:47.631983Z",
     "iopub.status.idle": "2024-08-28T05:16:47.639880Z",
     "shell.execute_reply": "2024-08-28T05:16:47.638591Z"
    },
    "papermill": {
     "duration": 0.069435,
     "end_time": "2024-08-28T05:16:47.642871",
     "exception": false,
     "start_time": "2024-08-28T05:16:47.573436",
     "status": "completed"
    },
    "tags": []
   },
   "outputs": [],
   "source": [
    "df.drop('Sex_female'  , axis = 1 , inplace = True)"
   ]
  },
  {
   "cell_type": "code",
   "execution_count": 30,
   "id": "bc5462f1",
   "metadata": {
    "execution": {
     "iopub.execute_input": "2024-08-28T05:16:47.755787Z",
     "iopub.status.busy": "2024-08-28T05:16:47.754413Z",
     "iopub.status.idle": "2024-08-28T05:16:47.762048Z",
     "shell.execute_reply": "2024-08-28T05:16:47.760798Z"
    },
    "papermill": {
     "duration": 0.066765,
     "end_time": "2024-08-28T05:16:47.764776",
     "exception": false,
     "start_time": "2024-08-28T05:16:47.698011",
     "status": "completed"
    },
    "tags": []
   },
   "outputs": [],
   "source": [
    "df.rename({'Sex_male':'Sex'} ,axis = 1,  inplace = True)"
   ]
  },
  {
   "cell_type": "code",
   "execution_count": 31,
   "id": "ac938735",
   "metadata": {
    "execution": {
     "iopub.execute_input": "2024-08-28T05:16:47.875786Z",
     "iopub.status.busy": "2024-08-28T05:16:47.874584Z",
     "iopub.status.idle": "2024-08-28T05:16:47.893237Z",
     "shell.execute_reply": "2024-08-28T05:16:47.891858Z"
    },
    "papermill": {
     "duration": 0.077398,
     "end_time": "2024-08-28T05:16:47.896073",
     "exception": false,
     "start_time": "2024-08-28T05:16:47.818675",
     "status": "completed"
    },
    "tags": []
   },
   "outputs": [
    {
     "data": {
      "text/html": [
       "<div>\n",
       "<style scoped>\n",
       "    .dataframe tbody tr th:only-of-type {\n",
       "        vertical-align: middle;\n",
       "    }\n",
       "\n",
       "    .dataframe tbody tr th {\n",
       "        vertical-align: top;\n",
       "    }\n",
       "\n",
       "    .dataframe thead th {\n",
       "        text-align: right;\n",
       "    }\n",
       "</style>\n",
       "<table border=\"1\" class=\"dataframe\">\n",
       "  <thead>\n",
       "    <tr style=\"text-align: right;\">\n",
       "      <th></th>\n",
       "      <th>PassengerId</th>\n",
       "      <th>Survived</th>\n",
       "      <th>Pclass</th>\n",
       "      <th>Name</th>\n",
       "      <th>Age</th>\n",
       "      <th>SibSp</th>\n",
       "      <th>Parch</th>\n",
       "      <th>Ticket</th>\n",
       "      <th>Fare</th>\n",
       "      <th>Embarked</th>\n",
       "      <th>Sex</th>\n",
       "    </tr>\n",
       "  </thead>\n",
       "  <tbody>\n",
       "    <tr>\n",
       "      <th>0</th>\n",
       "      <td>1</td>\n",
       "      <td>0</td>\n",
       "      <td>3</td>\n",
       "      <td>Braund, Mr. Owen Harris</td>\n",
       "      <td>22.0</td>\n",
       "      <td>1</td>\n",
       "      <td>0</td>\n",
       "      <td>A/5 21171</td>\n",
       "      <td>7.2500</td>\n",
       "      <td>S</td>\n",
       "      <td>True</td>\n",
       "    </tr>\n",
       "    <tr>\n",
       "      <th>1</th>\n",
       "      <td>2</td>\n",
       "      <td>1</td>\n",
       "      <td>1</td>\n",
       "      <td>Cumings, Mrs. John Bradley (Florence Briggs Th...</td>\n",
       "      <td>38.0</td>\n",
       "      <td>1</td>\n",
       "      <td>0</td>\n",
       "      <td>PC 17599</td>\n",
       "      <td>71.2833</td>\n",
       "      <td>C</td>\n",
       "      <td>False</td>\n",
       "    </tr>\n",
       "  </tbody>\n",
       "</table>\n",
       "</div>"
      ],
      "text/plain": [
       "   PassengerId  Survived  Pclass  \\\n",
       "0            1         0       3   \n",
       "1            2         1       1   \n",
       "\n",
       "                                                Name   Age  SibSp  Parch  \\\n",
       "0                            Braund, Mr. Owen Harris  22.0      1      0   \n",
       "1  Cumings, Mrs. John Bradley (Florence Briggs Th...  38.0      1      0   \n",
       "\n",
       "      Ticket     Fare Embarked    Sex  \n",
       "0  A/5 21171   7.2500        S   True  \n",
       "1   PC 17599  71.2833        C  False  "
      ]
     },
     "execution_count": 31,
     "metadata": {},
     "output_type": "execute_result"
    }
   ],
   "source": [
    "df.head(2)"
   ]
  },
  {
   "cell_type": "markdown",
   "id": "ac35fb93",
   "metadata": {
    "papermill": {
     "duration": 0.055961,
     "end_time": "2024-08-28T05:16:48.005716",
     "exception": false,
     "start_time": "2024-08-28T05:16:47.949755",
     "status": "completed"
    },
    "tags": []
   },
   "source": [
    "#### Embarked"
   ]
  },
  {
   "cell_type": "code",
   "execution_count": 32,
   "id": "60efd996",
   "metadata": {
    "execution": {
     "iopub.execute_input": "2024-08-28T05:16:48.117423Z",
     "iopub.status.busy": "2024-08-28T05:16:48.116366Z",
     "iopub.status.idle": "2024-08-28T05:16:48.127710Z",
     "shell.execute_reply": "2024-08-28T05:16:48.126336Z"
    },
    "papermill": {
     "duration": 0.070679,
     "end_time": "2024-08-28T05:16:48.130808",
     "exception": false,
     "start_time": "2024-08-28T05:16:48.060129",
     "status": "completed"
    },
    "tags": []
   },
   "outputs": [
    {
     "data": {
      "text/plain": [
       "Embarked\n",
       "S    646\n",
       "C    168\n",
       "Q     77\n",
       "Name: count, dtype: int64"
      ]
     },
     "execution_count": 32,
     "metadata": {},
     "output_type": "execute_result"
    }
   ],
   "source": [
    "df['Embarked'].value_counts()"
   ]
  },
  {
   "cell_type": "markdown",
   "id": "0e214077",
   "metadata": {
    "papermill": {
     "duration": 0.053457,
     "end_time": "2024-08-28T05:16:48.238796",
     "exception": false,
     "start_time": "2024-08-28T05:16:48.185339",
     "status": "completed"
    },
    "tags": []
   },
   "source": [
    "#### We cam apply here LabelEncoding Here"
   ]
  },
  {
   "cell_type": "code",
   "execution_count": 33,
   "id": "a5aaeeb3",
   "metadata": {
    "execution": {
     "iopub.execute_input": "2024-08-28T05:16:48.348574Z",
     "iopub.status.busy": "2024-08-28T05:16:48.347908Z",
     "iopub.status.idle": "2024-08-28T05:16:48.521286Z",
     "shell.execute_reply": "2024-08-28T05:16:48.519813Z"
    },
    "papermill": {
     "duration": 0.231409,
     "end_time": "2024-08-28T05:16:48.524170",
     "exception": false,
     "start_time": "2024-08-28T05:16:48.292761",
     "status": "completed"
    },
    "tags": []
   },
   "outputs": [],
   "source": [
    "from sklearn.preprocessing import LabelEncoder"
   ]
  },
  {
   "cell_type": "code",
   "execution_count": 34,
   "id": "db750834",
   "metadata": {
    "execution": {
     "iopub.execute_input": "2024-08-28T05:16:48.632883Z",
     "iopub.status.busy": "2024-08-28T05:16:48.632396Z",
     "iopub.status.idle": "2024-08-28T05:16:48.638323Z",
     "shell.execute_reply": "2024-08-28T05:16:48.636954Z"
    },
    "papermill": {
     "duration": 0.063496,
     "end_time": "2024-08-28T05:16:48.640898",
     "exception": false,
     "start_time": "2024-08-28T05:16:48.577402",
     "status": "completed"
    },
    "tags": []
   },
   "outputs": [],
   "source": [
    "label = LabelEncoder()"
   ]
  },
  {
   "cell_type": "code",
   "execution_count": 35,
   "id": "55a08e52",
   "metadata": {
    "execution": {
     "iopub.execute_input": "2024-08-28T05:16:48.751439Z",
     "iopub.status.busy": "2024-08-28T05:16:48.750911Z",
     "iopub.status.idle": "2024-08-28T05:16:48.763769Z",
     "shell.execute_reply": "2024-08-28T05:16:48.762308Z"
    },
    "papermill": {
     "duration": 0.071959,
     "end_time": "2024-08-28T05:16:48.766655",
     "exception": false,
     "start_time": "2024-08-28T05:16:48.694696",
     "status": "completed"
    },
    "tags": []
   },
   "outputs": [
    {
     "data": {
      "text/html": [
       "<style>#sk-container-id-1 {color: black;background-color: white;}#sk-container-id-1 pre{padding: 0;}#sk-container-id-1 div.sk-toggleable {background-color: white;}#sk-container-id-1 label.sk-toggleable__label {cursor: pointer;display: block;width: 100%;margin-bottom: 0;padding: 0.3em;box-sizing: border-box;text-align: center;}#sk-container-id-1 label.sk-toggleable__label-arrow:before {content: \"▸\";float: left;margin-right: 0.25em;color: #696969;}#sk-container-id-1 label.sk-toggleable__label-arrow:hover:before {color: black;}#sk-container-id-1 div.sk-estimator:hover label.sk-toggleable__label-arrow:before {color: black;}#sk-container-id-1 div.sk-toggleable__content {max-height: 0;max-width: 0;overflow: hidden;text-align: left;background-color: #f0f8ff;}#sk-container-id-1 div.sk-toggleable__content pre {margin: 0.2em;color: black;border-radius: 0.25em;background-color: #f0f8ff;}#sk-container-id-1 input.sk-toggleable__control:checked~div.sk-toggleable__content {max-height: 200px;max-width: 100%;overflow: auto;}#sk-container-id-1 input.sk-toggleable__control:checked~label.sk-toggleable__label-arrow:before {content: \"▾\";}#sk-container-id-1 div.sk-estimator input.sk-toggleable__control:checked~label.sk-toggleable__label {background-color: #d4ebff;}#sk-container-id-1 div.sk-label input.sk-toggleable__control:checked~label.sk-toggleable__label {background-color: #d4ebff;}#sk-container-id-1 input.sk-hidden--visually {border: 0;clip: rect(1px 1px 1px 1px);clip: rect(1px, 1px, 1px, 1px);height: 1px;margin: -1px;overflow: hidden;padding: 0;position: absolute;width: 1px;}#sk-container-id-1 div.sk-estimator {font-family: monospace;background-color: #f0f8ff;border: 1px dotted black;border-radius: 0.25em;box-sizing: border-box;margin-bottom: 0.5em;}#sk-container-id-1 div.sk-estimator:hover {background-color: #d4ebff;}#sk-container-id-1 div.sk-parallel-item::after {content: \"\";width: 100%;border-bottom: 1px solid gray;flex-grow: 1;}#sk-container-id-1 div.sk-label:hover label.sk-toggleable__label {background-color: #d4ebff;}#sk-container-id-1 div.sk-serial::before {content: \"\";position: absolute;border-left: 1px solid gray;box-sizing: border-box;top: 0;bottom: 0;left: 50%;z-index: 0;}#sk-container-id-1 div.sk-serial {display: flex;flex-direction: column;align-items: center;background-color: white;padding-right: 0.2em;padding-left: 0.2em;position: relative;}#sk-container-id-1 div.sk-item {position: relative;z-index: 1;}#sk-container-id-1 div.sk-parallel {display: flex;align-items: stretch;justify-content: center;background-color: white;position: relative;}#sk-container-id-1 div.sk-item::before, #sk-container-id-1 div.sk-parallel-item::before {content: \"\";position: absolute;border-left: 1px solid gray;box-sizing: border-box;top: 0;bottom: 0;left: 50%;z-index: -1;}#sk-container-id-1 div.sk-parallel-item {display: flex;flex-direction: column;z-index: 1;position: relative;background-color: white;}#sk-container-id-1 div.sk-parallel-item:first-child::after {align-self: flex-end;width: 50%;}#sk-container-id-1 div.sk-parallel-item:last-child::after {align-self: flex-start;width: 50%;}#sk-container-id-1 div.sk-parallel-item:only-child::after {width: 0;}#sk-container-id-1 div.sk-dashed-wrapped {border: 1px dashed gray;margin: 0 0.4em 0.5em 0.4em;box-sizing: border-box;padding-bottom: 0.4em;background-color: white;}#sk-container-id-1 div.sk-label label {font-family: monospace;font-weight: bold;display: inline-block;line-height: 1.2em;}#sk-container-id-1 div.sk-label-container {text-align: center;}#sk-container-id-1 div.sk-container {/* jupyter's `normalize.less` sets `[hidden] { display: none; }` but bootstrap.min.css set `[hidden] { display: none !important; }` so we also need the `!important` here to be able to override the default hidden behavior on the sphinx rendered scikit-learn.org. See: https://github.com/scikit-learn/scikit-learn/issues/21755 */display: inline-block !important;position: relative;}#sk-container-id-1 div.sk-text-repr-fallback {display: none;}</style><div id=\"sk-container-id-1\" class=\"sk-top-container\"><div class=\"sk-text-repr-fallback\"><pre>LabelEncoder()</pre><b>In a Jupyter environment, please rerun this cell to show the HTML representation or trust the notebook. <br />On GitHub, the HTML representation is unable to render, please try loading this page with nbviewer.org.</b></div><div class=\"sk-container\" hidden><div class=\"sk-item\"><div class=\"sk-estimator sk-toggleable\"><input class=\"sk-toggleable__control sk-hidden--visually\" id=\"sk-estimator-id-1\" type=\"checkbox\" checked><label for=\"sk-estimator-id-1\" class=\"sk-toggleable__label sk-toggleable__label-arrow\">LabelEncoder</label><div class=\"sk-toggleable__content\"><pre>LabelEncoder()</pre></div></div></div></div></div>"
      ],
      "text/plain": [
       "LabelEncoder()"
      ]
     },
     "execution_count": 35,
     "metadata": {},
     "output_type": "execute_result"
    }
   ],
   "source": [
    "label"
   ]
  },
  {
   "cell_type": "code",
   "execution_count": 36,
   "id": "e9a4222c",
   "metadata": {
    "execution": {
     "iopub.execute_input": "2024-08-28T05:16:48.884444Z",
     "iopub.status.busy": "2024-08-28T05:16:48.883908Z",
     "iopub.status.idle": "2024-08-28T05:16:48.892318Z",
     "shell.execute_reply": "2024-08-28T05:16:48.890636Z"
    },
    "papermill": {
     "duration": 0.069625,
     "end_time": "2024-08-28T05:16:48.894986",
     "exception": false,
     "start_time": "2024-08-28T05:16:48.825361",
     "status": "completed"
    },
    "tags": []
   },
   "outputs": [],
   "source": [
    "df['Embarked'] = label.fit_transform(df['Embarked'])"
   ]
  },
  {
   "cell_type": "code",
   "execution_count": 37,
   "id": "fab1c139",
   "metadata": {
    "execution": {
     "iopub.execute_input": "2024-08-28T05:16:49.010511Z",
     "iopub.status.busy": "2024-08-28T05:16:49.010030Z",
     "iopub.status.idle": "2024-08-28T05:16:49.022552Z",
     "shell.execute_reply": "2024-08-28T05:16:49.021340Z"
    },
    "papermill": {
     "duration": 0.074898,
     "end_time": "2024-08-28T05:16:49.025223",
     "exception": false,
     "start_time": "2024-08-28T05:16:48.950325",
     "status": "completed"
    },
    "tags": []
   },
   "outputs": [
    {
     "data": {
      "text/plain": [
       "Embarked\n",
       "2    646\n",
       "0    168\n",
       "1     77\n",
       "Name: count, dtype: int64"
      ]
     },
     "execution_count": 37,
     "metadata": {},
     "output_type": "execute_result"
    }
   ],
   "source": [
    "df[\"Embarked\"].value_counts()"
   ]
  },
  {
   "cell_type": "code",
   "execution_count": 38,
   "id": "75b889db",
   "metadata": {
    "execution": {
     "iopub.execute_input": "2024-08-28T05:16:49.139535Z",
     "iopub.status.busy": "2024-08-28T05:16:49.139053Z",
     "iopub.status.idle": "2024-08-28T05:16:49.155870Z",
     "shell.execute_reply": "2024-08-28T05:16:49.154496Z"
    },
    "papermill": {
     "duration": 0.077346,
     "end_time": "2024-08-28T05:16:49.158478",
     "exception": false,
     "start_time": "2024-08-28T05:16:49.081132",
     "status": "completed"
    },
    "tags": []
   },
   "outputs": [
    {
     "data": {
      "text/html": [
       "<div>\n",
       "<style scoped>\n",
       "    .dataframe tbody tr th:only-of-type {\n",
       "        vertical-align: middle;\n",
       "    }\n",
       "\n",
       "    .dataframe tbody tr th {\n",
       "        vertical-align: top;\n",
       "    }\n",
       "\n",
       "    .dataframe thead th {\n",
       "        text-align: right;\n",
       "    }\n",
       "</style>\n",
       "<table border=\"1\" class=\"dataframe\">\n",
       "  <thead>\n",
       "    <tr style=\"text-align: right;\">\n",
       "      <th></th>\n",
       "      <th>PassengerId</th>\n",
       "      <th>Survived</th>\n",
       "      <th>Pclass</th>\n",
       "      <th>Name</th>\n",
       "      <th>Age</th>\n",
       "      <th>SibSp</th>\n",
       "      <th>Parch</th>\n",
       "      <th>Ticket</th>\n",
       "      <th>Fare</th>\n",
       "      <th>Embarked</th>\n",
       "      <th>Sex</th>\n",
       "    </tr>\n",
       "  </thead>\n",
       "  <tbody>\n",
       "    <tr>\n",
       "      <th>0</th>\n",
       "      <td>1</td>\n",
       "      <td>0</td>\n",
       "      <td>3</td>\n",
       "      <td>Braund, Mr. Owen Harris</td>\n",
       "      <td>22.0</td>\n",
       "      <td>1</td>\n",
       "      <td>0</td>\n",
       "      <td>A/5 21171</td>\n",
       "      <td>7.2500</td>\n",
       "      <td>2</td>\n",
       "      <td>True</td>\n",
       "    </tr>\n",
       "    <tr>\n",
       "      <th>1</th>\n",
       "      <td>2</td>\n",
       "      <td>1</td>\n",
       "      <td>1</td>\n",
       "      <td>Cumings, Mrs. John Bradley (Florence Briggs Th...</td>\n",
       "      <td>38.0</td>\n",
       "      <td>1</td>\n",
       "      <td>0</td>\n",
       "      <td>PC 17599</td>\n",
       "      <td>71.2833</td>\n",
       "      <td>0</td>\n",
       "      <td>False</td>\n",
       "    </tr>\n",
       "  </tbody>\n",
       "</table>\n",
       "</div>"
      ],
      "text/plain": [
       "   PassengerId  Survived  Pclass  \\\n",
       "0            1         0       3   \n",
       "1            2         1       1   \n",
       "\n",
       "                                                Name   Age  SibSp  Parch  \\\n",
       "0                            Braund, Mr. Owen Harris  22.0      1      0   \n",
       "1  Cumings, Mrs. John Bradley (Florence Briggs Th...  38.0      1      0   \n",
       "\n",
       "      Ticket     Fare  Embarked    Sex  \n",
       "0  A/5 21171   7.2500         2   True  \n",
       "1   PC 17599  71.2833         0  False  "
      ]
     },
     "execution_count": 38,
     "metadata": {},
     "output_type": "execute_result"
    }
   ],
   "source": [
    "df.head(2)"
   ]
  },
  {
   "cell_type": "markdown",
   "id": "4a1f096e",
   "metadata": {
    "papermill": {
     "duration": 0.055133,
     "end_time": "2024-08-28T05:16:49.270625",
     "exception": false,
     "start_time": "2024-08-28T05:16:49.215492",
     "status": "completed"
    },
    "tags": []
   },
   "source": [
    "##### 3. Handling Outliers"
   ]
  },
  {
   "cell_type": "code",
   "execution_count": 39,
   "id": "1ede60e5",
   "metadata": {
    "execution": {
     "iopub.execute_input": "2024-08-28T05:16:49.384093Z",
     "iopub.status.busy": "2024-08-28T05:16:49.383085Z",
     "iopub.status.idle": "2024-08-28T05:16:51.470659Z",
     "shell.execute_reply": "2024-08-28T05:16:51.469295Z"
    },
    "papermill": {
     "duration": 2.14732,
     "end_time": "2024-08-28T05:16:51.473606",
     "exception": false,
     "start_time": "2024-08-28T05:16:49.326286",
     "status": "completed"
    },
    "tags": []
   },
   "outputs": [
    {
     "data": {
      "image/png": "[encoded data removed]",
      "text/plain": [
       "<Figure size 640x480 with 1 Axes>"
      ]
     },
     "metadata": {},
     "output_type": "display_data"
    },
    {
     "data": {
      "image/png": "[encoded data removed]",
      "text/plain": [
       "<Figure size 640x480 with 1 Axes>"
      ]
     },
     "metadata": {},
     "output_type": "display_data"
    },
    {
     "data": {
      "image/png": "[encoded data removed]",
      "text/plain": [
       "<Figure size 640x480 with 1 Axes>"
      ]
     },
     "metadata": {},
     "output_type": "display_data"
    },
    {
     "data": {
      "image/png": "[encoded data removed]",
      "text/plain": [
       "<Figure size 640x480 with 1 Axes>"
      ]
     },
     "metadata": {},
     "output_type": "display_data"
    },
    {
     "data": {
      "image/png": "[encoded data removed]",
      "text/plain": [
       "<Figure size 640x480 with 1 Axes>"
      ]
     },
     "metadata": {},
     "output_type": "display_data"
    },
    {
     "data": {
      "image/png": "[encoded data removed]",
      "text/plain": [
       "<Figure size 640x480 with 1 Axes>"
      ]
     },
     "metadata": {},
     "output_type": "display_data"
    },
    {
     "data": {
      "image/png": "[encoded data removed]",
      "text/plain": [
       "<Figure size 640x480 with 1 Axes>"
      ]
     },
     "metadata": {},
     "output_type": "display_data"
    },
    {
     "data": {
      "image/png": "[encoded data removed]",
      "text/plain": [
       "<Figure size 640x480 with 1 Axes>"
      ]
     },
     "metadata": {},
     "output_type": "display_data"
    },
    {
     "data": {
      "image/png": "[encoded data removed]",
      "text/plain": [
       "<Figure size 640x480 with 1 Axes>"
      ]
     },
     "metadata": {},
     "output_type": "display_data"
    }
   ],
   "source": [
    "def detect_outliers(col):\n",
    "    \n",
    "    sns.boxplot(df[col])\n",
    "    plt.show()\n",
    "    \n",
    "    \n",
    "for i in list(df.select_dtypes(exclude = 'object').columns)[:]:\n",
    "    \n",
    "    detect_outliers(i)"
   ]
  },
  {
   "cell_type": "code",
   "execution_count": 40,
   "id": "73082486",
   "metadata": {
    "execution": {
     "iopub.execute_input": "2024-08-28T05:16:51.594384Z",
     "iopub.status.busy": "2024-08-28T05:16:51.593868Z",
     "iopub.status.idle": "2024-08-28T05:16:52.083499Z",
     "shell.execute_reply": "2024-08-28T05:16:52.082178Z"
    },
    "papermill": {
     "duration": 0.554997,
     "end_time": "2024-08-28T05:16:52.086586",
     "exception": false,
     "start_time": "2024-08-28T05:16:51.531589",
     "status": "completed"
    },
    "tags": []
   },
   "outputs": [
    {
     "data": {
      "image/png": "[encoded data removed]",
      "text/plain": [
       "<Figure size 1500x500 with 1 Axes>"
      ]
     },
     "metadata": {},
     "output_type": "display_data"
    }
   ],
   "source": [
    "plt.figure(figsize = (15,5))\n",
    "df.boxplot()\n",
    "plt.show()"
   ]
  },
  {
   "cell_type": "markdown",
   "id": "950cec7d",
   "metadata": {
    "papermill": {
     "duration": 0.05937,
     "end_time": "2024-08-28T05:16:52.204702",
     "exception": false,
     "start_time": "2024-08-28T05:16:52.145332",
     "status": "completed"
    },
    "tags": []
   },
   "source": [
    "##### SibSp and parch are categorical columns so no need to treate outliers there"
   ]
  },
  {
   "cell_type": "code",
   "execution_count": 41,
   "id": "111a0a60",
   "metadata": {
    "execution": {
     "iopub.execute_input": "2024-08-28T05:16:52.328425Z",
     "iopub.status.busy": "2024-08-28T05:16:52.327926Z",
     "iopub.status.idle": "2024-08-28T05:16:52.341541Z",
     "shell.execute_reply": "2024-08-28T05:16:52.339993Z"
    },
    "papermill": {
     "duration": 0.080133,
     "end_time": "2024-08-28T05:16:52.344890",
     "exception": false,
     "start_time": "2024-08-28T05:16:52.264757",
     "status": "completed"
    },
    "tags": []
   },
   "outputs": [
    {
     "data": {
      "text/plain": [
       "SibSp\n",
       "0    608\n",
       "1    209\n",
       "2     28\n",
       "4     18\n",
       "3     16\n",
       "8      7\n",
       "5      5\n",
       "Name: count, dtype: int64"
      ]
     },
     "execution_count": 41,
     "metadata": {},
     "output_type": "execute_result"
    }
   ],
   "source": [
    "df['SibSp'].value_counts()"
   ]
  },
  {
   "cell_type": "code",
   "execution_count": 42,
   "id": "28762b52",
   "metadata": {
    "execution": {
     "iopub.execute_input": "2024-08-28T05:16:52.469397Z",
     "iopub.status.busy": "2024-08-28T05:16:52.468884Z",
     "iopub.status.idle": "2024-08-28T05:16:52.479863Z",
     "shell.execute_reply": "2024-08-28T05:16:52.478440Z"
    },
    "papermill": {
     "duration": 0.076816,
     "end_time": "2024-08-28T05:16:52.482610",
     "exception": false,
     "start_time": "2024-08-28T05:16:52.405794",
     "status": "completed"
    },
    "tags": []
   },
   "outputs": [
    {
     "data": {
      "text/plain": [
       "Parch\n",
       "0    678\n",
       "1    118\n",
       "2     80\n",
       "5      5\n",
       "3      5\n",
       "4      4\n",
       "6      1\n",
       "Name: count, dtype: int64"
      ]
     },
     "execution_count": 42,
     "metadata": {},
     "output_type": "execute_result"
    }
   ],
   "source": [
    "df['Parch'].value_counts()"
   ]
  },
  {
   "cell_type": "markdown",
   "id": "a99c0d73",
   "metadata": {
    "papermill": {
     "duration": 0.059399,
     "end_time": "2024-08-28T05:16:52.602328",
     "exception": false,
     "start_time": "2024-08-28T05:16:52.542929",
     "status": "completed"
    },
    "tags": []
   },
   "source": [
    "####  IQR Age"
   ]
  },
  {
   "cell_type": "code",
   "execution_count": 43,
   "id": "102eb139",
   "metadata": {
    "execution": {
     "iopub.execute_input": "2024-08-28T05:16:52.728987Z",
     "iopub.status.busy": "2024-08-28T05:16:52.727566Z",
     "iopub.status.idle": "2024-08-28T05:16:52.742893Z",
     "shell.execute_reply": "2024-08-28T05:16:52.741352Z"
    },
    "papermill": {
     "duration": 0.083203,
     "end_time": "2024-08-28T05:16:52.746170",
     "exception": false,
     "start_time": "2024-08-28T05:16:52.662967",
     "status": "completed"
    },
    "tags": []
   },
   "outputs": [
    {
     "name": "stdout",
     "output_type": "stream",
     "text": [
      "Q1_age : 22.0\n",
      "Q2_age : 28.0\n",
      "Q3_age : 35.0\n",
      "IQR_age : 13.0\n",
      "Upper limit age : 54.5\n",
      "Lower limit age : 2.5\n"
     ]
    }
   ],
   "source": [
    "Q1_age = df['Age'].quantile(0.25)\n",
    "Q2_age = df['Age'].quantile(0.50)\n",
    "Q3_age = df['Age'].quantile(0.75)\n",
    "\n",
    "IQR_age = Q3_age - Q1_age\n",
    "\n",
    "upper_limit_age = Q3_age + (1.5 * IQR_age)\n",
    "lower_limit_age = Q1_age - (1.5 * IQR_age)\n",
    "\n",
    "print('Q1_age :' , Q1_age)\n",
    "print('Q2_age :' , Q2_age)\n",
    "print('Q3_age :' , Q3_age)\n",
    "\n",
    "print('IQR_age :' , IQR_age)\n",
    "\n",
    "print('Upper limit age :' , upper_limit_age)\n",
    "print('Lower limit age :' , lower_limit_age)"
   ]
  },
  {
   "cell_type": "code",
   "execution_count": 44,
   "id": "303223ad",
   "metadata": {
    "execution": {
     "iopub.execute_input": "2024-08-28T05:16:52.876499Z",
     "iopub.status.busy": "2024-08-28T05:16:52.875295Z",
     "iopub.status.idle": "2024-08-28T05:16:52.890436Z",
     "shell.execute_reply": "2024-08-28T05:16:52.888860Z"
    },
    "papermill": {
     "duration": 0.083702,
     "end_time": "2024-08-28T05:16:52.893572",
     "exception": false,
     "start_time": "2024-08-28T05:16:52.809870",
     "status": "completed"
    },
    "tags": []
   },
   "outputs": [
    {
     "data": {
      "text/plain": [
       "count    891.000000\n",
       "mean      29.361582\n",
       "std       13.019697\n",
       "min        0.420000\n",
       "25%       22.000000\n",
       "50%       28.000000\n",
       "75%       35.000000\n",
       "max       80.000000\n",
       "Name: Age, dtype: float64"
      ]
     },
     "execution_count": 44,
     "metadata": {},
     "output_type": "execute_result"
    }
   ],
   "source": [
    "df['Age'].describe()"
   ]
  },
  {
   "cell_type": "markdown",
   "id": "324cb86c",
   "metadata": {
    "papermill": {
     "duration": 0.062154,
     "end_time": "2024-08-28T05:16:53.016878",
     "exception": false,
     "start_time": "2024-08-28T05:16:52.954724",
     "status": "completed"
    },
    "tags": []
   },
   "source": [
    "#### Capping of Age"
   ]
  },
  {
   "cell_type": "code",
   "execution_count": 45,
   "id": "729f4b78",
   "metadata": {
    "execution": {
     "iopub.execute_input": "2024-08-28T05:16:53.145949Z",
     "iopub.status.busy": "2024-08-28T05:16:53.144889Z",
     "iopub.status.idle": "2024-08-28T05:16:53.154158Z",
     "shell.execute_reply": "2024-08-28T05:16:53.152494Z"
    },
    "papermill": {
     "duration": 0.078338,
     "end_time": "2024-08-28T05:16:53.157133",
     "exception": false,
     "start_time": "2024-08-28T05:16:53.078795",
     "status": "completed"
    },
    "tags": []
   },
   "outputs": [],
   "source": [
    "df['Age'] = np.where(df['Age'] > upper_limit_age , upper_limit_age , \n",
    "        np.where(df['Age'] < lower_limit_age , lower_limit_age , df['Age']))"
   ]
  },
  {
   "cell_type": "code",
   "execution_count": 46,
   "id": "76fcc14d",
   "metadata": {
    "execution": {
     "iopub.execute_input": "2024-08-28T05:16:53.286098Z",
     "iopub.status.busy": "2024-08-28T05:16:53.284373Z",
     "iopub.status.idle": "2024-08-28T05:16:53.526163Z",
     "shell.execute_reply": "2024-08-28T05:16:53.524807Z"
    },
    "papermill": {
     "duration": 0.30878,
     "end_time": "2024-08-28T05:16:53.529191",
     "exception": false,
     "start_time": "2024-08-28T05:16:53.220411",
     "status": "completed"
    },
    "tags": []
   },
   "outputs": [
    {
     "data": {
      "image/png": "[encoded data removed]",
      "text/plain": [
       "<Figure size 640x480 with 1 Axes>"
      ]
     },
     "metadata": {},
     "output_type": "display_data"
    }
   ],
   "source": [
    "sns.boxplot(df['Age'])\n",
    "plt.show()"
   ]
  },
  {
   "cell_type": "markdown",
   "id": "55eda41f",
   "metadata": {
    "papermill": {
     "duration": 0.060851,
     "end_time": "2024-08-28T05:16:53.651900",
     "exception": false,
     "start_time": "2024-08-28T05:16:53.591049",
     "status": "completed"
    },
    "tags": []
   },
   "source": [
    "#### Fare"
   ]
  },
  {
   "cell_type": "code",
   "execution_count": 47,
   "id": "79267323",
   "metadata": {
    "execution": {
     "iopub.execute_input": "2024-08-28T05:16:53.775667Z",
     "iopub.status.busy": "2024-08-28T05:16:53.775126Z",
     "iopub.status.idle": "2024-08-28T05:16:54.197754Z",
     "shell.execute_reply": "2024-08-28T05:16:54.195766Z"
    },
    "papermill": {
     "duration": 0.488193,
     "end_time": "2024-08-28T05:16:54.201075",
     "exception": false,
     "start_time": "2024-08-28T05:16:53.712882",
     "status": "completed"
    },
    "tags": []
   },
   "outputs": [
    {
     "data": {
      "image/png": "[encoded data removed]",
      "text/plain": [
       "<Figure size 640x480 with 1 Axes>"
      ]
     },
     "metadata": {},
     "output_type": "display_data"
    }
   ],
   "source": [
    "sns.boxplot(df['Fare'])\n",
    "plt.show()"
   ]
  },
  {
   "cell_type": "markdown",
   "id": "38461c2f",
   "metadata": {
    "papermill": {
     "duration": 0.058751,
     "end_time": "2024-08-28T05:16:54.320380",
     "exception": false,
     "start_time": "2024-08-28T05:16:54.261629",
     "status": "completed"
    },
    "tags": []
   },
   "source": [
    "##### IQR of Fare"
   ]
  },
  {
   "cell_type": "code",
   "execution_count": 48,
   "id": "7fed86c4",
   "metadata": {
    "execution": {
     "iopub.execute_input": "2024-08-28T05:16:54.443309Z",
     "iopub.status.busy": "2024-08-28T05:16:54.442840Z",
     "iopub.status.idle": "2024-08-28T05:16:54.458373Z",
     "shell.execute_reply": "2024-08-28T05:16:54.456637Z"
    },
    "papermill": {
     "duration": 0.080799,
     "end_time": "2024-08-28T05:16:54.461160",
     "exception": false,
     "start_time": "2024-08-28T05:16:54.380361",
     "status": "completed"
    },
    "tags": []
   },
   "outputs": [
    {
     "name": "stdout",
     "output_type": "stream",
     "text": [
      "Q1_Fare : 7.9104\n",
      "Q2_Fare : 14.4542\n",
      "Q3_Fare : 31.0\n",
      "IQR_Fare : 23.0896\n",
      "Upper limit Fare : 65.6344\n",
      "Lower limit Fare : -26.724\n"
     ]
    }
   ],
   "source": [
    "Q1_Fare = df['Fare'].quantile(0.25)\n",
    "Q2_Fare = df['Fare'].quantile(0.50)\n",
    "Q3_Fare = df['Fare'].quantile(0.75)\n",
    "\n",
    "IQR_Fare = Q3_Fare - Q1_Fare\n",
    "\n",
    "upper_limit_Fare = Q3_Fare + (1.5 * IQR_Fare)\n",
    "lower_limit_Fare = Q1_Fare - (1.5 * IQR_Fare)\n",
    "\n",
    "print('Q1_Fare :' , Q1_Fare)\n",
    "print('Q2_Fare :' , Q2_Fare)\n",
    "print('Q3_Fare :' , Q3_Fare)\n",
    "\n",
    "print('IQR_Fare :' , IQR_Fare)\n",
    "\n",
    "print('Upper limit Fare :' , upper_limit_Fare)\n",
    "print('Lower limit Fare :' , lower_limit_Fare)"
   ]
  },
  {
   "cell_type": "code",
   "execution_count": 49,
   "id": "b141b7cd",
   "metadata": {
    "execution": {
     "iopub.execute_input": "2024-08-28T05:16:54.581692Z",
     "iopub.status.busy": "2024-08-28T05:16:54.581234Z",
     "iopub.status.idle": "2024-08-28T05:16:54.595854Z",
     "shell.execute_reply": "2024-08-28T05:16:54.594475Z"
    },
    "papermill": {
     "duration": 0.078065,
     "end_time": "2024-08-28T05:16:54.598376",
     "exception": false,
     "start_time": "2024-08-28T05:16:54.520311",
     "status": "completed"
    },
    "tags": []
   },
   "outputs": [
    {
     "data": {
      "text/plain": [
       "count    891.000000\n",
       "mean      32.204208\n",
       "std       49.693429\n",
       "min        0.000000\n",
       "25%        7.910400\n",
       "50%       14.454200\n",
       "75%       31.000000\n",
       "max      512.329200\n",
       "Name: Fare, dtype: float64"
      ]
     },
     "execution_count": 49,
     "metadata": {},
     "output_type": "execute_result"
    }
   ],
   "source": [
    "df['Fare'].describe()"
   ]
  },
  {
   "cell_type": "markdown",
   "id": "f2c26566",
   "metadata": {
    "papermill": {
     "duration": 0.05908,
     "end_time": "2024-08-28T05:16:54.716556",
     "exception": false,
     "start_time": "2024-08-28T05:16:54.657476",
     "status": "completed"
    },
    "tags": []
   },
   "source": [
    "#### Capping Fare"
   ]
  },
  {
   "cell_type": "code",
   "execution_count": 50,
   "id": "667a45c6",
   "metadata": {
    "execution": {
     "iopub.execute_input": "2024-08-28T05:16:54.838198Z",
     "iopub.status.busy": "2024-08-28T05:16:54.837289Z",
     "iopub.status.idle": "2024-08-28T05:16:54.845587Z",
     "shell.execute_reply": "2024-08-28T05:16:54.844057Z"
    },
    "papermill": {
     "duration": 0.07249,
     "end_time": "2024-08-28T05:16:54.848600",
     "exception": false,
     "start_time": "2024-08-28T05:16:54.776110",
     "status": "completed"
    },
    "tags": []
   },
   "outputs": [],
   "source": [
    "df['Fare'] = np.where(df['Fare'] > upper_limit_Fare , upper_limit_Fare , \n",
    "         np.where(df['Fare'] < lower_limit_Fare , lower_limit_Fare , df['Fare']))"
   ]
  },
  {
   "cell_type": "code",
   "execution_count": 51,
   "id": "8b39aada",
   "metadata": {
    "execution": {
     "iopub.execute_input": "2024-08-28T05:16:54.970145Z",
     "iopub.status.busy": "2024-08-28T05:16:54.969705Z",
     "iopub.status.idle": "2024-08-28T05:16:54.979774Z",
     "shell.execute_reply": "2024-08-28T05:16:54.978469Z"
    },
    "papermill": {
     "duration": 0.073606,
     "end_time": "2024-08-28T05:16:54.982456",
     "exception": false,
     "start_time": "2024-08-28T05:16:54.908850",
     "status": "completed"
    },
    "tags": []
   },
   "outputs": [
    {
     "data": {
      "text/plain": [
       "0     7.2500\n",
       "1    65.6344\n",
       "Name: Fare, dtype: float64"
      ]
     },
     "execution_count": 51,
     "metadata": {},
     "output_type": "execute_result"
    }
   ],
   "source": [
    "df['Fare'].head(2)"
   ]
  },
  {
   "cell_type": "code",
   "execution_count": 52,
   "id": "f820d90b",
   "metadata": {
    "execution": {
     "iopub.execute_input": "2024-08-28T05:16:55.106662Z",
     "iopub.status.busy": "2024-08-28T05:16:55.106092Z",
     "iopub.status.idle": "2024-08-28T05:16:55.552258Z",
     "shell.execute_reply": "2024-08-28T05:16:55.551014Z"
    },
    "papermill": {
     "duration": 0.509963,
     "end_time": "2024-08-28T05:16:55.554840",
     "exception": false,
     "start_time": "2024-08-28T05:16:55.044877",
     "status": "completed"
    },
    "tags": []
   },
   "outputs": [
    {
     "data": {
      "image/png": "[encoded data removed]",
      "text/plain": [
       "<Figure size 2000x500 with 1 Axes>"
      ]
     },
     "metadata": {},
     "output_type": "display_data"
    }
   ],
   "source": [
    "plt.figure(figsize = (20,5))\n",
    "df.boxplot()\n",
    "plt.show()"
   ]
  },
  {
   "cell_type": "markdown",
   "id": "25198707",
   "metadata": {
    "papermill": {
     "duration": 0.059256,
     "end_time": "2024-08-28T05:16:55.674226",
     "exception": false,
     "start_time": "2024-08-28T05:16:55.614970",
     "status": "completed"
    },
    "tags": []
   },
   "source": [
    "#### We remove Age , Name and Ticket because this variables are not statically significant with dependent variable . This conclusion is just by understanding data till now we are not checking our assumptions (Age , Name and Ticket is significant or not) are correct or not thats why we will perform some statical significant tests"
   ]
  },
  {
   "cell_type": "markdown",
   "id": "2d2f3c59",
   "metadata": {
    "papermill": {
     "duration": 0.059947,
     "end_time": "2024-08-28T05:16:55.794513",
     "exception": false,
     "start_time": "2024-08-28T05:16:55.734566",
     "status": "completed"
    },
    "tags": []
   },
   "source": [
    "### Here we perform Chi Test for to check variables are significant or not "
   ]
  },
  {
   "cell_type": "code",
   "execution_count": 53,
   "id": "e731e412",
   "metadata": {
    "execution": {
     "iopub.execute_input": "2024-08-28T05:16:55.916470Z",
     "iopub.status.busy": "2024-08-28T05:16:55.915985Z",
     "iopub.status.idle": "2024-08-28T05:16:55.925573Z",
     "shell.execute_reply": "2024-08-28T05:16:55.923980Z"
    },
    "papermill": {
     "duration": 0.073883,
     "end_time": "2024-08-28T05:16:55.928263",
     "exception": false,
     "start_time": "2024-08-28T05:16:55.854380",
     "status": "completed"
    },
    "tags": []
   },
   "outputs": [],
   "source": [
    "#df['Name'] = label.fit_transform(df['Name'])\n",
    "df['Ticket'] = label.fit_transform(df['Ticket'])"
   ]
  },
  {
   "cell_type": "code",
   "execution_count": 54,
   "id": "bf56a62d",
   "metadata": {
    "execution": {
     "iopub.execute_input": "2024-08-28T05:16:56.057179Z",
     "iopub.status.busy": "2024-08-28T05:16:56.056741Z",
     "iopub.status.idle": "2024-08-28T05:16:56.104837Z",
     "shell.execute_reply": "2024-08-28T05:16:56.103313Z"
    },
    "papermill": {
     "duration": 0.119166,
     "end_time": "2024-08-28T05:16:56.107924",
     "exception": false,
     "start_time": "2024-08-28T05:16:55.988758",
     "status": "completed"
    },
    "tags": []
   },
   "outputs": [
    {
     "name": "stdout",
     "output_type": "stream",
     "text": [
      "Chi-square test for Name: p-value = 0.484248151973633\n"
     ]
    }
   ],
   "source": [
    "import pandas as pd\n",
    "from scipy.stats import chi2_contingency\n",
    "\n",
    "# Perform chi-square test for Name and survival\n",
    "contingency_table = pd.crosstab(df[\"Name\"], df[\"Survived\"])\n",
    "chi2, p, dof, expected = chi2_contingency(contingency_table)\n",
    "print(\"Chi-square test for Name: p-value =\", p)"
   ]
  },
  {
   "cell_type": "markdown",
   "id": "32e5c47b",
   "metadata": {
    "papermill": {
     "duration": 0.062441,
     "end_time": "2024-08-28T05:16:56.231720",
     "exception": false,
     "start_time": "2024-08-28T05:16:56.169279",
     "status": "completed"
    },
    "tags": []
   },
   "source": [
    "### Chi-square test for Name: p-value = 0.484248151973633"
   ]
  },
  {
   "cell_type": "code",
   "execution_count": 55,
   "id": "47b64509",
   "metadata": {
    "execution": {
     "iopub.execute_input": "2024-08-28T05:16:56.357720Z",
     "iopub.status.busy": "2024-08-28T05:16:56.356376Z",
     "iopub.status.idle": "2024-08-28T05:16:56.392255Z",
     "shell.execute_reply": "2024-08-28T05:16:56.390778Z"
    },
    "papermill": {
     "duration": 0.102009,
     "end_time": "2024-08-28T05:16:56.395598",
     "exception": false,
     "start_time": "2024-08-28T05:16:56.293589",
     "status": "completed"
    },
    "tags": []
   },
   "outputs": [
    {
     "name": "stdout",
     "output_type": "stream",
     "text": [
      "Chi-square test for Ticket: p-value = 0.01152729601163775\n"
     ]
    }
   ],
   "source": [
    "# # Perform chi-square test for Ticket and survival\n",
    "contingency_table = pd.crosstab(df[\"Ticket\"], df[\"Survived\"])\n",
    "chi2, p, dof, expected = chi2_contingency(contingency_table)\n",
    "print(\"Chi-square test for Ticket: p-value =\", p)"
   ]
  },
  {
   "cell_type": "markdown",
   "id": "b1702bc4",
   "metadata": {
    "papermill": {
     "duration": 0.061556,
     "end_time": "2024-08-28T05:16:56.518987",
     "exception": false,
     "start_time": "2024-08-28T05:16:56.457431",
     "status": "completed"
    },
    "tags": []
   },
   "source": [
    "### Chi-square test for Ticket: p-value = 0.01152729601163775"
   ]
  },
  {
   "cell_type": "code",
   "execution_count": 56,
   "id": "21953520",
   "metadata": {
    "execution": {
     "iopub.execute_input": "2024-08-28T05:16:56.648740Z",
     "iopub.status.busy": "2024-08-28T05:16:56.648246Z",
     "iopub.status.idle": "2024-08-28T05:16:56.669947Z",
     "shell.execute_reply": "2024-08-28T05:16:56.668222Z"
    },
    "papermill": {
     "duration": 0.090993,
     "end_time": "2024-08-28T05:16:56.673120",
     "exception": false,
     "start_time": "2024-08-28T05:16:56.582127",
     "status": "completed"
    },
    "tags": []
   },
   "outputs": [
    {
     "name": "stdout",
     "output_type": "stream",
     "text": [
      "Chi-square test for Age: p-value = 0.03035145753494914\n"
     ]
    }
   ],
   "source": [
    "# # Perform chi-square test for Age and survival\n",
    "contingency_table = pd.crosstab(df[\"Age\"], df[\"Survived\"])\n",
    "chi2, p, dof, expected = chi2_contingency(contingency_table)\n",
    "print(\"Chi-square test for Age: p-value =\", p)"
   ]
  },
  {
   "cell_type": "markdown",
   "id": "d4eb4d6a",
   "metadata": {
    "papermill": {
     "duration": 0.062767,
     "end_time": "2024-08-28T05:16:56.798257",
     "exception": false,
     "start_time": "2024-08-28T05:16:56.735490",
     "status": "completed"
    },
    "tags": []
   },
   "source": [
    "### Chi-square test for Age : p-value = 0.03035145753494914"
   ]
  },
  {
   "cell_type": "code",
   "execution_count": 57,
   "id": "77b2667b",
   "metadata": {
    "execution": {
     "iopub.execute_input": "2024-08-28T05:16:56.927512Z",
     "iopub.status.busy": "2024-08-28T05:16:56.925954Z",
     "iopub.status.idle": "2024-08-28T05:16:56.966967Z",
     "shell.execute_reply": "2024-08-28T05:16:56.965070Z"
    },
    "papermill": {
     "duration": 0.109908,
     "end_time": "2024-08-28T05:16:56.970063",
     "exception": false,
     "start_time": "2024-08-28T05:16:56.860155",
     "status": "completed"
    },
    "tags": []
   },
   "outputs": [
    {
     "name": "stdout",
     "output_type": "stream",
     "text": [
      "Chi-square test for PassengerId: p-value = 0.484248151973633\n"
     ]
    }
   ],
   "source": [
    "contingency_table = pd.crosstab(df[\"PassengerId\"], df[\"Survived\"])\n",
    "chi2, p, dof, expected = chi2_contingency(contingency_table)\n",
    "print(\"Chi-square test for PassengerId: p-value =\", p)"
   ]
  },
  {
   "cell_type": "markdown",
   "id": "1148e708",
   "metadata": {
    "papermill": {
     "duration": 0.061152,
     "end_time": "2024-08-28T05:16:57.095796",
     "exception": false,
     "start_time": "2024-08-28T05:16:57.034644",
     "status": "completed"
    },
    "tags": []
   },
   "source": [
    "### Chi-square test for PassengerId: p-value = 0.484248151973633"
   ]
  },
  {
   "cell_type": "code",
   "execution_count": 58,
   "id": "1b733475",
   "metadata": {
    "execution": {
     "iopub.execute_input": "2024-08-28T05:16:57.221776Z",
     "iopub.status.busy": "2024-08-28T05:16:57.221268Z",
     "iopub.status.idle": "2024-08-28T05:16:57.239933Z",
     "shell.execute_reply": "2024-08-28T05:16:57.238427Z"
    },
    "papermill": {
     "duration": 0.08526,
     "end_time": "2024-08-28T05:16:57.243056",
     "exception": false,
     "start_time": "2024-08-28T05:16:57.157796",
     "status": "completed"
    },
    "tags": []
   },
   "outputs": [
    {
     "data": {
      "text/html": [
       "<div>\n",
       "<style scoped>\n",
       "    .dataframe tbody tr th:only-of-type {\n",
       "        vertical-align: middle;\n",
       "    }\n",
       "\n",
       "    .dataframe tbody tr th {\n",
       "        vertical-align: top;\n",
       "    }\n",
       "\n",
       "    .dataframe thead th {\n",
       "        text-align: right;\n",
       "    }\n",
       "</style>\n",
       "<table border=\"1\" class=\"dataframe\">\n",
       "  <thead>\n",
       "    <tr style=\"text-align: right;\">\n",
       "      <th></th>\n",
       "      <th>PassengerId</th>\n",
       "      <th>Survived</th>\n",
       "      <th>Pclass</th>\n",
       "      <th>Name</th>\n",
       "      <th>Age</th>\n",
       "      <th>SibSp</th>\n",
       "      <th>Parch</th>\n",
       "      <th>Ticket</th>\n",
       "      <th>Fare</th>\n",
       "      <th>Embarked</th>\n",
       "      <th>Sex</th>\n",
       "    </tr>\n",
       "  </thead>\n",
       "  <tbody>\n",
       "    <tr>\n",
       "      <th>0</th>\n",
       "      <td>1</td>\n",
       "      <td>0</td>\n",
       "      <td>3</td>\n",
       "      <td>Braund, Mr. Owen Harris</td>\n",
       "      <td>22.0</td>\n",
       "      <td>1</td>\n",
       "      <td>0</td>\n",
       "      <td>523</td>\n",
       "      <td>7.2500</td>\n",
       "      <td>2</td>\n",
       "      <td>True</td>\n",
       "    </tr>\n",
       "    <tr>\n",
       "      <th>1</th>\n",
       "      <td>2</td>\n",
       "      <td>1</td>\n",
       "      <td>1</td>\n",
       "      <td>Cumings, Mrs. John Bradley (Florence Briggs Th...</td>\n",
       "      <td>38.0</td>\n",
       "      <td>1</td>\n",
       "      <td>0</td>\n",
       "      <td>596</td>\n",
       "      <td>65.6344</td>\n",
       "      <td>0</td>\n",
       "      <td>False</td>\n",
       "    </tr>\n",
       "  </tbody>\n",
       "</table>\n",
       "</div>"
      ],
      "text/plain": [
       "   PassengerId  Survived  Pclass  \\\n",
       "0            1         0       3   \n",
       "1            2         1       1   \n",
       "\n",
       "                                                Name   Age  SibSp  Parch  \\\n",
       "0                            Braund, Mr. Owen Harris  22.0      1      0   \n",
       "1  Cumings, Mrs. John Bradley (Florence Briggs Th...  38.0      1      0   \n",
       "\n",
       "   Ticket     Fare  Embarked    Sex  \n",
       "0     523   7.2500         2   True  \n",
       "1     596  65.6344         0  False  "
      ]
     },
     "execution_count": 58,
     "metadata": {},
     "output_type": "execute_result"
    }
   ],
   "source": [
    "df.head(2)"
   ]
  },
  {
   "cell_type": "code",
   "execution_count": 59,
   "id": "e82f3e58",
   "metadata": {
    "execution": {
     "iopub.execute_input": "2024-08-28T05:16:57.367280Z",
     "iopub.status.busy": "2024-08-28T05:16:57.366350Z",
     "iopub.status.idle": "2024-08-28T05:16:57.534670Z",
     "shell.execute_reply": "2024-08-28T05:16:57.533089Z"
    },
    "papermill": {
     "duration": 0.233139,
     "end_time": "2024-08-28T05:16:57.537511",
     "exception": false,
     "start_time": "2024-08-28T05:16:57.304372",
     "status": "completed"
    },
    "tags": []
   },
   "outputs": [
    {
     "name": "stdout",
     "output_type": "stream",
     "text": [
      "Chi-square test for PassengerId : p-value = 0.484248151973633\n",
      "Chi-square test for Survived : p-value = 7.352052198553542e-195\n",
      "Chi-square test for Pclass : p-value = 4.549251711298793e-23\n",
      "Chi-square test for Name : p-value = 0.484248151973633\n",
      "Chi-square test for Age : p-value = 0.03035145753494914\n",
      "Chi-square test for SibSp : p-value = 1.5585810465902147e-06\n",
      "Chi-square test for Parch : p-value = 9.703526421039997e-05\n",
      "Chi-square test for Ticket : p-value = 0.01152729601163775\n",
      "Chi-square test for Fare : p-value = 8.021440901297484e-12\n",
      "Chi-square test for Embarked : p-value = 2.3008626481449577e-06\n",
      "Chi-square test for Sex : p-value = 1.1973570627755645e-58\n"
     ]
    }
   ],
   "source": [
    "for col in df.columns:\n",
    "    \n",
    "    contingency_table = pd.crosstab(df[col], df[\"Survived\"])\n",
    "    \n",
    "    chi2, p, dof, expected = chi2_contingency(contingency_table)\n",
    "    \n",
    "    print(f\"Chi-square test for {col} : p-value =\", p)"
   ]
  },
  {
   "cell_type": "markdown",
   "id": "e9b5585a",
   "metadata": {
    "papermill": {
     "duration": 0.062389,
     "end_time": "2024-08-28T05:16:57.664238",
     "exception": false,
     "start_time": "2024-08-28T05:16:57.601849",
     "status": "completed"
    },
    "tags": []
   },
   "source": [
    "#### Insights : From that p value by chi square test , we get to know Only PassengerId and Name is the Non Significant variable. so we are dropping it ``"
   ]
  },
  {
   "cell_type": "code",
   "execution_count": 60,
   "id": "cf776b8d",
   "metadata": {
    "execution": {
     "iopub.execute_input": "2024-08-28T05:16:57.794486Z",
     "iopub.status.busy": "2024-08-28T05:16:57.793982Z",
     "iopub.status.idle": "2024-08-28T05:16:57.802074Z",
     "shell.execute_reply": "2024-08-28T05:16:57.800500Z"
    },
    "papermill": {
     "duration": 0.076997,
     "end_time": "2024-08-28T05:16:57.805178",
     "exception": false,
     "start_time": "2024-08-28T05:16:57.728181",
     "status": "completed"
    },
    "tags": []
   },
   "outputs": [],
   "source": [
    "#This only dropping Name\n",
    "df.drop(['Name' , 'PassengerId'] , axis = 1 , inplace = True)"
   ]
  },
  {
   "cell_type": "markdown",
   "id": "0b233f19",
   "metadata": {
    "papermill": {
     "duration": 0.062587,
     "end_time": "2024-08-28T05:16:57.930818",
     "exception": false,
     "start_time": "2024-08-28T05:16:57.868231",
     "status": "completed"
    },
    "tags": []
   },
   "source": [
    "#### Correlation Matrix"
   ]
  },
  {
   "cell_type": "code",
   "execution_count": 61,
   "id": "2553390a",
   "metadata": {
    "execution": {
     "iopub.execute_input": "2024-08-28T05:16:58.144401Z",
     "iopub.status.busy": "2024-08-28T05:16:58.143304Z",
     "iopub.status.idle": "2024-08-28T05:16:58.831160Z",
     "shell.execute_reply": "2024-08-28T05:16:58.829640Z"
    },
    "papermill": {
     "duration": 0.756033,
     "end_time": "2024-08-28T05:16:58.834944",
     "exception": false,
     "start_time": "2024-08-28T05:16:58.078911",
     "status": "completed"
    },
    "tags": []
   },
   "outputs": [
    {
     "data": {
      "image/png": "[encoded data removed]",
      "text/plain": [
       "<Figure size 1500x500 with 2 Axes>"
      ]
     },
     "metadata": {},
     "output_type": "display_data"
    }
   ],
   "source": [
    "plt.figure(figsize = (15 , 5))\n",
    "sns.heatmap(df.corr() , annot = True , cmap = 'rainbow' , cbar = True)\n",
    "plt.show()"
   ]
  },
  {
   "cell_type": "markdown",
   "id": "79dcaf3f",
   "metadata": {
    "papermill": {
     "duration": 0.062908,
     "end_time": "2024-08-28T05:16:58.961857",
     "exception": false,
     "start_time": "2024-08-28T05:16:58.898949",
     "status": "completed"
    },
    "tags": []
   },
   "source": [
    "### 4.Feature scaling"
   ]
  },
  {
   "cell_type": "code",
   "execution_count": 62,
   "id": "6df2ecaf",
   "metadata": {
    "execution": {
     "iopub.execute_input": "2024-08-28T05:16:59.092701Z",
     "iopub.status.busy": "2024-08-28T05:16:59.091218Z",
     "iopub.status.idle": "2024-08-28T05:16:59.108133Z",
     "shell.execute_reply": "2024-08-28T05:16:59.106707Z"
    },
    "papermill": {
     "duration": 0.084384,
     "end_time": "2024-08-28T05:16:59.111109",
     "exception": false,
     "start_time": "2024-08-28T05:16:59.026725",
     "status": "completed"
    },
    "tags": []
   },
   "outputs": [
    {
     "data": {
      "text/html": [
       "<div>\n",
       "<style scoped>\n",
       "    .dataframe tbody tr th:only-of-type {\n",
       "        vertical-align: middle;\n",
       "    }\n",
       "\n",
       "    .dataframe tbody tr th {\n",
       "        vertical-align: top;\n",
       "    }\n",
       "\n",
       "    .dataframe thead th {\n",
       "        text-align: right;\n",
       "    }\n",
       "</style>\n",
       "<table border=\"1\" class=\"dataframe\">\n",
       "  <thead>\n",
       "    <tr style=\"text-align: right;\">\n",
       "      <th></th>\n",
       "      <th>Survived</th>\n",
       "      <th>Pclass</th>\n",
       "      <th>Age</th>\n",
       "      <th>SibSp</th>\n",
       "      <th>Parch</th>\n",
       "      <th>Ticket</th>\n",
       "      <th>Fare</th>\n",
       "      <th>Embarked</th>\n",
       "      <th>Sex</th>\n",
       "    </tr>\n",
       "  </thead>\n",
       "  <tbody>\n",
       "    <tr>\n",
       "      <th>0</th>\n",
       "      <td>0</td>\n",
       "      <td>3</td>\n",
       "      <td>22.0</td>\n",
       "      <td>1</td>\n",
       "      <td>0</td>\n",
       "      <td>523</td>\n",
       "      <td>7.2500</td>\n",
       "      <td>2</td>\n",
       "      <td>True</td>\n",
       "    </tr>\n",
       "    <tr>\n",
       "      <th>1</th>\n",
       "      <td>1</td>\n",
       "      <td>1</td>\n",
       "      <td>38.0</td>\n",
       "      <td>1</td>\n",
       "      <td>0</td>\n",
       "      <td>596</td>\n",
       "      <td>65.6344</td>\n",
       "      <td>0</td>\n",
       "      <td>False</td>\n",
       "    </tr>\n",
       "  </tbody>\n",
       "</table>\n",
       "</div>"
      ],
      "text/plain": [
       "   Survived  Pclass   Age  SibSp  Parch  Ticket     Fare  Embarked    Sex\n",
       "0         0       3  22.0      1      0     523   7.2500         2   True\n",
       "1         1       1  38.0      1      0     596  65.6344         0  False"
      ]
     },
     "execution_count": 62,
     "metadata": {},
     "output_type": "execute_result"
    }
   ],
   "source": [
    "df.head(2)"
   ]
  },
  {
   "cell_type": "code",
   "execution_count": 63,
   "id": "3886830d",
   "metadata": {
    "execution": {
     "iopub.execute_input": "2024-08-28T05:16:59.242351Z",
     "iopub.status.busy": "2024-08-28T05:16:59.241773Z",
     "iopub.status.idle": "2024-08-28T05:16:59.261033Z",
     "shell.execute_reply": "2024-08-28T05:16:59.259578Z"
    },
    "papermill": {
     "duration": 0.089554,
     "end_time": "2024-08-28T05:16:59.264167",
     "exception": false,
     "start_time": "2024-08-28T05:16:59.174613",
     "status": "completed"
    },
    "tags": []
   },
   "outputs": [
    {
     "data": {
      "text/html": [
       "<div>\n",
       "<style scoped>\n",
       "    .dataframe tbody tr th:only-of-type {\n",
       "        vertical-align: middle;\n",
       "    }\n",
       "\n",
       "    .dataframe tbody tr th {\n",
       "        vertical-align: top;\n",
       "    }\n",
       "\n",
       "    .dataframe thead th {\n",
       "        text-align: right;\n",
       "    }\n",
       "</style>\n",
       "<table border=\"1\" class=\"dataframe\">\n",
       "  <thead>\n",
       "    <tr style=\"text-align: right;\">\n",
       "      <th></th>\n",
       "      <th>PassengerId</th>\n",
       "      <th>Survived</th>\n",
       "      <th>Pclass</th>\n",
       "      <th>Name</th>\n",
       "      <th>Sex</th>\n",
       "      <th>Age</th>\n",
       "      <th>SibSp</th>\n",
       "      <th>Parch</th>\n",
       "      <th>Ticket</th>\n",
       "      <th>Fare</th>\n",
       "      <th>Cabin</th>\n",
       "      <th>Embarked</th>\n",
       "    </tr>\n",
       "  </thead>\n",
       "  <tbody>\n",
       "    <tr>\n",
       "      <th>0</th>\n",
       "      <td>1</td>\n",
       "      <td>0</td>\n",
       "      <td>3</td>\n",
       "      <td>Braund, Mr. Owen Harris</td>\n",
       "      <td>male</td>\n",
       "      <td>22.0</td>\n",
       "      <td>1</td>\n",
       "      <td>0</td>\n",
       "      <td>A/5 21171</td>\n",
       "      <td>7.25</td>\n",
       "      <td>NaN</td>\n",
       "      <td>S</td>\n",
       "    </tr>\n",
       "  </tbody>\n",
       "</table>\n",
       "</div>"
      ],
      "text/plain": [
       "   PassengerId  Survived  Pclass                     Name   Sex   Age  SibSp  \\\n",
       "0            1         0       3  Braund, Mr. Owen Harris  male  22.0      1   \n",
       "\n",
       "   Parch     Ticket  Fare Cabin Embarked  \n",
       "0      0  A/5 21171  7.25   NaN        S  "
      ]
     },
     "execution_count": 63,
     "metadata": {},
     "output_type": "execute_result"
    }
   ],
   "source": [
    "original_data.head(1)"
   ]
  },
  {
   "cell_type": "code",
   "execution_count": 64,
   "id": "37cb6d47",
   "metadata": {
    "execution": {
     "iopub.execute_input": "2024-08-28T05:16:59.397369Z",
     "iopub.status.busy": "2024-08-28T05:16:59.396914Z",
     "iopub.status.idle": "2024-08-28T05:16:59.403910Z",
     "shell.execute_reply": "2024-08-28T05:16:59.402748Z"
    },
    "papermill": {
     "duration": 0.076283,
     "end_time": "2024-08-28T05:16:59.406659",
     "exception": false,
     "start_time": "2024-08-28T05:16:59.330376",
     "status": "completed"
    },
    "tags": []
   },
   "outputs": [],
   "source": [
    "x = df.iloc[: , 1:]\n",
    "y = df.iloc[: , 0]"
   ]
  },
  {
   "cell_type": "code",
   "execution_count": 65,
   "id": "df93e418",
   "metadata": {
    "execution": {
     "iopub.execute_input": "2024-08-28T05:16:59.540545Z",
     "iopub.status.busy": "2024-08-28T05:16:59.540057Z",
     "iopub.status.idle": "2024-08-28T05:16:59.556100Z",
     "shell.execute_reply": "2024-08-28T05:16:59.554896Z"
    },
    "papermill": {
     "duration": 0.08635,
     "end_time": "2024-08-28T05:16:59.558735",
     "exception": false,
     "start_time": "2024-08-28T05:16:59.472385",
     "status": "completed"
    },
    "tags": []
   },
   "outputs": [
    {
     "data": {
      "text/html": [
       "<div>\n",
       "<style scoped>\n",
       "    .dataframe tbody tr th:only-of-type {\n",
       "        vertical-align: middle;\n",
       "    }\n",
       "\n",
       "    .dataframe tbody tr th {\n",
       "        vertical-align: top;\n",
       "    }\n",
       "\n",
       "    .dataframe thead th {\n",
       "        text-align: right;\n",
       "    }\n",
       "</style>\n",
       "<table border=\"1\" class=\"dataframe\">\n",
       "  <thead>\n",
       "    <tr style=\"text-align: right;\">\n",
       "      <th></th>\n",
       "      <th>Pclass</th>\n",
       "      <th>Age</th>\n",
       "      <th>SibSp</th>\n",
       "      <th>Parch</th>\n",
       "      <th>Ticket</th>\n",
       "      <th>Fare</th>\n",
       "      <th>Embarked</th>\n",
       "      <th>Sex</th>\n",
       "    </tr>\n",
       "  </thead>\n",
       "  <tbody>\n",
       "    <tr>\n",
       "      <th>0</th>\n",
       "      <td>3</td>\n",
       "      <td>22.0</td>\n",
       "      <td>1</td>\n",
       "      <td>0</td>\n",
       "      <td>523</td>\n",
       "      <td>7.2500</td>\n",
       "      <td>2</td>\n",
       "      <td>True</td>\n",
       "    </tr>\n",
       "    <tr>\n",
       "      <th>1</th>\n",
       "      <td>1</td>\n",
       "      <td>38.0</td>\n",
       "      <td>1</td>\n",
       "      <td>0</td>\n",
       "      <td>596</td>\n",
       "      <td>65.6344</td>\n",
       "      <td>0</td>\n",
       "      <td>False</td>\n",
       "    </tr>\n",
       "  </tbody>\n",
       "</table>\n",
       "</div>"
      ],
      "text/plain": [
       "   Pclass   Age  SibSp  Parch  Ticket     Fare  Embarked    Sex\n",
       "0       3  22.0      1      0     523   7.2500         2   True\n",
       "1       1  38.0      1      0     596  65.6344         0  False"
      ]
     },
     "execution_count": 65,
     "metadata": {},
     "output_type": "execute_result"
    }
   ],
   "source": [
    "x.head(2)"
   ]
  },
  {
   "cell_type": "code",
   "execution_count": 66,
   "id": "7cefe19b",
   "metadata": {
    "execution": {
     "iopub.execute_input": "2024-08-28T05:16:59.693813Z",
     "iopub.status.busy": "2024-08-28T05:16:59.692776Z",
     "iopub.status.idle": "2024-08-28T05:16:59.701952Z",
     "shell.execute_reply": "2024-08-28T05:16:59.700663Z"
    },
    "papermill": {
     "duration": 0.078614,
     "end_time": "2024-08-28T05:16:59.704545",
     "exception": false,
     "start_time": "2024-08-28T05:16:59.625931",
     "status": "completed"
    },
    "tags": []
   },
   "outputs": [
    {
     "data": {
      "text/plain": [
       "0    0\n",
       "1    1\n",
       "Name: Survived, dtype: int64"
      ]
     },
     "execution_count": 66,
     "metadata": {},
     "output_type": "execute_result"
    }
   ],
   "source": [
    "y.head(2)"
   ]
  },
  {
   "cell_type": "markdown",
   "id": "48a2415a",
   "metadata": {
    "papermill": {
     "duration": 0.065768,
     "end_time": "2024-08-28T05:16:59.836804",
     "exception": false,
     "start_time": "2024-08-28T05:16:59.771036",
     "status": "completed"
    },
    "tags": []
   },
   "source": [
    "#### Feature Scaling"
   ]
  },
  {
   "cell_type": "code",
   "execution_count": 67,
   "id": "ca18bf1b",
   "metadata": {
    "execution": {
     "iopub.execute_input": "2024-08-28T05:16:59.970572Z",
     "iopub.status.busy": "2024-08-28T05:16:59.969512Z",
     "iopub.status.idle": "2024-08-28T05:16:59.975514Z",
     "shell.execute_reply": "2024-08-28T05:16:59.973913Z"
    },
    "papermill": {
     "duration": 0.07632,
     "end_time": "2024-08-28T05:16:59.978216",
     "exception": false,
     "start_time": "2024-08-28T05:16:59.901896",
     "status": "completed"
    },
    "tags": []
   },
   "outputs": [],
   "source": [
    "from sklearn.preprocessing import StandardScaler"
   ]
  },
  {
   "cell_type": "code",
   "execution_count": 68,
   "id": "d3370cb7",
   "metadata": {
    "execution": {
     "iopub.execute_input": "2024-08-28T05:17:00.114291Z",
     "iopub.status.busy": "2024-08-28T05:17:00.113717Z",
     "iopub.status.idle": "2024-08-28T05:17:00.120546Z",
     "shell.execute_reply": "2024-08-28T05:17:00.118977Z"
    },
    "papermill": {
     "duration": 0.078144,
     "end_time": "2024-08-28T05:17:00.123513",
     "exception": false,
     "start_time": "2024-08-28T05:17:00.045369",
     "status": "completed"
    },
    "tags": []
   },
   "outputs": [],
   "source": [
    "scaler = StandardScaler()"
   ]
  },
  {
   "cell_type": "code",
   "execution_count": 69,
   "id": "cbb61d2c",
   "metadata": {
    "execution": {
     "iopub.execute_input": "2024-08-28T05:17:00.254584Z",
     "iopub.status.busy": "2024-08-28T05:17:00.254121Z",
     "iopub.status.idle": "2024-08-28T05:17:00.266939Z",
     "shell.execute_reply": "2024-08-28T05:17:00.265579Z"
    },
    "papermill": {
     "duration": 0.083097,
     "end_time": "2024-08-28T05:17:00.270773",
     "exception": false,
     "start_time": "2024-08-28T05:17:00.187676",
     "status": "completed"
    },
    "tags": []
   },
   "outputs": [],
   "source": [
    "scaled_x = scaler.fit_transform(x)"
   ]
  },
  {
   "cell_type": "code",
   "execution_count": 70,
   "id": "27425c00",
   "metadata": {
    "execution": {
     "iopub.execute_input": "2024-08-28T05:17:00.403452Z",
     "iopub.status.busy": "2024-08-28T05:17:00.402951Z",
     "iopub.status.idle": "2024-08-28T05:17:00.409333Z",
     "shell.execute_reply": "2024-08-28T05:17:00.408094Z"
    },
    "papermill": {
     "duration": 0.0757,
     "end_time": "2024-08-28T05:17:00.412288",
     "exception": false,
     "start_time": "2024-08-28T05:17:00.336588",
     "status": "completed"
    },
    "tags": []
   },
   "outputs": [],
   "source": [
    "scaled_x = pd.DataFrame(scaled_x , columns = x.columns)"
   ]
  },
  {
   "cell_type": "code",
   "execution_count": 71,
   "id": "82e5f216",
   "metadata": {
    "execution": {
     "iopub.execute_input": "2024-08-28T05:17:00.547349Z",
     "iopub.status.busy": "2024-08-28T05:17:00.546874Z",
     "iopub.status.idle": "2024-08-28T05:17:00.568018Z",
     "shell.execute_reply": "2024-08-28T05:17:00.566528Z"
    },
    "papermill": {
     "duration": 0.091321,
     "end_time": "2024-08-28T05:17:00.570451",
     "exception": false,
     "start_time": "2024-08-28T05:17:00.479130",
     "status": "completed"
    },
    "tags": []
   },
   "outputs": [
    {
     "data": {
      "text/html": [
       "<div>\n",
       "<style scoped>\n",
       "    .dataframe tbody tr th:only-of-type {\n",
       "        vertical-align: middle;\n",
       "    }\n",
       "\n",
       "    .dataframe tbody tr th {\n",
       "        vertical-align: top;\n",
       "    }\n",
       "\n",
       "    .dataframe thead th {\n",
       "        text-align: right;\n",
       "    }\n",
       "</style>\n",
       "<table border=\"1\" class=\"dataframe\">\n",
       "  <thead>\n",
       "    <tr style=\"text-align: right;\">\n",
       "      <th></th>\n",
       "      <th>Pclass</th>\n",
       "      <th>Age</th>\n",
       "      <th>SibSp</th>\n",
       "      <th>Parch</th>\n",
       "      <th>Ticket</th>\n",
       "      <th>Fare</th>\n",
       "      <th>Embarked</th>\n",
       "      <th>Sex</th>\n",
       "    </tr>\n",
       "  </thead>\n",
       "  <tbody>\n",
       "    <tr>\n",
       "      <th>0</th>\n",
       "      <td>0.827377</td>\n",
       "      <td>-0.583432</td>\n",
       "      <td>0.432793</td>\n",
       "      <td>-0.473674</td>\n",
       "      <td>0.918966</td>\n",
       "      <td>-0.820552</td>\n",
       "      <td>0.585954</td>\n",
       "      <td>0.737695</td>\n",
       "    </tr>\n",
       "    <tr>\n",
       "      <th>1</th>\n",
       "      <td>-1.566107</td>\n",
       "      <td>0.742685</td>\n",
       "      <td>0.432793</td>\n",
       "      <td>-0.473674</td>\n",
       "      <td>1.282625</td>\n",
       "      <td>2.031623</td>\n",
       "      <td>-1.942303</td>\n",
       "      <td>-1.355574</td>\n",
       "    </tr>\n",
       "    <tr>\n",
       "      <th>2</th>\n",
       "      <td>0.827377</td>\n",
       "      <td>-0.251903</td>\n",
       "      <td>-0.474545</td>\n",
       "      <td>-0.473674</td>\n",
       "      <td>1.646283</td>\n",
       "      <td>-0.787578</td>\n",
       "      <td>0.585954</td>\n",
       "      <td>-1.355574</td>\n",
       "    </tr>\n",
       "    <tr>\n",
       "      <th>3</th>\n",
       "      <td>-1.566107</td>\n",
       "      <td>0.494038</td>\n",
       "      <td>0.432793</td>\n",
       "      <td>-0.473674</td>\n",
       "      <td>-1.442322</td>\n",
       "      <td>1.419297</td>\n",
       "      <td>0.585954</td>\n",
       "      <td>-1.355574</td>\n",
       "    </tr>\n",
       "    <tr>\n",
       "      <th>4</th>\n",
       "      <td>0.827377</td>\n",
       "      <td>0.494038</td>\n",
       "      <td>-0.474545</td>\n",
       "      <td>-0.473674</td>\n",
       "      <td>0.664904</td>\n",
       "      <td>-0.781471</td>\n",
       "      <td>0.585954</td>\n",
       "      <td>0.737695</td>\n",
       "    </tr>\n",
       "    <tr>\n",
       "      <th>...</th>\n",
       "      <td>...</td>\n",
       "      <td>...</td>\n",
       "      <td>...</td>\n",
       "      <td>...</td>\n",
       "      <td>...</td>\n",
       "      <td>...</td>\n",
       "      <td>...</td>\n",
       "      <td>...</td>\n",
       "    </tr>\n",
       "    <tr>\n",
       "      <th>886</th>\n",
       "      <td>-0.369365</td>\n",
       "      <td>-0.169020</td>\n",
       "      <td>-0.474545</td>\n",
       "      <td>-0.473674</td>\n",
       "      <td>-1.183277</td>\n",
       "      <td>-0.539655</td>\n",
       "      <td>0.585954</td>\n",
       "      <td>0.737695</td>\n",
       "    </tr>\n",
       "    <tr>\n",
       "      <th>887</th>\n",
       "      <td>-1.566107</td>\n",
       "      <td>-0.832079</td>\n",
       "      <td>-0.474545</td>\n",
       "      <td>-0.473674</td>\n",
       "      <td>-1.616678</td>\n",
       "      <td>0.290823</td>\n",
       "      <td>0.585954</td>\n",
       "      <td>-1.355574</td>\n",
       "    </tr>\n",
       "    <tr>\n",
       "      <th>888</th>\n",
       "      <td>0.827377</td>\n",
       "      <td>-0.086138</td>\n",
       "      <td>0.432793</td>\n",
       "      <td>2.008933</td>\n",
       "      <td>1.676173</td>\n",
       "      <td>-0.029155</td>\n",
       "      <td>0.585954</td>\n",
       "      <td>-1.355574</td>\n",
       "    </tr>\n",
       "    <tr>\n",
       "      <th>889</th>\n",
       "      <td>-1.566107</td>\n",
       "      <td>-0.251903</td>\n",
       "      <td>-0.474545</td>\n",
       "      <td>-0.473674</td>\n",
       "      <td>-1.646568</td>\n",
       "      <td>0.290823</td>\n",
       "      <td>-1.942303</td>\n",
       "      <td>0.737695</td>\n",
       "    </tr>\n",
       "    <tr>\n",
       "      <th>890</th>\n",
       "      <td>0.827377</td>\n",
       "      <td>0.245391</td>\n",
       "      <td>-0.474545</td>\n",
       "      <td>-0.473674</td>\n",
       "      <td>0.635014</td>\n",
       "      <td>-0.796127</td>\n",
       "      <td>-0.678175</td>\n",
       "      <td>0.737695</td>\n",
       "    </tr>\n",
       "  </tbody>\n",
       "</table>\n",
       "<p>891 rows × 8 columns</p>\n",
       "</div>"
      ],
      "text/plain": [
       "       Pclass       Age     SibSp     Parch    Ticket      Fare  Embarked  \\\n",
       "0    0.827377 -0.583432  0.432793 -0.473674  0.918966 -0.820552  0.585954   \n",
       "1   -1.566107  0.742685  0.432793 -0.473674  1.282625  2.031623 -1.942303   \n",
       "2    0.827377 -0.251903 -0.474545 -0.473674  1.646283 -0.787578  0.585954   \n",
       "3   -1.566107  0.494038  0.432793 -0.473674 -1.442322  1.419297  0.585954   \n",
       "4    0.827377  0.494038 -0.474545 -0.473674  0.664904 -0.781471  0.585954   \n",
       "..        ...       ...       ...       ...       ...       ...       ...   \n",
       "886 -0.369365 -0.169020 -0.474545 -0.473674 -1.183277 -0.539655  0.585954   \n",
       "887 -1.566107 -0.832079 -0.474545 -0.473674 -1.616678  0.290823  0.585954   \n",
       "888  0.827377 -0.086138  0.432793  2.008933  1.676173 -0.029155  0.585954   \n",
       "889 -1.566107 -0.251903 -0.474545 -0.473674 -1.646568  0.290823 -1.942303   \n",
       "890  0.827377  0.245391 -0.474545 -0.473674  0.635014 -0.796127 -0.678175   \n",
       "\n",
       "          Sex  \n",
       "0    0.737695  \n",
       "1   -1.355574  \n",
       "2   -1.355574  \n",
       "3   -1.355574  \n",
       "4    0.737695  \n",
       "..        ...  \n",
       "886  0.737695  \n",
       "887 -1.355574  \n",
       "888 -1.355574  \n",
       "889  0.737695  \n",
       "890  0.737695  \n",
       "\n",
       "[891 rows x 8 columns]"
      ]
     },
     "execution_count": 71,
     "metadata": {},
     "output_type": "execute_result"
    }
   ],
   "source": [
    "scaled_x"
   ]
  },
  {
   "cell_type": "markdown",
   "id": "94390d36",
   "metadata": {
    "papermill": {
     "duration": 0.066709,
     "end_time": "2024-08-28T05:17:00.704031",
     "exception": false,
     "start_time": "2024-08-28T05:17:00.637322",
     "status": "completed"
    },
    "tags": []
   },
   "source": [
    "### 5. Check Data Balance"
   ]
  },
  {
   "cell_type": "code",
   "execution_count": 72,
   "id": "8851c1ec",
   "metadata": {
    "execution": {
     "iopub.execute_input": "2024-08-28T05:17:00.838406Z",
     "iopub.status.busy": "2024-08-28T05:17:00.837922Z",
     "iopub.status.idle": "2024-08-28T05:17:00.847677Z",
     "shell.execute_reply": "2024-08-28T05:17:00.846563Z"
    },
    "papermill": {
     "duration": 0.080225,
     "end_time": "2024-08-28T05:17:00.850198",
     "exception": false,
     "start_time": "2024-08-28T05:17:00.769973",
     "status": "completed"
    },
    "tags": []
   },
   "outputs": [
    {
     "data": {
      "text/plain": [
       "Survived\n",
       "0    549\n",
       "1    342\n",
       "Name: count, dtype: int64"
      ]
     },
     "execution_count": 72,
     "metadata": {},
     "output_type": "execute_result"
    }
   ],
   "source": [
    "df['Survived'].value_counts()"
   ]
  },
  {
   "cell_type": "code",
   "execution_count": 73,
   "id": "1961db2b",
   "metadata": {
    "execution": {
     "iopub.execute_input": "2024-08-28T05:17:00.985610Z",
     "iopub.status.busy": "2024-08-28T05:17:00.985111Z",
     "iopub.status.idle": "2024-08-28T05:17:00.991346Z",
     "shell.execute_reply": "2024-08-28T05:17:00.989947Z"
    },
    "papermill": {
     "duration": 0.077021,
     "end_time": "2024-08-28T05:17:00.994264",
     "exception": false,
     "start_time": "2024-08-28T05:17:00.917243",
     "status": "completed"
    },
    "tags": []
   },
   "outputs": [],
   "source": [
    "majority_class = 549\n",
    "minority_class  = 342"
   ]
  },
  {
   "cell_type": "code",
   "execution_count": 74,
   "id": "8e28afc0",
   "metadata": {
    "execution": {
     "iopub.execute_input": "2024-08-28T05:17:01.131057Z",
     "iopub.status.busy": "2024-08-28T05:17:01.130625Z",
     "iopub.status.idle": "2024-08-28T05:17:01.137987Z",
     "shell.execute_reply": "2024-08-28T05:17:01.136415Z"
    },
    "papermill": {
     "duration": 0.07852,
     "end_time": "2024-08-28T05:17:01.140931",
     "exception": false,
     "start_time": "2024-08-28T05:17:01.062411",
     "status": "completed"
    },
    "tags": []
   },
   "outputs": [
    {
     "name": "stdout",
     "output_type": "stream",
     "text": [
      "Data is Balance\n"
     ]
    }
   ],
   "source": [
    "if minority_class * 2 <= majority_class :\n",
    "    \n",
    "    print('Data is imbalance')\n",
    "    \n",
    "else:\n",
    "    print('Data is Balance')"
   ]
  },
  {
   "cell_type": "markdown",
   "id": "42991ae0",
   "metadata": {
    "papermill": {
     "duration": 0.067852,
     "end_time": "2024-08-28T05:17:01.275013",
     "exception": false,
     "start_time": "2024-08-28T05:17:01.207161",
     "status": "completed"
    },
    "tags": []
   },
   "source": [
    "##### Here Data is  Balance"
   ]
  },
  {
   "cell_type": "markdown",
   "id": "4419bc22",
   "metadata": {
    "papermill": {
     "duration": 0.066021,
     "end_time": "2024-08-28T05:17:01.408094",
     "exception": false,
     "start_time": "2024-08-28T05:17:01.342073",
     "status": "completed"
    },
    "tags": []
   },
   "source": [
    "#### split data into train and test"
   ]
  },
  {
   "cell_type": "code",
   "execution_count": 75,
   "id": "b48fb4a5",
   "metadata": {
    "execution": {
     "iopub.execute_input": "2024-08-28T05:17:01.545386Z",
     "iopub.status.busy": "2024-08-28T05:17:01.544958Z",
     "iopub.status.idle": "2024-08-28T05:17:01.667954Z",
     "shell.execute_reply": "2024-08-28T05:17:01.666310Z"
    },
    "papermill": {
     "duration": 0.1962,
     "end_time": "2024-08-28T05:17:01.671073",
     "exception": false,
     "start_time": "2024-08-28T05:17:01.474873",
     "status": "completed"
    },
    "tags": []
   },
   "outputs": [],
   "source": [
    "from sklearn.model_selection import train_test_split"
   ]
  },
  {
   "cell_type": "code",
   "execution_count": 76,
   "id": "2ccdd03d",
   "metadata": {
    "execution": {
     "iopub.execute_input": "2024-08-28T05:17:01.809913Z",
     "iopub.status.busy": "2024-08-28T05:17:01.809439Z",
     "iopub.status.idle": "2024-08-28T05:17:01.821614Z",
     "shell.execute_reply": "2024-08-28T05:17:01.820318Z"
    },
    "papermill": {
     "duration": 0.088041,
     "end_time": "2024-08-28T05:17:01.824509",
     "exception": false,
     "start_time": "2024-08-28T05:17:01.736468",
     "status": "completed"
    },
    "tags": []
   },
   "outputs": [],
   "source": [
    "x_train , x_test , y_train , y_test = train_test_split(x , y , test_size = 0.25 , random_state = 12 , stratify = y)"
   ]
  },
  {
   "cell_type": "code",
   "execution_count": 77,
   "id": "f04c1509",
   "metadata": {
    "execution": {
     "iopub.execute_input": "2024-08-28T05:17:01.958753Z",
     "iopub.status.busy": "2024-08-28T05:17:01.958261Z",
     "iopub.status.idle": "2024-08-28T05:17:01.964889Z",
     "shell.execute_reply": "2024-08-28T05:17:01.963775Z"
    },
    "papermill": {
     "duration": 0.076957,
     "end_time": "2024-08-28T05:17:01.967560",
     "exception": false,
     "start_time": "2024-08-28T05:17:01.890603",
     "status": "completed"
    },
    "tags": []
   },
   "outputs": [
    {
     "name": "stdout",
     "output_type": "stream",
     "text": [
      "(668, 8) (223, 8) (668,) (223,)\n"
     ]
    }
   ],
   "source": [
    "print(x_train.shape , x_test.shape , y_train.shape , y_test.shape)"
   ]
  },
  {
   "cell_type": "markdown",
   "id": "0bca3377",
   "metadata": {
    "papermill": {
     "duration": 0.065953,
     "end_time": "2024-08-28T05:17:02.102492",
     "exception": false,
     "start_time": "2024-08-28T05:17:02.036539",
     "status": "completed"
    },
    "tags": []
   },
   "source": [
    "#### x_train_scaled and x_test_scaled"
   ]
  },
  {
   "cell_type": "code",
   "execution_count": 78,
   "id": "9bf5de56",
   "metadata": {
    "execution": {
     "iopub.execute_input": "2024-08-28T05:17:02.238016Z",
     "iopub.status.busy": "2024-08-28T05:17:02.237367Z",
     "iopub.status.idle": "2024-08-28T05:17:02.254385Z",
     "shell.execute_reply": "2024-08-28T05:17:02.253166Z"
    },
    "papermill": {
     "duration": 0.087776,
     "end_time": "2024-08-28T05:17:02.257468",
     "exception": false,
     "start_time": "2024-08-28T05:17:02.169692",
     "status": "completed"
    },
    "tags": []
   },
   "outputs": [],
   "source": [
    "x_train_scaled = scaler.fit_transform(x_train)\n",
    "x_test_scaled = scaler.transform(x_test)"
   ]
  },
  {
   "cell_type": "markdown",
   "id": "62c016fd",
   "metadata": {
    "papermill": {
     "duration": 0.067085,
     "end_time": "2024-08-28T05:17:02.390848",
     "exception": false,
     "start_time": "2024-08-28T05:17:02.323763",
     "status": "completed"
    },
    "tags": []
   },
   "source": [
    "### Building Logistic Regression Model"
   ]
  },
  {
   "cell_type": "code",
   "execution_count": 79,
   "id": "f25c0096",
   "metadata": {
    "execution": {
     "iopub.execute_input": "2024-08-28T05:17:02.524369Z",
     "iopub.status.busy": "2024-08-28T05:17:02.523892Z",
     "iopub.status.idle": "2024-08-28T05:17:02.639023Z",
     "shell.execute_reply": "2024-08-28T05:17:02.637536Z"
    },
    "papermill": {
     "duration": 0.185833,
     "end_time": "2024-08-28T05:17:02.642348",
     "exception": false,
     "start_time": "2024-08-28T05:17:02.456515",
     "status": "completed"
    },
    "tags": []
   },
   "outputs": [],
   "source": [
    "from sklearn.linear_model import LogisticRegression"
   ]
  },
  {
   "cell_type": "code",
   "execution_count": 80,
   "id": "38a8bfc6",
   "metadata": {
    "execution": {
     "iopub.execute_input": "2024-08-28T05:17:02.779795Z",
     "iopub.status.busy": "2024-08-28T05:17:02.779287Z",
     "iopub.status.idle": "2024-08-28T05:17:02.785832Z",
     "shell.execute_reply": "2024-08-28T05:17:02.784585Z"
    },
    "papermill": {
     "duration": 0.077653,
     "end_time": "2024-08-28T05:17:02.788445",
     "exception": false,
     "start_time": "2024-08-28T05:17:02.710792",
     "status": "completed"
    },
    "tags": []
   },
   "outputs": [],
   "source": [
    "logit = LogisticRegression(multi_class = 'ovr')"
   ]
  },
  {
   "cell_type": "code",
   "execution_count": 81,
   "id": "20b120f8",
   "metadata": {
    "execution": {
     "iopub.execute_input": "2024-08-28T05:17:02.922800Z",
     "iopub.status.busy": "2024-08-28T05:17:02.922329Z",
     "iopub.status.idle": "2024-08-28T05:17:02.932141Z",
     "shell.execute_reply": "2024-08-28T05:17:02.930694Z"
    },
    "papermill": {
     "duration": 0.08048,
     "end_time": "2024-08-28T05:17:02.934892",
     "exception": false,
     "start_time": "2024-08-28T05:17:02.854412",
     "status": "completed"
    },
    "tags": []
   },
   "outputs": [
    {
     "data": {
      "text/html": [
       "<style>#sk-container-id-2 {color: black;background-color: white;}#sk-container-id-2 pre{padding: 0;}#sk-container-id-2 div.sk-toggleable {background-color: white;}#sk-container-id-2 label.sk-toggleable__label {cursor: pointer;display: block;width: 100%;margin-bottom: 0;padding: 0.3em;box-sizing: border-box;text-align: center;}#sk-container-id-2 label.sk-toggleable__label-arrow:before {content: \"▸\";float: left;margin-right: 0.25em;color: #696969;}#sk-container-id-2 label.sk-toggleable__label-arrow:hover:before {color: black;}#sk-container-id-2 div.sk-estimator:hover label.sk-toggleable__label-arrow:before {color: black;}#sk-container-id-2 div.sk-toggleable__content {max-height: 0;max-width: 0;overflow: hidden;text-align: left;background-color: #f0f8ff;}#sk-container-id-2 div.sk-toggleable__content pre {margin: 0.2em;color: black;border-radius: 0.25em;background-color: #f0f8ff;}#sk-container-id-2 input.sk-toggleable__control:checked~div.sk-toggleable__content {max-height: 200px;max-width: 100%;overflow: auto;}#sk-container-id-2 input.sk-toggleable__control:checked~label.sk-toggleable__label-arrow:before {content: \"▾\";}#sk-container-id-2 div.sk-estimator input.sk-toggleable__control:checked~label.sk-toggleable__label {background-color: #d4ebff;}#sk-container-id-2 div.sk-label input.sk-toggleable__control:checked~label.sk-toggleable__label {background-color: #d4ebff;}#sk-container-id-2 input.sk-hidden--visually {border: 0;clip: rect(1px 1px 1px 1px);clip: rect(1px, 1px, 1px, 1px);height: 1px;margin: -1px;overflow: hidden;padding: 0;position: absolute;width: 1px;}#sk-container-id-2 div.sk-estimator {font-family: monospace;background-color: #f0f8ff;border: 1px dotted black;border-radius: 0.25em;box-sizing: border-box;margin-bottom: 0.5em;}#sk-container-id-2 div.sk-estimator:hover {background-color: #d4ebff;}#sk-container-id-2 div.sk-parallel-item::after {content: \"\";width: 100%;border-bottom: 1px solid gray;flex-grow: 1;}#sk-container-id-2 div.sk-label:hover label.sk-toggleable__label {background-color: #d4ebff;}#sk-container-id-2 div.sk-serial::before {content: \"\";position: absolute;border-left: 1px solid gray;box-sizing: border-box;top: 0;bottom: 0;left: 50%;z-index: 0;}#sk-container-id-2 div.sk-serial {display: flex;flex-direction: column;align-items: center;background-color: white;padding-right: 0.2em;padding-left: 0.2em;position: relative;}#sk-container-id-2 div.sk-item {position: relative;z-index: 1;}#sk-container-id-2 div.sk-parallel {display: flex;align-items: stretch;justify-content: center;background-color: white;position: relative;}#sk-container-id-2 div.sk-item::before, #sk-container-id-2 div.sk-parallel-item::before {content: \"\";position: absolute;border-left: 1px solid gray;box-sizing: border-box;top: 0;bottom: 0;left: 50%;z-index: -1;}#sk-container-id-2 div.sk-parallel-item {display: flex;flex-direction: column;z-index: 1;position: relative;background-color: white;}#sk-container-id-2 div.sk-parallel-item:first-child::after {align-self: flex-end;width: 50%;}#sk-container-id-2 div.sk-parallel-item:last-child::after {align-self: flex-start;width: 50%;}#sk-container-id-2 div.sk-parallel-item:only-child::after {width: 0;}#sk-container-id-2 div.sk-dashed-wrapped {border: 1px dashed gray;margin: 0 0.4em 0.5em 0.4em;box-sizing: border-box;padding-bottom: 0.4em;background-color: white;}#sk-container-id-2 div.sk-label label {font-family: monospace;font-weight: bold;display: inline-block;line-height: 1.2em;}#sk-container-id-2 div.sk-label-container {text-align: center;}#sk-container-id-2 div.sk-container {/* jupyter's `normalize.less` sets `[hidden] { display: none; }` but bootstrap.min.css set `[hidden] { display: none !important; }` so we also need the `!important` here to be able to override the default hidden behavior on the sphinx rendered scikit-learn.org. See: https://github.com/scikit-learn/scikit-learn/issues/21755 */display: inline-block !important;position: relative;}#sk-container-id-2 div.sk-text-repr-fallback {display: none;}</style><div id=\"sk-container-id-2\" class=\"sk-top-container\"><div class=\"sk-text-repr-fallback\"><pre>LogisticRegression(multi_class=&#x27;ovr&#x27;)</pre><b>In a Jupyter environment, please rerun this cell to show the HTML representation or trust the notebook. <br />On GitHub, the HTML representation is unable to render, please try loading this page with nbviewer.org.</b></div><div class=\"sk-container\" hidden><div class=\"sk-item\"><div class=\"sk-estimator sk-toggleable\"><input class=\"sk-toggleable__control sk-hidden--visually\" id=\"sk-estimator-id-2\" type=\"checkbox\" checked><label for=\"sk-estimator-id-2\" class=\"sk-toggleable__label sk-toggleable__label-arrow\">LogisticRegression</label><div class=\"sk-toggleable__content\"><pre>LogisticRegression(multi_class=&#x27;ovr&#x27;)</pre></div></div></div></div></div>"
      ],
      "text/plain": [
       "LogisticRegression(multi_class='ovr')"
      ]
     },
     "execution_count": 81,
     "metadata": {},
     "output_type": "execute_result"
    }
   ],
   "source": [
    "logit"
   ]
  },
  {
   "cell_type": "markdown",
   "id": "1c3bec06",
   "metadata": {
    "papermill": {
     "duration": 0.068911,
     "end_time": "2024-08-28T05:17:03.070309",
     "exception": false,
     "start_time": "2024-08-28T05:17:03.001398",
     "status": "completed"
    },
    "tags": []
   },
   "source": [
    "### Training Model"
   ]
  },
  {
   "cell_type": "code",
   "execution_count": 82,
   "id": "ae7e9b6c",
   "metadata": {
    "execution": {
     "iopub.execute_input": "2024-08-28T05:17:03.204625Z",
     "iopub.status.busy": "2024-08-28T05:17:03.204150Z",
     "iopub.status.idle": "2024-08-28T05:17:03.246146Z",
     "shell.execute_reply": "2024-08-28T05:17:03.244599Z"
    },
    "papermill": {
     "duration": 0.11336,
     "end_time": "2024-08-28T05:17:03.249327",
     "exception": false,
     "start_time": "2024-08-28T05:17:03.135967",
     "status": "completed"
    },
    "tags": []
   },
   "outputs": [
    {
     "data": {
      "text/html": [
       "<style>#sk-container-id-3 {color: black;background-color: white;}#sk-container-id-3 pre{padding: 0;}#sk-container-id-3 div.sk-toggleable {background-color: white;}#sk-container-id-3 label.sk-toggleable__label {cursor: pointer;display: block;width: 100%;margin-bottom: 0;padding: 0.3em;box-sizing: border-box;text-align: center;}#sk-container-id-3 label.sk-toggleable__label-arrow:before {content: \"▸\";float: left;margin-right: 0.25em;color: #696969;}#sk-container-id-3 label.sk-toggleable__label-arrow:hover:before {color: black;}#sk-container-id-3 div.sk-estimator:hover label.sk-toggleable__label-arrow:before {color: black;}#sk-container-id-3 div.sk-toggleable__content {max-height: 0;max-width: 0;overflow: hidden;text-align: left;background-color: #f0f8ff;}#sk-container-id-3 div.sk-toggleable__content pre {margin: 0.2em;color: black;border-radius: 0.25em;background-color: #f0f8ff;}#sk-container-id-3 input.sk-toggleable__control:checked~div.sk-toggleable__content {max-height: 200px;max-width: 100%;overflow: auto;}#sk-container-id-3 input.sk-toggleable__control:checked~label.sk-toggleable__label-arrow:before {content: \"▾\";}#sk-container-id-3 div.sk-estimator input.sk-toggleable__control:checked~label.sk-toggleable__label {background-color: #d4ebff;}#sk-container-id-3 div.sk-label input.sk-toggleable__control:checked~label.sk-toggleable__label {background-color: #d4ebff;}#sk-container-id-3 input.sk-hidden--visually {border: 0;clip: rect(1px 1px 1px 1px);clip: rect(1px, 1px, 1px, 1px);height: 1px;margin: -1px;overflow: hidden;padding: 0;position: absolute;width: 1px;}#sk-container-id-3 div.sk-estimator {font-family: monospace;background-color: #f0f8ff;border: 1px dotted black;border-radius: 0.25em;box-sizing: border-box;margin-bottom: 0.5em;}#sk-container-id-3 div.sk-estimator:hover {background-color: #d4ebff;}#sk-container-id-3 div.sk-parallel-item::after {content: \"\";width: 100%;border-bottom: 1px solid gray;flex-grow: 1;}#sk-container-id-3 div.sk-label:hover label.sk-toggleable__label {background-color: #d4ebff;}#sk-container-id-3 div.sk-serial::before {content: \"\";position: absolute;border-left: 1px solid gray;box-sizing: border-box;top: 0;bottom: 0;left: 50%;z-index: 0;}#sk-container-id-3 div.sk-serial {display: flex;flex-direction: column;align-items: center;background-color: white;padding-right: 0.2em;padding-left: 0.2em;position: relative;}#sk-container-id-3 div.sk-item {position: relative;z-index: 1;}#sk-container-id-3 div.sk-parallel {display: flex;align-items: stretch;justify-content: center;background-color: white;position: relative;}#sk-container-id-3 div.sk-item::before, #sk-container-id-3 div.sk-parallel-item::before {content: \"\";position: absolute;border-left: 1px solid gray;box-sizing: border-box;top: 0;bottom: 0;left: 50%;z-index: -1;}#sk-container-id-3 div.sk-parallel-item {display: flex;flex-direction: column;z-index: 1;position: relative;background-color: white;}#sk-container-id-3 div.sk-parallel-item:first-child::after {align-self: flex-end;width: 50%;}#sk-container-id-3 div.sk-parallel-item:last-child::after {align-self: flex-start;width: 50%;}#sk-container-id-3 div.sk-parallel-item:only-child::after {width: 0;}#sk-container-id-3 div.sk-dashed-wrapped {border: 1px dashed gray;margin: 0 0.4em 0.5em 0.4em;box-sizing: border-box;padding-bottom: 0.4em;background-color: white;}#sk-container-id-3 div.sk-label label {font-family: monospace;font-weight: bold;display: inline-block;line-height: 1.2em;}#sk-container-id-3 div.sk-label-container {text-align: center;}#sk-container-id-3 div.sk-container {/* jupyter's `normalize.less` sets `[hidden] { display: none; }` but bootstrap.min.css set `[hidden] { display: none !important; }` so we also need the `!important` here to be able to override the default hidden behavior on the sphinx rendered scikit-learn.org. See: https://github.com/scikit-learn/scikit-learn/issues/21755 */display: inline-block !important;position: relative;}#sk-container-id-3 div.sk-text-repr-fallback {display: none;}</style><div id=\"sk-container-id-3\" class=\"sk-top-container\"><div class=\"sk-text-repr-fallback\"><pre>LogisticRegression(multi_class=&#x27;ovr&#x27;)</pre><b>In a Jupyter environment, please rerun this cell to show the HTML representation or trust the notebook. <br />On GitHub, the HTML representation is unable to render, please try loading this page with nbviewer.org.</b></div><div class=\"sk-container\" hidden><div class=\"sk-item\"><div class=\"sk-estimator sk-toggleable\"><input class=\"sk-toggleable__control sk-hidden--visually\" id=\"sk-estimator-id-3\" type=\"checkbox\" checked><label for=\"sk-estimator-id-3\" class=\"sk-toggleable__label sk-toggleable__label-arrow\">LogisticRegression</label><div class=\"sk-toggleable__content\"><pre>LogisticRegression(multi_class=&#x27;ovr&#x27;)</pre></div></div></div></div></div>"
      ],
      "text/plain": [
       "LogisticRegression(multi_class='ovr')"
      ]
     },
     "execution_count": 82,
     "metadata": {},
     "output_type": "execute_result"
    }
   ],
   "source": [
    "logit.fit(x_train , y_train)"
   ]
  },
  {
   "cell_type": "markdown",
   "id": "7ba46064",
   "metadata": {
    "papermill": {
     "duration": 0.067525,
     "end_time": "2024-08-28T05:17:03.384456",
     "exception": false,
     "start_time": "2024-08-28T05:17:03.316931",
     "status": "completed"
    },
    "tags": []
   },
   "source": [
    "#### Prediction Of Model"
   ]
  },
  {
   "cell_type": "code",
   "execution_count": 83,
   "id": "bcdf2f79",
   "metadata": {
    "execution": {
     "iopub.execute_input": "2024-08-28T05:17:03.522457Z",
     "iopub.status.busy": "2024-08-28T05:17:03.521952Z",
     "iopub.status.idle": "2024-08-28T05:17:03.531495Z",
     "shell.execute_reply": "2024-08-28T05:17:03.529955Z"
    },
    "papermill": {
     "duration": 0.081916,
     "end_time": "2024-08-28T05:17:03.534285",
     "exception": false,
     "start_time": "2024-08-28T05:17:03.452369",
     "status": "completed"
    },
    "tags": []
   },
   "outputs": [],
   "source": [
    "y_train_pred = logit.predict(x_train)"
   ]
  },
  {
   "cell_type": "code",
   "execution_count": 84,
   "id": "cd365ec2",
   "metadata": {
    "execution": {
     "iopub.execute_input": "2024-08-28T05:17:03.672453Z",
     "iopub.status.busy": "2024-08-28T05:17:03.671930Z",
     "iopub.status.idle": "2024-08-28T05:17:03.683820Z",
     "shell.execute_reply": "2024-08-28T05:17:03.682405Z"
    },
    "papermill": {
     "duration": 0.084879,
     "end_time": "2024-08-28T05:17:03.686363",
     "exception": false,
     "start_time": "2024-08-28T05:17:03.601484",
     "status": "completed"
    },
    "tags": []
   },
   "outputs": [
    {
     "data": {
      "text/plain": [
       "array([0, 0, 1, 0, 0, 0, 0, 1, 0, 0, 1, 0, 0, 0, 0, 0, 1, 0, 1, 1, 1, 0,\n",
       "       0, 0, 0, 1, 0, 0, 1, 0, 1, 0, 1, 0, 0, 1, 0, 1, 1, 1, 0, 1, 0, 1,\n",
       "       0, 1, 1, 0, 1, 1, 1, 0, 0, 0, 0, 0, 1, 1, 0, 0, 1, 1, 1, 0, 0, 1,\n",
       "       1, 0, 1, 1, 0, 0, 0, 0, 1, 0, 1, 1, 0, 0, 0, 0, 1, 0, 1, 0, 1, 0,\n",
       "       1, 1, 0, 0, 0, 0, 0, 0, 0, 0, 0, 0, 1, 1, 0, 1, 0, 0, 0, 0, 0, 0,\n",
       "       1, 0, 0, 0, 1, 0, 0, 0, 0, 0, 1, 0, 1, 0, 0, 0, 1, 0, 0, 0, 1, 0,\n",
       "       1, 0, 0, 0, 0, 0, 0, 0, 1, 0, 0, 0, 0, 0, 0, 0, 1, 0, 0, 0, 0, 1,\n",
       "       0, 0, 0, 0, 0, 0, 0, 0, 0, 0, 1, 1, 0, 1, 0, 0, 1, 0, 1, 0, 0, 1,\n",
       "       0, 0, 0, 0, 0, 1, 1, 1, 0, 0, 1, 0, 0, 0, 0, 1, 1, 0, 0, 0, 1, 0,\n",
       "       0, 1, 0, 1, 1, 0, 1, 1, 0, 0, 0, 1, 0, 0, 1, 1, 1, 1, 0, 0, 0, 1,\n",
       "       0, 1, 0, 1, 0, 0, 0, 1, 0, 1, 0, 1, 1, 0, 0, 0, 0, 0, 1, 0, 1, 0,\n",
       "       0, 1, 0, 0, 1, 0, 1, 0, 1, 0, 0, 1, 0, 0, 0, 1, 1, 1, 0, 1, 1, 0,\n",
       "       0, 0, 0, 0, 0, 0, 1, 0, 0, 0, 1, 0, 0, 0, 0, 0, 1, 0, 0, 1, 1, 1,\n",
       "       0, 0, 0, 0, 0, 1, 1, 0, 1, 1, 0, 1, 1, 1, 0, 0, 0, 1, 0, 0, 1, 1,\n",
       "       1, 1, 1, 0, 1, 0, 0, 1, 0, 0, 0, 0, 0, 0, 1, 0, 1, 0, 1, 1, 0, 1,\n",
       "       1, 0, 1, 0, 0, 0, 0, 1, 0, 0, 0, 1, 0, 0, 1, 1, 0, 0, 0, 1, 0, 1,\n",
       "       0, 0, 1, 1, 0, 0, 1, 0, 0, 0, 1, 0, 0, 0, 0, 0, 1, 0, 1, 0, 0, 1,\n",
       "       0, 0, 0, 0, 1, 0, 0, 0, 0, 0, 1, 0, 1, 0, 1, 1, 0, 0, 0, 0, 1, 0,\n",
       "       0, 0, 0, 0, 1, 1, 0, 0, 1, 0, 1, 0, 0, 0, 0, 0, 1, 0, 0, 0, 0, 0,\n",
       "       0, 0, 0, 1, 1, 1, 1, 0, 1, 0, 0, 0, 0, 1, 1, 0, 1, 0, 0, 0, 0, 1,\n",
       "       0, 1, 0, 0, 1, 0, 0, 0, 1, 0, 1, 1, 0, 1, 0, 1, 1, 1, 1, 1, 1, 1,\n",
       "       0, 0, 1, 0, 1, 1, 0, 0, 0, 1, 1, 0, 1, 0, 0, 1, 1, 0, 0, 1, 1, 0,\n",
       "       0, 0, 0, 1, 0, 0, 0, 1, 0, 0, 1, 0, 0, 0, 0, 1, 0, 1, 0, 0, 0, 1,\n",
       "       1, 1, 0, 0, 0, 0, 0, 1, 0, 0, 0, 0, 1, 0, 0, 0, 1, 0, 1, 1, 0, 0,\n",
       "       1, 0, 0, 0, 0, 0, 0, 1, 0, 1, 0, 0, 1, 0, 0, 0, 0, 0, 0, 0, 1, 0,\n",
       "       0, 0, 1, 1, 0, 0, 0, 1, 1, 0, 1, 1, 0, 0, 0, 0, 0, 0, 1, 1, 1, 0,\n",
       "       0, 0, 0, 1, 1, 1, 0, 1, 0, 1, 1, 0, 0, 0, 0, 1, 0, 0, 1, 0, 0, 0,\n",
       "       0, 1, 1, 0, 1, 1, 0, 0, 0, 1, 1, 0, 0, 1, 0, 0, 0, 1, 0, 1, 0, 0,\n",
       "       0, 0, 1, 0, 1, 0, 0, 0, 0, 0, 1, 1, 0, 0, 1, 0, 0, 1, 1, 1, 0, 0,\n",
       "       0, 0, 1, 0, 0, 1, 0, 1, 0, 0, 0, 0, 1, 1, 0, 1, 0, 0, 1, 0, 0, 0,\n",
       "       0, 1, 0, 1, 0, 1, 1, 1])"
      ]
     },
     "execution_count": 84,
     "metadata": {},
     "output_type": "execute_result"
    }
   ],
   "source": [
    "y_train_pred"
   ]
  },
  {
   "cell_type": "code",
   "execution_count": 85,
   "id": "bf0d9f51",
   "metadata": {
    "execution": {
     "iopub.execute_input": "2024-08-28T05:17:03.818405Z",
     "iopub.status.busy": "2024-08-28T05:17:03.817969Z",
     "iopub.status.idle": "2024-08-28T05:17:03.824124Z",
     "shell.execute_reply": "2024-08-28T05:17:03.822784Z"
    },
    "papermill": {
     "duration": 0.075433,
     "end_time": "2024-08-28T05:17:03.827151",
     "exception": false,
     "start_time": "2024-08-28T05:17:03.751718",
     "status": "completed"
    },
    "tags": []
   },
   "outputs": [],
   "source": [
    "from sklearn.metrics import accuracy_score , confusion_matrix , classification_report"
   ]
  },
  {
   "cell_type": "markdown",
   "id": "b2e0552b",
   "metadata": {
    "papermill": {
     "duration": 0.068801,
     "end_time": "2024-08-28T05:17:03.964849",
     "exception": false,
     "start_time": "2024-08-28T05:17:03.896048",
     "status": "completed"
    },
    "tags": []
   },
   "source": [
    "#### confusion matrix of train"
   ]
  },
  {
   "cell_type": "code",
   "execution_count": 86,
   "id": "9bc9607c",
   "metadata": {
    "execution": {
     "iopub.execute_input": "2024-08-28T05:17:04.111875Z",
     "iopub.status.busy": "2024-08-28T05:17:04.110874Z",
     "iopub.status.idle": "2024-08-28T05:17:04.124961Z",
     "shell.execute_reply": "2024-08-28T05:17:04.123091Z"
    },
    "papermill": {
     "duration": 0.097463,
     "end_time": "2024-08-28T05:17:04.129570",
     "exception": false,
     "start_time": "2024-08-28T05:17:04.032107",
     "status": "completed"
    },
    "tags": []
   },
   "outputs": [],
   "source": [
    "cm_train = confusion_matrix(y_train , y_train_pred)"
   ]
  },
  {
   "cell_type": "code",
   "execution_count": 87,
   "id": "4127bf68",
   "metadata": {
    "execution": {
     "iopub.execute_input": "2024-08-28T05:17:04.280557Z",
     "iopub.status.busy": "2024-08-28T05:17:04.280017Z",
     "iopub.status.idle": "2024-08-28T05:17:04.289030Z",
     "shell.execute_reply": "2024-08-28T05:17:04.287441Z"
    },
    "papermill": {
     "duration": 0.084026,
     "end_time": "2024-08-28T05:17:04.293091",
     "exception": false,
     "start_time": "2024-08-28T05:17:04.209065",
     "status": "completed"
    },
    "tags": []
   },
   "outputs": [
    {
     "data": {
      "text/plain": [
       "array([[353,  59],\n",
       "       [ 73, 183]])"
      ]
     },
     "execution_count": 87,
     "metadata": {},
     "output_type": "execute_result"
    }
   ],
   "source": [
    "cm_train"
   ]
  },
  {
   "cell_type": "code",
   "execution_count": 88,
   "id": "7f33f893",
   "metadata": {
    "execution": {
     "iopub.execute_input": "2024-08-28T05:17:04.435335Z",
     "iopub.status.busy": "2024-08-28T05:17:04.434830Z",
     "iopub.status.idle": "2024-08-28T05:17:04.779160Z",
     "shell.execute_reply": "2024-08-28T05:17:04.777557Z"
    },
    "papermill": {
     "duration": 0.41974,
     "end_time": "2024-08-28T05:17:04.782011",
     "exception": false,
     "start_time": "2024-08-28T05:17:04.362271",
     "status": "completed"
    },
    "tags": []
   },
   "outputs": [
    {
     "data": {
      "image/png": "[encoded data removed]",
      "text/plain": [
       "<Figure size 2000x500 with 2 Axes>"
      ]
     },
     "metadata": {},
     "output_type": "display_data"
    }
   ],
   "source": [
    "plt.figure(figsize = (20,5))\n",
    "sns.heatmap(cm_train , annot = True , cmap = 'BuPu' , cbar = True)\n",
    "plt.xlabel('Actual value')\n",
    "plt.ylabel('Predicted value')\n",
    "plt.show()"
   ]
  },
  {
   "cell_type": "markdown",
   "id": "51454696",
   "metadata": {
    "papermill": {
     "duration": 0.065448,
     "end_time": "2024-08-28T05:17:04.916040",
     "exception": false,
     "start_time": "2024-08-28T05:17:04.850592",
     "status": "completed"
    },
    "tags": []
   },
   "source": [
    "#### Classification Report On Train"
   ]
  },
  {
   "cell_type": "code",
   "execution_count": 89,
   "id": "cc08d65e",
   "metadata": {
    "execution": {
     "iopub.execute_input": "2024-08-28T05:17:05.051382Z",
     "iopub.status.busy": "2024-08-28T05:17:05.050873Z",
     "iopub.status.idle": "2024-08-28T05:17:05.069027Z",
     "shell.execute_reply": "2024-08-28T05:17:05.067389Z"
    },
    "papermill": {
     "duration": 0.090474,
     "end_time": "2024-08-28T05:17:05.072120",
     "exception": false,
     "start_time": "2024-08-28T05:17:04.981646",
     "status": "completed"
    },
    "tags": []
   },
   "outputs": [
    {
     "name": "stdout",
     "output_type": "stream",
     "text": [
      "              precision    recall  f1-score   support\n",
      "\n",
      "           0       0.83      0.86      0.84       412\n",
      "           1       0.76      0.71      0.73       256\n",
      "\n",
      "    accuracy                           0.80       668\n",
      "   macro avg       0.79      0.79      0.79       668\n",
      "weighted avg       0.80      0.80      0.80       668\n",
      "\n"
     ]
    }
   ],
   "source": [
    "print(classification_report(y_train , y_train_pred))"
   ]
  },
  {
   "cell_type": "markdown",
   "id": "e641e19e",
   "metadata": {
    "papermill": {
     "duration": 0.066962,
     "end_time": "2024-08-28T05:17:05.205744",
     "exception": false,
     "start_time": "2024-08-28T05:17:05.138782",
     "status": "completed"
    },
    "tags": []
   },
   "source": [
    "#### Training Accuracy of logistic"
   ]
  },
  {
   "cell_type": "code",
   "execution_count": 90,
   "id": "39a23adf",
   "metadata": {
    "execution": {
     "iopub.execute_input": "2024-08-28T05:17:05.341379Z",
     "iopub.status.busy": "2024-08-28T05:17:05.340931Z",
     "iopub.status.idle": "2024-08-28T05:17:05.349559Z",
     "shell.execute_reply": "2024-08-28T05:17:05.348179Z"
    },
    "papermill": {
     "duration": 0.079964,
     "end_time": "2024-08-28T05:17:05.352264",
     "exception": false,
     "start_time": "2024-08-28T05:17:05.272300",
     "status": "completed"
    },
    "tags": []
   },
   "outputs": [],
   "source": [
    "training_accuracy_logit = accuracy_score(y_train , y_train_pred)"
   ]
  },
  {
   "cell_type": "code",
   "execution_count": 91,
   "id": "92715dc4",
   "metadata": {
    "execution": {
     "iopub.execute_input": "2024-08-28T05:17:05.489286Z",
     "iopub.status.busy": "2024-08-28T05:17:05.488784Z",
     "iopub.status.idle": "2024-08-28T05:17:05.496887Z",
     "shell.execute_reply": "2024-08-28T05:17:05.495620Z"
    },
    "papermill": {
     "duration": 0.080287,
     "end_time": "2024-08-28T05:17:05.499636",
     "exception": false,
     "start_time": "2024-08-28T05:17:05.419349",
     "status": "completed"
    },
    "tags": []
   },
   "outputs": [
    {
     "data": {
      "text/plain": [
       "0.8023952095808383"
      ]
     },
     "execution_count": 91,
     "metadata": {},
     "output_type": "execute_result"
    }
   ],
   "source": [
    "training_accuracy_logit"
   ]
  },
  {
   "cell_type": "markdown",
   "id": "68e38c1c",
   "metadata": {
    "papermill": {
     "duration": 0.171626,
     "end_time": "2024-08-28T05:17:05.740835",
     "exception": false,
     "start_time": "2024-08-28T05:17:05.569209",
     "status": "completed"
    },
    "tags": []
   },
   "source": [
    "### Test model logit"
   ]
  },
  {
   "cell_type": "code",
   "execution_count": 92,
   "id": "a977bba9",
   "metadata": {
    "execution": {
     "iopub.execute_input": "2024-08-28T05:17:05.882905Z",
     "iopub.status.busy": "2024-08-28T05:17:05.881781Z",
     "iopub.status.idle": "2024-08-28T05:17:05.891956Z",
     "shell.execute_reply": "2024-08-28T05:17:05.890308Z"
    },
    "papermill": {
     "duration": 0.083951,
     "end_time": "2024-08-28T05:17:05.895068",
     "exception": false,
     "start_time": "2024-08-28T05:17:05.811117",
     "status": "completed"
    },
    "tags": []
   },
   "outputs": [],
   "source": [
    "y_test_pred = logit.predict(x_test)"
   ]
  },
  {
   "cell_type": "code",
   "execution_count": 93,
   "id": "ab221caa",
   "metadata": {
    "execution": {
     "iopub.execute_input": "2024-08-28T05:17:06.035654Z",
     "iopub.status.busy": "2024-08-28T05:17:06.035095Z",
     "iopub.status.idle": "2024-08-28T05:17:06.044931Z",
     "shell.execute_reply": "2024-08-28T05:17:06.043454Z"
    },
    "papermill": {
     "duration": 0.084698,
     "end_time": "2024-08-28T05:17:06.048848",
     "exception": false,
     "start_time": "2024-08-28T05:17:05.964150",
     "status": "completed"
    },
    "tags": []
   },
   "outputs": [
    {
     "data": {
      "text/plain": [
       "array([0, 1, 0, 0, 0, 1, 0, 1, 1, 0, 0, 0, 0, 1, 0, 0, 0, 0, 0, 0, 0, 0,\n",
       "       1, 0, 0, 0, 0, 0, 0, 1, 1, 1, 0, 0, 1, 0, 0, 0, 0, 1, 0, 1, 0, 0,\n",
       "       1, 0, 0, 1, 0, 0, 0, 0, 0, 0, 1, 1, 0, 0, 0, 0, 0, 1, 1, 0, 0, 0,\n",
       "       1, 1, 1, 0, 0, 1, 0, 1, 0, 1, 0, 1, 0, 0, 0, 1, 1, 0, 0, 1, 0, 1,\n",
       "       0, 0, 1, 1, 0, 0, 1, 1, 1, 1, 0, 0, 0, 1, 0, 0, 0, 1, 1, 1, 0, 1,\n",
       "       1, 0, 0, 1, 1, 0, 1, 1, 1, 1, 0, 0, 0, 0, 0, 0, 1, 1, 0, 1, 0, 0,\n",
       "       0, 1, 1, 1, 1, 0, 0, 0, 0, 0, 0, 0, 0, 0, 1, 1, 0, 1, 1, 0, 1, 0,\n",
       "       0, 1, 0, 0, 0, 0, 1, 0, 1, 0, 0, 1, 0, 0, 0, 0, 1, 0, 0, 0, 0, 0,\n",
       "       1, 0, 0, 1, 1, 0, 0, 1, 0, 0, 0, 0, 0, 1, 0, 1, 0, 0, 1, 0, 0, 1,\n",
       "       1, 0, 0, 1, 0, 1, 0, 1, 0, 0, 0, 1, 1, 0, 0, 0, 0, 0, 0, 0, 1, 0,\n",
       "       0, 1, 1])"
      ]
     },
     "execution_count": 93,
     "metadata": {},
     "output_type": "execute_result"
    }
   ],
   "source": [
    "y_test_pred"
   ]
  },
  {
   "cell_type": "markdown",
   "id": "db008b70",
   "metadata": {
    "papermill": {
     "duration": 0.066316,
     "end_time": "2024-08-28T05:17:06.182988",
     "exception": false,
     "start_time": "2024-08-28T05:17:06.116672",
     "status": "completed"
    },
    "tags": []
   },
   "source": [
    "#### Confusion matrix On Test"
   ]
  },
  {
   "cell_type": "code",
   "execution_count": 94,
   "id": "503580c5",
   "metadata": {
    "execution": {
     "iopub.execute_input": "2024-08-28T05:17:06.319508Z",
     "iopub.status.busy": "2024-08-28T05:17:06.318465Z",
     "iopub.status.idle": "2024-08-28T05:17:06.327018Z",
     "shell.execute_reply": "2024-08-28T05:17:06.325733Z"
    },
    "papermill": {
     "duration": 0.079831,
     "end_time": "2024-08-28T05:17:06.329783",
     "exception": false,
     "start_time": "2024-08-28T05:17:06.249952",
     "status": "completed"
    },
    "tags": []
   },
   "outputs": [],
   "source": [
    "cm_test = confusion_matrix(y_test , y_test_pred)"
   ]
  },
  {
   "cell_type": "code",
   "execution_count": 95,
   "id": "92bcde6f",
   "metadata": {
    "execution": {
     "iopub.execute_input": "2024-08-28T05:17:06.467791Z",
     "iopub.status.busy": "2024-08-28T05:17:06.467293Z",
     "iopub.status.idle": "2024-08-28T05:17:06.475775Z",
     "shell.execute_reply": "2024-08-28T05:17:06.474592Z"
    },
    "papermill": {
     "duration": 0.082606,
     "end_time": "2024-08-28T05:17:06.478482",
     "exception": false,
     "start_time": "2024-08-28T05:17:06.395876",
     "status": "completed"
    },
    "tags": []
   },
   "outputs": [
    {
     "data": {
      "text/plain": [
       "array([[115,  22],\n",
       "       [ 27,  59]])"
      ]
     },
     "execution_count": 95,
     "metadata": {},
     "output_type": "execute_result"
    }
   ],
   "source": [
    "cm_test"
   ]
  },
  {
   "cell_type": "code",
   "execution_count": 96,
   "id": "31fa500e",
   "metadata": {
    "execution": {
     "iopub.execute_input": "2024-08-28T05:17:06.621547Z",
     "iopub.status.busy": "2024-08-28T05:17:06.621021Z",
     "iopub.status.idle": "2024-08-28T05:17:06.945833Z",
     "shell.execute_reply": "2024-08-28T05:17:06.944549Z"
    },
    "papermill": {
     "duration": 0.399167,
     "end_time": "2024-08-28T05:17:06.948665",
     "exception": false,
     "start_time": "2024-08-28T05:17:06.549498",
     "status": "completed"
    },
    "tags": []
   },
   "outputs": [
    {
     "data": {
      "image/png": "[encoded data removed]",
      "text/plain": [
       "<Figure size 2000x500 with 2 Axes>"
      ]
     },
     "metadata": {},
     "output_type": "display_data"
    }
   ],
   "source": [
    "plt.figure(figsize = (20,5))\n",
    "sns.heatmap(cm_test , annot = True , cmap = 'BuPu' , cbar = True)\n",
    "plt.xlabel('Actual value')\n",
    "plt.ylabel('predicted value')\n",
    "plt.show()"
   ]
  },
  {
   "cell_type": "code",
   "execution_count": 97,
   "id": "73f74b26",
   "metadata": {
    "execution": {
     "iopub.execute_input": "2024-08-28T05:17:07.100735Z",
     "iopub.status.busy": "2024-08-28T05:17:07.100217Z",
     "iopub.status.idle": "2024-08-28T05:17:07.108831Z",
     "shell.execute_reply": "2024-08-28T05:17:07.107407Z"
    },
    "papermill": {
     "duration": 0.091439,
     "end_time": "2024-08-28T05:17:07.111688",
     "exception": false,
     "start_time": "2024-08-28T05:17:07.020249",
     "status": "completed"
    },
    "tags": []
   },
   "outputs": [],
   "source": [
    "testing_accuracy_logit = accuracy_score(y_test , y_test_pred)"
   ]
  },
  {
   "cell_type": "code",
   "execution_count": 98,
   "id": "5444ee59",
   "metadata": {
    "execution": {
     "iopub.execute_input": "2024-08-28T05:17:07.254324Z",
     "iopub.status.busy": "2024-08-28T05:17:07.253335Z",
     "iopub.status.idle": "2024-08-28T05:17:07.262010Z",
     "shell.execute_reply": "2024-08-28T05:17:07.260732Z"
    },
    "papermill": {
     "duration": 0.082597,
     "end_time": "2024-08-28T05:17:07.264755",
     "exception": false,
     "start_time": "2024-08-28T05:17:07.182158",
     "status": "completed"
    },
    "tags": []
   },
   "outputs": [
    {
     "data": {
      "text/plain": [
       "0.7802690582959642"
      ]
     },
     "execution_count": 98,
     "metadata": {},
     "output_type": "execute_result"
    }
   ],
   "source": [
    "testing_accuracy_logit "
   ]
  },
  {
   "cell_type": "markdown",
   "id": "7e4c49e8",
   "metadata": {
    "papermill": {
     "duration": 0.07039,
     "end_time": "2024-08-28T05:17:07.405800",
     "exception": false,
     "start_time": "2024-08-28T05:17:07.335410",
     "status": "completed"
    },
    "tags": []
   },
   "source": [
    "#### Classification_report test"
   ]
  },
  {
   "cell_type": "code",
   "execution_count": 99,
   "id": "7f8d7afa",
   "metadata": {
    "execution": {
     "iopub.execute_input": "2024-08-28T05:17:07.547190Z",
     "iopub.status.busy": "2024-08-28T05:17:07.546643Z",
     "iopub.status.idle": "2024-08-28T05:17:07.564227Z",
     "shell.execute_reply": "2024-08-28T05:17:07.562964Z"
    },
    "papermill": {
     "duration": 0.091394,
     "end_time": "2024-08-28T05:17:07.567078",
     "exception": false,
     "start_time": "2024-08-28T05:17:07.475684",
     "status": "completed"
    },
    "tags": []
   },
   "outputs": [
    {
     "name": "stdout",
     "output_type": "stream",
     "text": [
      "              precision    recall  f1-score   support\n",
      "\n",
      "           0       0.81      0.84      0.82       137\n",
      "           1       0.73      0.69      0.71        86\n",
      "\n",
      "    accuracy                           0.78       223\n",
      "   macro avg       0.77      0.76      0.77       223\n",
      "weighted avg       0.78      0.78      0.78       223\n",
      "\n"
     ]
    }
   ],
   "source": [
    "print(classification_report(y_test , y_test_pred))"
   ]
  },
  {
   "cell_type": "code",
   "execution_count": 100,
   "id": "ec513025",
   "metadata": {
    "execution": {
     "iopub.execute_input": "2024-08-28T05:17:07.709159Z",
     "iopub.status.busy": "2024-08-28T05:17:07.708690Z",
     "iopub.status.idle": "2024-08-28T05:17:07.715555Z",
     "shell.execute_reply": "2024-08-28T05:17:07.714289Z"
    },
    "papermill": {
     "duration": 0.082079,
     "end_time": "2024-08-28T05:17:07.718246",
     "exception": false,
     "start_time": "2024-08-28T05:17:07.636167",
     "status": "completed"
    },
    "tags": []
   },
   "outputs": [
    {
     "name": "stdout",
     "output_type": "stream",
     "text": [
      "Training Accuracy of logistic is : 0.8023952095808383\n",
      "Testing Accuracy of logistic is : 0.7802690582959642\n"
     ]
    }
   ],
   "source": [
    "print('Training Accuracy of logistic is :' , training_accuracy_logit)\n",
    "print('Testing Accuracy of logistic is :' , testing_accuracy_logit)"
   ]
  },
  {
   "cell_type": "markdown",
   "id": "ceab1be1",
   "metadata": {
    "papermill": {
     "duration": 0.069258,
     "end_time": "2024-08-28T05:17:07.857632",
     "exception": false,
     "start_time": "2024-08-28T05:17:07.788374",
     "status": "completed"
    },
    "tags": []
   },
   "source": [
    "#### Insights : Logistic Model is Most Accurate (most generalised) because there no overfitting and underfitting . but we try to improve accuracy"
   ]
  },
  {
   "cell_type": "markdown",
   "id": "bfb829a2",
   "metadata": {
    "papermill": {
     "duration": 0.069309,
     "end_time": "2024-08-28T05:17:07.996633",
     "exception": false,
     "start_time": "2024-08-28T05:17:07.927324",
     "status": "completed"
    },
    "tags": []
   },
   "source": [
    "### K Fold Cross Validation"
   ]
  },
  {
   "cell_type": "code",
   "execution_count": 101,
   "id": "aa1fd38b",
   "metadata": {
    "execution": {
     "iopub.execute_input": "2024-08-28T05:17:08.139399Z",
     "iopub.status.busy": "2024-08-28T05:17:08.138935Z",
     "iopub.status.idle": "2024-08-28T05:17:08.144742Z",
     "shell.execute_reply": "2024-08-28T05:17:08.143540Z"
    },
    "papermill": {
     "duration": 0.079975,
     "end_time": "2024-08-28T05:17:08.147871",
     "exception": false,
     "start_time": "2024-08-28T05:17:08.067896",
     "status": "completed"
    },
    "tags": []
   },
   "outputs": [],
   "source": [
    "from sklearn.model_selection import cross_val_score"
   ]
  },
  {
   "cell_type": "code",
   "execution_count": 102,
   "id": "f411876b",
   "metadata": {
    "execution": {
     "iopub.execute_input": "2024-08-28T05:17:08.285208Z",
     "iopub.status.busy": "2024-08-28T05:17:08.284788Z",
     "iopub.status.idle": "2024-08-28T05:17:08.585232Z",
     "shell.execute_reply": "2024-08-28T05:17:08.583854Z"
    },
    "papermill": {
     "duration": 0.372409,
     "end_time": "2024-08-28T05:17:08.588256",
     "exception": false,
     "start_time": "2024-08-28T05:17:08.215847",
     "status": "completed"
    },
    "tags": []
   },
   "outputs": [],
   "source": [
    "cs = cross_val_score(logit , x_train , y_train , cv = 10)"
   ]
  },
  {
   "cell_type": "code",
   "execution_count": 103,
   "id": "f8e80afb",
   "metadata": {
    "execution": {
     "iopub.execute_input": "2024-08-28T05:17:08.725669Z",
     "iopub.status.busy": "2024-08-28T05:17:08.725108Z",
     "iopub.status.idle": "2024-08-28T05:17:08.733723Z",
     "shell.execute_reply": "2024-08-28T05:17:08.732224Z"
    },
    "papermill": {
     "duration": 0.080839,
     "end_time": "2024-08-28T05:17:08.736505",
     "exception": false,
     "start_time": "2024-08-28T05:17:08.655666",
     "status": "completed"
    },
    "tags": []
   },
   "outputs": [
    {
     "data": {
      "text/plain": [
       "0.7889642695612845"
      ]
     },
     "execution_count": 103,
     "metadata": {},
     "output_type": "execute_result"
    }
   ],
   "source": [
    "cs.mean()"
   ]
  },
  {
   "cell_type": "markdown",
   "id": "dc74c424",
   "metadata": {
    "papermill": {
     "duration": 0.069258,
     "end_time": "2024-08-28T05:17:08.877473",
     "exception": false,
     "start_time": "2024-08-28T05:17:08.808215",
     "status": "completed"
    },
    "tags": []
   },
   "source": [
    "##### max accuracy by cross val score"
   ]
  },
  {
   "cell_type": "code",
   "execution_count": 104,
   "id": "11af2b3c",
   "metadata": {
    "execution": {
     "iopub.execute_input": "2024-08-28T05:17:09.018674Z",
     "iopub.status.busy": "2024-08-28T05:17:09.018152Z",
     "iopub.status.idle": "2024-08-28T05:17:09.026929Z",
     "shell.execute_reply": "2024-08-28T05:17:09.025594Z"
    },
    "papermill": {
     "duration": 0.082585,
     "end_time": "2024-08-28T05:17:09.029979",
     "exception": false,
     "start_time": "2024-08-28T05:17:08.947394",
     "status": "completed"
    },
    "tags": []
   },
   "outputs": [
    {
     "data": {
      "text/plain": [
       "0.8507462686567164"
      ]
     },
     "execution_count": 104,
     "metadata": {},
     "output_type": "execute_result"
    }
   ],
   "source": [
    "cs.max()"
   ]
  },
  {
   "cell_type": "markdown",
   "id": "e34525e7",
   "metadata": {
    "papermill": {
     "duration": 0.069238,
     "end_time": "2024-08-28T05:17:09.170939",
     "exception": false,
     "start_time": "2024-08-28T05:17:09.101701",
     "status": "completed"
    },
    "tags": []
   },
   "source": [
    "### ROC with AUC "
   ]
  },
  {
   "cell_type": "code",
   "execution_count": 105,
   "id": "6bc8e1f1",
   "metadata": {
    "execution": {
     "iopub.execute_input": "2024-08-28T05:17:09.315550Z",
     "iopub.status.busy": "2024-08-28T05:17:09.315022Z",
     "iopub.status.idle": "2024-08-28T05:17:09.321362Z",
     "shell.execute_reply": "2024-08-28T05:17:09.319795Z"
    },
    "papermill": {
     "duration": 0.082389,
     "end_time": "2024-08-28T05:17:09.324360",
     "exception": false,
     "start_time": "2024-08-28T05:17:09.241971",
     "status": "completed"
    },
    "tags": []
   },
   "outputs": [],
   "source": [
    "from sklearn.metrics import roc_auc_score"
   ]
  },
  {
   "cell_type": "code",
   "execution_count": 106,
   "id": "a3160ad1",
   "metadata": {
    "execution": {
     "iopub.execute_input": "2024-08-28T05:17:09.465235Z",
     "iopub.status.busy": "2024-08-28T05:17:09.464735Z",
     "iopub.status.idle": "2024-08-28T05:17:09.480128Z",
     "shell.execute_reply": "2024-08-28T05:17:09.478544Z"
    },
    "papermill": {
     "duration": 0.087786,
     "end_time": "2024-08-28T05:17:09.483132",
     "exception": false,
     "start_time": "2024-08-28T05:17:09.395346",
     "status": "completed"
    },
    "tags": []
   },
   "outputs": [
    {
     "data": {
      "text/plain": [
       "0.7627312850110337"
      ]
     },
     "execution_count": 106,
     "metadata": {},
     "output_type": "execute_result"
    }
   ],
   "source": [
    "logistic_roc_auc = roc_auc_score(y_test, y_test_pred)\n",
    "logistic_roc_auc\n",
    "\n",
    "# clf = LogisticRegression(solver=\"liblinear\").fit(x_train, y_train)\n",
    "# preds = clf.predict_proba(x_test)\n",
    "# roc_auc = roc_auc_score(y_test,preds, multi_class='ovr')\n",
    "# print(roc_auc)"
   ]
  },
  {
   "cell_type": "markdown",
   "id": "3cfe4e12",
   "metadata": {
    "papermill": {
     "duration": 0.070819,
     "end_time": "2024-08-28T05:17:09.625311",
     "exception": false,
     "start_time": "2024-08-28T05:17:09.554492",
     "status": "completed"
    },
    "tags": []
   },
   "source": [
    "#### AUC ROC Curve Of RandomForest Test Data"
   ]
  },
  {
   "cell_type": "code",
   "execution_count": 107,
   "id": "2c88d3bf",
   "metadata": {
    "execution": {
     "iopub.execute_input": "2024-08-28T05:17:09.770143Z",
     "iopub.status.busy": "2024-08-28T05:17:09.769591Z",
     "iopub.status.idle": "2024-08-28T05:17:10.187688Z",
     "shell.execute_reply": "2024-08-28T05:17:10.186160Z"
    },
    "papermill": {
     "duration": 0.494353,
     "end_time": "2024-08-28T05:17:10.191265",
     "exception": false,
     "start_time": "2024-08-28T05:17:09.696912",
     "status": "completed"
    },
    "tags": []
   },
   "outputs": [
    {
     "data": {
      "image/png": "[encoded data removed]",
      "text/plain": [
       "<Figure size 640x480 with 1 Axes>"
      ]
     },
     "metadata": {},
     "output_type": "display_data"
    }
   ],
   "source": [
    "from sklearn.metrics import roc_curve\n",
    "# this build roc curve\n",
    "fpr, tpr, thresholds = roc_curve(y_test, y_test_pred)\n",
    "\n",
    "plt.figure()\n",
    "plt.plot(fpr, tpr, label=\"ROC Curve (%0.2f)\" % logistic_roc_auc)\n",
    "# this build AUC curve\n",
    "plt.plot([0,1],[0,1],'k--')\n",
    "plt.xlim([0.0,1.0])\n",
    "plt.ylim([0.0,1.0])\n",
    "plt.xlabel(\"False Positive Rate\")\n",
    "plt.ylabel(\"True Positive Rate\")\n",
    "plt.title(\"******Receiver Operating Characteristic With Area Under Curve (ROC-AUC)******\")\n",
    "plt.legend(loc='lower right')\n",
    "plt.show()"
   ]
  },
  {
   "cell_type": "markdown",
   "id": "7b153abd",
   "metadata": {
    "papermill": {
     "duration": 0.07237,
     "end_time": "2024-08-28T05:17:10.335704",
     "exception": false,
     "start_time": "2024-08-28T05:17:10.263334",
     "status": "completed"
    },
    "tags": []
   },
   "source": [
    "### RandomForestClassifier"
   ]
  },
  {
   "cell_type": "code",
   "execution_count": 108,
   "id": "0555a045",
   "metadata": {
    "execution": {
     "iopub.execute_input": "2024-08-28T05:17:10.484566Z",
     "iopub.status.busy": "2024-08-28T05:17:10.484024Z",
     "iopub.status.idle": "2024-08-28T05:17:10.664752Z",
     "shell.execute_reply": "2024-08-28T05:17:10.663258Z"
    },
    "papermill": {
     "duration": 0.257679,
     "end_time": "2024-08-28T05:17:10.667922",
     "exception": false,
     "start_time": "2024-08-28T05:17:10.410243",
     "status": "completed"
    },
    "tags": []
   },
   "outputs": [],
   "source": [
    "from sklearn.ensemble import RandomForestClassifier"
   ]
  },
  {
   "cell_type": "code",
   "execution_count": 109,
   "id": "1499a91d",
   "metadata": {
    "execution": {
     "iopub.execute_input": "2024-08-28T05:17:10.814935Z",
     "iopub.status.busy": "2024-08-28T05:17:10.814445Z",
     "iopub.status.idle": "2024-08-28T05:17:10.820762Z",
     "shell.execute_reply": "2024-08-28T05:17:10.819327Z"
    },
    "papermill": {
     "duration": 0.084165,
     "end_time": "2024-08-28T05:17:10.823609",
     "exception": false,
     "start_time": "2024-08-28T05:17:10.739444",
     "status": "completed"
    },
    "tags": []
   },
   "outputs": [],
   "source": [
    "rf = RandomForestClassifier(n_estimators=500)"
   ]
  },
  {
   "cell_type": "markdown",
   "id": "fd03db82",
   "metadata": {
    "papermill": {
     "duration": 0.071382,
     "end_time": "2024-08-28T05:17:10.968784",
     "exception": false,
     "start_time": "2024-08-28T05:17:10.897402",
     "status": "completed"
    },
    "tags": []
   },
   "source": [
    "#### Training The Model"
   ]
  },
  {
   "cell_type": "code",
   "execution_count": 110,
   "id": "d908be60",
   "metadata": {
    "execution": {
     "iopub.execute_input": "2024-08-28T05:17:11.115364Z",
     "iopub.status.busy": "2024-08-28T05:17:11.114898Z",
     "iopub.status.idle": "2024-08-28T05:17:12.561853Z",
     "shell.execute_reply": "2024-08-28T05:17:12.560555Z"
    },
    "papermill": {
     "duration": 1.525072,
     "end_time": "2024-08-28T05:17:12.564942",
     "exception": false,
     "start_time": "2024-08-28T05:17:11.039870",
     "status": "completed"
    },
    "tags": []
   },
   "outputs": [
    {
     "data": {
      "text/html": [
       "<style>#sk-container-id-4 {color: black;background-color: white;}#sk-container-id-4 pre{padding: 0;}#sk-container-id-4 div.sk-toggleable {background-color: white;}#sk-container-id-4 label.sk-toggleable__label {cursor: pointer;display: block;width: 100%;margin-bottom: 0;padding: 0.3em;box-sizing: border-box;text-align: center;}#sk-container-id-4 label.sk-toggleable__label-arrow:before {content: \"▸\";float: left;margin-right: 0.25em;color: #696969;}#sk-container-id-4 label.sk-toggleable__label-arrow:hover:before {color: black;}#sk-container-id-4 div.sk-estimator:hover label.sk-toggleable__label-arrow:before {color: black;}#sk-container-id-4 div.sk-toggleable__content {max-height: 0;max-width: 0;overflow: hidden;text-align: left;background-color: #f0f8ff;}#sk-container-id-4 div.sk-toggleable__content pre {margin: 0.2em;color: black;border-radius: 0.25em;background-color: #f0f8ff;}#sk-container-id-4 input.sk-toggleable__control:checked~div.sk-toggleable__content {max-height: 200px;max-width: 100%;overflow: auto;}#sk-container-id-4 input.sk-toggleable__control:checked~label.sk-toggleable__label-arrow:before {content: \"▾\";}#sk-container-id-4 div.sk-estimator input.sk-toggleable__control:checked~label.sk-toggleable__label {background-color: #d4ebff;}#sk-container-id-4 div.sk-label input.sk-toggleable__control:checked~label.sk-toggleable__label {background-color: #d4ebff;}#sk-container-id-4 input.sk-hidden--visually {border: 0;clip: rect(1px 1px 1px 1px);clip: rect(1px, 1px, 1px, 1px);height: 1px;margin: -1px;overflow: hidden;padding: 0;position: absolute;width: 1px;}#sk-container-id-4 div.sk-estimator {font-family: monospace;background-color: #f0f8ff;border: 1px dotted black;border-radius: 0.25em;box-sizing: border-box;margin-bottom: 0.5em;}#sk-container-id-4 div.sk-estimator:hover {background-color: #d4ebff;}#sk-container-id-4 div.sk-parallel-item::after {content: \"\";width: 100%;border-bottom: 1px solid gray;flex-grow: 1;}#sk-container-id-4 div.sk-label:hover label.sk-toggleable__label {background-color: #d4ebff;}#sk-container-id-4 div.sk-serial::before {content: \"\";position: absolute;border-left: 1px solid gray;box-sizing: border-box;top: 0;bottom: 0;left: 50%;z-index: 0;}#sk-container-id-4 div.sk-serial {display: flex;flex-direction: column;align-items: center;background-color: white;padding-right: 0.2em;padding-left: 0.2em;position: relative;}#sk-container-id-4 div.sk-item {position: relative;z-index: 1;}#sk-container-id-4 div.sk-parallel {display: flex;align-items: stretch;justify-content: center;background-color: white;position: relative;}#sk-container-id-4 div.sk-item::before, #sk-container-id-4 div.sk-parallel-item::before {content: \"\";position: absolute;border-left: 1px solid gray;box-sizing: border-box;top: 0;bottom: 0;left: 50%;z-index: -1;}#sk-container-id-4 div.sk-parallel-item {display: flex;flex-direction: column;z-index: 1;position: relative;background-color: white;}#sk-container-id-4 div.sk-parallel-item:first-child::after {align-self: flex-end;width: 50%;}#sk-container-id-4 div.sk-parallel-item:last-child::after {align-self: flex-start;width: 50%;}#sk-container-id-4 div.sk-parallel-item:only-child::after {width: 0;}#sk-container-id-4 div.sk-dashed-wrapped {border: 1px dashed gray;margin: 0 0.4em 0.5em 0.4em;box-sizing: border-box;padding-bottom: 0.4em;background-color: white;}#sk-container-id-4 div.sk-label label {font-family: monospace;font-weight: bold;display: inline-block;line-height: 1.2em;}#sk-container-id-4 div.sk-label-container {text-align: center;}#sk-container-id-4 div.sk-container {/* jupyter's `normalize.less` sets `[hidden] { display: none; }` but bootstrap.min.css set `[hidden] { display: none !important; }` so we also need the `!important` here to be able to override the default hidden behavior on the sphinx rendered scikit-learn.org. See: https://github.com/scikit-learn/scikit-learn/issues/21755 */display: inline-block !important;position: relative;}#sk-container-id-4 div.sk-text-repr-fallback {display: none;}</style><div id=\"sk-container-id-4\" class=\"sk-top-container\"><div class=\"sk-text-repr-fallback\"><pre>RandomForestClassifier(n_estimators=500)</pre><b>In a Jupyter environment, please rerun this cell to show the HTML representation or trust the notebook. <br />On GitHub, the HTML representation is unable to render, please try loading this page with nbviewer.org.</b></div><div class=\"sk-container\" hidden><div class=\"sk-item\"><div class=\"sk-estimator sk-toggleable\"><input class=\"sk-toggleable__control sk-hidden--visually\" id=\"sk-estimator-id-4\" type=\"checkbox\" checked><label for=\"sk-estimator-id-4\" class=\"sk-toggleable__label sk-toggleable__label-arrow\">RandomForestClassifier</label><div class=\"sk-toggleable__content\"><pre>RandomForestClassifier(n_estimators=500)</pre></div></div></div></div></div>"
      ],
      "text/plain": [
       "RandomForestClassifier(n_estimators=500)"
      ]
     },
     "execution_count": 110,
     "metadata": {},
     "output_type": "execute_result"
    }
   ],
   "source": [
    "rf.fit(x_train , y_train)"
   ]
  },
  {
   "cell_type": "markdown",
   "id": "4fd57162",
   "metadata": {
    "papermill": {
     "duration": 0.071985,
     "end_time": "2024-08-28T05:17:12.732993",
     "exception": false,
     "start_time": "2024-08-28T05:17:12.661008",
     "status": "completed"
    },
    "tags": []
   },
   "source": [
    "#### Prediction Of Model"
   ]
  },
  {
   "cell_type": "code",
   "execution_count": 111,
   "id": "d18938d9",
   "metadata": {
    "execution": {
     "iopub.execute_input": "2024-08-28T05:17:12.879944Z",
     "iopub.status.busy": "2024-08-28T05:17:12.878757Z",
     "iopub.status.idle": "2024-08-28T05:17:12.972992Z",
     "shell.execute_reply": "2024-08-28T05:17:12.971785Z"
    },
    "papermill": {
     "duration": 0.171932,
     "end_time": "2024-08-28T05:17:12.976803",
     "exception": false,
     "start_time": "2024-08-28T05:17:12.804871",
     "status": "completed"
    },
    "tags": []
   },
   "outputs": [],
   "source": [
    "y_train_pred_rf = rf.predict(x_train)"
   ]
  },
  {
   "cell_type": "markdown",
   "id": "ea74b0c0",
   "metadata": {
    "papermill": {
     "duration": 0.074695,
     "end_time": "2024-08-28T05:17:13.127301",
     "exception": false,
     "start_time": "2024-08-28T05:17:13.052606",
     "status": "completed"
    },
    "tags": []
   },
   "source": [
    "#### Training Accuracy RandomForest"
   ]
  },
  {
   "cell_type": "code",
   "execution_count": 112,
   "id": "37a4958f",
   "metadata": {
    "execution": {
     "iopub.execute_input": "2024-08-28T05:17:13.275578Z",
     "iopub.status.busy": "2024-08-28T05:17:13.274985Z",
     "iopub.status.idle": "2024-08-28T05:17:13.284691Z",
     "shell.execute_reply": "2024-08-28T05:17:13.283274Z"
    },
    "papermill": {
     "duration": 0.087522,
     "end_time": "2024-08-28T05:17:13.287648",
     "exception": false,
     "start_time": "2024-08-28T05:17:13.200126",
     "status": "completed"
    },
    "tags": []
   },
   "outputs": [],
   "source": [
    "training_accuracy_rf = accuracy_score(y_train , y_train_pred_rf)"
   ]
  },
  {
   "cell_type": "code",
   "execution_count": 113,
   "id": "e84370df",
   "metadata": {
    "execution": {
     "iopub.execute_input": "2024-08-28T05:17:13.441204Z",
     "iopub.status.busy": "2024-08-28T05:17:13.440692Z",
     "iopub.status.idle": "2024-08-28T05:17:13.449515Z",
     "shell.execute_reply": "2024-08-28T05:17:13.447975Z"
    },
    "papermill": {
     "duration": 0.087834,
     "end_time": "2024-08-28T05:17:13.452584",
     "exception": false,
     "start_time": "2024-08-28T05:17:13.364750",
     "status": "completed"
    },
    "tags": []
   },
   "outputs": [
    {
     "data": {
      "text/plain": [
       "0.9985029940119761"
      ]
     },
     "execution_count": 113,
     "metadata": {},
     "output_type": "execute_result"
    }
   ],
   "source": [
    "training_accuracy_rf"
   ]
  },
  {
   "cell_type": "markdown",
   "id": "07b4453d",
   "metadata": {
    "papermill": {
     "duration": 0.071213,
     "end_time": "2024-08-28T05:17:13.596600",
     "exception": false,
     "start_time": "2024-08-28T05:17:13.525387",
     "status": "completed"
    },
    "tags": []
   },
   "source": [
    "##### Testing model RandomForestClassifier"
   ]
  },
  {
   "cell_type": "code",
   "execution_count": 114,
   "id": "ad370809",
   "metadata": {
    "execution": {
     "iopub.execute_input": "2024-08-28T05:17:13.743777Z",
     "iopub.status.busy": "2024-08-28T05:17:13.743297Z",
     "iopub.status.idle": "2024-08-28T05:17:13.804562Z",
     "shell.execute_reply": "2024-08-28T05:17:13.803090Z"
    },
    "papermill": {
     "duration": 0.138468,
     "end_time": "2024-08-28T05:17:13.807960",
     "exception": false,
     "start_time": "2024-08-28T05:17:13.669492",
     "status": "completed"
    },
    "tags": []
   },
   "outputs": [],
   "source": [
    "y_test_pred_rf = rf.predict(x_test)"
   ]
  },
  {
   "cell_type": "code",
   "execution_count": 115,
   "id": "9e59ff5d",
   "metadata": {
    "execution": {
     "iopub.execute_input": "2024-08-28T05:17:13.956228Z",
     "iopub.status.busy": "2024-08-28T05:17:13.954924Z",
     "iopub.status.idle": "2024-08-28T05:17:13.964891Z",
     "shell.execute_reply": "2024-08-28T05:17:13.963461Z"
    },
    "papermill": {
     "duration": 0.089434,
     "end_time": "2024-08-28T05:17:13.967439",
     "exception": false,
     "start_time": "2024-08-28T05:17:13.878005",
     "status": "completed"
    },
    "tags": []
   },
   "outputs": [
    {
     "data": {
      "text/plain": [
       "array([0, 0, 0, 0, 0, 1, 1, 1, 1, 0, 0, 0, 0, 1, 0, 0, 0, 0, 0, 1, 0, 0,\n",
       "       1, 0, 0, 0, 0, 0, 0, 1, 1, 1, 0, 0, 0, 0, 0, 0, 0, 0, 0, 1, 0, 0,\n",
       "       0, 0, 0, 1, 0, 0, 1, 1, 0, 0, 1, 1, 0, 0, 0, 0, 0, 1, 1, 0, 0, 0,\n",
       "       1, 1, 1, 0, 0, 1, 1, 1, 0, 0, 0, 1, 1, 0, 0, 1, 1, 0, 0, 1, 0, 1,\n",
       "       0, 0, 1, 1, 1, 0, 1, 1, 1, 1, 0, 0, 0, 1, 0, 0, 0, 1, 1, 1, 0, 1,\n",
       "       1, 1, 0, 1, 1, 0, 1, 1, 1, 1, 0, 0, 1, 0, 0, 0, 1, 1, 0, 0, 1, 0,\n",
       "       0, 1, 0, 0, 1, 0, 0, 0, 0, 0, 0, 0, 0, 0, 1, 0, 0, 1, 1, 0, 1, 0,\n",
       "       0, 1, 1, 1, 0, 0, 1, 1, 1, 0, 1, 1, 0, 0, 0, 0, 1, 0, 0, 0, 1, 1,\n",
       "       0, 0, 0, 0, 1, 0, 0, 1, 0, 0, 0, 0, 0, 1, 0, 1, 0, 0, 1, 0, 0, 1,\n",
       "       1, 0, 0, 1, 0, 1, 0, 1, 0, 0, 0, 1, 1, 0, 0, 0, 0, 0, 0, 1, 1, 0,\n",
       "       0, 0, 0])"
      ]
     },
     "execution_count": 115,
     "metadata": {},
     "output_type": "execute_result"
    }
   ],
   "source": [
    "y_test_pred_rf"
   ]
  },
  {
   "cell_type": "markdown",
   "id": "d50a996a",
   "metadata": {
    "papermill": {
     "duration": 0.075952,
     "end_time": "2024-08-28T05:17:14.113130",
     "exception": false,
     "start_time": "2024-08-28T05:17:14.037178",
     "status": "completed"
    },
    "tags": []
   },
   "source": [
    "#### Testing Accuracy"
   ]
  },
  {
   "cell_type": "code",
   "execution_count": 116,
   "id": "88ce7075",
   "metadata": {
    "execution": {
     "iopub.execute_input": "2024-08-28T05:17:14.272291Z",
     "iopub.status.busy": "2024-08-28T05:17:14.271689Z",
     "iopub.status.idle": "2024-08-28T05:17:14.281086Z",
     "shell.execute_reply": "2024-08-28T05:17:14.279595Z"
    },
    "papermill": {
     "duration": 0.085198,
     "end_time": "2024-08-28T05:17:14.283928",
     "exception": false,
     "start_time": "2024-08-28T05:17:14.198730",
     "status": "completed"
    },
    "tags": []
   },
   "outputs": [],
   "source": [
    "testing_accuracy_rf = accuracy_score(y_test , y_test_pred_rf)"
   ]
  },
  {
   "cell_type": "code",
   "execution_count": 117,
   "id": "eb907128",
   "metadata": {
    "execution": {
     "iopub.execute_input": "2024-08-28T05:17:14.434204Z",
     "iopub.status.busy": "2024-08-28T05:17:14.433664Z",
     "iopub.status.idle": "2024-08-28T05:17:14.442201Z",
     "shell.execute_reply": "2024-08-28T05:17:14.440943Z"
    },
    "papermill": {
     "duration": 0.08917,
     "end_time": "2024-08-28T05:17:14.444975",
     "exception": false,
     "start_time": "2024-08-28T05:17:14.355805",
     "status": "completed"
    },
    "tags": []
   },
   "outputs": [
    {
     "data": {
      "text/plain": [
       "0.8161434977578476"
      ]
     },
     "execution_count": 117,
     "metadata": {},
     "output_type": "execute_result"
    }
   ],
   "source": [
    "testing_accuracy_rf"
   ]
  },
  {
   "cell_type": "markdown",
   "id": "798490f1",
   "metadata": {
    "papermill": {
     "duration": 0.07133,
     "end_time": "2024-08-28T05:17:14.590250",
     "exception": false,
     "start_time": "2024-08-28T05:17:14.518920",
     "status": "completed"
    },
    "tags": []
   },
   "source": [
    "#### AUC ROC Curve Of RandomForest For Testing"
   ]
  },
  {
   "cell_type": "code",
   "execution_count": 118,
   "id": "56684db4",
   "metadata": {
    "execution": {
     "iopub.execute_input": "2024-08-28T05:17:14.736991Z",
     "iopub.status.busy": "2024-08-28T05:17:14.736478Z",
     "iopub.status.idle": "2024-08-28T05:17:14.747864Z",
     "shell.execute_reply": "2024-08-28T05:17:14.746604Z"
    },
    "papermill": {
     "duration": 0.088108,
     "end_time": "2024-08-28T05:17:14.750695",
     "exception": false,
     "start_time": "2024-08-28T05:17:14.662587",
     "status": "completed"
    },
    "tags": []
   },
   "outputs": [
    {
     "name": "stdout",
     "output_type": "stream",
     "text": [
      "0.804914276014259\n"
     ]
    }
   ],
   "source": [
    "rf_roc_auc = roc_auc_score(y_test, y_test_pred_rf)\n",
    "print(rf_roc_auc)"
   ]
  },
  {
   "cell_type": "code",
   "execution_count": 119,
   "id": "79984bcd",
   "metadata": {
    "execution": {
     "iopub.execute_input": "2024-08-28T05:17:14.899244Z",
     "iopub.status.busy": "2024-08-28T05:17:14.897785Z",
     "iopub.status.idle": "2024-08-28T05:17:15.322698Z",
     "shell.execute_reply": "2024-08-28T05:17:15.320998Z"
    },
    "papermill": {
     "duration": 0.502732,
     "end_time": "2024-08-28T05:17:15.325750",
     "exception": false,
     "start_time": "2024-08-28T05:17:14.823018",
     "status": "completed"
    },
    "tags": []
   },
   "outputs": [
    {
     "data": {
      "image/png": "[encoded data removed]",
      "text/plain": [
       "<Figure size 640x480 with 1 Axes>"
      ]
     },
     "metadata": {},
     "output_type": "display_data"
    }
   ],
   "source": [
    "# this build roc curve\n",
    "fpr, tpr, thresholds = roc_curve(y_test, y_test_pred_rf)\n",
    "plt.figure()\n",
    "plt.plot(fpr, tpr, label=\"ROC Curve (%0.2f)\" % rf_roc_auc)\n",
    "# this build AUC curve\n",
    "plt.plot([0,1],[0,1],'k--')\n",
    "plt.xlim([0.0,1.0])\n",
    "plt.ylim([0.0,1.0])\n",
    "plt.xlabel(\"False Positive Rate\")\n",
    "plt.ylabel(\"True Positive Rate\")\n",
    "plt.title(\"******Receiver Operating Characteristic With Area Under Curve (ROC-AUC)******\")\n",
    "plt.legend(loc='lower right')\n",
    "plt.show()"
   ]
  },
  {
   "cell_type": "markdown",
   "id": "af403dbb",
   "metadata": {
    "papermill": {
     "duration": 0.073604,
     "end_time": "2024-08-28T05:17:15.475280",
     "exception": false,
     "start_time": "2024-08-28T05:17:15.401676",
     "status": "completed"
    },
    "tags": []
   },
   "source": [
    "#### Training and Testing Accuracy Of Logistic"
   ]
  },
  {
   "cell_type": "code",
   "execution_count": 120,
   "id": "7f82be2b",
   "metadata": {
    "execution": {
     "iopub.execute_input": "2024-08-28T05:17:15.623323Z",
     "iopub.status.busy": "2024-08-28T05:17:15.622811Z",
     "iopub.status.idle": "2024-08-28T05:17:15.629715Z",
     "shell.execute_reply": "2024-08-28T05:17:15.628408Z"
    },
    "papermill": {
     "duration": 0.084661,
     "end_time": "2024-08-28T05:17:15.632691",
     "exception": false,
     "start_time": "2024-08-28T05:17:15.548030",
     "status": "completed"
    },
    "tags": []
   },
   "outputs": [
    {
     "name": "stdout",
     "output_type": "stream",
     "text": [
      "Training Accuracy of Logistic Regression :  0.8023952095808383\n",
      "Testing Accuracy Of Logistic Regression : 0.7802690582959642\n"
     ]
    }
   ],
   "source": [
    "print('Training Accuracy of Logistic Regression : ' , training_accuracy_logit)\n",
    "print('Testing Accuracy Of Logistic Regression :' , testing_accuracy_logit)"
   ]
  },
  {
   "cell_type": "code",
   "execution_count": 121,
   "id": "16ba69c9",
   "metadata": {
    "execution": {
     "iopub.execute_input": "2024-08-28T05:17:15.784285Z",
     "iopub.status.busy": "2024-08-28T05:17:15.783741Z",
     "iopub.status.idle": "2024-08-28T05:17:15.791311Z",
     "shell.execute_reply": "2024-08-28T05:17:15.789755Z"
    },
    "papermill": {
     "duration": 0.085496,
     "end_time": "2024-08-28T05:17:15.794495",
     "exception": false,
     "start_time": "2024-08-28T05:17:15.708999",
     "status": "completed"
    },
    "tags": []
   },
   "outputs": [
    {
     "name": "stdout",
     "output_type": "stream",
     "text": [
      "Training Accuracy of Random Forest :  0.9985029940119761\n",
      "Testing Accuracy Of Random Forest : 0.8161434977578476\n"
     ]
    }
   ],
   "source": [
    "print('Training Accuracy of Random Forest : ' , training_accuracy_rf)\n",
    "print('Testing Accuracy Of Random Forest :' , testing_accuracy_rf)"
   ]
  },
  {
   "cell_type": "markdown",
   "id": "3be0c051",
   "metadata": {
    "papermill": {
     "duration": 0.072576,
     "end_time": "2024-08-28T05:17:15.941506",
     "exception": false,
     "start_time": "2024-08-28T05:17:15.868930",
     "status": "completed"
    },
    "tags": []
   },
   "source": [
    "##### Insights : We are not focusing on accuracy only we have other factors are also to focus for evaluation of model but our RandomForest model get overfitted. We get more than 10% of difference in train as well as test accuracy . so right now we are not looking for any kind of hyperparameter tunning for to avoid overfitting but if we looking naturally which model is good then we will consider logistic regression and logistic regression is always best for binary classification"
   ]
  },
  {
   "cell_type": "markdown",
   "id": "c6610b12",
   "metadata": {
    "papermill": {
     "duration": 0.072519,
     "end_time": "2024-08-28T05:17:16.089216",
     "exception": false,
     "start_time": "2024-08-28T05:17:16.016697",
     "status": "completed"
    },
    "tags": []
   },
   "source": [
    "#### How to avoid overfitting ?\n",
    "\n",
    "##### Ans:\n",
    "\n",
    "###### 1.Feature Selection\n",
    "###### 2.Hyperparameter tunning\n",
    "###### 3.Regularization Tech\n",
    "###### 4.Cross validation Tech\n",
    "###### 5.Ensmble Tech (Bagging)"
   ]
  }
 ],
 "metadata": {
  "kaggle": {
   "accelerator": "none",
   "dataSources": [
    {
     "datasetId": 5605252,
     "sourceId": 9263394,
     "sourceType": "datasetVersion"
    }
   ],
   "dockerImageVersionId": 30761,
   "isGpuEnabled": false,
   "isInternetEnabled": true,
   "language": "python",
   "sourceType": "notebook"
  },
  "kernelspec": {
   "display_name": "Python 3",
   "language": "python",
   "name": "python3"
  },
  "language_info": {
   "codemirror_mode": {
    "name": "ipython",
    "version": 3
   },
   "file_extension": ".py",
   "mimetype": "text/x-python",
   "name": "python",
   "nbconvert_exporter": "python",
   "pygments_lexer": "ipython3",
   "version": "3.10.14"
  },
  "papermill": {
   "default_parameters": {},
   "duration": 41.760311,
   "end_time": "2024-08-28T05:17:17.190089",
   "environment_variables": {},
   "exception": null,
   "input_path": "__notebook__.ipynb",
   "output_path": "__notebook__.ipynb",
   "parameters": {},
   "start_time": "2024-08-28T05:16:35.429778",
   "version": "2.6.0"
  }
 },
 "nbformat": 4,
 "nbformat_minor": 5
}
