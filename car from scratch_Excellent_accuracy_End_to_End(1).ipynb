{
 "cells": [
  {
   "cell_type": "markdown",
   "id": "cf7961a5",
   "metadata": {},
   "source": [
    "### Import Libraries"
   ]
  },
  {
   "cell_type": "code",
   "execution_count": 1,
   "id": "c694fbf9",
   "metadata": {},
   "outputs": [],
   "source": [
    "import os\n",
    "import numpy as np\n",
    "import pandas as pd\n",
    "import matplotlib.pyplot as plt\n",
    "import seaborn as sns\n",
    "%matplotlib inline\n",
    "sns.set()\n",
    "import warnings\n",
    "warnings.filterwarnings('ignore')"
   ]
  },
  {
   "cell_type": "markdown",
   "id": "1e8eb774",
   "metadata": {},
   "source": [
    "### Import Dataset"
   ]
  },
  {
   "cell_type": "code",
   "execution_count": 2,
   "id": "c6e7f031",
   "metadata": {},
   "outputs": [],
   "source": [
    "df = pd.read_csv('C:\\\\Users\\\\Lenovo\\\\Downloads\\\\car_price.csv')"
   ]
  },
  {
   "cell_type": "code",
   "execution_count": 3,
   "id": "736fa271",
   "metadata": {},
   "outputs": [
    {
     "data": {
      "text/html": [
       "<div>\n",
       "<style scoped>\n",
       "    .dataframe tbody tr th:only-of-type {\n",
       "        vertical-align: middle;\n",
       "    }\n",
       "\n",
       "    .dataframe tbody tr th {\n",
       "        vertical-align: top;\n",
       "    }\n",
       "\n",
       "    .dataframe thead th {\n",
       "        text-align: right;\n",
       "    }\n",
       "</style>\n",
       "<table border=\"1\" class=\"dataframe\">\n",
       "  <thead>\n",
       "    <tr style=\"text-align: right;\">\n",
       "      <th></th>\n",
       "      <th>Unnamed: 0</th>\n",
       "      <th>car_name</th>\n",
       "      <th>car_prices_in_rupee</th>\n",
       "      <th>kms_driven</th>\n",
       "      <th>fuel_type</th>\n",
       "      <th>transmission</th>\n",
       "      <th>ownership</th>\n",
       "      <th>manufacture</th>\n",
       "      <th>engine</th>\n",
       "      <th>Seats</th>\n",
       "    </tr>\n",
       "  </thead>\n",
       "  <tbody>\n",
       "    <tr>\n",
       "      <th>0</th>\n",
       "      <td>0</td>\n",
       "      <td>Jeep Compass 2.0 Longitude Option BSIV</td>\n",
       "      <td>10.03 Lakh</td>\n",
       "      <td>86,226 kms</td>\n",
       "      <td>Diesel</td>\n",
       "      <td>Manual</td>\n",
       "      <td>1st Owner</td>\n",
       "      <td>2017</td>\n",
       "      <td>1956 cc</td>\n",
       "      <td>5 Seats</td>\n",
       "    </tr>\n",
       "    <tr>\n",
       "      <th>1</th>\n",
       "      <td>1</td>\n",
       "      <td>Renault Duster RXZ Turbo CVT</td>\n",
       "      <td>12.83 Lakh</td>\n",
       "      <td>13,248 kms</td>\n",
       "      <td>Petrol</td>\n",
       "      <td>Automatic</td>\n",
       "      <td>1st Owner</td>\n",
       "      <td>2021</td>\n",
       "      <td>1330 cc</td>\n",
       "      <td>5 Seats</td>\n",
       "    </tr>\n",
       "  </tbody>\n",
       "</table>\n",
       "</div>"
      ],
      "text/plain": [
       "   Unnamed: 0                                car_name car_prices_in_rupee  \\\n",
       "0           0  Jeep Compass 2.0 Longitude Option BSIV          10.03 Lakh   \n",
       "1           1            Renault Duster RXZ Turbo CVT          12.83 Lakh   \n",
       "\n",
       "   kms_driven fuel_type transmission  ownership  manufacture   engine    Seats  \n",
       "0  86,226 kms    Diesel       Manual  1st Owner         2017  1956 cc  5 Seats  \n",
       "1  13,248 kms    Petrol    Automatic  1st Owner         2021  1330 cc  5 Seats  "
      ]
     },
     "execution_count": 3,
     "metadata": {},
     "output_type": "execute_result"
    }
   ],
   "source": [
    "df.head(2)"
   ]
  },
  {
   "cell_type": "markdown",
   "id": "726c3f45",
   "metadata": {},
   "source": [
    "#### Drop the Non significant feature"
   ]
  },
  {
   "cell_type": "code",
   "execution_count": 4,
   "id": "f2e827d6",
   "metadata": {},
   "outputs": [],
   "source": [
    "df.drop('Unnamed: 0' , axis =1 ,inplace = True)"
   ]
  },
  {
   "cell_type": "code",
   "execution_count": 5,
   "id": "772c690b",
   "metadata": {},
   "outputs": [
    {
     "data": {
      "text/html": [
       "<div>\n",
       "<style scoped>\n",
       "    .dataframe tbody tr th:only-of-type {\n",
       "        vertical-align: middle;\n",
       "    }\n",
       "\n",
       "    .dataframe tbody tr th {\n",
       "        vertical-align: top;\n",
       "    }\n",
       "\n",
       "    .dataframe thead th {\n",
       "        text-align: right;\n",
       "    }\n",
       "</style>\n",
       "<table border=\"1\" class=\"dataframe\">\n",
       "  <thead>\n",
       "    <tr style=\"text-align: right;\">\n",
       "      <th></th>\n",
       "      <th>car_name</th>\n",
       "      <th>car_prices_in_rupee</th>\n",
       "      <th>kms_driven</th>\n",
       "      <th>fuel_type</th>\n",
       "      <th>transmission</th>\n",
       "      <th>ownership</th>\n",
       "      <th>manufacture</th>\n",
       "      <th>engine</th>\n",
       "      <th>Seats</th>\n",
       "    </tr>\n",
       "  </thead>\n",
       "  <tbody>\n",
       "    <tr>\n",
       "      <th>0</th>\n",
       "      <td>Jeep Compass 2.0 Longitude Option BSIV</td>\n",
       "      <td>10.03 Lakh</td>\n",
       "      <td>86,226 kms</td>\n",
       "      <td>Diesel</td>\n",
       "      <td>Manual</td>\n",
       "      <td>1st Owner</td>\n",
       "      <td>2017</td>\n",
       "      <td>1956 cc</td>\n",
       "      <td>5 Seats</td>\n",
       "    </tr>\n",
       "    <tr>\n",
       "      <th>1</th>\n",
       "      <td>Renault Duster RXZ Turbo CVT</td>\n",
       "      <td>12.83 Lakh</td>\n",
       "      <td>13,248 kms</td>\n",
       "      <td>Petrol</td>\n",
       "      <td>Automatic</td>\n",
       "      <td>1st Owner</td>\n",
       "      <td>2021</td>\n",
       "      <td>1330 cc</td>\n",
       "      <td>5 Seats</td>\n",
       "    </tr>\n",
       "  </tbody>\n",
       "</table>\n",
       "</div>"
      ],
      "text/plain": [
       "                                 car_name car_prices_in_rupee  kms_driven  \\\n",
       "0  Jeep Compass 2.0 Longitude Option BSIV          10.03 Lakh  86,226 kms   \n",
       "1            Renault Duster RXZ Turbo CVT          12.83 Lakh  13,248 kms   \n",
       "\n",
       "  fuel_type transmission  ownership  manufacture   engine    Seats  \n",
       "0    Diesel       Manual  1st Owner         2017  1956 cc  5 Seats  \n",
       "1    Petrol    Automatic  1st Owner         2021  1330 cc  5 Seats  "
      ]
     },
     "execution_count": 5,
     "metadata": {},
     "output_type": "execute_result"
    }
   ],
   "source": [
    "df.head(2)"
   ]
  },
  {
   "cell_type": "markdown",
   "id": "5d56366a",
   "metadata": {},
   "source": [
    "#### shape"
   ]
  },
  {
   "cell_type": "code",
   "execution_count": 6,
   "id": "586d6928",
   "metadata": {},
   "outputs": [
    {
     "data": {
      "text/plain": [
       "(5512, 9)"
      ]
     },
     "execution_count": 6,
     "metadata": {},
     "output_type": "execute_result"
    }
   ],
   "source": [
    "df.shape"
   ]
  },
  {
   "cell_type": "markdown",
   "id": "6afdaa57",
   "metadata": {},
   "source": [
    "#### Info"
   ]
  },
  {
   "cell_type": "code",
   "execution_count": 7,
   "id": "20c600d3",
   "metadata": {},
   "outputs": [
    {
     "name": "stdout",
     "output_type": "stream",
     "text": [
      "<class 'pandas.core.frame.DataFrame'>\n",
      "RangeIndex: 5512 entries, 0 to 5511\n",
      "Data columns (total 9 columns):\n",
      " #   Column               Non-Null Count  Dtype \n",
      "---  ------               --------------  ----- \n",
      " 0   car_name             5512 non-null   object\n",
      " 1   car_prices_in_rupee  5512 non-null   object\n",
      " 2   kms_driven           5512 non-null   object\n",
      " 3   fuel_type            5512 non-null   object\n",
      " 4   transmission         5512 non-null   object\n",
      " 5   ownership            5512 non-null   object\n",
      " 6   manufacture          5512 non-null   int64 \n",
      " 7   engine               5512 non-null   object\n",
      " 8   Seats                5512 non-null   object\n",
      "dtypes: int64(1), object(8)\n",
      "memory usage: 387.7+ KB\n"
     ]
    }
   ],
   "source": [
    "df.info()"
   ]
  },
  {
   "cell_type": "markdown",
   "id": "320b58c9",
   "metadata": {},
   "source": [
    "## Exploratory Data Analysis"
   ]
  },
  {
   "cell_type": "code",
   "execution_count": 8,
   "id": "c6c4ba0d",
   "metadata": {},
   "outputs": [],
   "source": [
    "# this function is for split the car name on basis on brand and model\n",
    "def get_data_analysis_columns(data):\n",
    "    \n",
    "    analysis = data.str.findall('[a-zA-z]+',)\n",
    "    analysis = [x[0] for x in analysis if x is not np.nan]\n",
    "    \n",
    "    return set(analysis)\n",
    "    \n",
    "# brands\n",
    "def get_brand(s):\n",
    "    \n",
    "    return s.split()[0]\n",
    "\n",
    "#models\n",
    "def get_model(s):\n",
    "    \n",
    "    return s.split()[1]"
   ]
  },
  {
   "cell_type": "code",
   "execution_count": 9,
   "id": "f37ca75c",
   "metadata": {},
   "outputs": [],
   "source": [
    "df['model'] = df['car_name'].apply(get_model)\n",
    "df['brand'] = df['car_name'].apply(get_brand)"
   ]
  },
  {
   "cell_type": "code",
   "execution_count": 10,
   "id": "491acc40",
   "metadata": {},
   "outputs": [
    {
     "data": {
      "text/html": [
       "<div>\n",
       "<style scoped>\n",
       "    .dataframe tbody tr th:only-of-type {\n",
       "        vertical-align: middle;\n",
       "    }\n",
       "\n",
       "    .dataframe tbody tr th {\n",
       "        vertical-align: top;\n",
       "    }\n",
       "\n",
       "    .dataframe thead th {\n",
       "        text-align: right;\n",
       "    }\n",
       "</style>\n",
       "<table border=\"1\" class=\"dataframe\">\n",
       "  <thead>\n",
       "    <tr style=\"text-align: right;\">\n",
       "      <th></th>\n",
       "      <th>car_name</th>\n",
       "      <th>car_prices_in_rupee</th>\n",
       "      <th>kms_driven</th>\n",
       "      <th>fuel_type</th>\n",
       "      <th>transmission</th>\n",
       "      <th>ownership</th>\n",
       "      <th>manufacture</th>\n",
       "      <th>engine</th>\n",
       "      <th>Seats</th>\n",
       "      <th>model</th>\n",
       "      <th>brand</th>\n",
       "    </tr>\n",
       "  </thead>\n",
       "  <tbody>\n",
       "    <tr>\n",
       "      <th>0</th>\n",
       "      <td>Jeep Compass 2.0 Longitude Option BSIV</td>\n",
       "      <td>10.03 Lakh</td>\n",
       "      <td>86,226 kms</td>\n",
       "      <td>Diesel</td>\n",
       "      <td>Manual</td>\n",
       "      <td>1st Owner</td>\n",
       "      <td>2017</td>\n",
       "      <td>1956 cc</td>\n",
       "      <td>5 Seats</td>\n",
       "      <td>Compass</td>\n",
       "      <td>Jeep</td>\n",
       "    </tr>\n",
       "  </tbody>\n",
       "</table>\n",
       "</div>"
      ],
      "text/plain": [
       "                                 car_name car_prices_in_rupee  kms_driven  \\\n",
       "0  Jeep Compass 2.0 Longitude Option BSIV          10.03 Lakh  86,226 kms   \n",
       "\n",
       "  fuel_type transmission  ownership  manufacture   engine    Seats    model  \\\n",
       "0    Diesel       Manual  1st Owner         2017  1956 cc  5 Seats  Compass   \n",
       "\n",
       "  brand  \n",
       "0  Jeep  "
      ]
     },
     "execution_count": 10,
     "metadata": {},
     "output_type": "execute_result"
    }
   ],
   "source": [
    "df.head(1)"
   ]
  },
  {
   "cell_type": "markdown",
   "id": "0f8f4ec3",
   "metadata": {},
   "source": [
    "#### Make Car_prices in rupee in proper format"
   ]
  },
  {
   "cell_type": "code",
   "execution_count": 11,
   "id": "c92faf28",
   "metadata": {},
   "outputs": [
    {
     "name": "stdout",
     "output_type": "stream",
     "text": [
      "<class 'pandas.core.series.Series'>\n",
      "RangeIndex: 5512 entries, 0 to 5511\n",
      "Series name: car_prices_in_rupee\n",
      "Non-Null Count  Dtype \n",
      "--------------  ----- \n",
      "5512 non-null   object\n",
      "dtypes: object(1)\n",
      "memory usage: 43.2+ KB\n"
     ]
    }
   ],
   "source": [
    "df['car_prices_in_rupee'].info()"
   ]
  },
  {
   "cell_type": "code",
   "execution_count": 12,
   "id": "a6259fc6",
   "metadata": {},
   "outputs": [],
   "source": [
    "def new_price_converted(s):\n",
    "    \n",
    "    if type(s) == str:\n",
    "        s = s.lower()\n",
    "        \n",
    "        if 'lakh' in s:\n",
    "            \n",
    "            s = s.strip('lakh')\n",
    "            s = float(s)*100000\n",
    "            \n",
    "            \n",
    "        elif 'crore' in s:\n",
    "            s = s.strip('crore')\n",
    "            s = float(s) * 1000000\n",
    "            \n",
    "            \n",
    "        else:\n",
    "            \n",
    "            s = ''.join(s.split(','))\n",
    "            \n",
    "            s = float(s)\n",
    "            \n",
    "        return s"
   ]
  },
  {
   "cell_type": "code",
   "execution_count": 13,
   "id": "876826fd",
   "metadata": {},
   "outputs": [],
   "source": [
    "df['car_price_converted'] = df['car_prices_in_rupee'].apply(new_price_converted)"
   ]
  },
  {
   "cell_type": "code",
   "execution_count": 14,
   "id": "19972f24",
   "metadata": {},
   "outputs": [
    {
     "data": {
      "text/plain": [
       "0"
      ]
     },
     "execution_count": 14,
     "metadata": {},
     "output_type": "execute_result"
    }
   ],
   "source": [
    "df['car_price_converted'].isnull().sum()"
   ]
  },
  {
   "cell_type": "code",
   "execution_count": 15,
   "id": "264980b8",
   "metadata": {},
   "outputs": [
    {
     "data": {
      "text/html": [
       "<div>\n",
       "<style scoped>\n",
       "    .dataframe tbody tr th:only-of-type {\n",
       "        vertical-align: middle;\n",
       "    }\n",
       "\n",
       "    .dataframe tbody tr th {\n",
       "        vertical-align: top;\n",
       "    }\n",
       "\n",
       "    .dataframe thead th {\n",
       "        text-align: right;\n",
       "    }\n",
       "</style>\n",
       "<table border=\"1\" class=\"dataframe\">\n",
       "  <thead>\n",
       "    <tr style=\"text-align: right;\">\n",
       "      <th></th>\n",
       "      <th>car_name</th>\n",
       "      <th>car_prices_in_rupee</th>\n",
       "      <th>kms_driven</th>\n",
       "      <th>fuel_type</th>\n",
       "      <th>transmission</th>\n",
       "      <th>ownership</th>\n",
       "      <th>manufacture</th>\n",
       "      <th>engine</th>\n",
       "      <th>Seats</th>\n",
       "      <th>model</th>\n",
       "      <th>brand</th>\n",
       "      <th>car_price_converted</th>\n",
       "    </tr>\n",
       "  </thead>\n",
       "  <tbody>\n",
       "    <tr>\n",
       "      <th>0</th>\n",
       "      <td>Jeep Compass 2.0 Longitude Option BSIV</td>\n",
       "      <td>10.03 Lakh</td>\n",
       "      <td>86,226 kms</td>\n",
       "      <td>Diesel</td>\n",
       "      <td>Manual</td>\n",
       "      <td>1st Owner</td>\n",
       "      <td>2017</td>\n",
       "      <td>1956 cc</td>\n",
       "      <td>5 Seats</td>\n",
       "      <td>Compass</td>\n",
       "      <td>Jeep</td>\n",
       "      <td>1003000.0</td>\n",
       "    </tr>\n",
       "    <tr>\n",
       "      <th>1</th>\n",
       "      <td>Renault Duster RXZ Turbo CVT</td>\n",
       "      <td>12.83 Lakh</td>\n",
       "      <td>13,248 kms</td>\n",
       "      <td>Petrol</td>\n",
       "      <td>Automatic</td>\n",
       "      <td>1st Owner</td>\n",
       "      <td>2021</td>\n",
       "      <td>1330 cc</td>\n",
       "      <td>5 Seats</td>\n",
       "      <td>Duster</td>\n",
       "      <td>Renault</td>\n",
       "      <td>1283000.0</td>\n",
       "    </tr>\n",
       "  </tbody>\n",
       "</table>\n",
       "</div>"
      ],
      "text/plain": [
       "                                 car_name car_prices_in_rupee  kms_driven  \\\n",
       "0  Jeep Compass 2.0 Longitude Option BSIV          10.03 Lakh  86,226 kms   \n",
       "1            Renault Duster RXZ Turbo CVT          12.83 Lakh  13,248 kms   \n",
       "\n",
       "  fuel_type transmission  ownership  manufacture   engine    Seats    model  \\\n",
       "0    Diesel       Manual  1st Owner         2017  1956 cc  5 Seats  Compass   \n",
       "1    Petrol    Automatic  1st Owner         2021  1330 cc  5 Seats   Duster   \n",
       "\n",
       "     brand  car_price_converted  \n",
       "0     Jeep            1003000.0  \n",
       "1  Renault            1283000.0  "
      ]
     },
     "execution_count": 15,
     "metadata": {},
     "output_type": "execute_result"
    }
   ],
   "source": [
    "df.head(2)"
   ]
  },
  {
   "cell_type": "code",
   "execution_count": 16,
   "id": "100535d9",
   "metadata": {},
   "outputs": [],
   "source": [
    "#df.to_csv('C:\\\\Users\\\\Lenovo\\Desktop\\\\t.csv')"
   ]
  },
  {
   "cell_type": "markdown",
   "id": "a878eb5d",
   "metadata": {},
   "source": [
    "#### Kms_driven in proper format"
   ]
  },
  {
   "cell_type": "code",
   "execution_count": 17,
   "id": "c8eb0311",
   "metadata": {},
   "outputs": [
    {
     "name": "stdout",
     "output_type": "stream",
     "text": [
      "<class 'pandas.core.series.Series'>\n",
      "RangeIndex: 5512 entries, 0 to 5511\n",
      "Series name: kms_driven\n",
      "Non-Null Count  Dtype \n",
      "--------------  ----- \n",
      "5512 non-null   object\n",
      "dtypes: object(1)\n",
      "memory usage: 43.2+ KB\n"
     ]
    }
   ],
   "source": [
    "df['kms_driven'].info()"
   ]
  },
  {
   "cell_type": "code",
   "execution_count": 18,
   "id": "3410957b",
   "metadata": {},
   "outputs": [
    {
     "data": {
      "text/plain": [
       "0"
      ]
     },
     "execution_count": 18,
     "metadata": {},
     "output_type": "execute_result"
    }
   ],
   "source": [
    "df['kms_driven'].isnull().sum()"
   ]
  },
  {
   "cell_type": "code",
   "execution_count": 19,
   "id": "2b3a6b13",
   "metadata": {},
   "outputs": [],
   "source": [
    "df['kms_driven_converted'] = df['kms_driven'].str.replace('[^\\d.]' ,'', regex = True)"
   ]
  },
  {
   "cell_type": "code",
   "execution_count": 20,
   "id": "259b0b80",
   "metadata": {},
   "outputs": [],
   "source": [
    "df['kms_driven_converted']  = pd.to_numeric(df['kms_driven_converted'])"
   ]
  },
  {
   "cell_type": "code",
   "execution_count": 21,
   "id": "dda59e1c",
   "metadata": {},
   "outputs": [
    {
     "name": "stdout",
     "output_type": "stream",
     "text": [
      "<class 'pandas.core.series.Series'>\n",
      "RangeIndex: 5512 entries, 0 to 5511\n",
      "Series name: kms_driven_converted\n",
      "Non-Null Count  Dtype\n",
      "--------------  -----\n",
      "5512 non-null   int64\n",
      "dtypes: int64(1)\n",
      "memory usage: 43.2 KB\n"
     ]
    }
   ],
   "source": [
    "df['kms_driven_converted'].info()"
   ]
  },
  {
   "cell_type": "code",
   "execution_count": 22,
   "id": "df5240ca",
   "metadata": {},
   "outputs": [
    {
     "data": {
      "text/html": [
       "<div>\n",
       "<style scoped>\n",
       "    .dataframe tbody tr th:only-of-type {\n",
       "        vertical-align: middle;\n",
       "    }\n",
       "\n",
       "    .dataframe tbody tr th {\n",
       "        vertical-align: top;\n",
       "    }\n",
       "\n",
       "    .dataframe thead th {\n",
       "        text-align: right;\n",
       "    }\n",
       "</style>\n",
       "<table border=\"1\" class=\"dataframe\">\n",
       "  <thead>\n",
       "    <tr style=\"text-align: right;\">\n",
       "      <th></th>\n",
       "      <th>car_name</th>\n",
       "      <th>car_prices_in_rupee</th>\n",
       "      <th>kms_driven</th>\n",
       "      <th>fuel_type</th>\n",
       "      <th>transmission</th>\n",
       "      <th>ownership</th>\n",
       "      <th>manufacture</th>\n",
       "      <th>engine</th>\n",
       "      <th>Seats</th>\n",
       "      <th>model</th>\n",
       "      <th>brand</th>\n",
       "      <th>car_price_converted</th>\n",
       "      <th>kms_driven_converted</th>\n",
       "    </tr>\n",
       "  </thead>\n",
       "  <tbody>\n",
       "    <tr>\n",
       "      <th>0</th>\n",
       "      <td>Jeep Compass 2.0 Longitude Option BSIV</td>\n",
       "      <td>10.03 Lakh</td>\n",
       "      <td>86,226 kms</td>\n",
       "      <td>Diesel</td>\n",
       "      <td>Manual</td>\n",
       "      <td>1st Owner</td>\n",
       "      <td>2017</td>\n",
       "      <td>1956 cc</td>\n",
       "      <td>5 Seats</td>\n",
       "      <td>Compass</td>\n",
       "      <td>Jeep</td>\n",
       "      <td>1003000.0</td>\n",
       "      <td>86226</td>\n",
       "    </tr>\n",
       "    <tr>\n",
       "      <th>1</th>\n",
       "      <td>Renault Duster RXZ Turbo CVT</td>\n",
       "      <td>12.83 Lakh</td>\n",
       "      <td>13,248 kms</td>\n",
       "      <td>Petrol</td>\n",
       "      <td>Automatic</td>\n",
       "      <td>1st Owner</td>\n",
       "      <td>2021</td>\n",
       "      <td>1330 cc</td>\n",
       "      <td>5 Seats</td>\n",
       "      <td>Duster</td>\n",
       "      <td>Renault</td>\n",
       "      <td>1283000.0</td>\n",
       "      <td>13248</td>\n",
       "    </tr>\n",
       "  </tbody>\n",
       "</table>\n",
       "</div>"
      ],
      "text/plain": [
       "                                 car_name car_prices_in_rupee  kms_driven  \\\n",
       "0  Jeep Compass 2.0 Longitude Option BSIV          10.03 Lakh  86,226 kms   \n",
       "1            Renault Duster RXZ Turbo CVT          12.83 Lakh  13,248 kms   \n",
       "\n",
       "  fuel_type transmission  ownership  manufacture   engine    Seats    model  \\\n",
       "0    Diesel       Manual  1st Owner         2017  1956 cc  5 Seats  Compass   \n",
       "1    Petrol    Automatic  1st Owner         2021  1330 cc  5 Seats   Duster   \n",
       "\n",
       "     brand  car_price_converted  kms_driven_converted  \n",
       "0     Jeep            1003000.0                 86226  \n",
       "1  Renault            1283000.0                 13248  "
      ]
     },
     "execution_count": 22,
     "metadata": {},
     "output_type": "execute_result"
    }
   ],
   "source": [
    "df.head(2)"
   ]
  },
  {
   "cell_type": "markdown",
   "id": "af911f62",
   "metadata": {},
   "source": [
    "#### Engine in proper format"
   ]
  },
  {
   "cell_type": "code",
   "execution_count": 23,
   "id": "ea2839d6",
   "metadata": {},
   "outputs": [
    {
     "name": "stdout",
     "output_type": "stream",
     "text": [
      "<class 'pandas.core.series.Series'>\n",
      "RangeIndex: 5512 entries, 0 to 5511\n",
      "Series name: engine\n",
      "Non-Null Count  Dtype \n",
      "--------------  ----- \n",
      "5512 non-null   object\n",
      "dtypes: object(1)\n",
      "memory usage: 43.2+ KB\n"
     ]
    }
   ],
   "source": [
    "df['engine'].info()"
   ]
  },
  {
   "cell_type": "code",
   "execution_count": 24,
   "id": "e0d3ade1",
   "metadata": {},
   "outputs": [],
   "source": [
    "df['engine_converted'] = df['engine'].str.strip('cc').astype('float')"
   ]
  },
  {
   "cell_type": "markdown",
   "id": "a160ee42",
   "metadata": {},
   "source": [
    "#### Make Seats into proper format"
   ]
  },
  {
   "cell_type": "code",
   "execution_count": 25,
   "id": "b640d42f",
   "metadata": {},
   "outputs": [],
   "source": [
    "df['seats_converted'] = df['Seats'].str.strip('Seats').astype('float')"
   ]
  },
  {
   "cell_type": "code",
   "execution_count": 26,
   "id": "040d7ee6",
   "metadata": {},
   "outputs": [
    {
     "data": {
      "text/html": [
       "<div>\n",
       "<style scoped>\n",
       "    .dataframe tbody tr th:only-of-type {\n",
       "        vertical-align: middle;\n",
       "    }\n",
       "\n",
       "    .dataframe tbody tr th {\n",
       "        vertical-align: top;\n",
       "    }\n",
       "\n",
       "    .dataframe thead th {\n",
       "        text-align: right;\n",
       "    }\n",
       "</style>\n",
       "<table border=\"1\" class=\"dataframe\">\n",
       "  <thead>\n",
       "    <tr style=\"text-align: right;\">\n",
       "      <th></th>\n",
       "      <th>car_name</th>\n",
       "      <th>car_prices_in_rupee</th>\n",
       "      <th>kms_driven</th>\n",
       "      <th>fuel_type</th>\n",
       "      <th>transmission</th>\n",
       "      <th>ownership</th>\n",
       "      <th>manufacture</th>\n",
       "      <th>engine</th>\n",
       "      <th>Seats</th>\n",
       "      <th>model</th>\n",
       "      <th>brand</th>\n",
       "      <th>car_price_converted</th>\n",
       "      <th>kms_driven_converted</th>\n",
       "      <th>engine_converted</th>\n",
       "      <th>seats_converted</th>\n",
       "    </tr>\n",
       "  </thead>\n",
       "  <tbody>\n",
       "    <tr>\n",
       "      <th>0</th>\n",
       "      <td>Jeep Compass 2.0 Longitude Option BSIV</td>\n",
       "      <td>10.03 Lakh</td>\n",
       "      <td>86,226 kms</td>\n",
       "      <td>Diesel</td>\n",
       "      <td>Manual</td>\n",
       "      <td>1st Owner</td>\n",
       "      <td>2017</td>\n",
       "      <td>1956 cc</td>\n",
       "      <td>5 Seats</td>\n",
       "      <td>Compass</td>\n",
       "      <td>Jeep</td>\n",
       "      <td>1003000.0</td>\n",
       "      <td>86226</td>\n",
       "      <td>1956.0</td>\n",
       "      <td>5.0</td>\n",
       "    </tr>\n",
       "  </tbody>\n",
       "</table>\n",
       "</div>"
      ],
      "text/plain": [
       "                                 car_name car_prices_in_rupee  kms_driven  \\\n",
       "0  Jeep Compass 2.0 Longitude Option BSIV          10.03 Lakh  86,226 kms   \n",
       "\n",
       "  fuel_type transmission  ownership  manufacture   engine    Seats    model  \\\n",
       "0    Diesel       Manual  1st Owner         2017  1956 cc  5 Seats  Compass   \n",
       "\n",
       "  brand  car_price_converted  kms_driven_converted  engine_converted  \\\n",
       "0  Jeep            1003000.0                 86226            1956.0   \n",
       "\n",
       "   seats_converted  \n",
       "0              5.0  "
      ]
     },
     "execution_count": 26,
     "metadata": {},
     "output_type": "execute_result"
    }
   ],
   "source": [
    "df.head(1)"
   ]
  },
  {
   "cell_type": "code",
   "execution_count": 27,
   "id": "169d08cf",
   "metadata": {},
   "outputs": [
    {
     "name": "stdout",
     "output_type": "stream",
     "text": [
      "<class 'pandas.core.frame.DataFrame'>\n",
      "RangeIndex: 5512 entries, 0 to 5511\n",
      "Data columns (total 15 columns):\n",
      " #   Column                Non-Null Count  Dtype  \n",
      "---  ------                --------------  -----  \n",
      " 0   car_name              5512 non-null   object \n",
      " 1   car_prices_in_rupee   5512 non-null   object \n",
      " 2   kms_driven            5512 non-null   object \n",
      " 3   fuel_type             5512 non-null   object \n",
      " 4   transmission          5512 non-null   object \n",
      " 5   ownership             5512 non-null   object \n",
      " 6   manufacture           5512 non-null   int64  \n",
      " 7   engine                5512 non-null   object \n",
      " 8   Seats                 5512 non-null   object \n",
      " 9   model                 5512 non-null   object \n",
      " 10  brand                 5512 non-null   object \n",
      " 11  car_price_converted   5512 non-null   float64\n",
      " 12  kms_driven_converted  5512 non-null   int64  \n",
      " 13  engine_converted      5512 non-null   float64\n",
      " 14  seats_converted       5512 non-null   float64\n",
      "dtypes: float64(3), int64(2), object(10)\n",
      "memory usage: 646.1+ KB\n"
     ]
    }
   ],
   "source": [
    "df.info()"
   ]
  },
  {
   "cell_type": "markdown",
   "id": "7e912323",
   "metadata": {},
   "source": [
    "## Data Preprocessing"
   ]
  },
  {
   "cell_type": "markdown",
   "id": "6018ce4d",
   "metadata": {},
   "source": [
    "#### 1. Handling missing values"
   ]
  },
  {
   "cell_type": "code",
   "execution_count": 28,
   "id": "c9392196",
   "metadata": {},
   "outputs": [
    {
     "data": {
      "text/plain": [
       "car_name                0\n",
       "car_prices_in_rupee     0\n",
       "kms_driven              0\n",
       "fuel_type               0\n",
       "transmission            0\n",
       "ownership               0\n",
       "manufacture             0\n",
       "engine                  0\n",
       "Seats                   0\n",
       "model                   0\n",
       "brand                   0\n",
       "car_price_converted     0\n",
       "kms_driven_converted    0\n",
       "engine_converted        0\n",
       "seats_converted         0\n",
       "dtype: int64"
      ]
     },
     "execution_count": 28,
     "metadata": {},
     "output_type": "execute_result"
    }
   ],
   "source": [
    "df.isnull().sum()"
   ]
  },
  {
   "cell_type": "code",
   "execution_count": 29,
   "id": "c7999199",
   "metadata": {},
   "outputs": [
    {
     "data": {
      "text/html": [
       "<div>\n",
       "<style scoped>\n",
       "    .dataframe tbody tr th:only-of-type {\n",
       "        vertical-align: middle;\n",
       "    }\n",
       "\n",
       "    .dataframe tbody tr th {\n",
       "        vertical-align: top;\n",
       "    }\n",
       "\n",
       "    .dataframe thead th {\n",
       "        text-align: right;\n",
       "    }\n",
       "</style>\n",
       "<table border=\"1\" class=\"dataframe\">\n",
       "  <thead>\n",
       "    <tr style=\"text-align: right;\">\n",
       "      <th></th>\n",
       "      <th>car_name</th>\n",
       "      <th>car_prices_in_rupee</th>\n",
       "      <th>kms_driven</th>\n",
       "      <th>fuel_type</th>\n",
       "      <th>transmission</th>\n",
       "      <th>ownership</th>\n",
       "      <th>engine</th>\n",
       "      <th>Seats</th>\n",
       "      <th>model</th>\n",
       "      <th>brand</th>\n",
       "    </tr>\n",
       "  </thead>\n",
       "  <tbody>\n",
       "    <tr>\n",
       "      <th>count</th>\n",
       "      <td>5512</td>\n",
       "      <td>5512</td>\n",
       "      <td>5512</td>\n",
       "      <td>5512</td>\n",
       "      <td>5512</td>\n",
       "      <td>5512</td>\n",
       "      <td>5512</td>\n",
       "      <td>5512</td>\n",
       "      <td>5512</td>\n",
       "      <td>5512</td>\n",
       "    </tr>\n",
       "    <tr>\n",
       "      <th>unique</th>\n",
       "      <td>1896</td>\n",
       "      <td>1300</td>\n",
       "      <td>2610</td>\n",
       "      <td>5</td>\n",
       "      <td>2</td>\n",
       "      <td>6</td>\n",
       "      <td>139</td>\n",
       "      <td>6</td>\n",
       "      <td>230</td>\n",
       "      <td>32</td>\n",
       "    </tr>\n",
       "    <tr>\n",
       "      <th>top</th>\n",
       "      <td>Maruti Alto 800 LXI</td>\n",
       "      <td>4.50 Lakh</td>\n",
       "      <td>80,000 kms</td>\n",
       "      <td>Petrol</td>\n",
       "      <td>Manual</td>\n",
       "      <td>1st Owner</td>\n",
       "      <td>1197 cc</td>\n",
       "      <td>5 Seats</td>\n",
       "      <td>Swift</td>\n",
       "      <td>Maruti</td>\n",
       "    </tr>\n",
       "    <tr>\n",
       "      <th>freq</th>\n",
       "      <td>53</td>\n",
       "      <td>62</td>\n",
       "      <td>163</td>\n",
       "      <td>2967</td>\n",
       "      <td>3962</td>\n",
       "      <td>3736</td>\n",
       "      <td>714</td>\n",
       "      <td>4673</td>\n",
       "      <td>388</td>\n",
       "      <td>1389</td>\n",
       "    </tr>\n",
       "  </tbody>\n",
       "</table>\n",
       "</div>"
      ],
      "text/plain": [
       "                   car_name car_prices_in_rupee  kms_driven fuel_type  \\\n",
       "count                  5512                5512        5512      5512   \n",
       "unique                 1896                1300        2610         5   \n",
       "top     Maruti Alto 800 LXI           4.50 Lakh  80,000 kms    Petrol   \n",
       "freq                     53                  62         163      2967   \n",
       "\n",
       "       transmission  ownership   engine    Seats  model   brand  \n",
       "count          5512       5512     5512     5512   5512    5512  \n",
       "unique            2          6      139        6    230      32  \n",
       "top          Manual  1st Owner  1197 cc  5 Seats  Swift  Maruti  \n",
       "freq           3962       3736      714     4673    388    1389  "
      ]
     },
     "execution_count": 29,
     "metadata": {},
     "output_type": "execute_result"
    }
   ],
   "source": [
    "df.describe(include = 'object')"
   ]
  },
  {
   "cell_type": "code",
   "execution_count": 30,
   "id": "8a7855ac",
   "metadata": {},
   "outputs": [
    {
     "data": {
      "text/html": [
       "<div>\n",
       "<style scoped>\n",
       "    .dataframe tbody tr th:only-of-type {\n",
       "        vertical-align: middle;\n",
       "    }\n",
       "\n",
       "    .dataframe tbody tr th {\n",
       "        vertical-align: top;\n",
       "    }\n",
       "\n",
       "    .dataframe thead th {\n",
       "        text-align: right;\n",
       "    }\n",
       "</style>\n",
       "<table border=\"1\" class=\"dataframe\">\n",
       "  <thead>\n",
       "    <tr style=\"text-align: right;\">\n",
       "      <th></th>\n",
       "      <th>car_name</th>\n",
       "      <th>car_prices_in_rupee</th>\n",
       "      <th>kms_driven</th>\n",
       "      <th>fuel_type</th>\n",
       "      <th>transmission</th>\n",
       "      <th>ownership</th>\n",
       "      <th>manufacture</th>\n",
       "      <th>engine</th>\n",
       "      <th>Seats</th>\n",
       "      <th>model</th>\n",
       "      <th>brand</th>\n",
       "      <th>car_price_converted</th>\n",
       "      <th>kms_driven_converted</th>\n",
       "      <th>engine_converted</th>\n",
       "      <th>seats_converted</th>\n",
       "    </tr>\n",
       "  </thead>\n",
       "  <tbody>\n",
       "    <tr>\n",
       "      <th>0</th>\n",
       "      <td>Jeep Compass 2.0 Longitude Option BSIV</td>\n",
       "      <td>10.03 Lakh</td>\n",
       "      <td>86,226 kms</td>\n",
       "      <td>Diesel</td>\n",
       "      <td>Manual</td>\n",
       "      <td>1st Owner</td>\n",
       "      <td>2017</td>\n",
       "      <td>1956 cc</td>\n",
       "      <td>5 Seats</td>\n",
       "      <td>Compass</td>\n",
       "      <td>Jeep</td>\n",
       "      <td>1003000.0</td>\n",
       "      <td>86226</td>\n",
       "      <td>1956.0</td>\n",
       "      <td>5.0</td>\n",
       "    </tr>\n",
       "    <tr>\n",
       "      <th>1</th>\n",
       "      <td>Renault Duster RXZ Turbo CVT</td>\n",
       "      <td>12.83 Lakh</td>\n",
       "      <td>13,248 kms</td>\n",
       "      <td>Petrol</td>\n",
       "      <td>Automatic</td>\n",
       "      <td>1st Owner</td>\n",
       "      <td>2021</td>\n",
       "      <td>1330 cc</td>\n",
       "      <td>5 Seats</td>\n",
       "      <td>Duster</td>\n",
       "      <td>Renault</td>\n",
       "      <td>1283000.0</td>\n",
       "      <td>13248</td>\n",
       "      <td>1330.0</td>\n",
       "      <td>5.0</td>\n",
       "    </tr>\n",
       "  </tbody>\n",
       "</table>\n",
       "</div>"
      ],
      "text/plain": [
       "                                 car_name car_prices_in_rupee  kms_driven  \\\n",
       "0  Jeep Compass 2.0 Longitude Option BSIV          10.03 Lakh  86,226 kms   \n",
       "1            Renault Duster RXZ Turbo CVT          12.83 Lakh  13,248 kms   \n",
       "\n",
       "  fuel_type transmission  ownership  manufacture   engine    Seats    model  \\\n",
       "0    Diesel       Manual  1st Owner         2017  1956 cc  5 Seats  Compass   \n",
       "1    Petrol    Automatic  1st Owner         2021  1330 cc  5 Seats   Duster   \n",
       "\n",
       "     brand  car_price_converted  kms_driven_converted  engine_converted  \\\n",
       "0     Jeep            1003000.0                 86226            1956.0   \n",
       "1  Renault            1283000.0                 13248            1330.0   \n",
       "\n",
       "   seats_converted  \n",
       "0              5.0  \n",
       "1              5.0  "
      ]
     },
     "execution_count": 30,
     "metadata": {},
     "output_type": "execute_result"
    }
   ],
   "source": [
    "df.head(2)"
   ]
  },
  {
   "cell_type": "markdown",
   "id": "bf97094d",
   "metadata": {},
   "source": [
    "### 2.Handling characters"
   ]
  },
  {
   "cell_type": "markdown",
   "id": "148a9f6e",
   "metadata": {},
   "source": [
    "##### LabelEncoding"
   ]
  },
  {
   "cell_type": "code",
   "execution_count": 31,
   "id": "d98a30e9",
   "metadata": {},
   "outputs": [],
   "source": [
    "from sklearn.preprocessing import LabelEncoder"
   ]
  },
  {
   "cell_type": "code",
   "execution_count": 32,
   "id": "f181b68e",
   "metadata": {},
   "outputs": [],
   "source": [
    "label = LabelEncoder()"
   ]
  },
  {
   "cell_type": "code",
   "execution_count": 33,
   "id": "2317396c",
   "metadata": {},
   "outputs": [],
   "source": [
    "df['fuel_type']  = label.fit_transform(df['fuel_type'])"
   ]
  },
  {
   "cell_type": "code",
   "execution_count": 34,
   "id": "7e01f038",
   "metadata": {},
   "outputs": [],
   "source": [
    "df['transmission'] =label.fit_transform(df['transmission'])"
   ]
  },
  {
   "cell_type": "code",
   "execution_count": 35,
   "id": "ac9ddc09",
   "metadata": {},
   "outputs": [],
   "source": [
    "df['brand'] = label.fit_transform(df['brand'])"
   ]
  },
  {
   "cell_type": "code",
   "execution_count": 36,
   "id": "6278bf06",
   "metadata": {},
   "outputs": [],
   "source": [
    "df['model'] = label.fit_transform(df['model'])"
   ]
  },
  {
   "cell_type": "code",
   "execution_count": 37,
   "id": "ffb65209",
   "metadata": {},
   "outputs": [],
   "source": [
    "df['ownership'] = label.fit_transform(df['ownership'])"
   ]
  },
  {
   "cell_type": "code",
   "execution_count": 38,
   "id": "39bb61b2",
   "metadata": {},
   "outputs": [
    {
     "data": {
      "text/html": [
       "<div>\n",
       "<style scoped>\n",
       "    .dataframe tbody tr th:only-of-type {\n",
       "        vertical-align: middle;\n",
       "    }\n",
       "\n",
       "    .dataframe tbody tr th {\n",
       "        vertical-align: top;\n",
       "    }\n",
       "\n",
       "    .dataframe thead th {\n",
       "        text-align: right;\n",
       "    }\n",
       "</style>\n",
       "<table border=\"1\" class=\"dataframe\">\n",
       "  <thead>\n",
       "    <tr style=\"text-align: right;\">\n",
       "      <th></th>\n",
       "      <th>car_name</th>\n",
       "      <th>car_prices_in_rupee</th>\n",
       "      <th>kms_driven</th>\n",
       "      <th>fuel_type</th>\n",
       "      <th>transmission</th>\n",
       "      <th>ownership</th>\n",
       "      <th>manufacture</th>\n",
       "      <th>engine</th>\n",
       "      <th>Seats</th>\n",
       "      <th>model</th>\n",
       "      <th>brand</th>\n",
       "      <th>car_price_converted</th>\n",
       "      <th>kms_driven_converted</th>\n",
       "      <th>engine_converted</th>\n",
       "      <th>seats_converted</th>\n",
       "    </tr>\n",
       "  </thead>\n",
       "  <tbody>\n",
       "    <tr>\n",
       "      <th>0</th>\n",
       "      <td>Jeep Compass 2.0 Longitude Option BSIV</td>\n",
       "      <td>10.03 Lakh</td>\n",
       "      <td>86,226 kms</td>\n",
       "      <td>1</td>\n",
       "      <td>1</td>\n",
       "      <td>1</td>\n",
       "      <td>2017</td>\n",
       "      <td>1956 cc</td>\n",
       "      <td>5 Seats</td>\n",
       "      <td>47</td>\n",
       "      <td>12</td>\n",
       "      <td>1003000.0</td>\n",
       "      <td>86226</td>\n",
       "      <td>1956.0</td>\n",
       "      <td>5.0</td>\n",
       "    </tr>\n",
       "    <tr>\n",
       "      <th>1</th>\n",
       "      <td>Renault Duster RXZ Turbo CVT</td>\n",
       "      <td>12.83 Lakh</td>\n",
       "      <td>13,248 kms</td>\n",
       "      <td>4</td>\n",
       "      <td>0</td>\n",
       "      <td>1</td>\n",
       "      <td>2021</td>\n",
       "      <td>1330 cc</td>\n",
       "      <td>5 Seats</td>\n",
       "      <td>54</td>\n",
       "      <td>26</td>\n",
       "      <td>1283000.0</td>\n",
       "      <td>13248</td>\n",
       "      <td>1330.0</td>\n",
       "      <td>5.0</td>\n",
       "    </tr>\n",
       "  </tbody>\n",
       "</table>\n",
       "</div>"
      ],
      "text/plain": [
       "                                 car_name car_prices_in_rupee  kms_driven  \\\n",
       "0  Jeep Compass 2.0 Longitude Option BSIV          10.03 Lakh  86,226 kms   \n",
       "1            Renault Duster RXZ Turbo CVT          12.83 Lakh  13,248 kms   \n",
       "\n",
       "   fuel_type  transmission  ownership  manufacture   engine    Seats  model  \\\n",
       "0          1             1          1         2017  1956 cc  5 Seats     47   \n",
       "1          4             0          1         2021  1330 cc  5 Seats     54   \n",
       "\n",
       "   brand  car_price_converted  kms_driven_converted  engine_converted  \\\n",
       "0     12            1003000.0                 86226            1956.0   \n",
       "1     26            1283000.0                 13248            1330.0   \n",
       "\n",
       "   seats_converted  \n",
       "0              5.0  \n",
       "1              5.0  "
      ]
     },
     "execution_count": 38,
     "metadata": {},
     "output_type": "execute_result"
    }
   ],
   "source": [
    "df.head(2)"
   ]
  },
  {
   "cell_type": "markdown",
   "id": "31088b0c",
   "metadata": {},
   "source": [
    "### 3. Handling the outliers"
   ]
  },
  {
   "cell_type": "code",
   "execution_count": 39,
   "id": "24ed488f",
   "metadata": {
    "scrolled": false
   },
   "outputs": [
    {
     "data": {
      "image/png": "[encoded data removed]",
      "text/plain": [
       "<Figure size 2000x500 with 1 Axes>"
      ]
     },
     "metadata": {},
     "output_type": "display_data"
    }
   ],
   "source": [
    "plt.figure(figsize = (20,5))\n",
    "df.boxplot()\n",
    "plt.show()"
   ]
  },
  {
   "cell_type": "code",
   "execution_count": 40,
   "id": "5f0ca03e",
   "metadata": {},
   "outputs": [
    {
     "name": "stdout",
     "output_type": "stream",
     "text": [
      "fuel_type\n",
      "transmission\n",
      "ownership\n",
      "manufacture\n",
      "model\n",
      "brand\n",
      "car_price_converted\n",
      "kms_driven_converted\n",
      "engine_converted\n",
      "seats_converted\n"
     ]
    }
   ],
   "source": [
    "for i in list(df.select_dtypes(exclude = 'object').columns)[:]:\n",
    "    print(i)"
   ]
  },
  {
   "cell_type": "markdown",
   "id": "79a6a896",
   "metadata": {},
   "source": [
    "##### IQR Kms_driven"
   ]
  },
  {
   "cell_type": "code",
   "execution_count": 41,
   "id": "31d06037",
   "metadata": {},
   "outputs": [
    {
     "name": "stdout",
     "output_type": "stream",
     "text": [
      "Q1_kms : 33151.75\n",
      "Q2_kms : 59000.0\n",
      "Q3_kms : 84265.25\n",
      "IQR_kms : 51113.5\n",
      "Upper limit kms : 160935.5\n",
      "Lower limit kms : -43518.5\n"
     ]
    }
   ],
   "source": [
    "Q1_kms = df['kms_driven_converted'].quantile(0.25)\n",
    "Q2_kms = df['kms_driven_converted'].quantile(0.50)\n",
    "Q3_kms = df['kms_driven_converted'].quantile(0.75)\n",
    "\n",
    "IQR_kms = Q3_kms - Q1_kms\n",
    "\n",
    "upper_limit_kms = Q3_kms + (1.5 * IQR_kms)\n",
    "lower_limit_kms = Q1_kms - (1.5 * IQR_kms)\n",
    "\n",
    "print('Q1_kms :' , Q1_kms)\n",
    "print('Q2_kms :' , Q2_kms)\n",
    "print('Q3_kms :' , Q3_kms)\n",
    "\n",
    "print('IQR_kms :' , IQR_kms)\n",
    "\n",
    "print('Upper limit kms :' , upper_limit_kms)\n",
    "print('Lower limit kms :' , lower_limit_kms)\n"
   ]
  },
  {
   "cell_type": "markdown",
   "id": "cdcf9e59",
   "metadata": {},
   "source": [
    "#### capping kms_driven"
   ]
  },
  {
   "cell_type": "code",
   "execution_count": 42,
   "id": "34e2c6f7",
   "metadata": {},
   "outputs": [],
   "source": [
    "df['kms_driven_converted'] = np.where(df['kms_driven_converted'] > upper_limit_kms , upper_limit_kms , \n",
    "         np.where(df['kms_driven_converted'] < lower_limit_kms , lower_limit_kms , df['kms_driven_converted']))"
   ]
  },
  {
   "cell_type": "code",
   "execution_count": 43,
   "id": "65100c67",
   "metadata": {
    "scrolled": false
   },
   "outputs": [
    {
     "data": {
      "image/png": "[encoded data removed]",
      "text/plain": [
       "<Figure size 2000x500 with 1 Axes>"
      ]
     },
     "metadata": {},
     "output_type": "display_data"
    }
   ],
   "source": [
    "plt.figure(figsize = (20,5))\n",
    "df.boxplot()\n",
    "plt.show()"
   ]
  },
  {
   "cell_type": "markdown",
   "id": "e9f743cb",
   "metadata": {},
   "source": [
    "### Drop the unwanted features"
   ]
  },
  {
   "cell_type": "code",
   "execution_count": 44,
   "id": "0772426d",
   "metadata": {},
   "outputs": [],
   "source": [
    "df.drop(['car_name' , 'car_prices_in_rupee' ,'kms_driven','engine','Seats' ] , axis = 1 , inplace = True)"
   ]
  },
  {
   "cell_type": "markdown",
   "id": "78265106",
   "metadata": {},
   "source": [
    "#### .4 Feature Scaling"
   ]
  },
  {
   "cell_type": "code",
   "execution_count": 45,
   "id": "366a4300",
   "metadata": {},
   "outputs": [
    {
     "data": {
      "text/html": [
       "<div>\n",
       "<style scoped>\n",
       "    .dataframe tbody tr th:only-of-type {\n",
       "        vertical-align: middle;\n",
       "    }\n",
       "\n",
       "    .dataframe tbody tr th {\n",
       "        vertical-align: top;\n",
       "    }\n",
       "\n",
       "    .dataframe thead th {\n",
       "        text-align: right;\n",
       "    }\n",
       "</style>\n",
       "<table border=\"1\" class=\"dataframe\">\n",
       "  <thead>\n",
       "    <tr style=\"text-align: right;\">\n",
       "      <th></th>\n",
       "      <th>fuel_type</th>\n",
       "      <th>transmission</th>\n",
       "      <th>ownership</th>\n",
       "      <th>manufacture</th>\n",
       "      <th>model</th>\n",
       "      <th>brand</th>\n",
       "      <th>car_price_converted</th>\n",
       "      <th>kms_driven_converted</th>\n",
       "      <th>engine_converted</th>\n",
       "      <th>seats_converted</th>\n",
       "    </tr>\n",
       "  </thead>\n",
       "  <tbody>\n",
       "    <tr>\n",
       "      <th>0</th>\n",
       "      <td>1</td>\n",
       "      <td>1</td>\n",
       "      <td>1</td>\n",
       "      <td>2017</td>\n",
       "      <td>47</td>\n",
       "      <td>12</td>\n",
       "      <td>1003000.0</td>\n",
       "      <td>86226.0</td>\n",
       "      <td>1956.0</td>\n",
       "      <td>5.0</td>\n",
       "    </tr>\n",
       "  </tbody>\n",
       "</table>\n",
       "</div>"
      ],
      "text/plain": [
       "   fuel_type  transmission  ownership  manufacture  model  brand  \\\n",
       "0          1             1          1         2017     47     12   \n",
       "\n",
       "   car_price_converted  kms_driven_converted  engine_converted  \\\n",
       "0            1003000.0               86226.0            1956.0   \n",
       "\n",
       "   seats_converted  \n",
       "0              5.0  "
      ]
     },
     "execution_count": 45,
     "metadata": {},
     "output_type": "execute_result"
    }
   ],
   "source": [
    "df.head(1)"
   ]
  },
  {
   "cell_type": "code",
   "execution_count": 46,
   "id": "9c73e152",
   "metadata": {},
   "outputs": [],
   "source": [
    "x = df.iloc[: , [0,1,2,3,4,5,7,8,9]]\n",
    "y = df.iloc[: , -4]"
   ]
  },
  {
   "cell_type": "code",
   "execution_count": 47,
   "id": "f8b43f2b",
   "metadata": {},
   "outputs": [
    {
     "data": {
      "text/html": [
       "<div>\n",
       "<style scoped>\n",
       "    .dataframe tbody tr th:only-of-type {\n",
       "        vertical-align: middle;\n",
       "    }\n",
       "\n",
       "    .dataframe tbody tr th {\n",
       "        vertical-align: top;\n",
       "    }\n",
       "\n",
       "    .dataframe thead th {\n",
       "        text-align: right;\n",
       "    }\n",
       "</style>\n",
       "<table border=\"1\" class=\"dataframe\">\n",
       "  <thead>\n",
       "    <tr style=\"text-align: right;\">\n",
       "      <th></th>\n",
       "      <th>fuel_type</th>\n",
       "      <th>transmission</th>\n",
       "      <th>ownership</th>\n",
       "      <th>manufacture</th>\n",
       "      <th>model</th>\n",
       "      <th>brand</th>\n",
       "      <th>kms_driven_converted</th>\n",
       "      <th>engine_converted</th>\n",
       "      <th>seats_converted</th>\n",
       "    </tr>\n",
       "  </thead>\n",
       "  <tbody>\n",
       "    <tr>\n",
       "      <th>0</th>\n",
       "      <td>1</td>\n",
       "      <td>1</td>\n",
       "      <td>1</td>\n",
       "      <td>2017</td>\n",
       "      <td>47</td>\n",
       "      <td>12</td>\n",
       "      <td>86226.0</td>\n",
       "      <td>1956.0</td>\n",
       "      <td>5.0</td>\n",
       "    </tr>\n",
       "    <tr>\n",
       "      <th>1</th>\n",
       "      <td>4</td>\n",
       "      <td>0</td>\n",
       "      <td>1</td>\n",
       "      <td>2021</td>\n",
       "      <td>54</td>\n",
       "      <td>26</td>\n",
       "      <td>13248.0</td>\n",
       "      <td>1330.0</td>\n",
       "      <td>5.0</td>\n",
       "    </tr>\n",
       "  </tbody>\n",
       "</table>\n",
       "</div>"
      ],
      "text/plain": [
       "   fuel_type  transmission  ownership  manufacture  model  brand  \\\n",
       "0          1             1          1         2017     47     12   \n",
       "1          4             0          1         2021     54     26   \n",
       "\n",
       "   kms_driven_converted  engine_converted  seats_converted  \n",
       "0               86226.0            1956.0              5.0  \n",
       "1               13248.0            1330.0              5.0  "
      ]
     },
     "execution_count": 47,
     "metadata": {},
     "output_type": "execute_result"
    }
   ],
   "source": [
    "x.head(2)"
   ]
  },
  {
   "cell_type": "code",
   "execution_count": 48,
   "id": "65e59e17",
   "metadata": {},
   "outputs": [
    {
     "data": {
      "text/plain": [
       "0    1003000.0\n",
       "1    1283000.0\n",
       "Name: car_price_converted, dtype: float64"
      ]
     },
     "execution_count": 48,
     "metadata": {},
     "output_type": "execute_result"
    }
   ],
   "source": [
    "y.head(2)"
   ]
  },
  {
   "cell_type": "code",
   "execution_count": 49,
   "id": "827a70fa",
   "metadata": {},
   "outputs": [],
   "source": [
    "from sklearn.preprocessing import StandardScaler"
   ]
  },
  {
   "cell_type": "code",
   "execution_count": 50,
   "id": "6b320a68",
   "metadata": {},
   "outputs": [],
   "source": [
    "scaler = StandardScaler()"
   ]
  },
  {
   "cell_type": "code",
   "execution_count": 51,
   "id": "dfc8f095",
   "metadata": {},
   "outputs": [],
   "source": [
    "scaled_x = scaler.fit_transform(x)"
   ]
  },
  {
   "cell_type": "code",
   "execution_count": 52,
   "id": "f9651afd",
   "metadata": {},
   "outputs": [],
   "source": [
    "scaled_x = pd.DataFrame(scaled_x , columns = x.columns)"
   ]
  },
  {
   "cell_type": "code",
   "execution_count": 53,
   "id": "73a46fa5",
   "metadata": {},
   "outputs": [
    {
     "data": {
      "text/html": [
       "<div>\n",
       "<style scoped>\n",
       "    .dataframe tbody tr th:only-of-type {\n",
       "        vertical-align: middle;\n",
       "    }\n",
       "\n",
       "    .dataframe tbody tr th {\n",
       "        vertical-align: top;\n",
       "    }\n",
       "\n",
       "    .dataframe thead th {\n",
       "        text-align: right;\n",
       "    }\n",
       "</style>\n",
       "<table border=\"1\" class=\"dataframe\">\n",
       "  <thead>\n",
       "    <tr style=\"text-align: right;\">\n",
       "      <th></th>\n",
       "      <th>fuel_type</th>\n",
       "      <th>transmission</th>\n",
       "      <th>ownership</th>\n",
       "      <th>manufacture</th>\n",
       "      <th>model</th>\n",
       "      <th>brand</th>\n",
       "      <th>kms_driven_converted</th>\n",
       "      <th>engine_converted</th>\n",
       "      <th>seats_converted</th>\n",
       "    </tr>\n",
       "  </thead>\n",
       "  <tbody>\n",
       "    <tr>\n",
       "      <th>0</th>\n",
       "      <td>-1.068243</td>\n",
       "      <td>0.625473</td>\n",
       "      <td>-0.599986</td>\n",
       "      <td>0.393228</td>\n",
       "      <td>-0.961147</td>\n",
       "      <td>-0.425853</td>\n",
       "      <td>0.657683</td>\n",
       "      <td>0.731579</td>\n",
       "      <td>-0.348225</td>\n",
       "    </tr>\n",
       "    <tr>\n",
       "      <th>1</th>\n",
       "      <td>0.918538</td>\n",
       "      <td>-1.598790</td>\n",
       "      <td>-0.599986</td>\n",
       "      <td>1.411657</td>\n",
       "      <td>-0.864926</td>\n",
       "      <td>1.296126</td>\n",
       "      <td>-1.327744</td>\n",
       "      <td>-0.349299</td>\n",
       "      <td>-0.348225</td>\n",
       "    </tr>\n",
       "  </tbody>\n",
       "</table>\n",
       "</div>"
      ],
      "text/plain": [
       "   fuel_type  transmission  ownership  manufacture     model     brand  \\\n",
       "0  -1.068243      0.625473  -0.599986     0.393228 -0.961147 -0.425853   \n",
       "1   0.918538     -1.598790  -0.599986     1.411657 -0.864926  1.296126   \n",
       "\n",
       "   kms_driven_converted  engine_converted  seats_converted  \n",
       "0              0.657683          0.731579        -0.348225  \n",
       "1             -1.327744         -0.349299        -0.348225  "
      ]
     },
     "execution_count": 53,
     "metadata": {},
     "output_type": "execute_result"
    }
   ],
   "source": [
    "scaled_x.head(2)"
   ]
  },
  {
   "cell_type": "markdown",
   "id": "ade75586",
   "metadata": {},
   "source": [
    "### Correlation"
   ]
  },
  {
   "cell_type": "code",
   "execution_count": 54,
   "id": "e7ce6c90",
   "metadata": {},
   "outputs": [
    {
     "data": {
      "image/png": "[encoded data removed]",
      "text/plain": [
       "<Figure size 1000x400 with 2 Axes>"
      ]
     },
     "metadata": {},
     "output_type": "display_data"
    }
   ],
   "source": [
    "plt.figure(figsize = (10,4))\n",
    "sns.heatmap(df.corr() , annot = True , cmap = 'rainbow' , cbar = True )\n",
    "plt.show()"
   ]
  },
  {
   "cell_type": "markdown",
   "id": "9c92df98",
   "metadata": {},
   "source": [
    "#### Insights : By visualizing heatmap , we get analysis there is  no multicolliearity"
   ]
  },
  {
   "cell_type": "code",
   "execution_count": 55,
   "id": "30d7028d",
   "metadata": {},
   "outputs": [],
   "source": [
    "variable = scaled_x"
   ]
  },
  {
   "cell_type": "code",
   "execution_count": 56,
   "id": "f5237c00",
   "metadata": {},
   "outputs": [],
   "source": [
    "vif = pd.DataFrame()"
   ]
  },
  {
   "cell_type": "code",
   "execution_count": 57,
   "id": "e93f0fc5",
   "metadata": {},
   "outputs": [],
   "source": [
    "from statsmodels.stats.outliers_influence import variance_inflation_factor"
   ]
  },
  {
   "cell_type": "code",
   "execution_count": 58,
   "id": "60fe60dd",
   "metadata": {},
   "outputs": [],
   "source": [
    "vif['variance inflation factor'] = [variance_inflation_factor(variable , i) for i in range(x.shape[1])]\n",
    "\n",
    "vif['Feature'] = x.columns"
   ]
  },
  {
   "cell_type": "code",
   "execution_count": 59,
   "id": "ad4319b8",
   "metadata": {},
   "outputs": [
    {
     "data": {
      "text/html": [
       "<div>\n",
       "<style scoped>\n",
       "    .dataframe tbody tr th:only-of-type {\n",
       "        vertical-align: middle;\n",
       "    }\n",
       "\n",
       "    .dataframe tbody tr th {\n",
       "        vertical-align: top;\n",
       "    }\n",
       "\n",
       "    .dataframe thead th {\n",
       "        text-align: right;\n",
       "    }\n",
       "</style>\n",
       "<table border=\"1\" class=\"dataframe\">\n",
       "  <thead>\n",
       "    <tr style=\"text-align: right;\">\n",
       "      <th></th>\n",
       "      <th>variance inflation factor</th>\n",
       "      <th>Feature</th>\n",
       "    </tr>\n",
       "  </thead>\n",
       "  <tbody>\n",
       "    <tr>\n",
       "      <th>0</th>\n",
       "      <td>1.204718</td>\n",
       "      <td>fuel_type</td>\n",
       "    </tr>\n",
       "    <tr>\n",
       "      <th>1</th>\n",
       "      <td>1.161787</td>\n",
       "      <td>transmission</td>\n",
       "    </tr>\n",
       "    <tr>\n",
       "      <th>2</th>\n",
       "      <td>1.244657</td>\n",
       "      <td>ownership</td>\n",
       "    </tr>\n",
       "    <tr>\n",
       "      <th>3</th>\n",
       "      <td>1.669424</td>\n",
       "      <td>manufacture</td>\n",
       "    </tr>\n",
       "    <tr>\n",
       "      <th>4</th>\n",
       "      <td>1.022354</td>\n",
       "      <td>model</td>\n",
       "    </tr>\n",
       "    <tr>\n",
       "      <th>5</th>\n",
       "      <td>1.023396</td>\n",
       "      <td>brand</td>\n",
       "    </tr>\n",
       "    <tr>\n",
       "      <th>6</th>\n",
       "      <td>1.662958</td>\n",
       "      <td>kms_driven_converted</td>\n",
       "    </tr>\n",
       "    <tr>\n",
       "      <th>7</th>\n",
       "      <td>1.056832</td>\n",
       "      <td>engine_converted</td>\n",
       "    </tr>\n",
       "    <tr>\n",
       "      <th>8</th>\n",
       "      <td>1.023111</td>\n",
       "      <td>seats_converted</td>\n",
       "    </tr>\n",
       "  </tbody>\n",
       "</table>\n",
       "</div>"
      ],
      "text/plain": [
       "   variance inflation factor               Feature\n",
       "0                   1.204718             fuel_type\n",
       "1                   1.161787          transmission\n",
       "2                   1.244657             ownership\n",
       "3                   1.669424           manufacture\n",
       "4                   1.022354                 model\n",
       "5                   1.023396                 brand\n",
       "6                   1.662958  kms_driven_converted\n",
       "7                   1.056832      engine_converted\n",
       "8                   1.023111       seats_converted"
      ]
     },
     "execution_count": 59,
     "metadata": {},
     "output_type": "execute_result"
    }
   ],
   "source": [
    "vif"
   ]
  },
  {
   "cell_type": "markdown",
   "id": "8af78c05",
   "metadata": {},
   "source": [
    "#### Insights : By visualizing VIF , we get analysis there is  no multicolliearity. all values of variables is less than 5 "
   ]
  },
  {
   "cell_type": "markdown",
   "id": "e683747f",
   "metadata": {},
   "source": [
    "#### Train_test_split"
   ]
  },
  {
   "cell_type": "code",
   "execution_count": 60,
   "id": "1646adff",
   "metadata": {},
   "outputs": [],
   "source": [
    "from sklearn.model_selection import train_test_split"
   ]
  },
  {
   "cell_type": "code",
   "execution_count": 61,
   "id": "0ed16dbc",
   "metadata": {},
   "outputs": [],
   "source": [
    "x_train,x_test , y_train , y_test = train_test_split(x , y , test_size = 0.25 , random_state = 12)"
   ]
  },
  {
   "cell_type": "code",
   "execution_count": 62,
   "id": "48e2bbe6",
   "metadata": {},
   "outputs": [
    {
     "name": "stdout",
     "output_type": "stream",
     "text": [
      "(4134, 9) (1378, 9) (4134,) (1378,)\n"
     ]
    }
   ],
   "source": [
    "print(x_train.shape ,x_test.shape , y_train.shape , y_test.shape)"
   ]
  },
  {
   "cell_type": "markdown",
   "id": "36a776c3",
   "metadata": {},
   "source": [
    "### Model"
   ]
  },
  {
   "cell_type": "code",
   "execution_count": 63,
   "id": "aafe29fe",
   "metadata": {},
   "outputs": [],
   "source": [
    "from sklearn.linear_model import LinearRegression"
   ]
  },
  {
   "cell_type": "code",
   "execution_count": 64,
   "id": "913a10ce",
   "metadata": {},
   "outputs": [],
   "source": [
    "regression = LinearRegression()"
   ]
  },
  {
   "cell_type": "code",
   "execution_count": 65,
   "id": "0d6ba2f5",
   "metadata": {},
   "outputs": [
    {
     "data": {
      "text/html": [
       "<style>#sk-container-id-1 {color: black;}#sk-container-id-1 pre{padding: 0;}#sk-container-id-1 div.sk-toggleable {background-color: white;}#sk-container-id-1 label.sk-toggleable__label {cursor: pointer;display: block;width: 100%;margin-bottom: 0;padding: 0.3em;box-sizing: border-box;text-align: center;}#sk-container-id-1 label.sk-toggleable__label-arrow:before {content: \"▸\";float: left;margin-right: 0.25em;color: #696969;}#sk-container-id-1 label.sk-toggleable__label-arrow:hover:before {color: black;}#sk-container-id-1 div.sk-estimator:hover label.sk-toggleable__label-arrow:before {color: black;}#sk-container-id-1 div.sk-toggleable__content {max-height: 0;max-width: 0;overflow: hidden;text-align: left;background-color: #f0f8ff;}#sk-container-id-1 div.sk-toggleable__content pre {margin: 0.2em;color: black;border-radius: 0.25em;background-color: #f0f8ff;}#sk-container-id-1 input.sk-toggleable__control:checked~div.sk-toggleable__content {max-height: 200px;max-width: 100%;overflow: auto;}#sk-container-id-1 input.sk-toggleable__control:checked~label.sk-toggleable__label-arrow:before {content: \"▾\";}#sk-container-id-1 div.sk-estimator input.sk-toggleable__control:checked~label.sk-toggleable__label {background-color: #d4ebff;}#sk-container-id-1 div.sk-label input.sk-toggleable__control:checked~label.sk-toggleable__label {background-color: #d4ebff;}#sk-container-id-1 input.sk-hidden--visually {border: 0;clip: rect(1px 1px 1px 1px);clip: rect(1px, 1px, 1px, 1px);height: 1px;margin: -1px;overflow: hidden;padding: 0;position: absolute;width: 1px;}#sk-container-id-1 div.sk-estimator {font-family: monospace;background-color: #f0f8ff;border: 1px dotted black;border-radius: 0.25em;box-sizing: border-box;margin-bottom: 0.5em;}#sk-container-id-1 div.sk-estimator:hover {background-color: #d4ebff;}#sk-container-id-1 div.sk-parallel-item::after {content: \"\";width: 100%;border-bottom: 1px solid gray;flex-grow: 1;}#sk-container-id-1 div.sk-label:hover label.sk-toggleable__label {background-color: #d4ebff;}#sk-container-id-1 div.sk-serial::before {content: \"\";position: absolute;border-left: 1px solid gray;box-sizing: border-box;top: 0;bottom: 0;left: 50%;z-index: 0;}#sk-container-id-1 div.sk-serial {display: flex;flex-direction: column;align-items: center;background-color: white;padding-right: 0.2em;padding-left: 0.2em;position: relative;}#sk-container-id-1 div.sk-item {position: relative;z-index: 1;}#sk-container-id-1 div.sk-parallel {display: flex;align-items: stretch;justify-content: center;background-color: white;position: relative;}#sk-container-id-1 div.sk-item::before, #sk-container-id-1 div.sk-parallel-item::before {content: \"\";position: absolute;border-left: 1px solid gray;box-sizing: border-box;top: 0;bottom: 0;left: 50%;z-index: -1;}#sk-container-id-1 div.sk-parallel-item {display: flex;flex-direction: column;z-index: 1;position: relative;background-color: white;}#sk-container-id-1 div.sk-parallel-item:first-child::after {align-self: flex-end;width: 50%;}#sk-container-id-1 div.sk-parallel-item:last-child::after {align-self: flex-start;width: 50%;}#sk-container-id-1 div.sk-parallel-item:only-child::after {width: 0;}#sk-container-id-1 div.sk-dashed-wrapped {border: 1px dashed gray;margin: 0 0.4em 0.5em 0.4em;box-sizing: border-box;padding-bottom: 0.4em;background-color: white;}#sk-container-id-1 div.sk-label label {font-family: monospace;font-weight: bold;display: inline-block;line-height: 1.2em;}#sk-container-id-1 div.sk-label-container {text-align: center;}#sk-container-id-1 div.sk-container {/* jupyter's `normalize.less` sets `[hidden] { display: none; }` but bootstrap.min.css set `[hidden] { display: none !important; }` so we also need the `!important` here to be able to override the default hidden behavior on the sphinx rendered scikit-learn.org. See: https://github.com/scikit-learn/scikit-learn/issues/21755 */display: inline-block !important;position: relative;}#sk-container-id-1 div.sk-text-repr-fallback {display: none;}</style><div id=\"sk-container-id-1\" class=\"sk-top-container\"><div class=\"sk-text-repr-fallback\"><pre>LinearRegression()</pre><b>In a Jupyter environment, please rerun this cell to show the HTML representation or trust the notebook. <br />On GitHub, the HTML representation is unable to render, please try loading this page with nbviewer.org.</b></div><div class=\"sk-container\" hidden><div class=\"sk-item\"><div class=\"sk-estimator sk-toggleable\"><input class=\"sk-toggleable__control sk-hidden--visually\" id=\"sk-estimator-id-1\" type=\"checkbox\" checked><label for=\"sk-estimator-id-1\" class=\"sk-toggleable__label sk-toggleable__label-arrow\">LinearRegression</label><div class=\"sk-toggleable__content\"><pre>LinearRegression()</pre></div></div></div></div></div>"
      ],
      "text/plain": [
       "LinearRegression()"
      ]
     },
     "execution_count": 65,
     "metadata": {},
     "output_type": "execute_result"
    }
   ],
   "source": [
    "regression.fit(x_train , y_train)"
   ]
  },
  {
   "cell_type": "code",
   "execution_count": 66,
   "id": "4d4fa128",
   "metadata": {},
   "outputs": [],
   "source": [
    "y_train_pred= regression.predict(x_train)"
   ]
  },
  {
   "cell_type": "code",
   "execution_count": 67,
   "id": "7e8d7642",
   "metadata": {},
   "outputs": [
    {
     "data": {
      "text/plain": [
       "array([1045674.86947662,   49245.53928059,  627798.86947834, ...,\n",
       "       2595295.19708793,  599032.29867384, 2527364.96591823])"
      ]
     },
     "execution_count": 67,
     "metadata": {},
     "output_type": "execute_result"
    }
   ],
   "source": [
    "y_train_pred"
   ]
  },
  {
   "cell_type": "code",
   "execution_count": 68,
   "id": "a3fff686",
   "metadata": {},
   "outputs": [],
   "source": [
    "from sklearn.metrics import r2_score"
   ]
  },
  {
   "cell_type": "code",
   "execution_count": 69,
   "id": "25bd1659",
   "metadata": {},
   "outputs": [],
   "source": [
    "training_accuracy = r2_score(y_train , y_train_pred)"
   ]
  },
  {
   "cell_type": "code",
   "execution_count": 70,
   "id": "80618b05",
   "metadata": {},
   "outputs": [
    {
     "data": {
      "text/plain": [
       "0.4906361149642988"
      ]
     },
     "execution_count": 70,
     "metadata": {},
     "output_type": "execute_result"
    }
   ],
   "source": [
    "training_accuracy "
   ]
  },
  {
   "cell_type": "markdown",
   "id": "933b9016",
   "metadata": {},
   "source": [
    "#### Training Accuracy of multiple linear Regression is 0.4906361149642988"
   ]
  },
  {
   "cell_type": "code",
   "execution_count": 71,
   "id": "75e40cd4",
   "metadata": {},
   "outputs": [
    {
     "data": {
      "text/html": [
       "<style>#sk-container-id-2 {color: black;}#sk-container-id-2 pre{padding: 0;}#sk-container-id-2 div.sk-toggleable {background-color: white;}#sk-container-id-2 label.sk-toggleable__label {cursor: pointer;display: block;width: 100%;margin-bottom: 0;padding: 0.3em;box-sizing: border-box;text-align: center;}#sk-container-id-2 label.sk-toggleable__label-arrow:before {content: \"▸\";float: left;margin-right: 0.25em;color: #696969;}#sk-container-id-2 label.sk-toggleable__label-arrow:hover:before {color: black;}#sk-container-id-2 div.sk-estimator:hover label.sk-toggleable__label-arrow:before {color: black;}#sk-container-id-2 div.sk-toggleable__content {max-height: 0;max-width: 0;overflow: hidden;text-align: left;background-color: #f0f8ff;}#sk-container-id-2 div.sk-toggleable__content pre {margin: 0.2em;color: black;border-radius: 0.25em;background-color: #f0f8ff;}#sk-container-id-2 input.sk-toggleable__control:checked~div.sk-toggleable__content {max-height: 200px;max-width: 100%;overflow: auto;}#sk-container-id-2 input.sk-toggleable__control:checked~label.sk-toggleable__label-arrow:before {content: \"▾\";}#sk-container-id-2 div.sk-estimator input.sk-toggleable__control:checked~label.sk-toggleable__label {background-color: #d4ebff;}#sk-container-id-2 div.sk-label input.sk-toggleable__control:checked~label.sk-toggleable__label {background-color: #d4ebff;}#sk-container-id-2 input.sk-hidden--visually {border: 0;clip: rect(1px 1px 1px 1px);clip: rect(1px, 1px, 1px, 1px);height: 1px;margin: -1px;overflow: hidden;padding: 0;position: absolute;width: 1px;}#sk-container-id-2 div.sk-estimator {font-family: monospace;background-color: #f0f8ff;border: 1px dotted black;border-radius: 0.25em;box-sizing: border-box;margin-bottom: 0.5em;}#sk-container-id-2 div.sk-estimator:hover {background-color: #d4ebff;}#sk-container-id-2 div.sk-parallel-item::after {content: \"\";width: 100%;border-bottom: 1px solid gray;flex-grow: 1;}#sk-container-id-2 div.sk-label:hover label.sk-toggleable__label {background-color: #d4ebff;}#sk-container-id-2 div.sk-serial::before {content: \"\";position: absolute;border-left: 1px solid gray;box-sizing: border-box;top: 0;bottom: 0;left: 50%;z-index: 0;}#sk-container-id-2 div.sk-serial {display: flex;flex-direction: column;align-items: center;background-color: white;padding-right: 0.2em;padding-left: 0.2em;position: relative;}#sk-container-id-2 div.sk-item {position: relative;z-index: 1;}#sk-container-id-2 div.sk-parallel {display: flex;align-items: stretch;justify-content: center;background-color: white;position: relative;}#sk-container-id-2 div.sk-item::before, #sk-container-id-2 div.sk-parallel-item::before {content: \"\";position: absolute;border-left: 1px solid gray;box-sizing: border-box;top: 0;bottom: 0;left: 50%;z-index: -1;}#sk-container-id-2 div.sk-parallel-item {display: flex;flex-direction: column;z-index: 1;position: relative;background-color: white;}#sk-container-id-2 div.sk-parallel-item:first-child::after {align-self: flex-end;width: 50%;}#sk-container-id-2 div.sk-parallel-item:last-child::after {align-self: flex-start;width: 50%;}#sk-container-id-2 div.sk-parallel-item:only-child::after {width: 0;}#sk-container-id-2 div.sk-dashed-wrapped {border: 1px dashed gray;margin: 0 0.4em 0.5em 0.4em;box-sizing: border-box;padding-bottom: 0.4em;background-color: white;}#sk-container-id-2 div.sk-label label {font-family: monospace;font-weight: bold;display: inline-block;line-height: 1.2em;}#sk-container-id-2 div.sk-label-container {text-align: center;}#sk-container-id-2 div.sk-container {/* jupyter's `normalize.less` sets `[hidden] { display: none; }` but bootstrap.min.css set `[hidden] { display: none !important; }` so we also need the `!important` here to be able to override the default hidden behavior on the sphinx rendered scikit-learn.org. See: https://github.com/scikit-learn/scikit-learn/issues/21755 */display: inline-block !important;position: relative;}#sk-container-id-2 div.sk-text-repr-fallback {display: none;}</style><div id=\"sk-container-id-2\" class=\"sk-top-container\"><div class=\"sk-text-repr-fallback\"><pre>LinearRegression()</pre><b>In a Jupyter environment, please rerun this cell to show the HTML representation or trust the notebook. <br />On GitHub, the HTML representation is unable to render, please try loading this page with nbviewer.org.</b></div><div class=\"sk-container\" hidden><div class=\"sk-item\"><div class=\"sk-estimator sk-toggleable\"><input class=\"sk-toggleable__control sk-hidden--visually\" id=\"sk-estimator-id-2\" type=\"checkbox\" checked><label for=\"sk-estimator-id-2\" class=\"sk-toggleable__label sk-toggleable__label-arrow\">LinearRegression</label><div class=\"sk-toggleable__content\"><pre>LinearRegression()</pre></div></div></div></div></div>"
      ],
      "text/plain": [
       "LinearRegression()"
      ]
     },
     "execution_count": 71,
     "metadata": {},
     "output_type": "execute_result"
    }
   ],
   "source": [
    "regression.fit(x_test , y_test)"
   ]
  },
  {
   "cell_type": "code",
   "execution_count": 72,
   "id": "a44553c7",
   "metadata": {},
   "outputs": [],
   "source": [
    "y_test_pred = regression.predict(x_test)"
   ]
  },
  {
   "cell_type": "code",
   "execution_count": 73,
   "id": "25b0de9c",
   "metadata": {},
   "outputs": [],
   "source": [
    "testing_accuracy = r2_score(y_test , y_test_pred)"
   ]
  },
  {
   "cell_type": "code",
   "execution_count": 74,
   "id": "1ae251d2",
   "metadata": {},
   "outputs": [
    {
     "data": {
      "text/plain": [
       "0.46958197859444717"
      ]
     },
     "execution_count": 74,
     "metadata": {},
     "output_type": "execute_result"
    }
   ],
   "source": [
    "testing_accuracy"
   ]
  },
  {
   "cell_type": "markdown",
   "id": "44fb1f08",
   "metadata": {},
   "source": [
    "#### Testing Accuracy of multiple linear Regression is 0.46958197859444717"
   ]
  },
  {
   "cell_type": "markdown",
   "id": "3ef65bed",
   "metadata": {},
   "source": [
    "## OLS Model"
   ]
  },
  {
   "cell_type": "code",
   "execution_count": 75,
   "id": "de2ba6a9",
   "metadata": {},
   "outputs": [],
   "source": [
    "from statsmodels.regression.linear_model import OLS\n",
    "import statsmodels.regression.linear_model as smf"
   ]
  },
  {
   "cell_type": "code",
   "execution_count": 76,
   "id": "d368a0f6",
   "metadata": {},
   "outputs": [],
   "source": [
    "ols = smf.OLS(endog = y_train , exog = x_train).fit()"
   ]
  },
  {
   "cell_type": "code",
   "execution_count": 77,
   "id": "f945c81c",
   "metadata": {},
   "outputs": [
    {
     "data": {
      "text/html": [
       "<table class=\"simpletable\">\n",
       "<caption>OLS Regression Results</caption>\n",
       "<tr>\n",
       "  <th>Dep. Variable:</th>    <td>car_price_converted</td> <th>  R-squared (uncentered):</th>      <td>   0.664</td> \n",
       "</tr>\n",
       "<tr>\n",
       "  <th>Model:</th>                    <td>OLS</td>         <th>  Adj. R-squared (uncentered):</th> <td>   0.663</td> \n",
       "</tr>\n",
       "<tr>\n",
       "  <th>Method:</th>              <td>Least Squares</td>    <th>  F-statistic:       </th>          <td>   905.5</td> \n",
       "</tr>\n",
       "<tr>\n",
       "  <th>Date:</th>              <td>Tue, 02 Apr 2024</td>   <th>  Prob (F-statistic):</th>           <td>  0.00</td>  \n",
       "</tr>\n",
       "<tr>\n",
       "  <th>Time:</th>                  <td>20:17:23</td>       <th>  Log-Likelihood:    </th>          <td> -62972.</td> \n",
       "</tr>\n",
       "<tr>\n",
       "  <th>No. Observations:</th>       <td>  4134</td>        <th>  AIC:               </th>          <td>1.260e+05</td>\n",
       "</tr>\n",
       "<tr>\n",
       "  <th>Df Residuals:</th>           <td>  4125</td>        <th>  BIC:               </th>          <td>1.260e+05</td>\n",
       "</tr>\n",
       "<tr>\n",
       "  <th>Df Model:</th>               <td>     9</td>        <th>                     </th>              <td> </td>    \n",
       "</tr>\n",
       "<tr>\n",
       "  <th>Covariance Type:</th>       <td>nonrobust</td>      <th>                     </th>              <td> </td>    \n",
       "</tr>\n",
       "</table>\n",
       "<table class=\"simpletable\">\n",
       "<tr>\n",
       "            <td></td>              <th>coef</th>     <th>std err</th>      <th>t</th>      <th>P>|t|</th>  <th>[0.025</th>    <th>0.975]</th>  \n",
       "</tr>\n",
       "<tr>\n",
       "  <th>fuel_type</th>            <td>-2.019e+05</td> <td> 1.11e+04</td> <td>  -18.172</td> <td> 0.000</td> <td>-2.24e+05</td> <td> -1.8e+05</td>\n",
       "</tr>\n",
       "<tr>\n",
       "  <th>transmission</th>         <td>-1.619e+06</td> <td> 3.72e+04</td> <td>  -43.497</td> <td> 0.000</td> <td>-1.69e+06</td> <td>-1.55e+06</td>\n",
       "</tr>\n",
       "<tr>\n",
       "  <th>ownership</th>            <td>-1.656e+05</td> <td> 2.29e+04</td> <td>   -7.231</td> <td> 0.000</td> <td> -2.1e+05</td> <td>-1.21e+05</td>\n",
       "</tr>\n",
       "<tr>\n",
       "  <th>manufacture</th>          <td> 1668.8478</td> <td>   67.034</td> <td>   24.896</td> <td> 0.000</td> <td> 1537.426</td> <td> 1800.270</td>\n",
       "</tr>\n",
       "<tr>\n",
       "  <th>model</th>                <td> -377.5699</td> <td>  215.897</td> <td>   -1.749</td> <td> 0.080</td> <td> -800.844</td> <td>   45.705</td>\n",
       "</tr>\n",
       "<tr>\n",
       "  <th>brand</th>                <td>-1455.6685</td> <td> 1926.386</td> <td>   -0.756</td> <td> 0.450</td> <td>-5232.423</td> <td> 2321.086</td>\n",
       "</tr>\n",
       "<tr>\n",
       "  <th>kms_driven_converted</th> <td>   -8.0086</td> <td>    0.478</td> <td>  -16.741</td> <td> 0.000</td> <td>   -8.946</td> <td>   -7.071</td>\n",
       "</tr>\n",
       "<tr>\n",
       "  <th>engine_converted</th>     <td>  123.6632</td> <td>   27.443</td> <td>    4.506</td> <td> 0.000</td> <td>   69.860</td> <td>  177.466</td>\n",
       "</tr>\n",
       "<tr>\n",
       "  <th>seats_converted</th>      <td>-2815.6895</td> <td> 2.17e+04</td> <td>   -0.130</td> <td> 0.897</td> <td>-4.54e+04</td> <td> 3.98e+04</td>\n",
       "</tr>\n",
       "</table>\n",
       "<table class=\"simpletable\">\n",
       "<tr>\n",
       "  <th>Omnibus:</th>       <td>1880.672</td> <th>  Durbin-Watson:     </th> <td>   1.962</td> \n",
       "</tr>\n",
       "<tr>\n",
       "  <th>Prob(Omnibus):</th>  <td> 0.000</td>  <th>  Jarque-Bera (JB):  </th> <td>14176.034</td>\n",
       "</tr>\n",
       "<tr>\n",
       "  <th>Skew:</th>           <td> 2.015</td>  <th>  Prob(JB):          </th> <td>    0.00</td> \n",
       "</tr>\n",
       "<tr>\n",
       "  <th>Kurtosis:</th>       <td>11.128</td>  <th>  Cond. No.          </th> <td>1.75e+05</td> \n",
       "</tr>\n",
       "</table><br/><br/>Notes:<br/>[1] R² is computed without centering (uncentered) since the model does not contain a constant.<br/>[2] Standard Errors assume that the covariance matrix of the errors is correctly specified.<br/>[3] The condition number is large, 1.75e+05. This might indicate that there are<br/>strong multicollinearity or other numerical problems."
      ],
      "text/latex": [
       "\\begin{center}\n",
       "\\begin{tabular}{lclc}\n",
       "\\toprule\n",
       "\\textbf{Dep. Variable:}         & car\\_price\\_converted & \\textbf{  R-squared (uncentered):}      &     0.664   \\\\\n",
       "\\textbf{Model:}                 &          OLS          & \\textbf{  Adj. R-squared (uncentered):} &     0.663   \\\\\n",
       "\\textbf{Method:}                &     Least Squares     & \\textbf{  F-statistic:       }          &     905.5   \\\\\n",
       "\\textbf{Date:}                  &    Tue, 02 Apr 2024   & \\textbf{  Prob (F-statistic):}          &     0.00    \\\\\n",
       "\\textbf{Time:}                  &        20:17:23       & \\textbf{  Log-Likelihood:    }          &   -62972.   \\\\\n",
       "\\textbf{No. Observations:}      &           4134        & \\textbf{  AIC:               }          & 1.260e+05   \\\\\n",
       "\\textbf{Df Residuals:}          &           4125        & \\textbf{  BIC:               }          & 1.260e+05   \\\\\n",
       "\\textbf{Df Model:}              &              9        & \\textbf{                     }          &             \\\\\n",
       "\\textbf{Covariance Type:}       &       nonrobust       & \\textbf{                     }          &             \\\\\n",
       "\\bottomrule\n",
       "\\end{tabular}\n",
       "\\begin{tabular}{lcccccc}\n",
       "                                & \\textbf{coef} & \\textbf{std err} & \\textbf{t} & \\textbf{P$> |$t$|$} & \\textbf{[0.025} & \\textbf{0.975]}  \\\\\n",
       "\\midrule\n",
       "\\textbf{fuel\\_type}             &   -2.019e+05  &     1.11e+04     &   -18.172  &         0.000        &    -2.24e+05    &     -1.8e+05     \\\\\n",
       "\\textbf{transmission}           &   -1.619e+06  &     3.72e+04     &   -43.497  &         0.000        &    -1.69e+06    &    -1.55e+06     \\\\\n",
       "\\textbf{ownership}              &   -1.656e+05  &     2.29e+04     &    -7.231  &         0.000        &     -2.1e+05    &    -1.21e+05     \\\\\n",
       "\\textbf{manufacture}            &    1668.8478  &       67.034     &    24.896  &         0.000        &     1537.426    &     1800.270     \\\\\n",
       "\\textbf{model}                  &    -377.5699  &      215.897     &    -1.749  &         0.080        &     -800.844    &       45.705     \\\\\n",
       "\\textbf{brand}                  &   -1455.6685  &     1926.386     &    -0.756  &         0.450        &    -5232.423    &     2321.086     \\\\\n",
       "\\textbf{kms\\_driven\\_converted} &      -8.0086  &        0.478     &   -16.741  &         0.000        &       -8.946    &       -7.071     \\\\\n",
       "\\textbf{engine\\_converted}      &     123.6632  &       27.443     &     4.506  &         0.000        &       69.860    &      177.466     \\\\\n",
       "\\textbf{seats\\_converted}       &   -2815.6895  &     2.17e+04     &    -0.130  &         0.897        &    -4.54e+04    &     3.98e+04     \\\\\n",
       "\\bottomrule\n",
       "\\end{tabular}\n",
       "\\begin{tabular}{lclc}\n",
       "\\textbf{Omnibus:}       & 1880.672 & \\textbf{  Durbin-Watson:     } &     1.962  \\\\\n",
       "\\textbf{Prob(Omnibus):} &   0.000  & \\textbf{  Jarque-Bera (JB):  } & 14176.034  \\\\\n",
       "\\textbf{Skew:}          &   2.015  & \\textbf{  Prob(JB):          } &      0.00  \\\\\n",
       "\\textbf{Kurtosis:}      &  11.128  & \\textbf{  Cond. No.          } &  1.75e+05  \\\\\n",
       "\\bottomrule\n",
       "\\end{tabular}\n",
       "%\\caption{OLS Regression Results}\n",
       "\\end{center}\n",
       "\n",
       "Notes: \\newline\n",
       " [1] R² is computed without centering (uncentered) since the model does not contain a constant. \\newline\n",
       " [2] Standard Errors assume that the covariance matrix of the errors is correctly specified. \\newline\n",
       " [3] The condition number is large, 1.75e+05. This might indicate that there are \\newline\n",
       " strong multicollinearity or other numerical problems."
      ],
      "text/plain": [
       "<class 'statsmodels.iolib.summary.Summary'>\n",
       "\"\"\"\n",
       "                                 OLS Regression Results                                 \n",
       "========================================================================================\n",
       "Dep. Variable:     car_price_converted   R-squared (uncentered):                   0.664\n",
       "Model:                             OLS   Adj. R-squared (uncentered):              0.663\n",
       "Method:                  Least Squares   F-statistic:                              905.5\n",
       "Date:                 Tue, 02 Apr 2024   Prob (F-statistic):                        0.00\n",
       "Time:                         20:17:23   Log-Likelihood:                         -62972.\n",
       "No. Observations:                 4134   AIC:                                  1.260e+05\n",
       "Df Residuals:                     4125   BIC:                                  1.260e+05\n",
       "Df Model:                            9                                                  \n",
       "Covariance Type:             nonrobust                                                  \n",
       "========================================================================================\n",
       "                           coef    std err          t      P>|t|      [0.025      0.975]\n",
       "----------------------------------------------------------------------------------------\n",
       "fuel_type            -2.019e+05   1.11e+04    -18.172      0.000   -2.24e+05    -1.8e+05\n",
       "transmission         -1.619e+06   3.72e+04    -43.497      0.000   -1.69e+06   -1.55e+06\n",
       "ownership            -1.656e+05   2.29e+04     -7.231      0.000    -2.1e+05   -1.21e+05\n",
       "manufacture           1668.8478     67.034     24.896      0.000    1537.426    1800.270\n",
       "model                 -377.5699    215.897     -1.749      0.080    -800.844      45.705\n",
       "brand                -1455.6685   1926.386     -0.756      0.450   -5232.423    2321.086\n",
       "kms_driven_converted    -8.0086      0.478    -16.741      0.000      -8.946      -7.071\n",
       "engine_converted       123.6632     27.443      4.506      0.000      69.860     177.466\n",
       "seats_converted      -2815.6895   2.17e+04     -0.130      0.897   -4.54e+04    3.98e+04\n",
       "==============================================================================\n",
       "Omnibus:                     1880.672   Durbin-Watson:                   1.962\n",
       "Prob(Omnibus):                  0.000   Jarque-Bera (JB):            14176.034\n",
       "Skew:                           2.015   Prob(JB):                         0.00\n",
       "Kurtosis:                      11.128   Cond. No.                     1.75e+05\n",
       "==============================================================================\n",
       "\n",
       "Notes:\n",
       "[1] R² is computed without centering (uncentered) since the model does not contain a constant.\n",
       "[2] Standard Errors assume that the covariance matrix of the errors is correctly specified.\n",
       "[3] The condition number is large, 1.75e+05. This might indicate that there are\n",
       "strong multicollinearity or other numerical problems.\n",
       "\"\"\""
      ]
     },
     "execution_count": 77,
     "metadata": {},
     "output_type": "execute_result"
    }
   ],
   "source": [
    "ols.summary()"
   ]
  },
  {
   "cell_type": "code",
   "execution_count": 78,
   "id": "bf20430b",
   "metadata": {},
   "outputs": [
    {
     "data": {
      "text/html": [
       "<div>\n",
       "<style scoped>\n",
       "    .dataframe tbody tr th:only-of-type {\n",
       "        vertical-align: middle;\n",
       "    }\n",
       "\n",
       "    .dataframe tbody tr th {\n",
       "        vertical-align: top;\n",
       "    }\n",
       "\n",
       "    .dataframe thead th {\n",
       "        text-align: right;\n",
       "    }\n",
       "</style>\n",
       "<table border=\"1\" class=\"dataframe\">\n",
       "  <thead>\n",
       "    <tr style=\"text-align: right;\">\n",
       "      <th></th>\n",
       "      <th>fuel_type</th>\n",
       "      <th>transmission</th>\n",
       "      <th>ownership</th>\n",
       "      <th>manufacture</th>\n",
       "      <th>model</th>\n",
       "      <th>brand</th>\n",
       "      <th>kms_driven_converted</th>\n",
       "      <th>engine_converted</th>\n",
       "      <th>seats_converted</th>\n",
       "    </tr>\n",
       "  </thead>\n",
       "  <tbody>\n",
       "    <tr>\n",
       "      <th>0</th>\n",
       "      <td>1</td>\n",
       "      <td>1</td>\n",
       "      <td>1</td>\n",
       "      <td>2017</td>\n",
       "      <td>47</td>\n",
       "      <td>12</td>\n",
       "      <td>86226.0</td>\n",
       "      <td>1956.0</td>\n",
       "      <td>5.0</td>\n",
       "    </tr>\n",
       "    <tr>\n",
       "      <th>1</th>\n",
       "      <td>4</td>\n",
       "      <td>0</td>\n",
       "      <td>1</td>\n",
       "      <td>2021</td>\n",
       "      <td>54</td>\n",
       "      <td>26</td>\n",
       "      <td>13248.0</td>\n",
       "      <td>1330.0</td>\n",
       "      <td>5.0</td>\n",
       "    </tr>\n",
       "  </tbody>\n",
       "</table>\n",
       "</div>"
      ],
      "text/plain": [
       "   fuel_type  transmission  ownership  manufacture  model  brand  \\\n",
       "0          1             1          1         2017     47     12   \n",
       "1          4             0          1         2021     54     26   \n",
       "\n",
       "   kms_driven_converted  engine_converted  seats_converted  \n",
       "0               86226.0            1956.0              5.0  \n",
       "1               13248.0            1330.0              5.0  "
      ]
     },
     "execution_count": 78,
     "metadata": {},
     "output_type": "execute_result"
    }
   ],
   "source": [
    "x.head(2)"
   ]
  },
  {
   "cell_type": "code",
   "execution_count": 79,
   "id": "79e90888",
   "metadata": {},
   "outputs": [],
   "source": [
    "x_ols = x.copy()"
   ]
  },
  {
   "cell_type": "code",
   "execution_count": 80,
   "id": "a3d01963",
   "metadata": {},
   "outputs": [
    {
     "data": {
      "text/html": [
       "<div>\n",
       "<style scoped>\n",
       "    .dataframe tbody tr th:only-of-type {\n",
       "        vertical-align: middle;\n",
       "    }\n",
       "\n",
       "    .dataframe tbody tr th {\n",
       "        vertical-align: top;\n",
       "    }\n",
       "\n",
       "    .dataframe thead th {\n",
       "        text-align: right;\n",
       "    }\n",
       "</style>\n",
       "<table border=\"1\" class=\"dataframe\">\n",
       "  <thead>\n",
       "    <tr style=\"text-align: right;\">\n",
       "      <th></th>\n",
       "      <th>fuel_type</th>\n",
       "      <th>transmission</th>\n",
       "      <th>ownership</th>\n",
       "      <th>manufacture</th>\n",
       "      <th>model</th>\n",
       "      <th>brand</th>\n",
       "      <th>kms_driven_converted</th>\n",
       "      <th>engine_converted</th>\n",
       "      <th>seats_converted</th>\n",
       "    </tr>\n",
       "  </thead>\n",
       "  <tbody>\n",
       "    <tr>\n",
       "      <th>0</th>\n",
       "      <td>1</td>\n",
       "      <td>1</td>\n",
       "      <td>1</td>\n",
       "      <td>2017</td>\n",
       "      <td>47</td>\n",
       "      <td>12</td>\n",
       "      <td>86226.0</td>\n",
       "      <td>1956.0</td>\n",
       "      <td>5.0</td>\n",
       "    </tr>\n",
       "    <tr>\n",
       "      <th>1</th>\n",
       "      <td>4</td>\n",
       "      <td>0</td>\n",
       "      <td>1</td>\n",
       "      <td>2021</td>\n",
       "      <td>54</td>\n",
       "      <td>26</td>\n",
       "      <td>13248.0</td>\n",
       "      <td>1330.0</td>\n",
       "      <td>5.0</td>\n",
       "    </tr>\n",
       "  </tbody>\n",
       "</table>\n",
       "</div>"
      ],
      "text/plain": [
       "   fuel_type  transmission  ownership  manufacture  model  brand  \\\n",
       "0          1             1          1         2017     47     12   \n",
       "1          4             0          1         2021     54     26   \n",
       "\n",
       "   kms_driven_converted  engine_converted  seats_converted  \n",
       "0               86226.0            1956.0              5.0  \n",
       "1               13248.0            1330.0              5.0  "
      ]
     },
     "execution_count": 80,
     "metadata": {},
     "output_type": "execute_result"
    }
   ],
   "source": [
    "x_ols.head(2)"
   ]
  },
  {
   "cell_type": "markdown",
   "id": "a73ad365",
   "metadata": {},
   "source": [
    "#### We drop Seats_converted because its p value is 0.897 . which is greater than 0.05. so it create Auto corelation"
   ]
  },
  {
   "cell_type": "code",
   "execution_count": 81,
   "id": "8af933d0",
   "metadata": {},
   "outputs": [],
   "source": [
    "x_ols.drop(['seats_converted'] , axis = 1 ,  inplace = True)"
   ]
  },
  {
   "cell_type": "code",
   "execution_count": 82,
   "id": "830e942b",
   "metadata": {},
   "outputs": [],
   "source": [
    "x_train_ols , x_test_ols , y_train_ols , y_test_ols = train_test_split(x_ols , y , test_size = 0.25 , random_state = 12)"
   ]
  },
  {
   "cell_type": "code",
   "execution_count": 83,
   "id": "6fb403e4",
   "metadata": {},
   "outputs": [],
   "source": [
    "ols = smf.OLS(endog = y_train_ols , exog = x_train_ols).fit()"
   ]
  },
  {
   "cell_type": "code",
   "execution_count": 84,
   "id": "030bfefa",
   "metadata": {},
   "outputs": [
    {
     "data": {
      "text/html": [
       "<table class=\"simpletable\">\n",
       "<caption>OLS Regression Results</caption>\n",
       "<tr>\n",
       "  <th>Dep. Variable:</th>    <td>car_price_converted</td> <th>  R-squared (uncentered):</th>      <td>   0.664</td> \n",
       "</tr>\n",
       "<tr>\n",
       "  <th>Model:</th>                    <td>OLS</td>         <th>  Adj. R-squared (uncentered):</th> <td>   0.663</td> \n",
       "</tr>\n",
       "<tr>\n",
       "  <th>Method:</th>              <td>Least Squares</td>    <th>  F-statistic:       </th>          <td>   1019.</td> \n",
       "</tr>\n",
       "<tr>\n",
       "  <th>Date:</th>              <td>Tue, 02 Apr 2024</td>   <th>  Prob (F-statistic):</th>           <td>  0.00</td>  \n",
       "</tr>\n",
       "<tr>\n",
       "  <th>Time:</th>                  <td>20:17:23</td>       <th>  Log-Likelihood:    </th>          <td> -62972.</td> \n",
       "</tr>\n",
       "<tr>\n",
       "  <th>No. Observations:</th>       <td>  4134</td>        <th>  AIC:               </th>          <td>1.260e+05</td>\n",
       "</tr>\n",
       "<tr>\n",
       "  <th>Df Residuals:</th>           <td>  4126</td>        <th>  BIC:               </th>          <td>1.260e+05</td>\n",
       "</tr>\n",
       "<tr>\n",
       "  <th>Df Model:</th>               <td>     8</td>        <th>                     </th>              <td> </td>    \n",
       "</tr>\n",
       "<tr>\n",
       "  <th>Covariance Type:</th>       <td>nonrobust</td>      <th>                     </th>              <td> </td>    \n",
       "</tr>\n",
       "</table>\n",
       "<table class=\"simpletable\">\n",
       "<tr>\n",
       "            <td></td>              <th>coef</th>     <th>std err</th>      <th>t</th>      <th>P>|t|</th>  <th>[0.025</th>    <th>0.975]</th>  \n",
       "</tr>\n",
       "<tr>\n",
       "  <th>fuel_type</th>            <td>-2.018e+05</td> <td> 1.11e+04</td> <td>  -18.186</td> <td> 0.000</td> <td>-2.24e+05</td> <td> -1.8e+05</td>\n",
       "</tr>\n",
       "<tr>\n",
       "  <th>transmission</th>         <td>-1.619e+06</td> <td> 3.72e+04</td> <td>  -43.525</td> <td> 0.000</td> <td>-1.69e+06</td> <td>-1.55e+06</td>\n",
       "</tr>\n",
       "<tr>\n",
       "  <th>ownership</th>            <td>-1.656e+05</td> <td> 2.29e+04</td> <td>   -7.231</td> <td> 0.000</td> <td> -2.1e+05</td> <td>-1.21e+05</td>\n",
       "</tr>\n",
       "<tr>\n",
       "  <th>manufacture</th>          <td> 1661.8859</td> <td>   40.107</td> <td>   41.436</td> <td> 0.000</td> <td> 1583.254</td> <td> 1740.517</td>\n",
       "</tr>\n",
       "<tr>\n",
       "  <th>model</th>                <td> -377.2110</td> <td>  215.854</td> <td>   -1.748</td> <td> 0.081</td> <td> -800.400</td> <td>   45.978</td>\n",
       "</tr>\n",
       "<tr>\n",
       "  <th>brand</th>                <td>-1459.3274</td> <td> 1925.949</td> <td>   -0.758</td> <td> 0.449</td> <td>-5235.226</td> <td> 2316.571</td>\n",
       "</tr>\n",
       "<tr>\n",
       "  <th>kms_driven_converted</th> <td>   -8.0094</td> <td>    0.478</td> <td>  -16.746</td> <td> 0.000</td> <td>   -8.947</td> <td>   -7.072</td>\n",
       "</tr>\n",
       "<tr>\n",
       "  <th>engine_converted</th>     <td>  123.1538</td> <td>   27.157</td> <td>    4.535</td> <td> 0.000</td> <td>   69.911</td> <td>  176.396</td>\n",
       "</tr>\n",
       "</table>\n",
       "<table class=\"simpletable\">\n",
       "<tr>\n",
       "  <th>Omnibus:</th>       <td>1880.448</td> <th>  Durbin-Watson:     </th> <td>   1.962</td> \n",
       "</tr>\n",
       "<tr>\n",
       "  <th>Prob(Omnibus):</th>  <td> 0.000</td>  <th>  Jarque-Bera (JB):  </th> <td>14169.319</td>\n",
       "</tr>\n",
       "<tr>\n",
       "  <th>Skew:</th>           <td> 2.014</td>  <th>  Prob(JB):          </th> <td>    0.00</td> \n",
       "</tr>\n",
       "<tr>\n",
       "  <th>Kurtosis:</th>       <td>11.126</td>  <th>  Cond. No.          </th> <td>1.75e+05</td> \n",
       "</tr>\n",
       "</table><br/><br/>Notes:<br/>[1] R² is computed without centering (uncentered) since the model does not contain a constant.<br/>[2] Standard Errors assume that the covariance matrix of the errors is correctly specified.<br/>[3] The condition number is large, 1.75e+05. This might indicate that there are<br/>strong multicollinearity or other numerical problems."
      ],
      "text/latex": [
       "\\begin{center}\n",
       "\\begin{tabular}{lclc}\n",
       "\\toprule\n",
       "\\textbf{Dep. Variable:}         & car\\_price\\_converted & \\textbf{  R-squared (uncentered):}      &     0.664   \\\\\n",
       "\\textbf{Model:}                 &          OLS          & \\textbf{  Adj. R-squared (uncentered):} &     0.663   \\\\\n",
       "\\textbf{Method:}                &     Least Squares     & \\textbf{  F-statistic:       }          &     1019.   \\\\\n",
       "\\textbf{Date:}                  &    Tue, 02 Apr 2024   & \\textbf{  Prob (F-statistic):}          &     0.00    \\\\\n",
       "\\textbf{Time:}                  &        20:17:23       & \\textbf{  Log-Likelihood:    }          &   -62972.   \\\\\n",
       "\\textbf{No. Observations:}      &           4134        & \\textbf{  AIC:               }          & 1.260e+05   \\\\\n",
       "\\textbf{Df Residuals:}          &           4126        & \\textbf{  BIC:               }          & 1.260e+05   \\\\\n",
       "\\textbf{Df Model:}              &              8        & \\textbf{                     }          &             \\\\\n",
       "\\textbf{Covariance Type:}       &       nonrobust       & \\textbf{                     }          &             \\\\\n",
       "\\bottomrule\n",
       "\\end{tabular}\n",
       "\\begin{tabular}{lcccccc}\n",
       "                                & \\textbf{coef} & \\textbf{std err} & \\textbf{t} & \\textbf{P$> |$t$|$} & \\textbf{[0.025} & \\textbf{0.975]}  \\\\\n",
       "\\midrule\n",
       "\\textbf{fuel\\_type}             &   -2.018e+05  &     1.11e+04     &   -18.186  &         0.000        &    -2.24e+05    &     -1.8e+05     \\\\\n",
       "\\textbf{transmission}           &   -1.619e+06  &     3.72e+04     &   -43.525  &         0.000        &    -1.69e+06    &    -1.55e+06     \\\\\n",
       "\\textbf{ownership}              &   -1.656e+05  &     2.29e+04     &    -7.231  &         0.000        &     -2.1e+05    &    -1.21e+05     \\\\\n",
       "\\textbf{manufacture}            &    1661.8859  &       40.107     &    41.436  &         0.000        &     1583.254    &     1740.517     \\\\\n",
       "\\textbf{model}                  &    -377.2110  &      215.854     &    -1.748  &         0.081        &     -800.400    &       45.978     \\\\\n",
       "\\textbf{brand}                  &   -1459.3274  &     1925.949     &    -0.758  &         0.449        &    -5235.226    &     2316.571     \\\\\n",
       "\\textbf{kms\\_driven\\_converted} &      -8.0094  &        0.478     &   -16.746  &         0.000        &       -8.947    &       -7.072     \\\\\n",
       "\\textbf{engine\\_converted}      &     123.1538  &       27.157     &     4.535  &         0.000        &       69.911    &      176.396     \\\\\n",
       "\\bottomrule\n",
       "\\end{tabular}\n",
       "\\begin{tabular}{lclc}\n",
       "\\textbf{Omnibus:}       & 1880.448 & \\textbf{  Durbin-Watson:     } &     1.962  \\\\\n",
       "\\textbf{Prob(Omnibus):} &   0.000  & \\textbf{  Jarque-Bera (JB):  } & 14169.319  \\\\\n",
       "\\textbf{Skew:}          &   2.014  & \\textbf{  Prob(JB):          } &      0.00  \\\\\n",
       "\\textbf{Kurtosis:}      &  11.126  & \\textbf{  Cond. No.          } &  1.75e+05  \\\\\n",
       "\\bottomrule\n",
       "\\end{tabular}\n",
       "%\\caption{OLS Regression Results}\n",
       "\\end{center}\n",
       "\n",
       "Notes: \\newline\n",
       " [1] R² is computed without centering (uncentered) since the model does not contain a constant. \\newline\n",
       " [2] Standard Errors assume that the covariance matrix of the errors is correctly specified. \\newline\n",
       " [3] The condition number is large, 1.75e+05. This might indicate that there are \\newline\n",
       " strong multicollinearity or other numerical problems."
      ],
      "text/plain": [
       "<class 'statsmodels.iolib.summary.Summary'>\n",
       "\"\"\"\n",
       "                                 OLS Regression Results                                 \n",
       "========================================================================================\n",
       "Dep. Variable:     car_price_converted   R-squared (uncentered):                   0.664\n",
       "Model:                             OLS   Adj. R-squared (uncentered):              0.663\n",
       "Method:                  Least Squares   F-statistic:                              1019.\n",
       "Date:                 Tue, 02 Apr 2024   Prob (F-statistic):                        0.00\n",
       "Time:                         20:17:23   Log-Likelihood:                         -62972.\n",
       "No. Observations:                 4134   AIC:                                  1.260e+05\n",
       "Df Residuals:                     4126   BIC:                                  1.260e+05\n",
       "Df Model:                            8                                                  \n",
       "Covariance Type:             nonrobust                                                  \n",
       "========================================================================================\n",
       "                           coef    std err          t      P>|t|      [0.025      0.975]\n",
       "----------------------------------------------------------------------------------------\n",
       "fuel_type            -2.018e+05   1.11e+04    -18.186      0.000   -2.24e+05    -1.8e+05\n",
       "transmission         -1.619e+06   3.72e+04    -43.525      0.000   -1.69e+06   -1.55e+06\n",
       "ownership            -1.656e+05   2.29e+04     -7.231      0.000    -2.1e+05   -1.21e+05\n",
       "manufacture           1661.8859     40.107     41.436      0.000    1583.254    1740.517\n",
       "model                 -377.2110    215.854     -1.748      0.081    -800.400      45.978\n",
       "brand                -1459.3274   1925.949     -0.758      0.449   -5235.226    2316.571\n",
       "kms_driven_converted    -8.0094      0.478    -16.746      0.000      -8.947      -7.072\n",
       "engine_converted       123.1538     27.157      4.535      0.000      69.911     176.396\n",
       "==============================================================================\n",
       "Omnibus:                     1880.448   Durbin-Watson:                   1.962\n",
       "Prob(Omnibus):                  0.000   Jarque-Bera (JB):            14169.319\n",
       "Skew:                           2.014   Prob(JB):                         0.00\n",
       "Kurtosis:                      11.126   Cond. No.                     1.75e+05\n",
       "==============================================================================\n",
       "\n",
       "Notes:\n",
       "[1] R² is computed without centering (uncentered) since the model does not contain a constant.\n",
       "[2] Standard Errors assume that the covariance matrix of the errors is correctly specified.\n",
       "[3] The condition number is large, 1.75e+05. This might indicate that there are\n",
       "strong multicollinearity or other numerical problems.\n",
       "\"\"\""
      ]
     },
     "execution_count": 84,
     "metadata": {},
     "output_type": "execute_result"
    }
   ],
   "source": [
    "ols.summary()"
   ]
  },
  {
   "cell_type": "markdown",
   "id": "ebb2c8a9",
   "metadata": {},
   "source": [
    "#### We drop brand because its p value is 0.449 . which is greater than 0.05. so it create Auto corelation"
   ]
  },
  {
   "cell_type": "code",
   "execution_count": 85,
   "id": "5a4d06b2",
   "metadata": {},
   "outputs": [],
   "source": [
    "x_ols.drop(['brand'] , axis = 1 ,  inplace = True)"
   ]
  },
  {
   "cell_type": "code",
   "execution_count": 86,
   "id": "2565ef18",
   "metadata": {},
   "outputs": [],
   "source": [
    "x_train_ols , x_test_ols , y_train_ols , y_test_ols = train_test_split(x_ols , y , test_size = 0.25 , random_state = 12)"
   ]
  },
  {
   "cell_type": "code",
   "execution_count": 87,
   "id": "86439264",
   "metadata": {},
   "outputs": [],
   "source": [
    "ols = smf.OLS(endog = y_train_ols , exog = x_train_ols).fit()"
   ]
  },
  {
   "cell_type": "code",
   "execution_count": 88,
   "id": "c3fcca2f",
   "metadata": {},
   "outputs": [
    {
     "data": {
      "text/html": [
       "<table class=\"simpletable\">\n",
       "<caption>OLS Regression Results</caption>\n",
       "<tr>\n",
       "  <th>Dep. Variable:</th>    <td>car_price_converted</td> <th>  R-squared (uncentered):</th>      <td>   0.664</td> \n",
       "</tr>\n",
       "<tr>\n",
       "  <th>Model:</th>                    <td>OLS</td>         <th>  Adj. R-squared (uncentered):</th> <td>   0.663</td> \n",
       "</tr>\n",
       "<tr>\n",
       "  <th>Method:</th>              <td>Least Squares</td>    <th>  F-statistic:       </th>          <td>   1164.</td> \n",
       "</tr>\n",
       "<tr>\n",
       "  <th>Date:</th>              <td>Tue, 02 Apr 2024</td>   <th>  Prob (F-statistic):</th>           <td>  0.00</td>  \n",
       "</tr>\n",
       "<tr>\n",
       "  <th>Time:</th>                  <td>20:17:23</td>       <th>  Log-Likelihood:    </th>          <td> -62972.</td> \n",
       "</tr>\n",
       "<tr>\n",
       "  <th>No. Observations:</th>       <td>  4134</td>        <th>  AIC:               </th>          <td>1.260e+05</td>\n",
       "</tr>\n",
       "<tr>\n",
       "  <th>Df Residuals:</th>           <td>  4127</td>        <th>  BIC:               </th>          <td>1.260e+05</td>\n",
       "</tr>\n",
       "<tr>\n",
       "  <th>Df Model:</th>               <td>     7</td>        <th>                     </th>              <td> </td>    \n",
       "</tr>\n",
       "<tr>\n",
       "  <th>Covariance Type:</th>       <td>nonrobust</td>      <th>                     </th>              <td> </td>    \n",
       "</tr>\n",
       "</table>\n",
       "<table class=\"simpletable\">\n",
       "<tr>\n",
       "            <td></td>              <th>coef</th>     <th>std err</th>      <th>t</th>      <th>P>|t|</th>  <th>[0.025</th>    <th>0.975]</th>  \n",
       "</tr>\n",
       "<tr>\n",
       "  <th>fuel_type</th>            <td>-2.011e+05</td> <td> 1.11e+04</td> <td>  -18.188</td> <td> 0.000</td> <td>-2.23e+05</td> <td>-1.79e+05</td>\n",
       "</tr>\n",
       "<tr>\n",
       "  <th>transmission</th>         <td>-1.621e+06</td> <td> 3.71e+04</td> <td>  -43.726</td> <td> 0.000</td> <td>-1.69e+06</td> <td>-1.55e+06</td>\n",
       "</tr>\n",
       "<tr>\n",
       "  <th>ownership</th>            <td>-1.649e+05</td> <td> 2.29e+04</td> <td>   -7.209</td> <td> 0.000</td> <td> -2.1e+05</td> <td> -1.2e+05</td>\n",
       "</tr>\n",
       "<tr>\n",
       "  <th>manufacture</th>          <td> 1651.0228</td> <td>   37.455</td> <td>   44.080</td> <td> 0.000</td> <td> 1577.590</td> <td> 1724.455</td>\n",
       "</tr>\n",
       "<tr>\n",
       "  <th>model</th>                <td> -384.6115</td> <td>  215.621</td> <td>   -1.784</td> <td> 0.075</td> <td> -807.345</td> <td>   38.123</td>\n",
       "</tr>\n",
       "<tr>\n",
       "  <th>kms_driven_converted</th> <td>   -8.0195</td> <td>    0.478</td> <td>  -16.774</td> <td> 0.000</td> <td>   -8.957</td> <td>   -7.082</td>\n",
       "</tr>\n",
       "<tr>\n",
       "  <th>engine_converted</th>     <td>  122.9156</td> <td>   27.154</td> <td>    4.527</td> <td> 0.000</td> <td>   69.679</td> <td>  176.152</td>\n",
       "</tr>\n",
       "</table>\n",
       "<table class=\"simpletable\">\n",
       "<tr>\n",
       "  <th>Omnibus:</th>       <td>1877.886</td> <th>  Durbin-Watson:     </th> <td>   1.961</td> \n",
       "</tr>\n",
       "<tr>\n",
       "  <th>Prob(Omnibus):</th>  <td> 0.000</td>  <th>  Jarque-Bera (JB):  </th> <td>14136.012</td>\n",
       "</tr>\n",
       "<tr>\n",
       "  <th>Skew:</th>           <td> 2.011</td>  <th>  Prob(JB):          </th> <td>    0.00</td> \n",
       "</tr>\n",
       "<tr>\n",
       "  <th>Kurtosis:</th>       <td>11.117</td>  <th>  Cond. No.          </th> <td>1.74e+05</td> \n",
       "</tr>\n",
       "</table><br/><br/>Notes:<br/>[1] R² is computed without centering (uncentered) since the model does not contain a constant.<br/>[2] Standard Errors assume that the covariance matrix of the errors is correctly specified.<br/>[3] The condition number is large, 1.74e+05. This might indicate that there are<br/>strong multicollinearity or other numerical problems."
      ],
      "text/latex": [
       "\\begin{center}\n",
       "\\begin{tabular}{lclc}\n",
       "\\toprule\n",
       "\\textbf{Dep. Variable:}         & car\\_price\\_converted & \\textbf{  R-squared (uncentered):}      &     0.664   \\\\\n",
       "\\textbf{Model:}                 &          OLS          & \\textbf{  Adj. R-squared (uncentered):} &     0.663   \\\\\n",
       "\\textbf{Method:}                &     Least Squares     & \\textbf{  F-statistic:       }          &     1164.   \\\\\n",
       "\\textbf{Date:}                  &    Tue, 02 Apr 2024   & \\textbf{  Prob (F-statistic):}          &     0.00    \\\\\n",
       "\\textbf{Time:}                  &        20:17:23       & \\textbf{  Log-Likelihood:    }          &   -62972.   \\\\\n",
       "\\textbf{No. Observations:}      &           4134        & \\textbf{  AIC:               }          & 1.260e+05   \\\\\n",
       "\\textbf{Df Residuals:}          &           4127        & \\textbf{  BIC:               }          & 1.260e+05   \\\\\n",
       "\\textbf{Df Model:}              &              7        & \\textbf{                     }          &             \\\\\n",
       "\\textbf{Covariance Type:}       &       nonrobust       & \\textbf{                     }          &             \\\\\n",
       "\\bottomrule\n",
       "\\end{tabular}\n",
       "\\begin{tabular}{lcccccc}\n",
       "                                & \\textbf{coef} & \\textbf{std err} & \\textbf{t} & \\textbf{P$> |$t$|$} & \\textbf{[0.025} & \\textbf{0.975]}  \\\\\n",
       "\\midrule\n",
       "\\textbf{fuel\\_type}             &   -2.011e+05  &     1.11e+04     &   -18.188  &         0.000        &    -2.23e+05    &    -1.79e+05     \\\\\n",
       "\\textbf{transmission}           &   -1.621e+06  &     3.71e+04     &   -43.726  &         0.000        &    -1.69e+06    &    -1.55e+06     \\\\\n",
       "\\textbf{ownership}              &   -1.649e+05  &     2.29e+04     &    -7.209  &         0.000        &     -2.1e+05    &     -1.2e+05     \\\\\n",
       "\\textbf{manufacture}            &    1651.0228  &       37.455     &    44.080  &         0.000        &     1577.590    &     1724.455     \\\\\n",
       "\\textbf{model}                  &    -384.6115  &      215.621     &    -1.784  &         0.075        &     -807.345    &       38.123     \\\\\n",
       "\\textbf{kms\\_driven\\_converted} &      -8.0195  &        0.478     &   -16.774  &         0.000        &       -8.957    &       -7.082     \\\\\n",
       "\\textbf{engine\\_converted}      &     122.9156  &       27.154     &     4.527  &         0.000        &       69.679    &      176.152     \\\\\n",
       "\\bottomrule\n",
       "\\end{tabular}\n",
       "\\begin{tabular}{lclc}\n",
       "\\textbf{Omnibus:}       & 1877.886 & \\textbf{  Durbin-Watson:     } &     1.961  \\\\\n",
       "\\textbf{Prob(Omnibus):} &   0.000  & \\textbf{  Jarque-Bera (JB):  } & 14136.012  \\\\\n",
       "\\textbf{Skew:}          &   2.011  & \\textbf{  Prob(JB):          } &      0.00  \\\\\n",
       "\\textbf{Kurtosis:}      &  11.117  & \\textbf{  Cond. No.          } &  1.74e+05  \\\\\n",
       "\\bottomrule\n",
       "\\end{tabular}\n",
       "%\\caption{OLS Regression Results}\n",
       "\\end{center}\n",
       "\n",
       "Notes: \\newline\n",
       " [1] R² is computed without centering (uncentered) since the model does not contain a constant. \\newline\n",
       " [2] Standard Errors assume that the covariance matrix of the errors is correctly specified. \\newline\n",
       " [3] The condition number is large, 1.74e+05. This might indicate that there are \\newline\n",
       " strong multicollinearity or other numerical problems."
      ],
      "text/plain": [
       "<class 'statsmodels.iolib.summary.Summary'>\n",
       "\"\"\"\n",
       "                                 OLS Regression Results                                 \n",
       "========================================================================================\n",
       "Dep. Variable:     car_price_converted   R-squared (uncentered):                   0.664\n",
       "Model:                             OLS   Adj. R-squared (uncentered):              0.663\n",
       "Method:                  Least Squares   F-statistic:                              1164.\n",
       "Date:                 Tue, 02 Apr 2024   Prob (F-statistic):                        0.00\n",
       "Time:                         20:17:23   Log-Likelihood:                         -62972.\n",
       "No. Observations:                 4134   AIC:                                  1.260e+05\n",
       "Df Residuals:                     4127   BIC:                                  1.260e+05\n",
       "Df Model:                            7                                                  \n",
       "Covariance Type:             nonrobust                                                  \n",
       "========================================================================================\n",
       "                           coef    std err          t      P>|t|      [0.025      0.975]\n",
       "----------------------------------------------------------------------------------------\n",
       "fuel_type            -2.011e+05   1.11e+04    -18.188      0.000   -2.23e+05   -1.79e+05\n",
       "transmission         -1.621e+06   3.71e+04    -43.726      0.000   -1.69e+06   -1.55e+06\n",
       "ownership            -1.649e+05   2.29e+04     -7.209      0.000    -2.1e+05    -1.2e+05\n",
       "manufacture           1651.0228     37.455     44.080      0.000    1577.590    1724.455\n",
       "model                 -384.6115    215.621     -1.784      0.075    -807.345      38.123\n",
       "kms_driven_converted    -8.0195      0.478    -16.774      0.000      -8.957      -7.082\n",
       "engine_converted       122.9156     27.154      4.527      0.000      69.679     176.152\n",
       "==============================================================================\n",
       "Omnibus:                     1877.886   Durbin-Watson:                   1.961\n",
       "Prob(Omnibus):                  0.000   Jarque-Bera (JB):            14136.012\n",
       "Skew:                           2.011   Prob(JB):                         0.00\n",
       "Kurtosis:                      11.117   Cond. No.                     1.74e+05\n",
       "==============================================================================\n",
       "\n",
       "Notes:\n",
       "[1] R² is computed without centering (uncentered) since the model does not contain a constant.\n",
       "[2] Standard Errors assume that the covariance matrix of the errors is correctly specified.\n",
       "[3] The condition number is large, 1.74e+05. This might indicate that there are\n",
       "strong multicollinearity or other numerical problems.\n",
       "\"\"\""
      ]
     },
     "execution_count": 88,
     "metadata": {},
     "output_type": "execute_result"
    }
   ],
   "source": [
    "ols.summary()"
   ]
  },
  {
   "cell_type": "markdown",
   "id": "c1e4e3ba",
   "metadata": {},
   "source": [
    "#### We drop model because its p value is 0.075 . which is greater than 0.05. so it create Auto corelation"
   ]
  },
  {
   "cell_type": "code",
   "execution_count": 89,
   "id": "6909b51f",
   "metadata": {},
   "outputs": [],
   "source": [
    "x_ols.drop('model' , axis = 1 , inplace = True)"
   ]
  },
  {
   "cell_type": "code",
   "execution_count": 90,
   "id": "f171c96e",
   "metadata": {},
   "outputs": [
    {
     "data": {
      "text/html": [
       "<div>\n",
       "<style scoped>\n",
       "    .dataframe tbody tr th:only-of-type {\n",
       "        vertical-align: middle;\n",
       "    }\n",
       "\n",
       "    .dataframe tbody tr th {\n",
       "        vertical-align: top;\n",
       "    }\n",
       "\n",
       "    .dataframe thead th {\n",
       "        text-align: right;\n",
       "    }\n",
       "</style>\n",
       "<table border=\"1\" class=\"dataframe\">\n",
       "  <thead>\n",
       "    <tr style=\"text-align: right;\">\n",
       "      <th></th>\n",
       "      <th>fuel_type</th>\n",
       "      <th>transmission</th>\n",
       "      <th>ownership</th>\n",
       "      <th>manufacture</th>\n",
       "      <th>kms_driven_converted</th>\n",
       "      <th>engine_converted</th>\n",
       "    </tr>\n",
       "  </thead>\n",
       "  <tbody>\n",
       "    <tr>\n",
       "      <th>0</th>\n",
       "      <td>1</td>\n",
       "      <td>1</td>\n",
       "      <td>1</td>\n",
       "      <td>2017</td>\n",
       "      <td>86226.0</td>\n",
       "      <td>1956.0</td>\n",
       "    </tr>\n",
       "    <tr>\n",
       "      <th>1</th>\n",
       "      <td>4</td>\n",
       "      <td>0</td>\n",
       "      <td>1</td>\n",
       "      <td>2021</td>\n",
       "      <td>13248.0</td>\n",
       "      <td>1330.0</td>\n",
       "    </tr>\n",
       "  </tbody>\n",
       "</table>\n",
       "</div>"
      ],
      "text/plain": [
       "   fuel_type  transmission  ownership  manufacture  kms_driven_converted  \\\n",
       "0          1             1          1         2017               86226.0   \n",
       "1          4             0          1         2021               13248.0   \n",
       "\n",
       "   engine_converted  \n",
       "0            1956.0  \n",
       "1            1330.0  "
      ]
     },
     "execution_count": 90,
     "metadata": {},
     "output_type": "execute_result"
    }
   ],
   "source": [
    "x_ols.head(2)"
   ]
  },
  {
   "cell_type": "code",
   "execution_count": 91,
   "id": "d74b2bbd",
   "metadata": {},
   "outputs": [],
   "source": [
    "x_train_ols , x_test_ols , y_train_ols , y_test_ols = train_test_split(x_ols ,y , test_size = 25, random_state = 12)\n",
    "#x_train_ols , x_test_ols , y_train_ols , y_test_ols = train_test_split(x_ols , y , test_size = 0.25 , random_state = 12)"
   ]
  },
  {
   "cell_type": "code",
   "execution_count": 92,
   "id": "5f3a2d5a",
   "metadata": {},
   "outputs": [],
   "source": [
    "ols = smf.OLS(endog = y_train_ols , exog = x_train_ols).fit()\n",
    "#smf.OLS(endog = y_train_ols , exog = x_train_ols).fit()"
   ]
  },
  {
   "cell_type": "code",
   "execution_count": 93,
   "id": "1bf88ff5",
   "metadata": {},
   "outputs": [
    {
     "data": {
      "text/html": [
       "<table class=\"simpletable\">\n",
       "<caption>OLS Regression Results</caption>\n",
       "<tr>\n",
       "  <th>Dep. Variable:</th>    <td>car_price_converted</td> <th>  R-squared (uncentered):</th>      <td>   0.659</td> \n",
       "</tr>\n",
       "<tr>\n",
       "  <th>Model:</th>                    <td>OLS</td>         <th>  Adj. R-squared (uncentered):</th> <td>   0.658</td> \n",
       "</tr>\n",
       "<tr>\n",
       "  <th>Method:</th>              <td>Least Squares</td>    <th>  F-statistic:       </th>          <td>   1763.</td> \n",
       "</tr>\n",
       "<tr>\n",
       "  <th>Date:</th>              <td>Tue, 02 Apr 2024</td>   <th>  Prob (F-statistic):</th>           <td>  0.00</td>  \n",
       "</tr>\n",
       "<tr>\n",
       "  <th>Time:</th>                  <td>20:17:23</td>       <th>  Log-Likelihood:    </th>          <td> -83530.</td> \n",
       "</tr>\n",
       "<tr>\n",
       "  <th>No. Observations:</th>       <td>  5487</td>        <th>  AIC:               </th>          <td>1.671e+05</td>\n",
       "</tr>\n",
       "<tr>\n",
       "  <th>Df Residuals:</th>           <td>  5481</td>        <th>  BIC:               </th>          <td>1.671e+05</td>\n",
       "</tr>\n",
       "<tr>\n",
       "  <th>Df Model:</th>               <td>     6</td>        <th>                     </th>              <td> </td>    \n",
       "</tr>\n",
       "<tr>\n",
       "  <th>Covariance Type:</th>       <td>nonrobust</td>      <th>                     </th>              <td> </td>    \n",
       "</tr>\n",
       "</table>\n",
       "<table class=\"simpletable\">\n",
       "<tr>\n",
       "            <td></td>              <th>coef</th>     <th>std err</th>      <th>t</th>      <th>P>|t|</th>  <th>[0.025</th>    <th>0.975]</th>  \n",
       "</tr>\n",
       "<tr>\n",
       "  <th>fuel_type</th>            <td>-1.972e+05</td> <td> 9463.323</td> <td>  -20.836</td> <td> 0.000</td> <td>-2.16e+05</td> <td>-1.79e+05</td>\n",
       "</tr>\n",
       "<tr>\n",
       "  <th>transmission</th>         <td>-1.571e+06</td> <td> 3.14e+04</td> <td>  -49.950</td> <td> 0.000</td> <td>-1.63e+06</td> <td>-1.51e+06</td>\n",
       "</tr>\n",
       "<tr>\n",
       "  <th>ownership</th>            <td>-1.632e+05</td> <td>    2e+04</td> <td>   -8.159</td> <td> 0.000</td> <td>-2.02e+05</td> <td>-1.24e+05</td>\n",
       "</tr>\n",
       "<tr>\n",
       "  <th>manufacture</th>          <td> 1585.6789</td> <td>   30.918</td> <td>   51.287</td> <td> 0.000</td> <td> 1525.068</td> <td> 1646.290</td>\n",
       "</tr>\n",
       "<tr>\n",
       "  <th>kms_driven_converted</th> <td>   -8.1018</td> <td>    0.414</td> <td>  -19.572</td> <td> 0.000</td> <td>   -8.913</td> <td>   -7.290</td>\n",
       "</tr>\n",
       "<tr>\n",
       "  <th>engine_converted</th>     <td>  136.1505</td> <td>   23.507</td> <td>    5.792</td> <td> 0.000</td> <td>   90.067</td> <td>  182.234</td>\n",
       "</tr>\n",
       "</table>\n",
       "<table class=\"simpletable\">\n",
       "<tr>\n",
       "  <th>Omnibus:</th>       <td>2542.695</td> <th>  Durbin-Watson:     </th> <td>   1.968</td> \n",
       "</tr>\n",
       "<tr>\n",
       "  <th>Prob(Omnibus):</th>  <td> 0.000</td>  <th>  Jarque-Bera (JB):  </th> <td>19497.335</td>\n",
       "</tr>\n",
       "<tr>\n",
       "  <th>Skew:</th>           <td> 2.062</td>  <th>  Prob(JB):          </th> <td>    0.00</td> \n",
       "</tr>\n",
       "<tr>\n",
       "  <th>Kurtosis:</th>       <td>11.262</td>  <th>  Cond. No.          </th> <td>1.70e+05</td> \n",
       "</tr>\n",
       "</table><br/><br/>Notes:<br/>[1] R² is computed without centering (uncentered) since the model does not contain a constant.<br/>[2] Standard Errors assume that the covariance matrix of the errors is correctly specified.<br/>[3] The condition number is large, 1.7e+05. This might indicate that there are<br/>strong multicollinearity or other numerical problems."
      ],
      "text/latex": [
       "\\begin{center}\n",
       "\\begin{tabular}{lclc}\n",
       "\\toprule\n",
       "\\textbf{Dep. Variable:}         & car\\_price\\_converted & \\textbf{  R-squared (uncentered):}      &     0.659   \\\\\n",
       "\\textbf{Model:}                 &          OLS          & \\textbf{  Adj. R-squared (uncentered):} &     0.658   \\\\\n",
       "\\textbf{Method:}                &     Least Squares     & \\textbf{  F-statistic:       }          &     1763.   \\\\\n",
       "\\textbf{Date:}                  &    Tue, 02 Apr 2024   & \\textbf{  Prob (F-statistic):}          &     0.00    \\\\\n",
       "\\textbf{Time:}                  &        20:17:23       & \\textbf{  Log-Likelihood:    }          &   -83530.   \\\\\n",
       "\\textbf{No. Observations:}      &           5487        & \\textbf{  AIC:               }          & 1.671e+05   \\\\\n",
       "\\textbf{Df Residuals:}          &           5481        & \\textbf{  BIC:               }          & 1.671e+05   \\\\\n",
       "\\textbf{Df Model:}              &              6        & \\textbf{                     }          &             \\\\\n",
       "\\textbf{Covariance Type:}       &       nonrobust       & \\textbf{                     }          &             \\\\\n",
       "\\bottomrule\n",
       "\\end{tabular}\n",
       "\\begin{tabular}{lcccccc}\n",
       "                                & \\textbf{coef} & \\textbf{std err} & \\textbf{t} & \\textbf{P$> |$t$|$} & \\textbf{[0.025} & \\textbf{0.975]}  \\\\\n",
       "\\midrule\n",
       "\\textbf{fuel\\_type}             &   -1.972e+05  &     9463.323     &   -20.836  &         0.000        &    -2.16e+05    &    -1.79e+05     \\\\\n",
       "\\textbf{transmission}           &   -1.571e+06  &     3.14e+04     &   -49.950  &         0.000        &    -1.63e+06    &    -1.51e+06     \\\\\n",
       "\\textbf{ownership}              &   -1.632e+05  &        2e+04     &    -8.159  &         0.000        &    -2.02e+05    &    -1.24e+05     \\\\\n",
       "\\textbf{manufacture}            &    1585.6789  &       30.918     &    51.287  &         0.000        &     1525.068    &     1646.290     \\\\\n",
       "\\textbf{kms\\_driven\\_converted} &      -8.1018  &        0.414     &   -19.572  &         0.000        &       -8.913    &       -7.290     \\\\\n",
       "\\textbf{engine\\_converted}      &     136.1505  &       23.507     &     5.792  &         0.000        &       90.067    &      182.234     \\\\\n",
       "\\bottomrule\n",
       "\\end{tabular}\n",
       "\\begin{tabular}{lclc}\n",
       "\\textbf{Omnibus:}       & 2542.695 & \\textbf{  Durbin-Watson:     } &     1.968  \\\\\n",
       "\\textbf{Prob(Omnibus):} &   0.000  & \\textbf{  Jarque-Bera (JB):  } & 19497.335  \\\\\n",
       "\\textbf{Skew:}          &   2.062  & \\textbf{  Prob(JB):          } &      0.00  \\\\\n",
       "\\textbf{Kurtosis:}      &  11.262  & \\textbf{  Cond. No.          } &  1.70e+05  \\\\\n",
       "\\bottomrule\n",
       "\\end{tabular}\n",
       "%\\caption{OLS Regression Results}\n",
       "\\end{center}\n",
       "\n",
       "Notes: \\newline\n",
       " [1] R² is computed without centering (uncentered) since the model does not contain a constant. \\newline\n",
       " [2] Standard Errors assume that the covariance matrix of the errors is correctly specified. \\newline\n",
       " [3] The condition number is large, 1.7e+05. This might indicate that there are \\newline\n",
       " strong multicollinearity or other numerical problems."
      ],
      "text/plain": [
       "<class 'statsmodels.iolib.summary.Summary'>\n",
       "\"\"\"\n",
       "                                 OLS Regression Results                                 \n",
       "========================================================================================\n",
       "Dep. Variable:     car_price_converted   R-squared (uncentered):                   0.659\n",
       "Model:                             OLS   Adj. R-squared (uncentered):              0.658\n",
       "Method:                  Least Squares   F-statistic:                              1763.\n",
       "Date:                 Tue, 02 Apr 2024   Prob (F-statistic):                        0.00\n",
       "Time:                         20:17:23   Log-Likelihood:                         -83530.\n",
       "No. Observations:                 5487   AIC:                                  1.671e+05\n",
       "Df Residuals:                     5481   BIC:                                  1.671e+05\n",
       "Df Model:                            6                                                  \n",
       "Covariance Type:             nonrobust                                                  \n",
       "========================================================================================\n",
       "                           coef    std err          t      P>|t|      [0.025      0.975]\n",
       "----------------------------------------------------------------------------------------\n",
       "fuel_type            -1.972e+05   9463.323    -20.836      0.000   -2.16e+05   -1.79e+05\n",
       "transmission         -1.571e+06   3.14e+04    -49.950      0.000   -1.63e+06   -1.51e+06\n",
       "ownership            -1.632e+05      2e+04     -8.159      0.000   -2.02e+05   -1.24e+05\n",
       "manufacture           1585.6789     30.918     51.287      0.000    1525.068    1646.290\n",
       "kms_driven_converted    -8.1018      0.414    -19.572      0.000      -8.913      -7.290\n",
       "engine_converted       136.1505     23.507      5.792      0.000      90.067     182.234\n",
       "==============================================================================\n",
       "Omnibus:                     2542.695   Durbin-Watson:                   1.968\n",
       "Prob(Omnibus):                  0.000   Jarque-Bera (JB):            19497.335\n",
       "Skew:                           2.062   Prob(JB):                         0.00\n",
       "Kurtosis:                      11.262   Cond. No.                     1.70e+05\n",
       "==============================================================================\n",
       "\n",
       "Notes:\n",
       "[1] R² is computed without centering (uncentered) since the model does not contain a constant.\n",
       "[2] Standard Errors assume that the covariance matrix of the errors is correctly specified.\n",
       "[3] The condition number is large, 1.7e+05. This might indicate that there are\n",
       "strong multicollinearity or other numerical problems.\n",
       "\"\"\""
      ]
     },
     "execution_count": 93,
     "metadata": {},
     "output_type": "execute_result"
    }
   ],
   "source": [
    "ols.summary()"
   ]
  },
  {
   "cell_type": "markdown",
   "id": "ab03c857",
   "metadata": {},
   "source": [
    "### Parametric Test :\n",
    "\n",
    "#### Accuracy : R-squared (uncentered): 0.659 , Adj. R-squared (uncentered): 0.658\n",
    "#### p-value : All variable are statically significant (p<=0.05) with dependent variable\n",
    "\n",
    "\n",
    "#### Assumption checks\n",
    "\n",
    "\n",
    "#### 1. Endonity :  we select the correct dependent variable - satisfied\n",
    "#### 2.Multicollinearity : No Multicollinearity - satisfied\n",
    "#### 3.Heteroscadasticity: No outliers are there - satisfied\n",
    "\n",
    "####  4.Autocorelation : No Autocrelation: we get Durbin-Watson: 1.968 and there is all values of variable p value is less than 0.05.\n",
    "#### 4.Normality of residual\n",
    "#### 5.normal linearity "
   ]
  },
  {
   "cell_type": "markdown",
   "id": "297f2928",
   "metadata": {},
   "source": [
    "### Check Linearity"
   ]
  },
  {
   "cell_type": "code",
   "execution_count": 94,
   "id": "e3d32b9c",
   "metadata": {},
   "outputs": [
    {
     "data": {
      "image/png": "[encoded data removed]",
      "text/plain": [
       "<Figure size 640x480 with 1 Axes>"
      ]
     },
     "metadata": {},
     "output_type": "display_data"
    }
   ],
   "source": [
    "plt.scatter(y_test , y_test_pred)\n",
    "plt.show()"
   ]
  },
  {
   "cell_type": "markdown",
   "id": "c91d1709",
   "metadata": {},
   "source": [
    "#### Insights : Not Exactly Linear thats why we get 46 % accuracy by multiple linear regression"
   ]
  },
  {
   "cell_type": "markdown",
   "id": "7ee9239d",
   "metadata": {},
   "source": [
    "### Noramlity of residual"
   ]
  },
  {
   "cell_type": "code",
   "execution_count": 95,
   "id": "dd9650e7",
   "metadata": {},
   "outputs": [
    {
     "data": {
      "image/png": "[encoded data removed]",
      "text/plain": [
       "<Figure size 640x480 with 1 Axes>"
      ]
     },
     "metadata": {},
     "output_type": "display_data"
    }
   ],
   "source": [
    "sns.distplot(y_test - y_test_pred)\n",
    "plt.show()"
   ]
  },
  {
   "cell_type": "code",
   "execution_count": 96,
   "id": "c061b051",
   "metadata": {},
   "outputs": [
    {
     "data": {
      "image/png": "[encoded data removed]",
      "text/plain": [
       "<Figure size 640x480 with 1 Axes>"
      ]
     },
     "metadata": {},
     "output_type": "display_data"
    }
   ],
   "source": [
    "sns.kdeplot(y_test - y_test_pred)\n",
    "plt.show()"
   ]
  },
  {
   "cell_type": "code",
   "execution_count": 97,
   "id": "f15ac660",
   "metadata": {},
   "outputs": [
    {
     "data": {
      "image/png": "[encoded data removed]",
      "text/plain": [
       "<Figure size 640x480 with 1 Axes>"
      ]
     },
     "metadata": {},
     "output_type": "display_data"
    }
   ],
   "source": [
    "sns.histplot((y_test - y_test_pred),bins = 30 , edgecolor = 'black')\n",
    "plt.show()"
   ]
  },
  {
   "cell_type": "markdown",
   "id": "340a3f14",
   "metadata": {},
   "source": [
    "### Regularization"
   ]
  },
  {
   "cell_type": "markdown",
   "id": "4371321a",
   "metadata": {},
   "source": [
    "#### Ridge"
   ]
  },
  {
   "cell_type": "code",
   "execution_count": 98,
   "id": "6d2a343c",
   "metadata": {},
   "outputs": [],
   "source": [
    "from sklearn.linear_model import Ridge"
   ]
  },
  {
   "cell_type": "code",
   "execution_count": 99,
   "id": "cf369a2f",
   "metadata": {},
   "outputs": [],
   "source": [
    "ridge = Ridge(alpha = 0.1)"
   ]
  },
  {
   "cell_type": "code",
   "execution_count": 100,
   "id": "8733b0b2",
   "metadata": {},
   "outputs": [
    {
     "data": {
      "text/html": [
       "<div>\n",
       "<style scoped>\n",
       "    .dataframe tbody tr th:only-of-type {\n",
       "        vertical-align: middle;\n",
       "    }\n",
       "\n",
       "    .dataframe tbody tr th {\n",
       "        vertical-align: top;\n",
       "    }\n",
       "\n",
       "    .dataframe thead th {\n",
       "        text-align: right;\n",
       "    }\n",
       "</style>\n",
       "<table border=\"1\" class=\"dataframe\">\n",
       "  <thead>\n",
       "    <tr style=\"text-align: right;\">\n",
       "      <th></th>\n",
       "      <th>fuel_type</th>\n",
       "      <th>transmission</th>\n",
       "      <th>ownership</th>\n",
       "      <th>manufacture</th>\n",
       "      <th>model</th>\n",
       "      <th>brand</th>\n",
       "      <th>kms_driven_converted</th>\n",
       "      <th>engine_converted</th>\n",
       "      <th>seats_converted</th>\n",
       "    </tr>\n",
       "  </thead>\n",
       "  <tbody>\n",
       "    <tr>\n",
       "      <th>3693</th>\n",
       "      <td>0</td>\n",
       "      <td>1</td>\n",
       "      <td>1</td>\n",
       "      <td>2014</td>\n",
       "      <td>16</td>\n",
       "      <td>18</td>\n",
       "      <td>50000.0</td>\n",
       "      <td>1248.0</td>\n",
       "      <td>5.0</td>\n",
       "    </tr>\n",
       "    <tr>\n",
       "      <th>2851</th>\n",
       "      <td>4</td>\n",
       "      <td>1</td>\n",
       "      <td>1</td>\n",
       "      <td>2013</td>\n",
       "      <td>56</td>\n",
       "      <td>9</td>\n",
       "      <td>110000.0</td>\n",
       "      <td>1582.0</td>\n",
       "      <td>5.0</td>\n",
       "    </tr>\n",
       "  </tbody>\n",
       "</table>\n",
       "</div>"
      ],
      "text/plain": [
       "      fuel_type  transmission  ownership  manufacture  model  brand  \\\n",
       "3693          0             1          1         2014     16     18   \n",
       "2851          4             1          1         2013     56      9   \n",
       "\n",
       "      kms_driven_converted  engine_converted  seats_converted  \n",
       "3693               50000.0            1248.0              5.0  \n",
       "2851              110000.0            1582.0              5.0  "
      ]
     },
     "execution_count": 100,
     "metadata": {},
     "output_type": "execute_result"
    }
   ],
   "source": [
    "x_train.head(2)"
   ]
  },
  {
   "cell_type": "code",
   "execution_count": 101,
   "id": "f3607af7",
   "metadata": {},
   "outputs": [
    {
     "data": {
      "text/plain": [
       "3693    220000.0\n",
       "2851    180000.0\n",
       "Name: car_price_converted, dtype: float64"
      ]
     },
     "execution_count": 101,
     "metadata": {},
     "output_type": "execute_result"
    }
   ],
   "source": [
    "y_train.head(2)"
   ]
  },
  {
   "cell_type": "code",
   "execution_count": 102,
   "id": "eef3253b",
   "metadata": {},
   "outputs": [
    {
     "data": {
      "text/html": [
       "<style>#sk-container-id-3 {color: black;}#sk-container-id-3 pre{padding: 0;}#sk-container-id-3 div.sk-toggleable {background-color: white;}#sk-container-id-3 label.sk-toggleable__label {cursor: pointer;display: block;width: 100%;margin-bottom: 0;padding: 0.3em;box-sizing: border-box;text-align: center;}#sk-container-id-3 label.sk-toggleable__label-arrow:before {content: \"▸\";float: left;margin-right: 0.25em;color: #696969;}#sk-container-id-3 label.sk-toggleable__label-arrow:hover:before {color: black;}#sk-container-id-3 div.sk-estimator:hover label.sk-toggleable__label-arrow:before {color: black;}#sk-container-id-3 div.sk-toggleable__content {max-height: 0;max-width: 0;overflow: hidden;text-align: left;background-color: #f0f8ff;}#sk-container-id-3 div.sk-toggleable__content pre {margin: 0.2em;color: black;border-radius: 0.25em;background-color: #f0f8ff;}#sk-container-id-3 input.sk-toggleable__control:checked~div.sk-toggleable__content {max-height: 200px;max-width: 100%;overflow: auto;}#sk-container-id-3 input.sk-toggleable__control:checked~label.sk-toggleable__label-arrow:before {content: \"▾\";}#sk-container-id-3 div.sk-estimator input.sk-toggleable__control:checked~label.sk-toggleable__label {background-color: #d4ebff;}#sk-container-id-3 div.sk-label input.sk-toggleable__control:checked~label.sk-toggleable__label {background-color: #d4ebff;}#sk-container-id-3 input.sk-hidden--visually {border: 0;clip: rect(1px 1px 1px 1px);clip: rect(1px, 1px, 1px, 1px);height: 1px;margin: -1px;overflow: hidden;padding: 0;position: absolute;width: 1px;}#sk-container-id-3 div.sk-estimator {font-family: monospace;background-color: #f0f8ff;border: 1px dotted black;border-radius: 0.25em;box-sizing: border-box;margin-bottom: 0.5em;}#sk-container-id-3 div.sk-estimator:hover {background-color: #d4ebff;}#sk-container-id-3 div.sk-parallel-item::after {content: \"\";width: 100%;border-bottom: 1px solid gray;flex-grow: 1;}#sk-container-id-3 div.sk-label:hover label.sk-toggleable__label {background-color: #d4ebff;}#sk-container-id-3 div.sk-serial::before {content: \"\";position: absolute;border-left: 1px solid gray;box-sizing: border-box;top: 0;bottom: 0;left: 50%;z-index: 0;}#sk-container-id-3 div.sk-serial {display: flex;flex-direction: column;align-items: center;background-color: white;padding-right: 0.2em;padding-left: 0.2em;position: relative;}#sk-container-id-3 div.sk-item {position: relative;z-index: 1;}#sk-container-id-3 div.sk-parallel {display: flex;align-items: stretch;justify-content: center;background-color: white;position: relative;}#sk-container-id-3 div.sk-item::before, #sk-container-id-3 div.sk-parallel-item::before {content: \"\";position: absolute;border-left: 1px solid gray;box-sizing: border-box;top: 0;bottom: 0;left: 50%;z-index: -1;}#sk-container-id-3 div.sk-parallel-item {display: flex;flex-direction: column;z-index: 1;position: relative;background-color: white;}#sk-container-id-3 div.sk-parallel-item:first-child::after {align-self: flex-end;width: 50%;}#sk-container-id-3 div.sk-parallel-item:last-child::after {align-self: flex-start;width: 50%;}#sk-container-id-3 div.sk-parallel-item:only-child::after {width: 0;}#sk-container-id-3 div.sk-dashed-wrapped {border: 1px dashed gray;margin: 0 0.4em 0.5em 0.4em;box-sizing: border-box;padding-bottom: 0.4em;background-color: white;}#sk-container-id-3 div.sk-label label {font-family: monospace;font-weight: bold;display: inline-block;line-height: 1.2em;}#sk-container-id-3 div.sk-label-container {text-align: center;}#sk-container-id-3 div.sk-container {/* jupyter's `normalize.less` sets `[hidden] { display: none; }` but bootstrap.min.css set `[hidden] { display: none !important; }` so we also need the `!important` here to be able to override the default hidden behavior on the sphinx rendered scikit-learn.org. See: https://github.com/scikit-learn/scikit-learn/issues/21755 */display: inline-block !important;position: relative;}#sk-container-id-3 div.sk-text-repr-fallback {display: none;}</style><div id=\"sk-container-id-3\" class=\"sk-top-container\"><div class=\"sk-text-repr-fallback\"><pre>Ridge(alpha=0.1)</pre><b>In a Jupyter environment, please rerun this cell to show the HTML representation or trust the notebook. <br />On GitHub, the HTML representation is unable to render, please try loading this page with nbviewer.org.</b></div><div class=\"sk-container\" hidden><div class=\"sk-item\"><div class=\"sk-estimator sk-toggleable\"><input class=\"sk-toggleable__control sk-hidden--visually\" id=\"sk-estimator-id-3\" type=\"checkbox\" checked><label for=\"sk-estimator-id-3\" class=\"sk-toggleable__label sk-toggleable__label-arrow\">Ridge</label><div class=\"sk-toggleable__content\"><pre>Ridge(alpha=0.1)</pre></div></div></div></div></div>"
      ],
      "text/plain": [
       "Ridge(alpha=0.1)"
      ]
     },
     "execution_count": 102,
     "metadata": {},
     "output_type": "execute_result"
    }
   ],
   "source": [
    "ridge.fit(x_train , y_train)"
   ]
  },
  {
   "cell_type": "code",
   "execution_count": 103,
   "id": "c01416db",
   "metadata": {},
   "outputs": [],
   "source": [
    "y_train_pred_ridge = ridge.predict(x_train)"
   ]
  },
  {
   "cell_type": "code",
   "execution_count": 104,
   "id": "74f75b69",
   "metadata": {},
   "outputs": [
    {
     "data": {
      "text/plain": [
       "array([1045758.83084977,   49276.407487  ,  627820.01475839, ...,\n",
       "       2595150.9560699 ,  599078.74475107, 2527238.62910959])"
      ]
     },
     "execution_count": 104,
     "metadata": {},
     "output_type": "execute_result"
    }
   ],
   "source": [
    "y_train_pred_ridge"
   ]
  },
  {
   "cell_type": "code",
   "execution_count": 105,
   "id": "d4e15a37",
   "metadata": {},
   "outputs": [
    {
     "data": {
      "text/plain": [
       "0.49063611060544077"
      ]
     },
     "execution_count": 105,
     "metadata": {},
     "output_type": "execute_result"
    }
   ],
   "source": [
    "r2_score(y_train , y_train_pred_ridge)"
   ]
  },
  {
   "cell_type": "markdown",
   "id": "bb64ab0f",
   "metadata": {},
   "source": [
    "#### Training Accuracy of Ridge is 0.49063611060544077"
   ]
  },
  {
   "cell_type": "markdown",
   "id": "6c95f611",
   "metadata": {},
   "source": [
    "### Gradient Descent"
   ]
  },
  {
   "cell_type": "code",
   "execution_count": 106,
   "id": "f6abe2eb",
   "metadata": {},
   "outputs": [],
   "source": [
    "from sklearn.linear_model import SGDRegressor"
   ]
  },
  {
   "cell_type": "code",
   "execution_count": 107,
   "id": "0a8e629e",
   "metadata": {},
   "outputs": [],
   "source": [
    "gdmodel = SGDRegressor()"
   ]
  },
  {
   "cell_type": "code",
   "execution_count": 108,
   "id": "88cbd837",
   "metadata": {},
   "outputs": [
    {
     "data": {
      "text/html": [
       "<div>\n",
       "<style scoped>\n",
       "    .dataframe tbody tr th:only-of-type {\n",
       "        vertical-align: middle;\n",
       "    }\n",
       "\n",
       "    .dataframe tbody tr th {\n",
       "        vertical-align: top;\n",
       "    }\n",
       "\n",
       "    .dataframe thead th {\n",
       "        text-align: right;\n",
       "    }\n",
       "</style>\n",
       "<table border=\"1\" class=\"dataframe\">\n",
       "  <thead>\n",
       "    <tr style=\"text-align: right;\">\n",
       "      <th></th>\n",
       "      <th>fuel_type</th>\n",
       "      <th>transmission</th>\n",
       "      <th>ownership</th>\n",
       "      <th>manufacture</th>\n",
       "      <th>model</th>\n",
       "      <th>brand</th>\n",
       "      <th>kms_driven_converted</th>\n",
       "      <th>engine_converted</th>\n",
       "      <th>seats_converted</th>\n",
       "    </tr>\n",
       "  </thead>\n",
       "  <tbody>\n",
       "    <tr>\n",
       "      <th>0</th>\n",
       "      <td>-1.068243</td>\n",
       "      <td>0.625473</td>\n",
       "      <td>-0.599986</td>\n",
       "      <td>0.393228</td>\n",
       "      <td>-0.961147</td>\n",
       "      <td>-0.425853</td>\n",
       "      <td>0.657683</td>\n",
       "      <td>0.731579</td>\n",
       "      <td>-0.348225</td>\n",
       "    </tr>\n",
       "    <tr>\n",
       "      <th>1</th>\n",
       "      <td>0.918538</td>\n",
       "      <td>-1.598790</td>\n",
       "      <td>-0.599986</td>\n",
       "      <td>1.411657</td>\n",
       "      <td>-0.864926</td>\n",
       "      <td>1.296126</td>\n",
       "      <td>-1.327744</td>\n",
       "      <td>-0.349299</td>\n",
       "      <td>-0.348225</td>\n",
       "    </tr>\n",
       "  </tbody>\n",
       "</table>\n",
       "</div>"
      ],
      "text/plain": [
       "   fuel_type  transmission  ownership  manufacture     model     brand  \\\n",
       "0  -1.068243      0.625473  -0.599986     0.393228 -0.961147 -0.425853   \n",
       "1   0.918538     -1.598790  -0.599986     1.411657 -0.864926  1.296126   \n",
       "\n",
       "   kms_driven_converted  engine_converted  seats_converted  \n",
       "0              0.657683          0.731579        -0.348225  \n",
       "1             -1.327744         -0.349299        -0.348225  "
      ]
     },
     "execution_count": 108,
     "metadata": {},
     "output_type": "execute_result"
    }
   ],
   "source": [
    "scaled_x.head(2)"
   ]
  },
  {
   "cell_type": "code",
   "execution_count": 109,
   "id": "27b80ea3",
   "metadata": {},
   "outputs": [],
   "source": [
    "scaler = StandardScaler()"
   ]
  },
  {
   "cell_type": "code",
   "execution_count": 110,
   "id": "4603a465",
   "metadata": {},
   "outputs": [],
   "source": [
    "x_train_scaled = scaler.fit_transform(x_train)\n",
    "x_test_scaled = scaler.transform(x_test)"
   ]
  },
  {
   "cell_type": "code",
   "execution_count": 111,
   "id": "8ca8888e",
   "metadata": {},
   "outputs": [
    {
     "data": {
      "text/plain": [
       "array([[-1.71910988,  0.61967517, -0.61531122, ..., -0.34130287,\n",
       "        -0.48515938, -0.35493738],\n",
       "       [ 0.9304568 ,  0.61967517, -0.61531122, ...,  1.27659214,\n",
       "         0.08685314, -0.35493738],\n",
       "       [-1.71910988,  0.61967517, -0.61531122, ...,  1.00694297,\n",
       "        -1.25926015, -0.35493738],\n",
       "       ...,\n",
       "       [-1.05671821, -1.61374869, -0.61531122, ..., -0.44646605,\n",
       "        -0.76260257, -0.35493738],\n",
       "       [-1.05671821,  0.61967517,  0.78079009, ...,  0.92604822,\n",
       "        -0.48515938, -0.35493738],\n",
       "       [-1.05671821, -1.61374869, -0.61531122, ...,  0.14406563,\n",
       "        -0.57078999, -0.35493738]])"
      ]
     },
     "execution_count": 111,
     "metadata": {},
     "output_type": "execute_result"
    }
   ],
   "source": [
    "x_train_scaled"
   ]
  },
  {
   "cell_type": "code",
   "execution_count": 112,
   "id": "b4cfd570",
   "metadata": {},
   "outputs": [
    {
     "data": {
      "text/html": [
       "<style>#sk-container-id-4 {color: black;}#sk-container-id-4 pre{padding: 0;}#sk-container-id-4 div.sk-toggleable {background-color: white;}#sk-container-id-4 label.sk-toggleable__label {cursor: pointer;display: block;width: 100%;margin-bottom: 0;padding: 0.3em;box-sizing: border-box;text-align: center;}#sk-container-id-4 label.sk-toggleable__label-arrow:before {content: \"▸\";float: left;margin-right: 0.25em;color: #696969;}#sk-container-id-4 label.sk-toggleable__label-arrow:hover:before {color: black;}#sk-container-id-4 div.sk-estimator:hover label.sk-toggleable__label-arrow:before {color: black;}#sk-container-id-4 div.sk-toggleable__content {max-height: 0;max-width: 0;overflow: hidden;text-align: left;background-color: #f0f8ff;}#sk-container-id-4 div.sk-toggleable__content pre {margin: 0.2em;color: black;border-radius: 0.25em;background-color: #f0f8ff;}#sk-container-id-4 input.sk-toggleable__control:checked~div.sk-toggleable__content {max-height: 200px;max-width: 100%;overflow: auto;}#sk-container-id-4 input.sk-toggleable__control:checked~label.sk-toggleable__label-arrow:before {content: \"▾\";}#sk-container-id-4 div.sk-estimator input.sk-toggleable__control:checked~label.sk-toggleable__label {background-color: #d4ebff;}#sk-container-id-4 div.sk-label input.sk-toggleable__control:checked~label.sk-toggleable__label {background-color: #d4ebff;}#sk-container-id-4 input.sk-hidden--visually {border: 0;clip: rect(1px 1px 1px 1px);clip: rect(1px, 1px, 1px, 1px);height: 1px;margin: -1px;overflow: hidden;padding: 0;position: absolute;width: 1px;}#sk-container-id-4 div.sk-estimator {font-family: monospace;background-color: #f0f8ff;border: 1px dotted black;border-radius: 0.25em;box-sizing: border-box;margin-bottom: 0.5em;}#sk-container-id-4 div.sk-estimator:hover {background-color: #d4ebff;}#sk-container-id-4 div.sk-parallel-item::after {content: \"\";width: 100%;border-bottom: 1px solid gray;flex-grow: 1;}#sk-container-id-4 div.sk-label:hover label.sk-toggleable__label {background-color: #d4ebff;}#sk-container-id-4 div.sk-serial::before {content: \"\";position: absolute;border-left: 1px solid gray;box-sizing: border-box;top: 0;bottom: 0;left: 50%;z-index: 0;}#sk-container-id-4 div.sk-serial {display: flex;flex-direction: column;align-items: center;background-color: white;padding-right: 0.2em;padding-left: 0.2em;position: relative;}#sk-container-id-4 div.sk-item {position: relative;z-index: 1;}#sk-container-id-4 div.sk-parallel {display: flex;align-items: stretch;justify-content: center;background-color: white;position: relative;}#sk-container-id-4 div.sk-item::before, #sk-container-id-4 div.sk-parallel-item::before {content: \"\";position: absolute;border-left: 1px solid gray;box-sizing: border-box;top: 0;bottom: 0;left: 50%;z-index: -1;}#sk-container-id-4 div.sk-parallel-item {display: flex;flex-direction: column;z-index: 1;position: relative;background-color: white;}#sk-container-id-4 div.sk-parallel-item:first-child::after {align-self: flex-end;width: 50%;}#sk-container-id-4 div.sk-parallel-item:last-child::after {align-self: flex-start;width: 50%;}#sk-container-id-4 div.sk-parallel-item:only-child::after {width: 0;}#sk-container-id-4 div.sk-dashed-wrapped {border: 1px dashed gray;margin: 0 0.4em 0.5em 0.4em;box-sizing: border-box;padding-bottom: 0.4em;background-color: white;}#sk-container-id-4 div.sk-label label {font-family: monospace;font-weight: bold;display: inline-block;line-height: 1.2em;}#sk-container-id-4 div.sk-label-container {text-align: center;}#sk-container-id-4 div.sk-container {/* jupyter's `normalize.less` sets `[hidden] { display: none; }` but bootstrap.min.css set `[hidden] { display: none !important; }` so we also need the `!important` here to be able to override the default hidden behavior on the sphinx rendered scikit-learn.org. See: https://github.com/scikit-learn/scikit-learn/issues/21755 */display: inline-block !important;position: relative;}#sk-container-id-4 div.sk-text-repr-fallback {display: none;}</style><div id=\"sk-container-id-4\" class=\"sk-top-container\"><div class=\"sk-text-repr-fallback\"><pre>SGDRegressor()</pre><b>In a Jupyter environment, please rerun this cell to show the HTML representation or trust the notebook. <br />On GitHub, the HTML representation is unable to render, please try loading this page with nbviewer.org.</b></div><div class=\"sk-container\" hidden><div class=\"sk-item\"><div class=\"sk-estimator sk-toggleable\"><input class=\"sk-toggleable__control sk-hidden--visually\" id=\"sk-estimator-id-4\" type=\"checkbox\" checked><label for=\"sk-estimator-id-4\" class=\"sk-toggleable__label sk-toggleable__label-arrow\">SGDRegressor</label><div class=\"sk-toggleable__content\"><pre>SGDRegressor()</pre></div></div></div></div></div>"
      ],
      "text/plain": [
       "SGDRegressor()"
      ]
     },
     "execution_count": 112,
     "metadata": {},
     "output_type": "execute_result"
    }
   ],
   "source": [
    "gdmodel.fit(x_train_scaled , y_train)"
   ]
  },
  {
   "cell_type": "code",
   "execution_count": 113,
   "id": "ba08058a",
   "metadata": {},
   "outputs": [],
   "source": [
    "y_train_pred_gd = gdmodel.predict(x_train_scaled)"
   ]
  },
  {
   "cell_type": "code",
   "execution_count": 114,
   "id": "763b1701",
   "metadata": {},
   "outputs": [],
   "source": [
    "training_accuracy_gd = r2_score(y_train , y_train_pred_gd )"
   ]
  },
  {
   "cell_type": "code",
   "execution_count": 115,
   "id": "3428f6a9",
   "metadata": {},
   "outputs": [
    {
     "data": {
      "text/plain": [
       "0.4895810088187771"
      ]
     },
     "execution_count": 115,
     "metadata": {},
     "output_type": "execute_result"
    }
   ],
   "source": [
    "training_accuracy_gd"
   ]
  },
  {
   "cell_type": "markdown",
   "id": "442433ee",
   "metadata": {},
   "source": [
    "#### Training Accuracy of SGDRegressor is 0.4900922198824006"
   ]
  },
  {
   "cell_type": "code",
   "execution_count": 116,
   "id": "e69a533b",
   "metadata": {},
   "outputs": [
    {
     "data": {
      "text/html": [
       "<style>#sk-container-id-5 {color: black;}#sk-container-id-5 pre{padding: 0;}#sk-container-id-5 div.sk-toggleable {background-color: white;}#sk-container-id-5 label.sk-toggleable__label {cursor: pointer;display: block;width: 100%;margin-bottom: 0;padding: 0.3em;box-sizing: border-box;text-align: center;}#sk-container-id-5 label.sk-toggleable__label-arrow:before {content: \"▸\";float: left;margin-right: 0.25em;color: #696969;}#sk-container-id-5 label.sk-toggleable__label-arrow:hover:before {color: black;}#sk-container-id-5 div.sk-estimator:hover label.sk-toggleable__label-arrow:before {color: black;}#sk-container-id-5 div.sk-toggleable__content {max-height: 0;max-width: 0;overflow: hidden;text-align: left;background-color: #f0f8ff;}#sk-container-id-5 div.sk-toggleable__content pre {margin: 0.2em;color: black;border-radius: 0.25em;background-color: #f0f8ff;}#sk-container-id-5 input.sk-toggleable__control:checked~div.sk-toggleable__content {max-height: 200px;max-width: 100%;overflow: auto;}#sk-container-id-5 input.sk-toggleable__control:checked~label.sk-toggleable__label-arrow:before {content: \"▾\";}#sk-container-id-5 div.sk-estimator input.sk-toggleable__control:checked~label.sk-toggleable__label {background-color: #d4ebff;}#sk-container-id-5 div.sk-label input.sk-toggleable__control:checked~label.sk-toggleable__label {background-color: #d4ebff;}#sk-container-id-5 input.sk-hidden--visually {border: 0;clip: rect(1px 1px 1px 1px);clip: rect(1px, 1px, 1px, 1px);height: 1px;margin: -1px;overflow: hidden;padding: 0;position: absolute;width: 1px;}#sk-container-id-5 div.sk-estimator {font-family: monospace;background-color: #f0f8ff;border: 1px dotted black;border-radius: 0.25em;box-sizing: border-box;margin-bottom: 0.5em;}#sk-container-id-5 div.sk-estimator:hover {background-color: #d4ebff;}#sk-container-id-5 div.sk-parallel-item::after {content: \"\";width: 100%;border-bottom: 1px solid gray;flex-grow: 1;}#sk-container-id-5 div.sk-label:hover label.sk-toggleable__label {background-color: #d4ebff;}#sk-container-id-5 div.sk-serial::before {content: \"\";position: absolute;border-left: 1px solid gray;box-sizing: border-box;top: 0;bottom: 0;left: 50%;z-index: 0;}#sk-container-id-5 div.sk-serial {display: flex;flex-direction: column;align-items: center;background-color: white;padding-right: 0.2em;padding-left: 0.2em;position: relative;}#sk-container-id-5 div.sk-item {position: relative;z-index: 1;}#sk-container-id-5 div.sk-parallel {display: flex;align-items: stretch;justify-content: center;background-color: white;position: relative;}#sk-container-id-5 div.sk-item::before, #sk-container-id-5 div.sk-parallel-item::before {content: \"\";position: absolute;border-left: 1px solid gray;box-sizing: border-box;top: 0;bottom: 0;left: 50%;z-index: -1;}#sk-container-id-5 div.sk-parallel-item {display: flex;flex-direction: column;z-index: 1;position: relative;background-color: white;}#sk-container-id-5 div.sk-parallel-item:first-child::after {align-self: flex-end;width: 50%;}#sk-container-id-5 div.sk-parallel-item:last-child::after {align-self: flex-start;width: 50%;}#sk-container-id-5 div.sk-parallel-item:only-child::after {width: 0;}#sk-container-id-5 div.sk-dashed-wrapped {border: 1px dashed gray;margin: 0 0.4em 0.5em 0.4em;box-sizing: border-box;padding-bottom: 0.4em;background-color: white;}#sk-container-id-5 div.sk-label label {font-family: monospace;font-weight: bold;display: inline-block;line-height: 1.2em;}#sk-container-id-5 div.sk-label-container {text-align: center;}#sk-container-id-5 div.sk-container {/* jupyter's `normalize.less` sets `[hidden] { display: none; }` but bootstrap.min.css set `[hidden] { display: none !important; }` so we also need the `!important` here to be able to override the default hidden behavior on the sphinx rendered scikit-learn.org. See: https://github.com/scikit-learn/scikit-learn/issues/21755 */display: inline-block !important;position: relative;}#sk-container-id-5 div.sk-text-repr-fallback {display: none;}</style><div id=\"sk-container-id-5\" class=\"sk-top-container\"><div class=\"sk-text-repr-fallback\"><pre>SGDRegressor()</pre><b>In a Jupyter environment, please rerun this cell to show the HTML representation or trust the notebook. <br />On GitHub, the HTML representation is unable to render, please try loading this page with nbviewer.org.</b></div><div class=\"sk-container\" hidden><div class=\"sk-item\"><div class=\"sk-estimator sk-toggleable\"><input class=\"sk-toggleable__control sk-hidden--visually\" id=\"sk-estimator-id-5\" type=\"checkbox\" checked><label for=\"sk-estimator-id-5\" class=\"sk-toggleable__label sk-toggleable__label-arrow\">SGDRegressor</label><div class=\"sk-toggleable__content\"><pre>SGDRegressor()</pre></div></div></div></div></div>"
      ],
      "text/plain": [
       "SGDRegressor()"
      ]
     },
     "execution_count": 116,
     "metadata": {},
     "output_type": "execute_result"
    }
   ],
   "source": [
    "gdmodel.fit(x_test_scaled , y_test)"
   ]
  },
  {
   "cell_type": "code",
   "execution_count": 117,
   "id": "702644af",
   "metadata": {},
   "outputs": [],
   "source": [
    "y_test_predict_gd = gdmodel.predict(x_test_scaled)"
   ]
  },
  {
   "cell_type": "code",
   "execution_count": 118,
   "id": "c821e942",
   "metadata": {},
   "outputs": [
    {
     "data": {
      "text/plain": [
       "array([2255040.44290843,  678273.58289854,  846515.85261583, ...,\n",
       "       1057123.821591  , 2430724.40567795, -417421.8539384 ])"
      ]
     },
     "execution_count": 118,
     "metadata": {},
     "output_type": "execute_result"
    }
   ],
   "source": [
    "y_test_predict_gd"
   ]
  },
  {
   "cell_type": "code",
   "execution_count": 119,
   "id": "47cad657",
   "metadata": {},
   "outputs": [
    {
     "data": {
      "text/plain": [
       "0.46923167395598164"
      ]
     },
     "execution_count": 119,
     "metadata": {},
     "output_type": "execute_result"
    }
   ],
   "source": [
    "r2_score(y_test , y_test_predict_gd)"
   ]
  },
  {
   "cell_type": "markdown",
   "id": "4cf52214",
   "metadata": {},
   "source": [
    "#### Testing Accuracy of SGDRegressor is 0.4694072512686076"
   ]
  },
  {
   "cell_type": "code",
   "execution_count": 120,
   "id": "f94a8cea",
   "metadata": {},
   "outputs": [],
   "source": [
    "from sklearn.model_selection import cross_val_score"
   ]
  },
  {
   "cell_type": "code",
   "execution_count": 121,
   "id": "feeeceb2",
   "metadata": {},
   "outputs": [],
   "source": [
    "cs = cross_val_score(regression , x_train , y_train , cv = 10)"
   ]
  },
  {
   "cell_type": "code",
   "execution_count": 122,
   "id": "4b33e758",
   "metadata": {},
   "outputs": [
    {
     "data": {
      "text/plain": [
       "array([0.4585947 , 0.47207166, 0.47633745, 0.4814673 , 0.52140249,\n",
       "       0.51796987, 0.51921119, 0.44881593, 0.46294914, 0.49252361])"
      ]
     },
     "execution_count": 122,
     "metadata": {},
     "output_type": "execute_result"
    }
   ],
   "source": [
    "cs"
   ]
  },
  {
   "cell_type": "code",
   "execution_count": 123,
   "id": "f8611f45",
   "metadata": {},
   "outputs": [
    {
     "data": {
      "text/plain": [
       "0.48513433313122156"
      ]
     },
     "execution_count": 123,
     "metadata": {},
     "output_type": "execute_result"
    }
   ],
   "source": [
    "cs.mean()"
   ]
  },
  {
   "cell_type": "code",
   "execution_count": 124,
   "id": "1be0cf60",
   "metadata": {},
   "outputs": [
    {
     "data": {
      "text/plain": [
       "0.521402485947022"
      ]
     },
     "execution_count": 124,
     "metadata": {},
     "output_type": "execute_result"
    }
   ],
   "source": [
    "cs.max()"
   ]
  },
  {
   "cell_type": "markdown",
   "id": "80fe550b",
   "metadata": {},
   "source": [
    "#### Maximum Accuracy of SGDRegressor is 0.521402485947022"
   ]
  },
  {
   "cell_type": "markdown",
   "id": "52197ef2",
   "metadata": {},
   "source": [
    "### RandomForest"
   ]
  },
  {
   "cell_type": "code",
   "execution_count": 125,
   "id": "450030a5",
   "metadata": {},
   "outputs": [],
   "source": [
    "from sklearn.ensemble import RandomForestRegressor"
   ]
  },
  {
   "cell_type": "code",
   "execution_count": 126,
   "id": "decde08e",
   "metadata": {},
   "outputs": [],
   "source": [
    "rf = RandomForestRegressor(n_estimators = 500)"
   ]
  },
  {
   "cell_type": "code",
   "execution_count": 127,
   "id": "b4d1df0e",
   "metadata": {},
   "outputs": [
    {
     "data": {
      "text/html": [
       "<style>#sk-container-id-6 {color: black;}#sk-container-id-6 pre{padding: 0;}#sk-container-id-6 div.sk-toggleable {background-color: white;}#sk-container-id-6 label.sk-toggleable__label {cursor: pointer;display: block;width: 100%;margin-bottom: 0;padding: 0.3em;box-sizing: border-box;text-align: center;}#sk-container-id-6 label.sk-toggleable__label-arrow:before {content: \"▸\";float: left;margin-right: 0.25em;color: #696969;}#sk-container-id-6 label.sk-toggleable__label-arrow:hover:before {color: black;}#sk-container-id-6 div.sk-estimator:hover label.sk-toggleable__label-arrow:before {color: black;}#sk-container-id-6 div.sk-toggleable__content {max-height: 0;max-width: 0;overflow: hidden;text-align: left;background-color: #f0f8ff;}#sk-container-id-6 div.sk-toggleable__content pre {margin: 0.2em;color: black;border-radius: 0.25em;background-color: #f0f8ff;}#sk-container-id-6 input.sk-toggleable__control:checked~div.sk-toggleable__content {max-height: 200px;max-width: 100%;overflow: auto;}#sk-container-id-6 input.sk-toggleable__control:checked~label.sk-toggleable__label-arrow:before {content: \"▾\";}#sk-container-id-6 div.sk-estimator input.sk-toggleable__control:checked~label.sk-toggleable__label {background-color: #d4ebff;}#sk-container-id-6 div.sk-label input.sk-toggleable__control:checked~label.sk-toggleable__label {background-color: #d4ebff;}#sk-container-id-6 input.sk-hidden--visually {border: 0;clip: rect(1px 1px 1px 1px);clip: rect(1px, 1px, 1px, 1px);height: 1px;margin: -1px;overflow: hidden;padding: 0;position: absolute;width: 1px;}#sk-container-id-6 div.sk-estimator {font-family: monospace;background-color: #f0f8ff;border: 1px dotted black;border-radius: 0.25em;box-sizing: border-box;margin-bottom: 0.5em;}#sk-container-id-6 div.sk-estimator:hover {background-color: #d4ebff;}#sk-container-id-6 div.sk-parallel-item::after {content: \"\";width: 100%;border-bottom: 1px solid gray;flex-grow: 1;}#sk-container-id-6 div.sk-label:hover label.sk-toggleable__label {background-color: #d4ebff;}#sk-container-id-6 div.sk-serial::before {content: \"\";position: absolute;border-left: 1px solid gray;box-sizing: border-box;top: 0;bottom: 0;left: 50%;z-index: 0;}#sk-container-id-6 div.sk-serial {display: flex;flex-direction: column;align-items: center;background-color: white;padding-right: 0.2em;padding-left: 0.2em;position: relative;}#sk-container-id-6 div.sk-item {position: relative;z-index: 1;}#sk-container-id-6 div.sk-parallel {display: flex;align-items: stretch;justify-content: center;background-color: white;position: relative;}#sk-container-id-6 div.sk-item::before, #sk-container-id-6 div.sk-parallel-item::before {content: \"\";position: absolute;border-left: 1px solid gray;box-sizing: border-box;top: 0;bottom: 0;left: 50%;z-index: -1;}#sk-container-id-6 div.sk-parallel-item {display: flex;flex-direction: column;z-index: 1;position: relative;background-color: white;}#sk-container-id-6 div.sk-parallel-item:first-child::after {align-self: flex-end;width: 50%;}#sk-container-id-6 div.sk-parallel-item:last-child::after {align-self: flex-start;width: 50%;}#sk-container-id-6 div.sk-parallel-item:only-child::after {width: 0;}#sk-container-id-6 div.sk-dashed-wrapped {border: 1px dashed gray;margin: 0 0.4em 0.5em 0.4em;box-sizing: border-box;padding-bottom: 0.4em;background-color: white;}#sk-container-id-6 div.sk-label label {font-family: monospace;font-weight: bold;display: inline-block;line-height: 1.2em;}#sk-container-id-6 div.sk-label-container {text-align: center;}#sk-container-id-6 div.sk-container {/* jupyter's `normalize.less` sets `[hidden] { display: none; }` but bootstrap.min.css set `[hidden] { display: none !important; }` so we also need the `!important` here to be able to override the default hidden behavior on the sphinx rendered scikit-learn.org. See: https://github.com/scikit-learn/scikit-learn/issues/21755 */display: inline-block !important;position: relative;}#sk-container-id-6 div.sk-text-repr-fallback {display: none;}</style><div id=\"sk-container-id-6\" class=\"sk-top-container\"><div class=\"sk-text-repr-fallback\"><pre>RandomForestRegressor(n_estimators=500)</pre><b>In a Jupyter environment, please rerun this cell to show the HTML representation or trust the notebook. <br />On GitHub, the HTML representation is unable to render, please try loading this page with nbviewer.org.</b></div><div class=\"sk-container\" hidden><div class=\"sk-item\"><div class=\"sk-estimator sk-toggleable\"><input class=\"sk-toggleable__control sk-hidden--visually\" id=\"sk-estimator-id-6\" type=\"checkbox\" checked><label for=\"sk-estimator-id-6\" class=\"sk-toggleable__label sk-toggleable__label-arrow\">RandomForestRegressor</label><div class=\"sk-toggleable__content\"><pre>RandomForestRegressor(n_estimators=500)</pre></div></div></div></div></div>"
      ],
      "text/plain": [
       "RandomForestRegressor(n_estimators=500)"
      ]
     },
     "execution_count": 127,
     "metadata": {},
     "output_type": "execute_result"
    }
   ],
   "source": [
    "rf"
   ]
  },
  {
   "cell_type": "code",
   "execution_count": 128,
   "id": "47a583c0",
   "metadata": {},
   "outputs": [
    {
     "data": {
      "text/html": [
       "<style>#sk-container-id-7 {color: black;}#sk-container-id-7 pre{padding: 0;}#sk-container-id-7 div.sk-toggleable {background-color: white;}#sk-container-id-7 label.sk-toggleable__label {cursor: pointer;display: block;width: 100%;margin-bottom: 0;padding: 0.3em;box-sizing: border-box;text-align: center;}#sk-container-id-7 label.sk-toggleable__label-arrow:before {content: \"▸\";float: left;margin-right: 0.25em;color: #696969;}#sk-container-id-7 label.sk-toggleable__label-arrow:hover:before {color: black;}#sk-container-id-7 div.sk-estimator:hover label.sk-toggleable__label-arrow:before {color: black;}#sk-container-id-7 div.sk-toggleable__content {max-height: 0;max-width: 0;overflow: hidden;text-align: left;background-color: #f0f8ff;}#sk-container-id-7 div.sk-toggleable__content pre {margin: 0.2em;color: black;border-radius: 0.25em;background-color: #f0f8ff;}#sk-container-id-7 input.sk-toggleable__control:checked~div.sk-toggleable__content {max-height: 200px;max-width: 100%;overflow: auto;}#sk-container-id-7 input.sk-toggleable__control:checked~label.sk-toggleable__label-arrow:before {content: \"▾\";}#sk-container-id-7 div.sk-estimator input.sk-toggleable__control:checked~label.sk-toggleable__label {background-color: #d4ebff;}#sk-container-id-7 div.sk-label input.sk-toggleable__control:checked~label.sk-toggleable__label {background-color: #d4ebff;}#sk-container-id-7 input.sk-hidden--visually {border: 0;clip: rect(1px 1px 1px 1px);clip: rect(1px, 1px, 1px, 1px);height: 1px;margin: -1px;overflow: hidden;padding: 0;position: absolute;width: 1px;}#sk-container-id-7 div.sk-estimator {font-family: monospace;background-color: #f0f8ff;border: 1px dotted black;border-radius: 0.25em;box-sizing: border-box;margin-bottom: 0.5em;}#sk-container-id-7 div.sk-estimator:hover {background-color: #d4ebff;}#sk-container-id-7 div.sk-parallel-item::after {content: \"\";width: 100%;border-bottom: 1px solid gray;flex-grow: 1;}#sk-container-id-7 div.sk-label:hover label.sk-toggleable__label {background-color: #d4ebff;}#sk-container-id-7 div.sk-serial::before {content: \"\";position: absolute;border-left: 1px solid gray;box-sizing: border-box;top: 0;bottom: 0;left: 50%;z-index: 0;}#sk-container-id-7 div.sk-serial {display: flex;flex-direction: column;align-items: center;background-color: white;padding-right: 0.2em;padding-left: 0.2em;position: relative;}#sk-container-id-7 div.sk-item {position: relative;z-index: 1;}#sk-container-id-7 div.sk-parallel {display: flex;align-items: stretch;justify-content: center;background-color: white;position: relative;}#sk-container-id-7 div.sk-item::before, #sk-container-id-7 div.sk-parallel-item::before {content: \"\";position: absolute;border-left: 1px solid gray;box-sizing: border-box;top: 0;bottom: 0;left: 50%;z-index: -1;}#sk-container-id-7 div.sk-parallel-item {display: flex;flex-direction: column;z-index: 1;position: relative;background-color: white;}#sk-container-id-7 div.sk-parallel-item:first-child::after {align-self: flex-end;width: 50%;}#sk-container-id-7 div.sk-parallel-item:last-child::after {align-self: flex-start;width: 50%;}#sk-container-id-7 div.sk-parallel-item:only-child::after {width: 0;}#sk-container-id-7 div.sk-dashed-wrapped {border: 1px dashed gray;margin: 0 0.4em 0.5em 0.4em;box-sizing: border-box;padding-bottom: 0.4em;background-color: white;}#sk-container-id-7 div.sk-label label {font-family: monospace;font-weight: bold;display: inline-block;line-height: 1.2em;}#sk-container-id-7 div.sk-label-container {text-align: center;}#sk-container-id-7 div.sk-container {/* jupyter's `normalize.less` sets `[hidden] { display: none; }` but bootstrap.min.css set `[hidden] { display: none !important; }` so we also need the `!important` here to be able to override the default hidden behavior on the sphinx rendered scikit-learn.org. See: https://github.com/scikit-learn/scikit-learn/issues/21755 */display: inline-block !important;position: relative;}#sk-container-id-7 div.sk-text-repr-fallback {display: none;}</style><div id=\"sk-container-id-7\" class=\"sk-top-container\"><div class=\"sk-text-repr-fallback\"><pre>RandomForestRegressor(n_estimators=500)</pre><b>In a Jupyter environment, please rerun this cell to show the HTML representation or trust the notebook. <br />On GitHub, the HTML representation is unable to render, please try loading this page with nbviewer.org.</b></div><div class=\"sk-container\" hidden><div class=\"sk-item\"><div class=\"sk-estimator sk-toggleable\"><input class=\"sk-toggleable__control sk-hidden--visually\" id=\"sk-estimator-id-7\" type=\"checkbox\" checked><label for=\"sk-estimator-id-7\" class=\"sk-toggleable__label sk-toggleable__label-arrow\">RandomForestRegressor</label><div class=\"sk-toggleable__content\"><pre>RandomForestRegressor(n_estimators=500)</pre></div></div></div></div></div>"
      ],
      "text/plain": [
       "RandomForestRegressor(n_estimators=500)"
      ]
     },
     "execution_count": 128,
     "metadata": {},
     "output_type": "execute_result"
    }
   ],
   "source": [
    "rf"
   ]
  },
  {
   "cell_type": "markdown",
   "id": "0e7fd023",
   "metadata": {},
   "source": [
    "##### Training Model by RandomForestRegressor"
   ]
  },
  {
   "cell_type": "code",
   "execution_count": 129,
   "id": "ac337f89",
   "metadata": {},
   "outputs": [
    {
     "data": {
      "text/html": [
       "<style>#sk-container-id-8 {color: black;}#sk-container-id-8 pre{padding: 0;}#sk-container-id-8 div.sk-toggleable {background-color: white;}#sk-container-id-8 label.sk-toggleable__label {cursor: pointer;display: block;width: 100%;margin-bottom: 0;padding: 0.3em;box-sizing: border-box;text-align: center;}#sk-container-id-8 label.sk-toggleable__label-arrow:before {content: \"▸\";float: left;margin-right: 0.25em;color: #696969;}#sk-container-id-8 label.sk-toggleable__label-arrow:hover:before {color: black;}#sk-container-id-8 div.sk-estimator:hover label.sk-toggleable__label-arrow:before {color: black;}#sk-container-id-8 div.sk-toggleable__content {max-height: 0;max-width: 0;overflow: hidden;text-align: left;background-color: #f0f8ff;}#sk-container-id-8 div.sk-toggleable__content pre {margin: 0.2em;color: black;border-radius: 0.25em;background-color: #f0f8ff;}#sk-container-id-8 input.sk-toggleable__control:checked~div.sk-toggleable__content {max-height: 200px;max-width: 100%;overflow: auto;}#sk-container-id-8 input.sk-toggleable__control:checked~label.sk-toggleable__label-arrow:before {content: \"▾\";}#sk-container-id-8 div.sk-estimator input.sk-toggleable__control:checked~label.sk-toggleable__label {background-color: #d4ebff;}#sk-container-id-8 div.sk-label input.sk-toggleable__control:checked~label.sk-toggleable__label {background-color: #d4ebff;}#sk-container-id-8 input.sk-hidden--visually {border: 0;clip: rect(1px 1px 1px 1px);clip: rect(1px, 1px, 1px, 1px);height: 1px;margin: -1px;overflow: hidden;padding: 0;position: absolute;width: 1px;}#sk-container-id-8 div.sk-estimator {font-family: monospace;background-color: #f0f8ff;border: 1px dotted black;border-radius: 0.25em;box-sizing: border-box;margin-bottom: 0.5em;}#sk-container-id-8 div.sk-estimator:hover {background-color: #d4ebff;}#sk-container-id-8 div.sk-parallel-item::after {content: \"\";width: 100%;border-bottom: 1px solid gray;flex-grow: 1;}#sk-container-id-8 div.sk-label:hover label.sk-toggleable__label {background-color: #d4ebff;}#sk-container-id-8 div.sk-serial::before {content: \"\";position: absolute;border-left: 1px solid gray;box-sizing: border-box;top: 0;bottom: 0;left: 50%;z-index: 0;}#sk-container-id-8 div.sk-serial {display: flex;flex-direction: column;align-items: center;background-color: white;padding-right: 0.2em;padding-left: 0.2em;position: relative;}#sk-container-id-8 div.sk-item {position: relative;z-index: 1;}#sk-container-id-8 div.sk-parallel {display: flex;align-items: stretch;justify-content: center;background-color: white;position: relative;}#sk-container-id-8 div.sk-item::before, #sk-container-id-8 div.sk-parallel-item::before {content: \"\";position: absolute;border-left: 1px solid gray;box-sizing: border-box;top: 0;bottom: 0;left: 50%;z-index: -1;}#sk-container-id-8 div.sk-parallel-item {display: flex;flex-direction: column;z-index: 1;position: relative;background-color: white;}#sk-container-id-8 div.sk-parallel-item:first-child::after {align-self: flex-end;width: 50%;}#sk-container-id-8 div.sk-parallel-item:last-child::after {align-self: flex-start;width: 50%;}#sk-container-id-8 div.sk-parallel-item:only-child::after {width: 0;}#sk-container-id-8 div.sk-dashed-wrapped {border: 1px dashed gray;margin: 0 0.4em 0.5em 0.4em;box-sizing: border-box;padding-bottom: 0.4em;background-color: white;}#sk-container-id-8 div.sk-label label {font-family: monospace;font-weight: bold;display: inline-block;line-height: 1.2em;}#sk-container-id-8 div.sk-label-container {text-align: center;}#sk-container-id-8 div.sk-container {/* jupyter's `normalize.less` sets `[hidden] { display: none; }` but bootstrap.min.css set `[hidden] { display: none !important; }` so we also need the `!important` here to be able to override the default hidden behavior on the sphinx rendered scikit-learn.org. See: https://github.com/scikit-learn/scikit-learn/issues/21755 */display: inline-block !important;position: relative;}#sk-container-id-8 div.sk-text-repr-fallback {display: none;}</style><div id=\"sk-container-id-8\" class=\"sk-top-container\"><div class=\"sk-text-repr-fallback\"><pre>RandomForestRegressor(n_estimators=500)</pre><b>In a Jupyter environment, please rerun this cell to show the HTML representation or trust the notebook. <br />On GitHub, the HTML representation is unable to render, please try loading this page with nbviewer.org.</b></div><div class=\"sk-container\" hidden><div class=\"sk-item\"><div class=\"sk-estimator sk-toggleable\"><input class=\"sk-toggleable__control sk-hidden--visually\" id=\"sk-estimator-id-8\" type=\"checkbox\" checked><label for=\"sk-estimator-id-8\" class=\"sk-toggleable__label sk-toggleable__label-arrow\">RandomForestRegressor</label><div class=\"sk-toggleable__content\"><pre>RandomForestRegressor(n_estimators=500)</pre></div></div></div></div></div>"
      ],
      "text/plain": [
       "RandomForestRegressor(n_estimators=500)"
      ]
     },
     "execution_count": 129,
     "metadata": {},
     "output_type": "execute_result"
    }
   ],
   "source": [
    "rf.fit(x_train , y_train)"
   ]
  },
  {
   "cell_type": "code",
   "execution_count": 130,
   "id": "f220a470",
   "metadata": {},
   "outputs": [],
   "source": [
    "y_train_pred_rf = rf.predict(x_train)"
   ]
  },
  {
   "cell_type": "code",
   "execution_count": 131,
   "id": "59c7b382",
   "metadata": {},
   "outputs": [
    {
     "data": {
      "text/plain": [
       "array([ 248008.,  216318.,  335354., ..., 4528412.,  511942., 2349286.])"
      ]
     },
     "execution_count": 131,
     "metadata": {},
     "output_type": "execute_result"
    }
   ],
   "source": [
    "y_train_pred_rf"
   ]
  },
  {
   "cell_type": "markdown",
   "id": "e8352b5a",
   "metadata": {},
   "source": [
    "#### Training Accuracy of RandomForest model"
   ]
  },
  {
   "cell_type": "code",
   "execution_count": 132,
   "id": "c895e8d3",
   "metadata": {},
   "outputs": [],
   "source": [
    "training_accuracy_rf = r2_score(y_train , y_train_pred_rf)"
   ]
  },
  {
   "cell_type": "code",
   "execution_count": 133,
   "id": "03e4232e",
   "metadata": {},
   "outputs": [
    {
     "data": {
      "text/plain": [
       "0.9834107256807809"
      ]
     },
     "execution_count": 133,
     "metadata": {},
     "output_type": "execute_result"
    }
   ],
   "source": [
    "training_accuracy_rf"
   ]
  },
  {
   "cell_type": "markdown",
   "id": "49bfcc27",
   "metadata": {},
   "source": [
    "#### Training Accuracy of RandomForest model is 0.983586198825709"
   ]
  },
  {
   "cell_type": "markdown",
   "id": "a23cc0ca",
   "metadata": {},
   "source": [
    "##### Testing Model by RandomForestRegressor"
   ]
  },
  {
   "cell_type": "code",
   "execution_count": 134,
   "id": "c0f839c5",
   "metadata": {},
   "outputs": [
    {
     "data": {
      "text/html": [
       "<style>#sk-container-id-9 {color: black;}#sk-container-id-9 pre{padding: 0;}#sk-container-id-9 div.sk-toggleable {background-color: white;}#sk-container-id-9 label.sk-toggleable__label {cursor: pointer;display: block;width: 100%;margin-bottom: 0;padding: 0.3em;box-sizing: border-box;text-align: center;}#sk-container-id-9 label.sk-toggleable__label-arrow:before {content: \"▸\";float: left;margin-right: 0.25em;color: #696969;}#sk-container-id-9 label.sk-toggleable__label-arrow:hover:before {color: black;}#sk-container-id-9 div.sk-estimator:hover label.sk-toggleable__label-arrow:before {color: black;}#sk-container-id-9 div.sk-toggleable__content {max-height: 0;max-width: 0;overflow: hidden;text-align: left;background-color: #f0f8ff;}#sk-container-id-9 div.sk-toggleable__content pre {margin: 0.2em;color: black;border-radius: 0.25em;background-color: #f0f8ff;}#sk-container-id-9 input.sk-toggleable__control:checked~div.sk-toggleable__content {max-height: 200px;max-width: 100%;overflow: auto;}#sk-container-id-9 input.sk-toggleable__control:checked~label.sk-toggleable__label-arrow:before {content: \"▾\";}#sk-container-id-9 div.sk-estimator input.sk-toggleable__control:checked~label.sk-toggleable__label {background-color: #d4ebff;}#sk-container-id-9 div.sk-label input.sk-toggleable__control:checked~label.sk-toggleable__label {background-color: #d4ebff;}#sk-container-id-9 input.sk-hidden--visually {border: 0;clip: rect(1px 1px 1px 1px);clip: rect(1px, 1px, 1px, 1px);height: 1px;margin: -1px;overflow: hidden;padding: 0;position: absolute;width: 1px;}#sk-container-id-9 div.sk-estimator {font-family: monospace;background-color: #f0f8ff;border: 1px dotted black;border-radius: 0.25em;box-sizing: border-box;margin-bottom: 0.5em;}#sk-container-id-9 div.sk-estimator:hover {background-color: #d4ebff;}#sk-container-id-9 div.sk-parallel-item::after {content: \"\";width: 100%;border-bottom: 1px solid gray;flex-grow: 1;}#sk-container-id-9 div.sk-label:hover label.sk-toggleable__label {background-color: #d4ebff;}#sk-container-id-9 div.sk-serial::before {content: \"\";position: absolute;border-left: 1px solid gray;box-sizing: border-box;top: 0;bottom: 0;left: 50%;z-index: 0;}#sk-container-id-9 div.sk-serial {display: flex;flex-direction: column;align-items: center;background-color: white;padding-right: 0.2em;padding-left: 0.2em;position: relative;}#sk-container-id-9 div.sk-item {position: relative;z-index: 1;}#sk-container-id-9 div.sk-parallel {display: flex;align-items: stretch;justify-content: center;background-color: white;position: relative;}#sk-container-id-9 div.sk-item::before, #sk-container-id-9 div.sk-parallel-item::before {content: \"\";position: absolute;border-left: 1px solid gray;box-sizing: border-box;top: 0;bottom: 0;left: 50%;z-index: -1;}#sk-container-id-9 div.sk-parallel-item {display: flex;flex-direction: column;z-index: 1;position: relative;background-color: white;}#sk-container-id-9 div.sk-parallel-item:first-child::after {align-self: flex-end;width: 50%;}#sk-container-id-9 div.sk-parallel-item:last-child::after {align-self: flex-start;width: 50%;}#sk-container-id-9 div.sk-parallel-item:only-child::after {width: 0;}#sk-container-id-9 div.sk-dashed-wrapped {border: 1px dashed gray;margin: 0 0.4em 0.5em 0.4em;box-sizing: border-box;padding-bottom: 0.4em;background-color: white;}#sk-container-id-9 div.sk-label label {font-family: monospace;font-weight: bold;display: inline-block;line-height: 1.2em;}#sk-container-id-9 div.sk-label-container {text-align: center;}#sk-container-id-9 div.sk-container {/* jupyter's `normalize.less` sets `[hidden] { display: none; }` but bootstrap.min.css set `[hidden] { display: none !important; }` so we also need the `!important` here to be able to override the default hidden behavior on the sphinx rendered scikit-learn.org. See: https://github.com/scikit-learn/scikit-learn/issues/21755 */display: inline-block !important;position: relative;}#sk-container-id-9 div.sk-text-repr-fallback {display: none;}</style><div id=\"sk-container-id-9\" class=\"sk-top-container\"><div class=\"sk-text-repr-fallback\"><pre>RandomForestRegressor(n_estimators=500)</pre><b>In a Jupyter environment, please rerun this cell to show the HTML representation or trust the notebook. <br />On GitHub, the HTML representation is unable to render, please try loading this page with nbviewer.org.</b></div><div class=\"sk-container\" hidden><div class=\"sk-item\"><div class=\"sk-estimator sk-toggleable\"><input class=\"sk-toggleable__control sk-hidden--visually\" id=\"sk-estimator-id-9\" type=\"checkbox\" checked><label for=\"sk-estimator-id-9\" class=\"sk-toggleable__label sk-toggleable__label-arrow\">RandomForestRegressor</label><div class=\"sk-toggleable__content\"><pre>RandomForestRegressor(n_estimators=500)</pre></div></div></div></div></div>"
      ],
      "text/plain": [
       "RandomForestRegressor(n_estimators=500)"
      ]
     },
     "execution_count": 134,
     "metadata": {},
     "output_type": "execute_result"
    }
   ],
   "source": [
    "rf.fit(x_test , y_test)"
   ]
  },
  {
   "cell_type": "code",
   "execution_count": 135,
   "id": "16896c04",
   "metadata": {},
   "outputs": [],
   "source": [
    "y_test_pred_rf = rf.predict(x_test)"
   ]
  },
  {
   "cell_type": "code",
   "execution_count": 136,
   "id": "77d521f3",
   "metadata": {},
   "outputs": [
    {
     "data": {
      "text/plain": [
       "array([5134374.   ,  466414.   ,  774494.   , ..., 1116306.   ,\n",
       "       2221216.   ,  194079.516])"
      ]
     },
     "execution_count": 136,
     "metadata": {},
     "output_type": "execute_result"
    }
   ],
   "source": [
    "y_test_pred_rf"
   ]
  },
  {
   "cell_type": "markdown",
   "id": "c5ce3ba4",
   "metadata": {},
   "source": [
    "#### Testing Accuracy of RandomForest model"
   ]
  },
  {
   "cell_type": "code",
   "execution_count": 137,
   "id": "c49f5f18",
   "metadata": {},
   "outputs": [],
   "source": [
    "testing_accuracy_rf = r2_score(y_test , y_test_pred_rf)"
   ]
  },
  {
   "cell_type": "code",
   "execution_count": 138,
   "id": "f84fbebb",
   "metadata": {},
   "outputs": [
    {
     "data": {
      "text/plain": [
       "0.9674123360189428"
      ]
     },
     "execution_count": 138,
     "metadata": {},
     "output_type": "execute_result"
    }
   ],
   "source": [
    "testing_accuracy_rf"
   ]
  },
  {
   "cell_type": "markdown",
   "id": "f2b0dd5a",
   "metadata": {},
   "source": [
    "#### Testing Accuracy of RandomForest model is 0.96763509242282"
   ]
  },
  {
   "cell_type": "code",
   "execution_count": 139,
   "id": "14e9e8db",
   "metadata": {},
   "outputs": [
    {
     "name": "stdout",
     "output_type": "stream",
     "text": [
      "Training Accuracy of RandomForest model: 0.9834107256807809\n",
      "Testing Accuracy of RandomForest model: 0.9674123360189428\n"
     ]
    }
   ],
   "source": [
    "print('Training Accuracy of RandomForest model:', training_accuracy_rf)\n",
    "print('Testing Accuracy of RandomForest model:' , testing_accuracy_rf)"
   ]
  },
  {
   "cell_type": "markdown",
   "id": "585e2a15",
   "metadata": {},
   "source": [
    "#### Insights : Our RandomForest model is most generalised model because we get Training accuracy of randomforest is 98.3586198825709 % and Testing accuracy of randomforest is 96.763509242282 %. we get approximate 2 % variance in train and test accuracy. so thats why we say its most accurate model. because when we get less than 10 % variance in train and test.  "
   ]
  },
  {
   "cell_type": "markdown",
   "id": "f0836888",
   "metadata": {},
   "source": [
    "#####  RandomForest is Non parametric algorithm thats why it does not have any assumptions "
   ]
  }
 ],
 "metadata": {
  "kernelspec": {
   "display_name": "Python 3 (ipykernel)",
   "language": "python",
   "name": "python3"
  },
  "language_info": {
   "codemirror_mode": {
    "name": "ipython",
    "version": 3
   },
   "file_extension": ".py",
   "mimetype": "text/x-python",
   "name": "python",
   "nbconvert_exporter": "python",
   "pygments_lexer": "ipython3",
   "version": "3.11.4"
  }
 },
 "nbformat": 4,
 "nbformat_minor": 5
}
