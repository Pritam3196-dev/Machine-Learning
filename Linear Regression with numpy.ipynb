{
 "cells": [
  {
   "cell_type": "markdown",
   "id": "7228ffe0",
   "metadata": {},
   "source": [
    "### Import Basic Libraries"
   ]
  },
  {
   "cell_type": "code",
   "execution_count": 1,
   "id": "9374235c",
   "metadata": {},
   "outputs": [],
   "source": [
    "import numpy as np\n",
    "import matplotlib.pyplot as plt"
   ]
  },
  {
   "cell_type": "markdown",
   "id": "40ad2d73",
   "metadata": {},
   "source": [
    "#### Freez the random state"
   ]
  },
  {
   "cell_type": "code",
   "execution_count": 2,
   "id": "5994ac79",
   "metadata": {},
   "outputs": [],
   "source": [
    "np.random.seed(15)"
   ]
  },
  {
   "cell_type": "markdown",
   "id": "58ad3fa8",
   "metadata": {},
   "source": [
    "#### Generating 100 numbers between -10 to 10 ."
   ]
  },
  {
   "cell_type": "markdown",
   "id": "8ffac05f",
   "metadata": {},
   "source": [
    "#### It is generating independent variable data (single column)"
   ]
  },
  {
   "cell_type": "code",
   "execution_count": 3,
   "id": "31283527",
   "metadata": {},
   "outputs": [],
   "source": [
    "data_x = np.linspace(-10 , 10 , 100)[: , np.newaxis]"
   ]
  },
  {
   "cell_type": "code",
   "execution_count": 4,
   "id": "6cb4293d",
   "metadata": {},
   "outputs": [
    {
     "data": {
      "text/plain": [
       "array([[-10.        ],\n",
       "       [ -9.7979798 ],\n",
       "       [ -9.5959596 ],\n",
       "       [ -9.39393939],\n",
       "       [ -9.19191919],\n",
       "       [ -8.98989899],\n",
       "       [ -8.78787879],\n",
       "       [ -8.58585859],\n",
       "       [ -8.38383838],\n",
       "       [ -8.18181818],\n",
       "       [ -7.97979798],\n",
       "       [ -7.77777778],\n",
       "       [ -7.57575758],\n",
       "       [ -7.37373737],\n",
       "       [ -7.17171717],\n",
       "       [ -6.96969697],\n",
       "       [ -6.76767677],\n",
       "       [ -6.56565657],\n",
       "       [ -6.36363636],\n",
       "       [ -6.16161616],\n",
       "       [ -5.95959596],\n",
       "       [ -5.75757576],\n",
       "       [ -5.55555556],\n",
       "       [ -5.35353535],\n",
       "       [ -5.15151515],\n",
       "       [ -4.94949495],\n",
       "       [ -4.74747475],\n",
       "       [ -4.54545455],\n",
       "       [ -4.34343434],\n",
       "       [ -4.14141414],\n",
       "       [ -3.93939394],\n",
       "       [ -3.73737374],\n",
       "       [ -3.53535354],\n",
       "       [ -3.33333333],\n",
       "       [ -3.13131313],\n",
       "       [ -2.92929293],\n",
       "       [ -2.72727273],\n",
       "       [ -2.52525253],\n",
       "       [ -2.32323232],\n",
       "       [ -2.12121212],\n",
       "       [ -1.91919192],\n",
       "       [ -1.71717172],\n",
       "       [ -1.51515152],\n",
       "       [ -1.31313131],\n",
       "       [ -1.11111111],\n",
       "       [ -0.90909091],\n",
       "       [ -0.70707071],\n",
       "       [ -0.50505051],\n",
       "       [ -0.3030303 ],\n",
       "       [ -0.1010101 ],\n",
       "       [  0.1010101 ],\n",
       "       [  0.3030303 ],\n",
       "       [  0.50505051],\n",
       "       [  0.70707071],\n",
       "       [  0.90909091],\n",
       "       [  1.11111111],\n",
       "       [  1.31313131],\n",
       "       [  1.51515152],\n",
       "       [  1.71717172],\n",
       "       [  1.91919192],\n",
       "       [  2.12121212],\n",
       "       [  2.32323232],\n",
       "       [  2.52525253],\n",
       "       [  2.72727273],\n",
       "       [  2.92929293],\n",
       "       [  3.13131313],\n",
       "       [  3.33333333],\n",
       "       [  3.53535354],\n",
       "       [  3.73737374],\n",
       "       [  3.93939394],\n",
       "       [  4.14141414],\n",
       "       [  4.34343434],\n",
       "       [  4.54545455],\n",
       "       [  4.74747475],\n",
       "       [  4.94949495],\n",
       "       [  5.15151515],\n",
       "       [  5.35353535],\n",
       "       [  5.55555556],\n",
       "       [  5.75757576],\n",
       "       [  5.95959596],\n",
       "       [  6.16161616],\n",
       "       [  6.36363636],\n",
       "       [  6.56565657],\n",
       "       [  6.76767677],\n",
       "       [  6.96969697],\n",
       "       [  7.17171717],\n",
       "       [  7.37373737],\n",
       "       [  7.57575758],\n",
       "       [  7.77777778],\n",
       "       [  7.97979798],\n",
       "       [  8.18181818],\n",
       "       [  8.38383838],\n",
       "       [  8.58585859],\n",
       "       [  8.78787879],\n",
       "       [  8.98989899],\n",
       "       [  9.19191919],\n",
       "       [  9.39393939],\n",
       "       [  9.5959596 ],\n",
       "       [  9.7979798 ],\n",
       "       [ 10.        ]])"
      ]
     },
     "execution_count": 4,
     "metadata": {},
     "output_type": "execute_result"
    }
   ],
   "source": [
    "data_x"
   ]
  },
  {
   "cell_type": "markdown",
   "id": "77149e7b",
   "metadata": {},
   "source": [
    "#### Generating target variable data(single column) . Its just random data"
   ]
  },
  {
   "cell_type": "markdown",
   "id": "7be0bfe2",
   "metadata": {},
   "source": [
    "#### Here , we just follow y = mx + c and here in c we add noise because it is non determinestic (data is linear but scatter means not so linear) approach means data is not so linear(means all actual points on prediction line).so we simulate noise there to make our data is scatter(non determinestic)"
   ]
  },
  {
   "cell_type": "markdown",
   "id": "775a252a",
   "metadata": {},
   "source": [
    "#### all data is not appeared like on line"
   ]
  },
  {
   "cell_type": "code",
   "execution_count": 5,
   "id": "b67f1f90",
   "metadata": {},
   "outputs": [],
   "source": [
    "data_y = 40 * data_x + 20 * np.random.randn(100,1)"
   ]
  },
  {
   "cell_type": "code",
   "execution_count": 6,
   "id": "b36f6d43",
   "metadata": {},
   "outputs": [
    {
     "name": "stdout",
     "output_type": "stream",
     "text": [
      "[[-406.24656963]\n",
      " [-385.1334978 ]\n",
      " [-386.95655452]\n",
      " [-385.79336922]\n",
      " [-362.96538984]\n",
      " [-394.86806473]\n",
      " [-373.43239239]\n",
      " [-365.18965826]\n",
      " [-341.4569364 ]\n",
      " [-336.74769471]\n",
      " [-323.20380996]\n",
      " [-304.00717565]\n",
      " [-289.23994857]\n",
      " [-286.73770144]\n",
      " [-298.16825562]\n",
      " [-266.80006498]\n",
      " [-273.96579681]\n",
      " [-230.62197258]\n",
      " [-240.91291046]\n",
      " [-246.16704444]\n",
      " [-240.13943103]\n",
      " [-249.94538711]\n",
      " [-219.78841265]\n",
      " [-236.89015986]\n",
      " [-199.0805545 ]\n",
      " [-235.15006119]\n",
      " [-213.24262762]\n",
      " [-153.32024522]\n",
      " [-143.80606649]\n",
      " [-139.85792454]\n",
      " [-193.81066292]\n",
      " [-179.46109369]\n",
      " [-170.41700577]\n",
      " [-167.21147256]\n",
      " [-120.7072447 ]\n",
      " [-126.96641139]\n",
      " [-109.10147922]\n",
      " [-110.81515335]\n",
      " [-108.79348136]\n",
      " [ -43.87050958]\n",
      " [ -64.703968  ]\n",
      " [ -88.65091025]\n",
      " [ -36.30522959]\n",
      " [ -65.87558235]\n",
      " [ -49.89455999]\n",
      " [  -8.02814674]\n",
      " [ -43.93500744]\n",
      " [ -25.20843414]\n",
      " [ -18.28750135]\n",
      " [  30.55335656]\n",
      " [  43.60585141]\n",
      " [  16.51497276]\n",
      " [  58.09841719]\n",
      " [   0.92083955]\n",
      " [  32.53752864]\n",
      " [  70.18959511]\n",
      " [  47.58757364]\n",
      " [  67.45708225]\n",
      " [  73.14120953]\n",
      " [  90.39955088]\n",
      " [  89.87746255]\n",
      " [  63.29231416]\n",
      " [  93.27366551]\n",
      " [  94.41729488]\n",
      " [ 128.89128128]\n",
      " [  90.53675006]\n",
      " [ 116.79942909]\n",
      " [ 165.090826  ]\n",
      " [ 156.59587038]\n",
      " [ 206.43275587]\n",
      " [ 164.91805629]\n",
      " [ 119.50309266]\n",
      " [ 201.64797448]\n",
      " [ 193.7438453 ]\n",
      " [ 190.92394547]\n",
      " [ 179.27014951]\n",
      " [ 210.36796242]\n",
      " [ 234.15395516]\n",
      " [ 237.11211995]\n",
      " [ 240.05234526]\n",
      " [ 258.58448891]\n",
      " [ 257.92419885]\n",
      " [ 241.8484376 ]\n",
      " [ 276.41183239]\n",
      " [ 288.8357065 ]\n",
      " [ 325.54618651]\n",
      " [ 295.91599251]\n",
      " [ 281.99492922]\n",
      " [ 334.44275884]\n",
      " [ 333.9012627 ]\n",
      " [ 316.01012861]\n",
      " [ 311.09337147]\n",
      " [ 374.39690664]\n",
      " [ 317.55764473]\n",
      " [ 346.96010048]\n",
      " [ 373.40409974]\n",
      " [ 354.79813443]\n",
      " [ 380.10937931]\n",
      " [ 401.8702897 ]\n",
      " [ 391.90995602]]\n"
     ]
    }
   ],
   "source": [
    "print(data_y)"
   ]
  },
  {
   "cell_type": "markdown",
   "id": "1748fc89",
   "metadata": {},
   "source": [
    "#### Here we scaled data into -1 to +1 . we divide the entire data by 10 only . so it is get convert into -1 to +1"
   ]
  },
  {
   "cell_type": "code",
   "execution_count": 7,
   "id": "b087d2b8",
   "metadata": {},
   "outputs": [],
   "source": [
    "data_x = data_x / np.max(data_x)"
   ]
  },
  {
   "cell_type": "code",
   "execution_count": 8,
   "id": "9194aad9",
   "metadata": {},
   "outputs": [
    {
     "name": "stdout",
     "output_type": "stream",
     "text": [
      "[[-1.        ]\n",
      " [-0.97979798]\n",
      " [-0.95959596]\n",
      " [-0.93939394]\n",
      " [-0.91919192]\n",
      " [-0.8989899 ]\n",
      " [-0.87878788]\n",
      " [-0.85858586]\n",
      " [-0.83838384]\n",
      " [-0.81818182]\n",
      " [-0.7979798 ]\n",
      " [-0.77777778]\n",
      " [-0.75757576]\n",
      " [-0.73737374]\n",
      " [-0.71717172]\n",
      " [-0.6969697 ]\n",
      " [-0.67676768]\n",
      " [-0.65656566]\n",
      " [-0.63636364]\n",
      " [-0.61616162]\n",
      " [-0.5959596 ]\n",
      " [-0.57575758]\n",
      " [-0.55555556]\n",
      " [-0.53535354]\n",
      " [-0.51515152]\n",
      " [-0.49494949]\n",
      " [-0.47474747]\n",
      " [-0.45454545]\n",
      " [-0.43434343]\n",
      " [-0.41414141]\n",
      " [-0.39393939]\n",
      " [-0.37373737]\n",
      " [-0.35353535]\n",
      " [-0.33333333]\n",
      " [-0.31313131]\n",
      " [-0.29292929]\n",
      " [-0.27272727]\n",
      " [-0.25252525]\n",
      " [-0.23232323]\n",
      " [-0.21212121]\n",
      " [-0.19191919]\n",
      " [-0.17171717]\n",
      " [-0.15151515]\n",
      " [-0.13131313]\n",
      " [-0.11111111]\n",
      " [-0.09090909]\n",
      " [-0.07070707]\n",
      " [-0.05050505]\n",
      " [-0.03030303]\n",
      " [-0.01010101]\n",
      " [ 0.01010101]\n",
      " [ 0.03030303]\n",
      " [ 0.05050505]\n",
      " [ 0.07070707]\n",
      " [ 0.09090909]\n",
      " [ 0.11111111]\n",
      " [ 0.13131313]\n",
      " [ 0.15151515]\n",
      " [ 0.17171717]\n",
      " [ 0.19191919]\n",
      " [ 0.21212121]\n",
      " [ 0.23232323]\n",
      " [ 0.25252525]\n",
      " [ 0.27272727]\n",
      " [ 0.29292929]\n",
      " [ 0.31313131]\n",
      " [ 0.33333333]\n",
      " [ 0.35353535]\n",
      " [ 0.37373737]\n",
      " [ 0.39393939]\n",
      " [ 0.41414141]\n",
      " [ 0.43434343]\n",
      " [ 0.45454545]\n",
      " [ 0.47474747]\n",
      " [ 0.49494949]\n",
      " [ 0.51515152]\n",
      " [ 0.53535354]\n",
      " [ 0.55555556]\n",
      " [ 0.57575758]\n",
      " [ 0.5959596 ]\n",
      " [ 0.61616162]\n",
      " [ 0.63636364]\n",
      " [ 0.65656566]\n",
      " [ 0.67676768]\n",
      " [ 0.6969697 ]\n",
      " [ 0.71717172]\n",
      " [ 0.73737374]\n",
      " [ 0.75757576]\n",
      " [ 0.77777778]\n",
      " [ 0.7979798 ]\n",
      " [ 0.81818182]\n",
      " [ 0.83838384]\n",
      " [ 0.85858586]\n",
      " [ 0.87878788]\n",
      " [ 0.8989899 ]\n",
      " [ 0.91919192]\n",
      " [ 0.93939394]\n",
      " [ 0.95959596]\n",
      " [ 0.97979798]\n",
      " [ 1.        ]]\n"
     ]
    }
   ],
   "source": [
    "print(data_x)"
   ]
  },
  {
   "cell_type": "markdown",
   "id": "dd425cff",
   "metadata": {},
   "source": [
    "#### Generating two arrays"
   ]
  },
  {
   "cell_type": "code",
   "execution_count": 9,
   "id": "434d049c",
   "metadata": {},
   "outputs": [],
   "source": [
    "a = np.array([0,1,2,3,4,5,6,23,19,11])\n",
    "b = np.array([0,1,4,9,16,25,36,144,225,196])"
   ]
  },
  {
   "cell_type": "markdown",
   "id": "4e6a0e4e",
   "metadata": {},
   "source": [
    "#### Check correlation between two arrays for understanding how pearson correlation get work"
   ]
  },
  {
   "cell_type": "code",
   "execution_count": 10,
   "id": "83f238f4",
   "metadata": {},
   "outputs": [],
   "source": [
    "from scipy import stats"
   ]
  },
  {
   "cell_type": "code",
   "execution_count": 11,
   "id": "98e5f929",
   "metadata": {},
   "outputs": [
    {
     "data": {
      "text/plain": [
       "PearsonRResult(statistic=0.8615898239550395, pvalue=0.0013540376408062778)"
      ]
     },
     "execution_count": 11,
     "metadata": {},
     "output_type": "execute_result"
    }
   ],
   "source": [
    "stats.pearsonr(a , b)"
   ]
  },
  {
   "cell_type": "markdown",
   "id": "8dd4ab9d",
   "metadata": {},
   "source": [
    "##### This is relation (r) value 0.8615898239550395. It shows there is strong positive correlation in  a and b.\n",
    "##### This is p value 0.0013540376408062778. It shows significance between a and b . when p value is less than 0.05 means it is statically significant"
   ]
  },
  {
   "cell_type": "markdown",
   "id": "57b2e313",
   "metadata": {},
   "source": [
    "#### Check correlation between independent and dependent variable by pearson correlation"
   ]
  },
  {
   "cell_type": "code",
   "execution_count": 12,
   "id": "43540516",
   "metadata": {},
   "outputs": [
    {
     "data": {
      "text/plain": [
       "PearsonRResult(statistic=0.9962754884669455, pvalue=3.9811382849939014e-106)"
      ]
     },
     "execution_count": 12,
     "metadata": {},
     "output_type": "execute_result"
    }
   ],
   "source": [
    "stats.pearsonr(data_x.reshape(100,)  , data_y.reshape(100,))"
   ]
  },
  {
   "cell_type": "markdown",
   "id": "3a5c4848",
   "metadata": {},
   "source": [
    "##### Its relation value of  a and b is 0.9971351986890274 . It shows strong positive correlation of a and b.\n",
    "##### Its P value is 1.0569070115017592e-111. Its p value is less than 0.05 means its statically significant of a and b.\n",
    "##### Actually p value is  less than 0.05(significant means reject H0) means whatever r value you get that is not due to randomness.Its ue to actual relation.\n",
    "##### If p value is greater than 0.05(Non significant means fail to reject H0 ) means whatever r value you get that is due to randomness.\n",
    "##### Null Hypothesis (H0) : Means Its correlation value we getting is due to pure randomness."
   ]
  },
  {
   "cell_type": "markdown",
   "id": "d8ba9974",
   "metadata": {},
   "source": [
    "#### We create one column is always 1 only. and make horizontally stack"
   ]
  },
  {
   "cell_type": "markdown",
   "id": "eb96ca34",
   "metadata": {},
   "source": [
    "##### we make this for just make our multiplication in easy format means we have m and c (in y = mx + c) so we create one x0 for c(coeffiecient) for sorted multiplication and x0 is always 1 so it not change meaning of equation.\n",
    "\n",
    "\n",
    " ####  y = mx1 + c(x0)   i.e x0 = 1\n",
    " #### y = mx1 + c\n",
    " \n",
    " #### and we generate x0 also"
   ]
  },
  {
   "cell_type": "code",
   "execution_count": 13,
   "id": "b5668450",
   "metadata": {},
   "outputs": [],
   "source": [
    "data_x = np.hstack((np.ones_like(data_x) , data_x))"
   ]
  },
  {
   "cell_type": "code",
   "execution_count": 14,
   "id": "755768db",
   "metadata": {},
   "outputs": [
    {
     "data": {
      "text/plain": [
       "array([[ 1.        , -1.        ],\n",
       "       [ 1.        , -0.97979798],\n",
       "       [ 1.        , -0.95959596],\n",
       "       [ 1.        , -0.93939394],\n",
       "       [ 1.        , -0.91919192],\n",
       "       [ 1.        , -0.8989899 ],\n",
       "       [ 1.        , -0.87878788],\n",
       "       [ 1.        , -0.85858586],\n",
       "       [ 1.        , -0.83838384],\n",
       "       [ 1.        , -0.81818182],\n",
       "       [ 1.        , -0.7979798 ],\n",
       "       [ 1.        , -0.77777778],\n",
       "       [ 1.        , -0.75757576],\n",
       "       [ 1.        , -0.73737374],\n",
       "       [ 1.        , -0.71717172],\n",
       "       [ 1.        , -0.6969697 ],\n",
       "       [ 1.        , -0.67676768],\n",
       "       [ 1.        , -0.65656566],\n",
       "       [ 1.        , -0.63636364],\n",
       "       [ 1.        , -0.61616162],\n",
       "       [ 1.        , -0.5959596 ],\n",
       "       [ 1.        , -0.57575758],\n",
       "       [ 1.        , -0.55555556],\n",
       "       [ 1.        , -0.53535354],\n",
       "       [ 1.        , -0.51515152],\n",
       "       [ 1.        , -0.49494949],\n",
       "       [ 1.        , -0.47474747],\n",
       "       [ 1.        , -0.45454545],\n",
       "       [ 1.        , -0.43434343],\n",
       "       [ 1.        , -0.41414141],\n",
       "       [ 1.        , -0.39393939],\n",
       "       [ 1.        , -0.37373737],\n",
       "       [ 1.        , -0.35353535],\n",
       "       [ 1.        , -0.33333333],\n",
       "       [ 1.        , -0.31313131],\n",
       "       [ 1.        , -0.29292929],\n",
       "       [ 1.        , -0.27272727],\n",
       "       [ 1.        , -0.25252525],\n",
       "       [ 1.        , -0.23232323],\n",
       "       [ 1.        , -0.21212121],\n",
       "       [ 1.        , -0.19191919],\n",
       "       [ 1.        , -0.17171717],\n",
       "       [ 1.        , -0.15151515],\n",
       "       [ 1.        , -0.13131313],\n",
       "       [ 1.        , -0.11111111],\n",
       "       [ 1.        , -0.09090909],\n",
       "       [ 1.        , -0.07070707],\n",
       "       [ 1.        , -0.05050505],\n",
       "       [ 1.        , -0.03030303],\n",
       "       [ 1.        , -0.01010101],\n",
       "       [ 1.        ,  0.01010101],\n",
       "       [ 1.        ,  0.03030303],\n",
       "       [ 1.        ,  0.05050505],\n",
       "       [ 1.        ,  0.07070707],\n",
       "       [ 1.        ,  0.09090909],\n",
       "       [ 1.        ,  0.11111111],\n",
       "       [ 1.        ,  0.13131313],\n",
       "       [ 1.        ,  0.15151515],\n",
       "       [ 1.        ,  0.17171717],\n",
       "       [ 1.        ,  0.19191919],\n",
       "       [ 1.        ,  0.21212121],\n",
       "       [ 1.        ,  0.23232323],\n",
       "       [ 1.        ,  0.25252525],\n",
       "       [ 1.        ,  0.27272727],\n",
       "       [ 1.        ,  0.29292929],\n",
       "       [ 1.        ,  0.31313131],\n",
       "       [ 1.        ,  0.33333333],\n",
       "       [ 1.        ,  0.35353535],\n",
       "       [ 1.        ,  0.37373737],\n",
       "       [ 1.        ,  0.39393939],\n",
       "       [ 1.        ,  0.41414141],\n",
       "       [ 1.        ,  0.43434343],\n",
       "       [ 1.        ,  0.45454545],\n",
       "       [ 1.        ,  0.47474747],\n",
       "       [ 1.        ,  0.49494949],\n",
       "       [ 1.        ,  0.51515152],\n",
       "       [ 1.        ,  0.53535354],\n",
       "       [ 1.        ,  0.55555556],\n",
       "       [ 1.        ,  0.57575758],\n",
       "       [ 1.        ,  0.5959596 ],\n",
       "       [ 1.        ,  0.61616162],\n",
       "       [ 1.        ,  0.63636364],\n",
       "       [ 1.        ,  0.65656566],\n",
       "       [ 1.        ,  0.67676768],\n",
       "       [ 1.        ,  0.6969697 ],\n",
       "       [ 1.        ,  0.71717172],\n",
       "       [ 1.        ,  0.73737374],\n",
       "       [ 1.        ,  0.75757576],\n",
       "       [ 1.        ,  0.77777778],\n",
       "       [ 1.        ,  0.7979798 ],\n",
       "       [ 1.        ,  0.81818182],\n",
       "       [ 1.        ,  0.83838384],\n",
       "       [ 1.        ,  0.85858586],\n",
       "       [ 1.        ,  0.87878788],\n",
       "       [ 1.        ,  0.8989899 ],\n",
       "       [ 1.        ,  0.91919192],\n",
       "       [ 1.        ,  0.93939394],\n",
       "       [ 1.        ,  0.95959596],\n",
       "       [ 1.        ,  0.97979798],\n",
       "       [ 1.        ,  1.        ]])"
      ]
     },
     "execution_count": 14,
     "metadata": {},
     "output_type": "execute_result"
    }
   ],
   "source": [
    "data_x"
   ]
  },
  {
   "cell_type": "markdown",
   "id": "25619707",
   "metadata": {},
   "source": [
    "#### Split the data into train and test"
   ]
  },
  {
   "cell_type": "code",
   "execution_count": 15,
   "id": "98bd521a",
   "metadata": {},
   "outputs": [],
   "source": [
    "order = np.random.permutation(len(data_x))"
   ]
  },
  {
   "cell_type": "code",
   "execution_count": 16,
   "id": "d4f56c4d",
   "metadata": {},
   "outputs": [
    {
     "data": {
      "text/plain": [
       "array([91, 21, 72, 38, 52, 42, 85, 10, 75, 84, 93, 54,  1, 13, 15, 41, 71,\n",
       "       80, 90, 79, 63, 25, 98, 46, 31, 18,  4, 27, 69, 50, 14, 74, 92, 64,\n",
       "        7, 56, 24, 44, 57, 66, 87, 73, 60, 58, 81, 47, 77, 99, 19, 40, 49,\n",
       "       35, 30, 28,  3, 20, 17, 29, 23, 61, 88, 83, 55, 89, 96, 97, 48, 36,\n",
       "       37, 94, 16, 78, 76, 39, 51, 67,  0, 32, 22, 34, 86, 45, 53, 43, 33,\n",
       "       82,  5,  6,  8, 65, 95, 12,  2, 70, 59, 68, 62, 26,  9, 11])"
      ]
     },
     "execution_count": 16,
     "metadata": {},
     "output_type": "execute_result"
    }
   ],
   "source": [
    "order "
   ]
  },
  {
   "cell_type": "code",
   "execution_count": 25,
   "id": "403a2a62",
   "metadata": {},
   "outputs": [
    {
     "data": {
      "text/plain": [
       "100"
      ]
     },
     "execution_count": 25,
     "metadata": {},
     "output_type": "execute_result"
    }
   ],
   "source": [
    "len(data_x)"
   ]
  },
  {
   "cell_type": "markdown",
   "id": "8803eb09",
   "metadata": {},
   "source": [
    "#### This orders numbers are act as index numbers"
   ]
  },
  {
   "cell_type": "markdown",
   "id": "98464bd7",
   "metadata": {},
   "source": [
    "##### This is  for 20% "
   ]
  },
  {
   "cell_type": "code",
   "execution_count": 17,
   "id": "b448d09b",
   "metadata": {},
   "outputs": [],
   "source": [
    "portion = 20"
   ]
  },
  {
   "cell_type": "markdown",
   "id": "d2443dfa",
   "metadata": {},
   "source": [
    "##### This are x_test(20%) , y_test(20%) , x_train(80%) , y_train(80%)"
   ]
  },
  {
   "cell_type": "code",
   "execution_count": 18,
   "id": "95ed77ff",
   "metadata": {},
   "outputs": [],
   "source": [
    "x_test = data_x[order[:portion]]"
   ]
  },
  {
   "cell_type": "code",
   "execution_count": 19,
   "id": "50d805b2",
   "metadata": {},
   "outputs": [],
   "source": [
    "y_test = data_y[order[:portion]]"
   ]
  },
  {
   "cell_type": "code",
   "execution_count": 20,
   "id": "2d77d5f7",
   "metadata": {},
   "outputs": [],
   "source": [
    "x_train = data_x[order[portion : ]]"
   ]
  },
  {
   "cell_type": "code",
   "execution_count": 21,
   "id": "749afdcb",
   "metadata": {},
   "outputs": [],
   "source": [
    "y_train = data_y[order[portion:]]"
   ]
  },
  {
   "cell_type": "code",
   "execution_count": 22,
   "id": "d2763667",
   "metadata": {},
   "outputs": [
    {
     "name": "stdout",
     "output_type": "stream",
     "text": [
      "(80, 2) (80, 1) (20, 2) (20, 1)\n"
     ]
    }
   ],
   "source": [
    "print(x_train.shape , y_train.shape , x_test.shape , y_test.shape)"
   ]
  },
  {
   "cell_type": "markdown",
   "id": "5184cdd6",
   "metadata": {},
   "source": [
    "#### Visualize the training data"
   ]
  },
  {
   "cell_type": "code",
   "execution_count": 23,
   "id": "1de98bc9",
   "metadata": {},
   "outputs": [
    {
     "data": {
      "image/png": "[encoded data removed]",
      "text/plain": [
       "<Figure size 640x480 with 1 Axes>"
      ]
     },
     "metadata": {},
     "output_type": "display_data"
    }
   ],
   "source": [
    "plt.scatter(x_train[:  , 1] , y_train , c = 'b' , label = 'Data')\n",
    "plt.show()"
   ]
  },
  {
   "cell_type": "markdown",
   "id": "4df4c46c",
   "metadata": {},
   "source": [
    "#### This is positive linear correlation . Its not so linear its determinestic due to randomness."
   ]
  },
  {
   "cell_type": "markdown",
   "id": "7e64386a",
   "metadata": {},
   "source": [
    "#### Calculate loss function and gradient values"
   ]
  },
  {
   "cell_type": "code",
   "execution_count": 31,
   "id": "358da05e",
   "metadata": {},
   "outputs": [],
   "source": [
    "def get_gradient(w , x , y):\n",
    "    \n",
    "    y_pred = np.power(x , 1).dot(w).flatten()      # hypothesis        # y_pred = x^1 . w0\n",
    "    \n",
    "    error = (y_pred - y.flatten())\n",
    "    \n",
    "    mse = (1.0 / len(x)) * np.sum(np.power(error , 2))   # MSE  # 1/m * summation(y_pred - y)^2)\n",
    "    \n",
    "    gradient = (1.0 / len(x)) * error .dot(np.power(x , 1))     # 1/m * error . x^1\n",
    "    \n",
    "    return gradient , mse"
   ]
  },
  {
   "cell_type": "code",
   "execution_count": 34,
   "id": "bd9be9c9",
   "metadata": {},
   "outputs": [
    {
     "name": "stdout",
     "output_type": "stream",
     "text": [
      "Initial values of weights :\n",
      "-0.637310914726035 0.39160172040794006\n",
      "Iteration : 10 - Error : 4638.3310\n",
      "Updated Weights : 290.931329 , -5.283575\n",
      "Iteration : 20 - Error : 628.0431\n",
      "Updated Weights : 376.944843 , -1.684310\n",
      "Iteration : 30 - Error : 388.6072\n",
      "Updated Weights : 397.960126 , -0.760638\n",
      "Iteration : 40 - Error : 374.3114\n",
      "Updated Weights : 403.095157 , -0.534676\n",
      "Converged\n",
      "Final Weights : 404.042712 , -0.492978\n",
      "Test Cost =  573.443970629325\n"
     ]
    }
   ],
   "source": [
    "w = np.random.randn(2)     # Random Initialization value of w  # w is nothing but m (slope)\n",
    "alpha = 0.4                # learning rate\n",
    "tolerance =  .10 #1e - 3        # param for stopping the loop\n",
    "print('Initial values of weights :')\n",
    "print(w[1] , w[0])\n",
    "# perform Gradient Descent\n",
    "iterations = 1\n",
    "\n",
    "while True :\n",
    "    \n",
    "    gradient , error = get_gradient(w , x_train , y_train)     # call the function(pass value to arguments)\n",
    "    new_w = w - alpha * gradient\n",
    "    \n",
    "    \n",
    "    # stopping condition for loop\n",
    "    \n",
    "    if np.sum(abs(new_w - w)) < tolerance :\n",
    "        \n",
    "        print('Converged')\n",
    "        \n",
    "        break\n",
    "        \n",
    "    # print error every 10 iterations\n",
    "    \n",
    "    if  iterations % 10 == 0 :\n",
    "        \n",
    "        print('Iteration : %d - Error : %.4f' %(iterations , error))\n",
    "        print('Updated Weights : {:f} , {:f}'.format(w[1] , w[0]))   # two weights/slopes w1 , w0\n",
    "    iterations = iterations + 1\n",
    "    w = new_w\n",
    "    \n",
    "\n",
    "print('Final Weights : {:f} , {:f}'.format(w[1] , w[0]))\n",
    "print('Test Cost = ', get_gradient(w , x_test , y_test)[1])  # it returns MSE only."
   ]
  },
  {
   "cell_type": "markdown",
   "id": "1a7d8376",
   "metadata": {},
   "source": [
    "##### Insights : Error is decreases and w1 is increases but w0 is decreass."
   ]
  },
  {
   "cell_type": "markdown",
   "id": "4013663f",
   "metadata": {},
   "source": [
    "#### Final Equation y = mx + c"
   ]
  },
  {
   "cell_type": "code",
   "execution_count": 37,
   "id": "f9e7158c",
   "metadata": {},
   "outputs": [
    {
     "name": "stdout",
     "output_type": "stream",
     "text": [
      "This is final equation / hypothesis look like :\n",
      "y = 404.042712x + -0.492978\n"
     ]
    }
   ],
   "source": [
    "print('This is final equation / hypothesis look like :')\n",
    "print('y = {:f}x + {:f}'.format(w[1] , w[0]))"
   ]
  },
  {
   "cell_type": "markdown",
   "id": "74b7e297",
   "metadata": {},
   "source": [
    "#### Here  our data_y = 40 * data_x + C (training data) but here we get y = 404.042712x + C (prediction data) . we get different equation means our model is not finding proper pattern but initially we did data_x / 10 i.e.(max(data_x)) . so here it make balance to this by multiply 10 with w (slope). so it balance (data_x / 10 with w * 10). "
   ]
  },
  {
   "cell_type": "markdown",
   "id": "62cdcd92",
   "metadata": {},
   "source": [
    "#### we scaled x by ( data_x / 10) so need to make scale y for make balance so it make scaled y by (w * 10)"
   ]
  },
  {
   "cell_type": "markdown",
   "id": "1052f3a3",
   "metadata": {},
   "source": [
    "### Make visualization of training and testing data"
   ]
  },
  {
   "cell_type": "markdown",
   "id": "44984628",
   "metadata": {},
   "source": [
    "#### x contains input data and y contains dependent variable (y_pred) ### x1.w"
   ]
  },
  {
   "cell_type": "code",
   "execution_count": 40,
   "id": "a6c97e68",
   "metadata": {},
   "outputs": [
    {
     "data": {
      "image/png": "[encoded data removed]",
      "text/plain": [
       "<Figure size 640x480 with 1 Axes>"
      ]
     },
     "metadata": {},
     "output_type": "display_data"
    }
   ],
   "source": [
    "plt.plot(data_x[: , 1] , (data_x**1).dot(w) , c = 'g' , label = 'Model')  # It plot the prediction line.\n",
    "plt.scatter(x = x_train[: , 1] , y = y_train , c= 'r' , label = 'Train Set') # scatter points of trainig data\n",
    "plt.scatter(x = x_test[: , 1] , y = y_test , c = 'b' , label = 'Test Set') # scatter points of test data\n",
    "plt.grid()\n",
    "plt.legend(loc = 'best')\n",
    "plt.xlabel('x')\n",
    "plt.ylabel('y')\n",
    "plt.show()"
   ]
  }
 ],
 "metadata": {
  "kernelspec": {
   "display_name": "Python 3 (ipykernel)",
   "language": "python",
   "name": "python3"
  },
  "language_info": {
   "codemirror_mode": {
    "name": "ipython",
    "version": 3
   },
   "file_extension": ".py",
   "mimetype": "text/x-python",
   "name": "python",
   "nbconvert_exporter": "python",
   "pygments_lexer": "ipython3",
   "version": "3.11.4"
  }
 },
 "nbformat": 4,
 "nbformat_minor": 5
}
